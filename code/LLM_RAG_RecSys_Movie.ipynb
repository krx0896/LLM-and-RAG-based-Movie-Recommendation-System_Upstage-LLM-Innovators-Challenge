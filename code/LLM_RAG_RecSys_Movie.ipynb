{
  "cells": [
    {
      "cell_type": "markdown",
      "metadata": {
        "id": "acECjdNcJxTS"
      },
      "source": [
        "### 0. 패키지 및 라이브러리, API KEY"
      ]
    },
    {
      "cell_type": "code",
      "execution_count": null,
      "metadata": {
        "colab": {
          "base_uri": "https://localhost:8080/"
        },
        "id": "xPX6s7b7EJbb",
        "outputId": "c5eb7899-1e10-46ae-e9e2-7c8c5322fddf"
      },
      "outputs": [
        {
          "name": "stdout",
          "output_type": "stream",
          "text": [
            "Collecting openai\n",
            "  Downloading openai-1.51.0-py3-none-any.whl.metadata (24 kB)\n",
            "Requirement already satisfied: anyio<5,>=3.5.0 in /usr/local/lib/python3.10/dist-packages (from openai) (3.7.1)\n",
            "Requirement already satisfied: distro<2,>=1.7.0 in /usr/lib/python3/dist-packages (from openai) (1.7.0)\n",
            "Collecting httpx<1,>=0.23.0 (from openai)\n",
            "  Downloading httpx-0.27.2-py3-none-any.whl.metadata (7.1 kB)\n",
            "Collecting jiter<1,>=0.4.0 (from openai)\n",
            "  Downloading jiter-0.5.0-cp310-cp310-manylinux_2_17_x86_64.manylinux2014_x86_64.whl.metadata (3.6 kB)\n",
            "Requirement already satisfied: pydantic<3,>=1.9.0 in /usr/local/lib/python3.10/dist-packages (from openai) (2.9.2)\n",
            "Requirement already satisfied: sniffio in /usr/local/lib/python3.10/dist-packages (from openai) (1.3.1)\n",
            "Requirement already satisfied: tqdm>4 in /usr/local/lib/python3.10/dist-packages (from openai) (4.66.5)\n",
            "Requirement already satisfied: typing-extensions<5,>=4.11 in /usr/local/lib/python3.10/dist-packages (from openai) (4.12.2)\n",
            "Requirement already satisfied: idna>=2.8 in /usr/local/lib/python3.10/dist-packages (from anyio<5,>=3.5.0->openai) (3.10)\n",
            "Requirement already satisfied: exceptiongroup in /usr/local/lib/python3.10/dist-packages (from anyio<5,>=3.5.0->openai) (1.2.2)\n",
            "Requirement already satisfied: certifi in /usr/local/lib/python3.10/dist-packages (from httpx<1,>=0.23.0->openai) (2024.8.30)\n",
            "Collecting httpcore==1.* (from httpx<1,>=0.23.0->openai)\n",
            "  Downloading httpcore-1.0.6-py3-none-any.whl.metadata (21 kB)\n",
            "Collecting h11<0.15,>=0.13 (from httpcore==1.*->httpx<1,>=0.23.0->openai)\n",
            "  Downloading h11-0.14.0-py3-none-any.whl.metadata (8.2 kB)\n",
            "Requirement already satisfied: annotated-types>=0.6.0 in /usr/local/lib/python3.10/dist-packages (from pydantic<3,>=1.9.0->openai) (0.7.0)\n",
            "Requirement already satisfied: pydantic-core==2.23.4 in /usr/local/lib/python3.10/dist-packages (from pydantic<3,>=1.9.0->openai) (2.23.4)\n",
            "Downloading openai-1.51.0-py3-none-any.whl (383 kB)\n",
            "\u001b[2K   \u001b[90m━━━━━━━━━━━━━━━━━━━━━━━━━━━━━━━━━━━━━━━━\u001b[0m \u001b[32m383.5/383.5 kB\u001b[0m \u001b[31m17.7 MB/s\u001b[0m eta \u001b[36m0:00:00\u001b[0m\n",
            "\u001b[?25hDownloading httpx-0.27.2-py3-none-any.whl (76 kB)\n",
            "\u001b[2K   \u001b[90m━━━━━━━━━━━━━━━━━━━━━━━━━━━━━━━━━━━━━━━━\u001b[0m \u001b[32m76.4/76.4 kB\u001b[0m \u001b[31m4.7 MB/s\u001b[0m eta \u001b[36m0:00:00\u001b[0m\n",
            "\u001b[?25hDownloading httpcore-1.0.6-py3-none-any.whl (78 kB)\n",
            "\u001b[2K   \u001b[90m━━━━━━━━━━━━━━━━━━━━━━━━━━━━━━━━━━━━━━━━\u001b[0m \u001b[32m78.0/78.0 kB\u001b[0m \u001b[31m6.3 MB/s\u001b[0m eta \u001b[36m0:00:00\u001b[0m\n",
            "\u001b[?25hDownloading jiter-0.5.0-cp310-cp310-manylinux_2_17_x86_64.manylinux2014_x86_64.whl (318 kB)\n",
            "\u001b[2K   \u001b[90m━━━━━━━━━━━━━━━━━━━━━━━━━━━━━━━━━━━━━━━━\u001b[0m \u001b[32m318.9/318.9 kB\u001b[0m \u001b[31m14.9 MB/s\u001b[0m eta \u001b[36m0:00:00\u001b[0m\n",
            "\u001b[?25hDownloading h11-0.14.0-py3-none-any.whl (58 kB)\n",
            "\u001b[2K   \u001b[90m━━━━━━━━━━━━━━━━━━━━━━━━━━━━━━━━━━━━━━━━\u001b[0m \u001b[32m58.3/58.3 kB\u001b[0m \u001b[31m2.7 MB/s\u001b[0m eta \u001b[36m0:00:00\u001b[0m\n",
            "\u001b[?25hInstalling collected packages: jiter, h11, httpcore, httpx, openai\n",
            "Successfully installed h11-0.14.0 httpcore-1.0.6 httpx-0.27.2 jiter-0.5.0 openai-1.51.0\n"
          ]
        }
      ],
      "source": [
        "!pip install openai"
      ]
    },
    {
      "cell_type": "code",
      "execution_count": null,
      "metadata": {
        "colab": {
          "base_uri": "https://localhost:8080/"
        },
        "id": "gMqWN8sawIZb",
        "outputId": "c2a19f8a-4479-46bf-d0d4-e757e7b4840f"
      },
      "outputs": [
        {
          "name": "stdout",
          "output_type": "stream",
          "text": [
            "Collecting pinecone\n",
            "  Downloading pinecone-5.3.1-py3-none-any.whl.metadata (19 kB)\n",
            "Requirement already satisfied: certifi>=2019.11.17 in /usr/local/lib/python3.10/dist-packages (from pinecone) (2024.8.30)\n",
            "Collecting pinecone-plugin-inference<2.0.0,>=1.1.0 (from pinecone)\n",
            "  Downloading pinecone_plugin_inference-1.1.0-py3-none-any.whl.metadata (2.2 kB)\n",
            "Collecting pinecone-plugin-interface<0.0.8,>=0.0.7 (from pinecone)\n",
            "  Downloading pinecone_plugin_interface-0.0.7-py3-none-any.whl.metadata (1.2 kB)\n",
            "Requirement already satisfied: python-dateutil>=2.5.3 in /usr/local/lib/python3.10/dist-packages (from pinecone) (2.8.2)\n",
            "Requirement already satisfied: tqdm>=4.64.1 in /usr/local/lib/python3.10/dist-packages (from pinecone) (4.66.5)\n",
            "Requirement already satisfied: typing-extensions>=3.7.4 in /usr/local/lib/python3.10/dist-packages (from pinecone) (4.12.2)\n",
            "Requirement already satisfied: urllib3>=1.26.0 in /usr/local/lib/python3.10/dist-packages (from pinecone) (2.2.3)\n",
            "Requirement already satisfied: six>=1.5 in /usr/local/lib/python3.10/dist-packages (from python-dateutil>=2.5.3->pinecone) (1.16.0)\n",
            "Downloading pinecone-5.3.1-py3-none-any.whl (419 kB)\n",
            "\u001b[2K   \u001b[90m━━━━━━━━━━━━━━━━━━━━━━━━━━━━━━━━━━━━━━━━\u001b[0m \u001b[32m419.8/419.8 kB\u001b[0m \u001b[31m16.9 MB/s\u001b[0m eta \u001b[36m0:00:00\u001b[0m\n",
            "\u001b[?25hDownloading pinecone_plugin_inference-1.1.0-py3-none-any.whl (85 kB)\n",
            "\u001b[2K   \u001b[90m━━━━━━━━━━━━━━━━━━━━━━━━━━━━━━━━━━━━━━━━\u001b[0m \u001b[32m85.4/85.4 kB\u001b[0m \u001b[31m7.1 MB/s\u001b[0m eta \u001b[36m0:00:00\u001b[0m\n",
            "\u001b[?25hDownloading pinecone_plugin_interface-0.0.7-py3-none-any.whl (6.2 kB)\n",
            "Installing collected packages: pinecone-plugin-interface, pinecone-plugin-inference, pinecone\n",
            "Successfully installed pinecone-5.3.1 pinecone-plugin-inference-1.1.0 pinecone-plugin-interface-0.0.7\n"
          ]
        }
      ],
      "source": [
        "! pip install pinecone"
      ]
    },
    {
      "cell_type": "code",
      "execution_count": null,
      "metadata": {
        "colab": {
          "base_uri": "https://localhost:8080/"
        },
        "id": "WDj8klno0Av_",
        "outputId": "5ad66591-7c0a-4a5a-e0ab-964589233685"
      },
      "outputs": [
        {
          "name": "stdout",
          "output_type": "stream",
          "text": [
            "Collecting langchain\n",
            "  Downloading langchain-0.3.2-py3-none-any.whl.metadata (7.1 kB)\n",
            "Requirement already satisfied: PyYAML>=5.3 in /usr/local/lib/python3.10/dist-packages (from langchain) (6.0.2)\n",
            "Requirement already satisfied: SQLAlchemy<3,>=1.4 in /usr/local/lib/python3.10/dist-packages (from langchain) (2.0.35)\n",
            "Requirement already satisfied: aiohttp<4.0.0,>=3.8.3 in /usr/local/lib/python3.10/dist-packages (from langchain) (3.10.8)\n",
            "Requirement already satisfied: async-timeout<5.0.0,>=4.0.0 in /usr/local/lib/python3.10/dist-packages (from langchain) (4.0.3)\n",
            "Collecting langchain-core<0.4.0,>=0.3.8 (from langchain)\n",
            "  Downloading langchain_core-0.3.8-py3-none-any.whl.metadata (6.3 kB)\n",
            "Collecting langchain-text-splitters<0.4.0,>=0.3.0 (from langchain)\n",
            "  Downloading langchain_text_splitters-0.3.0-py3-none-any.whl.metadata (2.3 kB)\n",
            "Collecting langsmith<0.2.0,>=0.1.17 (from langchain)\n",
            "  Downloading langsmith-0.1.131-py3-none-any.whl.metadata (13 kB)\n",
            "Requirement already satisfied: numpy<2,>=1 in /usr/local/lib/python3.10/dist-packages (from langchain) (1.26.4)\n",
            "Requirement already satisfied: pydantic<3.0.0,>=2.7.4 in /usr/local/lib/python3.10/dist-packages (from langchain) (2.9.2)\n",
            "Requirement already satisfied: requests<3,>=2 in /usr/local/lib/python3.10/dist-packages (from langchain) (2.32.3)\n",
            "Collecting tenacity!=8.4.0,<9.0.0,>=8.1.0 (from langchain)\n",
            "  Downloading tenacity-8.5.0-py3-none-any.whl.metadata (1.2 kB)\n",
            "Requirement already satisfied: aiohappyeyeballs>=2.3.0 in /usr/local/lib/python3.10/dist-packages (from aiohttp<4.0.0,>=3.8.3->langchain) (2.4.3)\n",
            "Requirement already satisfied: aiosignal>=1.1.2 in /usr/local/lib/python3.10/dist-packages (from aiohttp<4.0.0,>=3.8.3->langchain) (1.3.1)\n",
            "Requirement already satisfied: attrs>=17.3.0 in /usr/local/lib/python3.10/dist-packages (from aiohttp<4.0.0,>=3.8.3->langchain) (24.2.0)\n",
            "Requirement already satisfied: frozenlist>=1.1.1 in /usr/local/lib/python3.10/dist-packages (from aiohttp<4.0.0,>=3.8.3->langchain) (1.4.1)\n",
            "Requirement already satisfied: multidict<7.0,>=4.5 in /usr/local/lib/python3.10/dist-packages (from aiohttp<4.0.0,>=3.8.3->langchain) (6.1.0)\n",
            "Requirement already satisfied: yarl<2.0,>=1.12.0 in /usr/local/lib/python3.10/dist-packages (from aiohttp<4.0.0,>=3.8.3->langchain) (1.13.1)\n",
            "Collecting jsonpatch<2.0,>=1.33 (from langchain-core<0.4.0,>=0.3.8->langchain)\n",
            "  Downloading jsonpatch-1.33-py2.py3-none-any.whl.metadata (3.0 kB)\n",
            "Requirement already satisfied: packaging<25,>=23.2 in /usr/local/lib/python3.10/dist-packages (from langchain-core<0.4.0,>=0.3.8->langchain) (24.1)\n",
            "Requirement already satisfied: typing-extensions>=4.7 in /usr/local/lib/python3.10/dist-packages (from langchain-core<0.4.0,>=0.3.8->langchain) (4.12.2)\n",
            "Requirement already satisfied: httpx<1,>=0.23.0 in /usr/local/lib/python3.10/dist-packages (from langsmith<0.2.0,>=0.1.17->langchain) (0.27.2)\n",
            "Collecting orjson<4.0.0,>=3.9.14 (from langsmith<0.2.0,>=0.1.17->langchain)\n",
            "  Downloading orjson-3.10.7-cp310-cp310-manylinux_2_17_x86_64.manylinux2014_x86_64.whl.metadata (50 kB)\n",
            "\u001b[2K     \u001b[90m━━━━━━━━━━━━━━━━━━━━━━━━━━━━━━━━━━━━━━━━\u001b[0m \u001b[32m50.4/50.4 kB\u001b[0m \u001b[31m1.4 MB/s\u001b[0m eta \u001b[36m0:00:00\u001b[0m\n",
            "\u001b[?25hCollecting requests-toolbelt<2.0.0,>=1.0.0 (from langsmith<0.2.0,>=0.1.17->langchain)\n",
            "  Downloading requests_toolbelt-1.0.0-py2.py3-none-any.whl.metadata (14 kB)\n",
            "Requirement already satisfied: annotated-types>=0.6.0 in /usr/local/lib/python3.10/dist-packages (from pydantic<3.0.0,>=2.7.4->langchain) (0.7.0)\n",
            "Requirement already satisfied: pydantic-core==2.23.4 in /usr/local/lib/python3.10/dist-packages (from pydantic<3.0.0,>=2.7.4->langchain) (2.23.4)\n",
            "Requirement already satisfied: charset-normalizer<4,>=2 in /usr/local/lib/python3.10/dist-packages (from requests<3,>=2->langchain) (3.3.2)\n",
            "Requirement already satisfied: idna<4,>=2.5 in /usr/local/lib/python3.10/dist-packages (from requests<3,>=2->langchain) (3.10)\n",
            "Requirement already satisfied: urllib3<3,>=1.21.1 in /usr/local/lib/python3.10/dist-packages (from requests<3,>=2->langchain) (2.2.3)\n",
            "Requirement already satisfied: certifi>=2017.4.17 in /usr/local/lib/python3.10/dist-packages (from requests<3,>=2->langchain) (2024.8.30)\n",
            "Requirement already satisfied: greenlet!=0.4.17 in /usr/local/lib/python3.10/dist-packages (from SQLAlchemy<3,>=1.4->langchain) (3.1.1)\n",
            "Requirement already satisfied: anyio in /usr/local/lib/python3.10/dist-packages (from httpx<1,>=0.23.0->langsmith<0.2.0,>=0.1.17->langchain) (3.7.1)\n",
            "Requirement already satisfied: httpcore==1.* in /usr/local/lib/python3.10/dist-packages (from httpx<1,>=0.23.0->langsmith<0.2.0,>=0.1.17->langchain) (1.0.6)\n",
            "Requirement already satisfied: sniffio in /usr/local/lib/python3.10/dist-packages (from httpx<1,>=0.23.0->langsmith<0.2.0,>=0.1.17->langchain) (1.3.1)\n",
            "Requirement already satisfied: h11<0.15,>=0.13 in /usr/local/lib/python3.10/dist-packages (from httpcore==1.*->httpx<1,>=0.23.0->langsmith<0.2.0,>=0.1.17->langchain) (0.14.0)\n",
            "Collecting jsonpointer>=1.9 (from jsonpatch<2.0,>=1.33->langchain-core<0.4.0,>=0.3.8->langchain)\n",
            "  Downloading jsonpointer-3.0.0-py2.py3-none-any.whl.metadata (2.3 kB)\n",
            "Requirement already satisfied: exceptiongroup in /usr/local/lib/python3.10/dist-packages (from anyio->httpx<1,>=0.23.0->langsmith<0.2.0,>=0.1.17->langchain) (1.2.2)\n",
            "Downloading langchain-0.3.2-py3-none-any.whl (1.0 MB)\n",
            "\u001b[2K   \u001b[90m━━━━━━━━━━━━━━━━━━━━━━━━━━━━━━━━━━━━━━━━\u001b[0m \u001b[32m1.0/1.0 MB\u001b[0m \u001b[31m38.4 MB/s\u001b[0m eta \u001b[36m0:00:00\u001b[0m\n",
            "\u001b[?25hDownloading langchain_core-0.3.8-py3-none-any.whl (400 kB)\n",
            "\u001b[2K   \u001b[90m━━━━━━━━━━━━━━━━━━━━━━━━━━━━━━━━━━━━━━━━\u001b[0m \u001b[32m400.9/400.9 kB\u001b[0m \u001b[31m23.9 MB/s\u001b[0m eta \u001b[36m0:00:00\u001b[0m\n",
            "\u001b[?25hDownloading langchain_text_splitters-0.3.0-py3-none-any.whl (25 kB)\n",
            "Downloading langsmith-0.1.131-py3-none-any.whl (294 kB)\n",
            "\u001b[2K   \u001b[90m━━━━━━━━━━━━━━━━━━━━━━━━━━━━━━━━━━━━━━━━\u001b[0m \u001b[32m294.6/294.6 kB\u001b[0m \u001b[31m14.0 MB/s\u001b[0m eta \u001b[36m0:00:00\u001b[0m\n",
            "\u001b[?25hDownloading tenacity-8.5.0-py3-none-any.whl (28 kB)\n",
            "Downloading jsonpatch-1.33-py2.py3-none-any.whl (12 kB)\n",
            "Downloading orjson-3.10.7-cp310-cp310-manylinux_2_17_x86_64.manylinux2014_x86_64.whl (141 kB)\n",
            "\u001b[2K   \u001b[90m━━━━━━━━━━━━━━━━━━━━━━━━━━━━━━━━━━━━━━━━\u001b[0m \u001b[32m141.9/141.9 kB\u001b[0m \u001b[31m4.5 MB/s\u001b[0m eta \u001b[36m0:00:00\u001b[0m\n",
            "\u001b[?25hDownloading requests_toolbelt-1.0.0-py2.py3-none-any.whl (54 kB)\n",
            "\u001b[2K   \u001b[90m━━━━━━━━━━━━━━━━━━━━━━━━━━━━━━━━━━━━━━━━\u001b[0m \u001b[32m54.5/54.5 kB\u001b[0m \u001b[31m3.5 MB/s\u001b[0m eta \u001b[36m0:00:00\u001b[0m\n",
            "\u001b[?25hDownloading jsonpointer-3.0.0-py2.py3-none-any.whl (7.6 kB)\n",
            "Installing collected packages: tenacity, orjson, jsonpointer, requests-toolbelt, jsonpatch, langsmith, langchain-core, langchain-text-splitters, langchain\n",
            "  Attempting uninstall: tenacity\n",
            "    Found existing installation: tenacity 9.0.0\n",
            "    Uninstalling tenacity-9.0.0:\n",
            "      Successfully uninstalled tenacity-9.0.0\n",
            "Successfully installed jsonpatch-1.33 jsonpointer-3.0.0 langchain-0.3.2 langchain-core-0.3.8 langchain-text-splitters-0.3.0 langsmith-0.1.131 orjson-3.10.7 requests-toolbelt-1.0.0 tenacity-8.5.0\n"
          ]
        }
      ],
      "source": [
        "! pip install langchain"
      ]
    },
    {
      "cell_type": "code",
      "execution_count": null,
      "metadata": {
        "colab": {
          "base_uri": "https://localhost:8080/"
        },
        "id": "sRbbR_8u0MZB",
        "outputId": "ee1cc67e-221d-4adf-cb61-71fb6748060f"
      },
      "outputs": [
        {
          "name": "stdout",
          "output_type": "stream",
          "text": [
            "Collecting langchain_community\n",
            "  Downloading langchain_community-0.3.1-py3-none-any.whl.metadata (2.8 kB)\n",
            "Requirement already satisfied: PyYAML>=5.3 in /usr/local/lib/python3.10/dist-packages (from langchain_community) (6.0.2)\n",
            "Requirement already satisfied: SQLAlchemy<3,>=1.4 in /usr/local/lib/python3.10/dist-packages (from langchain_community) (2.0.35)\n",
            "Requirement already satisfied: aiohttp<4.0.0,>=3.8.3 in /usr/local/lib/python3.10/dist-packages (from langchain_community) (3.10.8)\n",
            "Collecting dataclasses-json<0.7,>=0.5.7 (from langchain_community)\n",
            "  Downloading dataclasses_json-0.6.7-py3-none-any.whl.metadata (25 kB)\n",
            "Requirement already satisfied: langchain<0.4.0,>=0.3.1 in /usr/local/lib/python3.10/dist-packages (from langchain_community) (0.3.2)\n",
            "Requirement already satisfied: langchain-core<0.4.0,>=0.3.6 in /usr/local/lib/python3.10/dist-packages (from langchain_community) (0.3.8)\n",
            "Requirement already satisfied: langsmith<0.2.0,>=0.1.125 in /usr/local/lib/python3.10/dist-packages (from langchain_community) (0.1.131)\n",
            "Requirement already satisfied: numpy<2,>=1 in /usr/local/lib/python3.10/dist-packages (from langchain_community) (1.26.4)\n",
            "Collecting pydantic-settings<3.0.0,>=2.4.0 (from langchain_community)\n",
            "  Downloading pydantic_settings-2.5.2-py3-none-any.whl.metadata (3.5 kB)\n",
            "Requirement already satisfied: requests<3,>=2 in /usr/local/lib/python3.10/dist-packages (from langchain_community) (2.32.3)\n",
            "Requirement already satisfied: tenacity!=8.4.0,<9.0.0,>=8.1.0 in /usr/local/lib/python3.10/dist-packages (from langchain_community) (8.5.0)\n",
            "Requirement already satisfied: aiohappyeyeballs>=2.3.0 in /usr/local/lib/python3.10/dist-packages (from aiohttp<4.0.0,>=3.8.3->langchain_community) (2.4.3)\n",
            "Requirement already satisfied: aiosignal>=1.1.2 in /usr/local/lib/python3.10/dist-packages (from aiohttp<4.0.0,>=3.8.3->langchain_community) (1.3.1)\n",
            "Requirement already satisfied: attrs>=17.3.0 in /usr/local/lib/python3.10/dist-packages (from aiohttp<4.0.0,>=3.8.3->langchain_community) (24.2.0)\n",
            "Requirement already satisfied: frozenlist>=1.1.1 in /usr/local/lib/python3.10/dist-packages (from aiohttp<4.0.0,>=3.8.3->langchain_community) (1.4.1)\n",
            "Requirement already satisfied: multidict<7.0,>=4.5 in /usr/local/lib/python3.10/dist-packages (from aiohttp<4.0.0,>=3.8.3->langchain_community) (6.1.0)\n",
            "Requirement already satisfied: yarl<2.0,>=1.12.0 in /usr/local/lib/python3.10/dist-packages (from aiohttp<4.0.0,>=3.8.3->langchain_community) (1.13.1)\n",
            "Requirement already satisfied: async-timeout<5.0,>=4.0 in /usr/local/lib/python3.10/dist-packages (from aiohttp<4.0.0,>=3.8.3->langchain_community) (4.0.3)\n",
            "Collecting marshmallow<4.0.0,>=3.18.0 (from dataclasses-json<0.7,>=0.5.7->langchain_community)\n",
            "  Downloading marshmallow-3.22.0-py3-none-any.whl.metadata (7.2 kB)\n",
            "Collecting typing-inspect<1,>=0.4.0 (from dataclasses-json<0.7,>=0.5.7->langchain_community)\n",
            "  Downloading typing_inspect-0.9.0-py3-none-any.whl.metadata (1.5 kB)\n",
            "Requirement already satisfied: langchain-text-splitters<0.4.0,>=0.3.0 in /usr/local/lib/python3.10/dist-packages (from langchain<0.4.0,>=0.3.1->langchain_community) (0.3.0)\n",
            "Requirement already satisfied: pydantic<3.0.0,>=2.7.4 in /usr/local/lib/python3.10/dist-packages (from langchain<0.4.0,>=0.3.1->langchain_community) (2.9.2)\n",
            "Requirement already satisfied: jsonpatch<2.0,>=1.33 in /usr/local/lib/python3.10/dist-packages (from langchain-core<0.4.0,>=0.3.6->langchain_community) (1.33)\n",
            "Requirement already satisfied: packaging<25,>=23.2 in /usr/local/lib/python3.10/dist-packages (from langchain-core<0.4.0,>=0.3.6->langchain_community) (24.1)\n",
            "Requirement already satisfied: typing-extensions>=4.7 in /usr/local/lib/python3.10/dist-packages (from langchain-core<0.4.0,>=0.3.6->langchain_community) (4.12.2)\n",
            "Requirement already satisfied: httpx<1,>=0.23.0 in /usr/local/lib/python3.10/dist-packages (from langsmith<0.2.0,>=0.1.125->langchain_community) (0.27.2)\n",
            "Requirement already satisfied: orjson<4.0.0,>=3.9.14 in /usr/local/lib/python3.10/dist-packages (from langsmith<0.2.0,>=0.1.125->langchain_community) (3.10.7)\n",
            "Requirement already satisfied: requests-toolbelt<2.0.0,>=1.0.0 in /usr/local/lib/python3.10/dist-packages (from langsmith<0.2.0,>=0.1.125->langchain_community) (1.0.0)\n",
            "Collecting python-dotenv>=0.21.0 (from pydantic-settings<3.0.0,>=2.4.0->langchain_community)\n",
            "  Downloading python_dotenv-1.0.1-py3-none-any.whl.metadata (23 kB)\n",
            "Requirement already satisfied: charset-normalizer<4,>=2 in /usr/local/lib/python3.10/dist-packages (from requests<3,>=2->langchain_community) (3.3.2)\n",
            "Requirement already satisfied: idna<4,>=2.5 in /usr/local/lib/python3.10/dist-packages (from requests<3,>=2->langchain_community) (3.10)\n",
            "Requirement already satisfied: urllib3<3,>=1.21.1 in /usr/local/lib/python3.10/dist-packages (from requests<3,>=2->langchain_community) (2.2.3)\n",
            "Requirement already satisfied: certifi>=2017.4.17 in /usr/local/lib/python3.10/dist-packages (from requests<3,>=2->langchain_community) (2024.8.30)\n",
            "Requirement already satisfied: greenlet!=0.4.17 in /usr/local/lib/python3.10/dist-packages (from SQLAlchemy<3,>=1.4->langchain_community) (3.1.1)\n",
            "Requirement already satisfied: anyio in /usr/local/lib/python3.10/dist-packages (from httpx<1,>=0.23.0->langsmith<0.2.0,>=0.1.125->langchain_community) (3.7.1)\n",
            "Requirement already satisfied: httpcore==1.* in /usr/local/lib/python3.10/dist-packages (from httpx<1,>=0.23.0->langsmith<0.2.0,>=0.1.125->langchain_community) (1.0.6)\n",
            "Requirement already satisfied: sniffio in /usr/local/lib/python3.10/dist-packages (from httpx<1,>=0.23.0->langsmith<0.2.0,>=0.1.125->langchain_community) (1.3.1)\n",
            "Requirement already satisfied: h11<0.15,>=0.13 in /usr/local/lib/python3.10/dist-packages (from httpcore==1.*->httpx<1,>=0.23.0->langsmith<0.2.0,>=0.1.125->langchain_community) (0.14.0)\n",
            "Requirement already satisfied: jsonpointer>=1.9 in /usr/local/lib/python3.10/dist-packages (from jsonpatch<2.0,>=1.33->langchain-core<0.4.0,>=0.3.6->langchain_community) (3.0.0)\n",
            "Requirement already satisfied: annotated-types>=0.6.0 in /usr/local/lib/python3.10/dist-packages (from pydantic<3.0.0,>=2.7.4->langchain<0.4.0,>=0.3.1->langchain_community) (0.7.0)\n",
            "Requirement already satisfied: pydantic-core==2.23.4 in /usr/local/lib/python3.10/dist-packages (from pydantic<3.0.0,>=2.7.4->langchain<0.4.0,>=0.3.1->langchain_community) (2.23.4)\n",
            "Collecting mypy-extensions>=0.3.0 (from typing-inspect<1,>=0.4.0->dataclasses-json<0.7,>=0.5.7->langchain_community)\n",
            "  Downloading mypy_extensions-1.0.0-py3-none-any.whl.metadata (1.1 kB)\n",
            "Requirement already satisfied: exceptiongroup in /usr/local/lib/python3.10/dist-packages (from anyio->httpx<1,>=0.23.0->langsmith<0.2.0,>=0.1.125->langchain_community) (1.2.2)\n",
            "Downloading langchain_community-0.3.1-py3-none-any.whl (2.4 MB)\n",
            "\u001b[2K   \u001b[90m━━━━━━━━━━━━━━━━━━━━━━━━━━━━━━━━━━━━━━━━\u001b[0m \u001b[32m2.4/2.4 MB\u001b[0m \u001b[31m23.6 MB/s\u001b[0m eta \u001b[36m0:00:00\u001b[0m\n",
            "\u001b[?25hDownloading dataclasses_json-0.6.7-py3-none-any.whl (28 kB)\n",
            "Downloading pydantic_settings-2.5.2-py3-none-any.whl (26 kB)\n",
            "Downloading marshmallow-3.22.0-py3-none-any.whl (49 kB)\n",
            "\u001b[2K   \u001b[90m━━━━━━━━━━━━━━━━━━━━━━━━━━━━━━━━━━━━━━━━\u001b[0m \u001b[32m49.3/49.3 kB\u001b[0m \u001b[31m2.6 MB/s\u001b[0m eta \u001b[36m0:00:00\u001b[0m\n",
            "\u001b[?25hDownloading python_dotenv-1.0.1-py3-none-any.whl (19 kB)\n",
            "Downloading typing_inspect-0.9.0-py3-none-any.whl (8.8 kB)\n",
            "Downloading mypy_extensions-1.0.0-py3-none-any.whl (4.7 kB)\n",
            "Installing collected packages: python-dotenv, mypy-extensions, marshmallow, typing-inspect, pydantic-settings, dataclasses-json, langchain_community\n",
            "Successfully installed dataclasses-json-0.6.7 langchain_community-0.3.1 marshmallow-3.22.0 mypy-extensions-1.0.0 pydantic-settings-2.5.2 python-dotenv-1.0.1 typing-inspect-0.9.0\n"
          ]
        }
      ],
      "source": [
        "! pip install langchain_community"
      ]
    },
    {
      "cell_type": "code",
      "execution_count": null,
      "metadata": {
        "colab": {
          "base_uri": "https://localhost:8080/"
        },
        "id": "lsIs6q9ZIJ8H",
        "outputId": "8d6b28bc-6e22-422b-f4c6-0dfe04b711ce"
      },
      "outputs": [
        {
          "name": "stdout",
          "output_type": "stream",
          "text": [
            "Collecting langchain_upstage\n",
            "  Downloading langchain_upstage-0.3.0-py3-none-any.whl.metadata (3.3 kB)\n",
            "Requirement already satisfied: langchain-core<0.4,>=0.3.0 in /usr/local/lib/python3.10/dist-packages (from langchain_upstage) (0.3.8)\n",
            "Collecting langchain-openai<0.3,>=0.2 (from langchain_upstage)\n",
            "  Downloading langchain_openai-0.2.1-py3-none-any.whl.metadata (2.6 kB)\n",
            "Collecting pypdf<5.0.0,>=4.2.0 (from langchain_upstage)\n",
            "  Downloading pypdf-4.3.1-py3-none-any.whl.metadata (7.4 kB)\n",
            "Requirement already satisfied: requests<3.0.0,>=2.31.0 in /usr/local/lib/python3.10/dist-packages (from langchain_upstage) (2.32.3)\n",
            "Requirement already satisfied: tokenizers<0.20.0,>=0.19.1 in /usr/local/lib/python3.10/dist-packages (from langchain_upstage) (0.19.1)\n",
            "Requirement already satisfied: PyYAML>=5.3 in /usr/local/lib/python3.10/dist-packages (from langchain-core<0.4,>=0.3.0->langchain_upstage) (6.0.2)\n",
            "Requirement already satisfied: jsonpatch<2.0,>=1.33 in /usr/local/lib/python3.10/dist-packages (from langchain-core<0.4,>=0.3.0->langchain_upstage) (1.33)\n",
            "Requirement already satisfied: langsmith<0.2.0,>=0.1.125 in /usr/local/lib/python3.10/dist-packages (from langchain-core<0.4,>=0.3.0->langchain_upstage) (0.1.131)\n",
            "Requirement already satisfied: packaging<25,>=23.2 in /usr/local/lib/python3.10/dist-packages (from langchain-core<0.4,>=0.3.0->langchain_upstage) (24.1)\n",
            "Requirement already satisfied: pydantic<3.0.0,>=2.5.2 in /usr/local/lib/python3.10/dist-packages (from langchain-core<0.4,>=0.3.0->langchain_upstage) (2.9.2)\n",
            "Requirement already satisfied: tenacity!=8.4.0,<9.0.0,>=8.1.0 in /usr/local/lib/python3.10/dist-packages (from langchain-core<0.4,>=0.3.0->langchain_upstage) (8.5.0)\n",
            "Requirement already satisfied: typing-extensions>=4.7 in /usr/local/lib/python3.10/dist-packages (from langchain-core<0.4,>=0.3.0->langchain_upstage) (4.12.2)\n",
            "Requirement already satisfied: openai<2.0.0,>=1.40.0 in /usr/local/lib/python3.10/dist-packages (from langchain-openai<0.3,>=0.2->langchain_upstage) (1.51.0)\n",
            "Collecting tiktoken<1,>=0.7 (from langchain-openai<0.3,>=0.2->langchain_upstage)\n",
            "  Downloading tiktoken-0.8.0-cp310-cp310-manylinux_2_17_x86_64.manylinux2014_x86_64.whl.metadata (6.6 kB)\n",
            "Requirement already satisfied: charset-normalizer<4,>=2 in /usr/local/lib/python3.10/dist-packages (from requests<3.0.0,>=2.31.0->langchain_upstage) (3.3.2)\n",
            "Requirement already satisfied: idna<4,>=2.5 in /usr/local/lib/python3.10/dist-packages (from requests<3.0.0,>=2.31.0->langchain_upstage) (3.10)\n",
            "Requirement already satisfied: urllib3<3,>=1.21.1 in /usr/local/lib/python3.10/dist-packages (from requests<3.0.0,>=2.31.0->langchain_upstage) (2.2.3)\n",
            "Requirement already satisfied: certifi>=2017.4.17 in /usr/local/lib/python3.10/dist-packages (from requests<3.0.0,>=2.31.0->langchain_upstage) (2024.8.30)\n",
            "Requirement already satisfied: huggingface-hub<1.0,>=0.16.4 in /usr/local/lib/python3.10/dist-packages (from tokenizers<0.20.0,>=0.19.1->langchain_upstage) (0.24.7)\n",
            "Requirement already satisfied: filelock in /usr/local/lib/python3.10/dist-packages (from huggingface-hub<1.0,>=0.16.4->tokenizers<0.20.0,>=0.19.1->langchain_upstage) (3.16.1)\n",
            "Requirement already satisfied: fsspec>=2023.5.0 in /usr/local/lib/python3.10/dist-packages (from huggingface-hub<1.0,>=0.16.4->tokenizers<0.20.0,>=0.19.1->langchain_upstage) (2024.6.1)\n",
            "Requirement already satisfied: tqdm>=4.42.1 in /usr/local/lib/python3.10/dist-packages (from huggingface-hub<1.0,>=0.16.4->tokenizers<0.20.0,>=0.19.1->langchain_upstage) (4.66.5)\n",
            "Requirement already satisfied: jsonpointer>=1.9 in /usr/local/lib/python3.10/dist-packages (from jsonpatch<2.0,>=1.33->langchain-core<0.4,>=0.3.0->langchain_upstage) (3.0.0)\n",
            "Requirement already satisfied: httpx<1,>=0.23.0 in /usr/local/lib/python3.10/dist-packages (from langsmith<0.2.0,>=0.1.125->langchain-core<0.4,>=0.3.0->langchain_upstage) (0.27.2)\n",
            "Requirement already satisfied: orjson<4.0.0,>=3.9.14 in /usr/local/lib/python3.10/dist-packages (from langsmith<0.2.0,>=0.1.125->langchain-core<0.4,>=0.3.0->langchain_upstage) (3.10.7)\n",
            "Requirement already satisfied: requests-toolbelt<2.0.0,>=1.0.0 in /usr/local/lib/python3.10/dist-packages (from langsmith<0.2.0,>=0.1.125->langchain-core<0.4,>=0.3.0->langchain_upstage) (1.0.0)\n",
            "Requirement already satisfied: anyio<5,>=3.5.0 in /usr/local/lib/python3.10/dist-packages (from openai<2.0.0,>=1.40.0->langchain-openai<0.3,>=0.2->langchain_upstage) (3.7.1)\n",
            "Requirement already satisfied: distro<2,>=1.7.0 in /usr/lib/python3/dist-packages (from openai<2.0.0,>=1.40.0->langchain-openai<0.3,>=0.2->langchain_upstage) (1.7.0)\n",
            "Requirement already satisfied: jiter<1,>=0.4.0 in /usr/local/lib/python3.10/dist-packages (from openai<2.0.0,>=1.40.0->langchain-openai<0.3,>=0.2->langchain_upstage) (0.5.0)\n",
            "Requirement already satisfied: sniffio in /usr/local/lib/python3.10/dist-packages (from openai<2.0.0,>=1.40.0->langchain-openai<0.3,>=0.2->langchain_upstage) (1.3.1)\n",
            "Requirement already satisfied: annotated-types>=0.6.0 in /usr/local/lib/python3.10/dist-packages (from pydantic<3.0.0,>=2.5.2->langchain-core<0.4,>=0.3.0->langchain_upstage) (0.7.0)\n",
            "Requirement already satisfied: pydantic-core==2.23.4 in /usr/local/lib/python3.10/dist-packages (from pydantic<3.0.0,>=2.5.2->langchain-core<0.4,>=0.3.0->langchain_upstage) (2.23.4)\n",
            "Requirement already satisfied: regex>=2022.1.18 in /usr/local/lib/python3.10/dist-packages (from tiktoken<1,>=0.7->langchain-openai<0.3,>=0.2->langchain_upstage) (2024.9.11)\n",
            "Requirement already satisfied: exceptiongroup in /usr/local/lib/python3.10/dist-packages (from anyio<5,>=3.5.0->openai<2.0.0,>=1.40.0->langchain-openai<0.3,>=0.2->langchain_upstage) (1.2.2)\n",
            "Requirement already satisfied: httpcore==1.* in /usr/local/lib/python3.10/dist-packages (from httpx<1,>=0.23.0->langsmith<0.2.0,>=0.1.125->langchain-core<0.4,>=0.3.0->langchain_upstage) (1.0.6)\n",
            "Requirement already satisfied: h11<0.15,>=0.13 in /usr/local/lib/python3.10/dist-packages (from httpcore==1.*->httpx<1,>=0.23.0->langsmith<0.2.0,>=0.1.125->langchain-core<0.4,>=0.3.0->langchain_upstage) (0.14.0)\n",
            "Downloading langchain_upstage-0.3.0-py3-none-any.whl (26 kB)\n",
            "Downloading langchain_openai-0.2.1-py3-none-any.whl (49 kB)\n",
            "\u001b[2K   \u001b[90m━━━━━━━━━━━━━━━━━━━━━━━━━━━━━━━━━━━━━━━━\u001b[0m \u001b[32m49.6/49.6 kB\u001b[0m \u001b[31m4.6 MB/s\u001b[0m eta \u001b[36m0:00:00\u001b[0m\n",
            "\u001b[?25hDownloading pypdf-4.3.1-py3-none-any.whl (295 kB)\n",
            "\u001b[2K   \u001b[90m━━━━━━━━━━━━━━━━━━━━━━━━━━━━━━━━━━━━━━━━\u001b[0m \u001b[32m295.8/295.8 kB\u001b[0m \u001b[31m17.2 MB/s\u001b[0m eta \u001b[36m0:00:00\u001b[0m\n",
            "\u001b[?25hDownloading tiktoken-0.8.0-cp310-cp310-manylinux_2_17_x86_64.manylinux2014_x86_64.whl (1.2 MB)\n",
            "\u001b[2K   \u001b[90m━━━━━━━━━━━━━━━━━━━━━━━━━━━━━━━━━━━━━━━━\u001b[0m \u001b[32m1.2/1.2 MB\u001b[0m \u001b[31m25.1 MB/s\u001b[0m eta \u001b[36m0:00:00\u001b[0m\n",
            "\u001b[?25hInstalling collected packages: pypdf, tiktoken, langchain-openai, langchain_upstage\n",
            "Successfully installed langchain-openai-0.2.1 langchain_upstage-0.3.0 pypdf-4.3.1 tiktoken-0.8.0\n"
          ]
        }
      ],
      "source": [
        "!pip install langchain_upstage"
      ]
    },
    {
      "cell_type": "code",
      "execution_count": null,
      "metadata": {
        "id": "HsqmI52uPYkA"
      },
      "outputs": [],
      "source": [
        "import pandas as pd\n",
        "import numpy as np\n",
        "import ast\n",
        "from tqdm import tqdm  # 진행률 표시를 위한 라이브러리\n",
        "import time"
      ]
    },
    {
      "cell_type": "code",
      "execution_count": null,
      "metadata": {
        "id": "gEzViT8fPbGV"
      },
      "outputs": [],
      "source": [
        "from openai import OpenAI# openai==1.2.0\n",
        "import os\n",
        "import openai\n",
        "from langchain.embeddings import OpenAIEmbeddings\n",
        "\n",
        "from langchain.vectorstores import Pinecone\n",
        "\n",
        "from pinecone import Pinecone, ServerlessSpec # 이후 버전\n",
        "\n",
        "from langchain.schema import Document\n",
        "from langchain.schema import SystemMessage, HumanMessage\n",
        "from langchain.llms.base import LLM\n",
        "from typing import Optional, List\n",
        "from langchain.schema import (\n",
        "    Generation,\n",
        "    LLMResult\n",
        ")\n",
        "from langchain.embeddings.base import Embeddings\n",
        "from langchain_upstage import ChatUpstage\n",
        "from langchain_upstage import UpstageEmbeddings"
      ]
    },
    {
      "cell_type": "code",
      "execution_count": null,
      "metadata": {
        "id": "1M0J7QN5_qTf"
      },
      "outputs": [],
      "source": [
        "# API KEY 설정\n",
        "MY_PINECONE_API_KEY = \"MY_PINECONE_API_KEY\"\n",
        "MY_UPSTAGE_API_KEY = \"MY_UPSTAGE_API_KEY\""
      ]
    },
    {
      "cell_type": "markdown",
      "metadata": {
        "id": "PgZ-KlSjJ3tR"
      },
      "source": [
        "### 1. 데이터 로드"
      ]
    },
    {
      "cell_type": "code",
      "execution_count": null,
      "metadata": {
        "colab": {
          "base_uri": "https://localhost:8080/",
          "height": 709
        },
        "id": "SZnir-W07sZV",
        "outputId": "ac8a9e5b-d4ef-4b33-fc8c-e443154e6023"
      },
      "outputs": [
        {
          "data": {
            "application/vnd.google.colaboratory.intrinsic+json": {
              "summary": "{\n  \"name\": \"data\",\n  \"rows\": 10000,\n  \"fields\": [\n    {\n      \"column\": \"Poster\",\n      \"properties\": {\n        \"dtype\": \"string\",\n        \"num_unique_values\": 9862,\n        \"samples\": [\n          \"https://m.media-amazon.com/images/M/MV5BMGNkNGM5MTAtNWVjNy00YjdjLWFkN2QtMjFjODVjOTc5ZmY2XkEyXkFqcGdeQXVyNDAxNjkxNjQ@._V1_UY209_CR0,0,140,209_AL_.jpg\",\n          \"https://m.media-amazon.com/images/M/MV5BNDJhYTk2MTctZmVmOS00OTViLTgxNjQtMzQxOTRiMDdmNGRjXkEyXkFqcGdeQXVyMTMxODk2OTU@._V1_UY209_CR2,0,140,209_AL_.jpg\",\n          \"https://m.media-amazon.com/images/M/MV5BMTBlODgyNzktYTY3ZC00MzQyLWJhYzQtZTIwZTMwYjliOGZiXkEyXkFqcGdeQXVyMTUzMDUzNTI3._V1_UX140_CR0,0,140,209_AL_.jpg\"\n        ],\n        \"semantic_type\": \"\",\n        \"description\": \"\"\n      }\n    },\n    {\n      \"column\": \"Title\",\n      \"properties\": {\n        \"dtype\": \"string\",\n        \"num_unique_values\": 9634,\n        \"samples\": [\n          \"Jack and Jill\",\n          \"Second Act\",\n          \"The War Zone\"\n        ],\n        \"semantic_type\": \"\",\n        \"description\": \"\"\n      }\n    },\n    {\n      \"column\": \"Year\",\n      \"properties\": {\n        \"dtype\": \"number\",\n        \"std\": 18.95800527659945,\n        \"min\": 1929.0,\n        \"max\": 2025.0,\n        \"num_unique_values\": 60,\n        \"samples\": [\n          2023.0,\n          1997.0,\n          1988.0\n        ],\n        \"semantic_type\": \"\",\n        \"description\": \"\"\n      }\n    },\n    {\n      \"column\": \"Certificate\",\n      \"properties\": {\n        \"dtype\": \"category\",\n        \"num_unique_values\": 30,\n        \"samples\": [\n          \"GP\",\n          \"All\",\n          \"12\"\n        ],\n        \"semantic_type\": \"\",\n        \"description\": \"\"\n      }\n    },\n    {\n      \"column\": \"Duration (min)\",\n      \"properties\": {\n        \"dtype\": \"number\",\n        \"std\": 23.159748911962154,\n        \"min\": 45.0,\n        \"max\": 746.0,\n        \"num_unique_values\": 179,\n        \"samples\": [\n          158.0,\n          122.0,\n          157.0\n        ],\n        \"semantic_type\": \"\",\n        \"description\": \"\"\n      }\n    },\n    {\n      \"column\": \"Genre\",\n      \"properties\": {\n        \"dtype\": \"category\",\n        \"num_unique_values\": 475,\n        \"samples\": [\n          \"Documentary, Biography\",\n          \"Adventure, Family, Sport\",\n          \"Action, Adventure, Drama\"\n        ],\n        \"semantic_type\": \"\",\n        \"description\": \"\"\n      }\n    },\n    {\n      \"column\": \"Rating\",\n      \"properties\": {\n        \"dtype\": \"number\",\n        \"std\": 1.0514123633544676,\n        \"min\": 1.3,\n        \"max\": 9.7,\n        \"num_unique_values\": 80,\n        \"samples\": [\n          5.6,\n          6.4,\n          6.6\n        ],\n        \"semantic_type\": \"\",\n        \"description\": \"\"\n      }\n    },\n    {\n      \"column\": \"Metascore\",\n      \"properties\": {\n        \"dtype\": \"number\",\n        \"std\": 17.84523958389793,\n        \"min\": 1.0,\n        \"max\": 100.0,\n        \"num_unique_values\": 97,\n        \"samples\": [\n          87.0,\n          30.0,\n          11.0\n        ],\n        \"semantic_type\": \"\",\n        \"description\": \"\"\n      }\n    },\n    {\n      \"column\": \"Director\",\n      \"properties\": {\n        \"dtype\": \"category\",\n        \"num_unique_values\": 4549,\n        \"samples\": [\n          \"Ruggero Deodato\",\n          \"William Peter Blatty\",\n          \"Dev Patel\"\n        ],\n        \"semantic_type\": \"\",\n        \"description\": \"\"\n      }\n    },\n    {\n      \"column\": \"Cast\",\n      \"properties\": {\n        \"dtype\": \"string\",\n        \"num_unique_values\": 9906,\n        \"samples\": [\n          \"Jamie Bell, Andy Serkis, Daniel Craig, Simon Pegg\",\n          \"Timothy Hutton, Sean Penn, Pat Hingle, Joyce Van Patten\",\n          \"Alia Shawkat, Drew Langer, Marc Maron, Mark Duplass\"\n        ],\n        \"semantic_type\": \"\",\n        \"description\": \"\"\n      }\n    },\n    {\n      \"column\": \"Votes\",\n      \"properties\": {\n        \"dtype\": \"string\",\n        \"num_unique_values\": 9129,\n        \"samples\": [\n          \"15,324\",\n          \"13,138\",\n          \"75,955\"\n        ],\n        \"semantic_type\": \"\",\n        \"description\": \"\"\n      }\n    },\n    {\n      \"column\": \"Description\",\n      \"properties\": {\n        \"dtype\": \"string\",\n        \"num_unique_values\": 9945,\n        \"samples\": [\n          \"A retired jailer goes on a manhunt to find his son's killers. But the road leads him to a familiar, albeit a bit darker place. Can he emerge from this complex situation successfully?\",\n          \"A frustrated composer finds fulfillment as a high school music teacher.\",\n          \"Mia and her boyfriend, ignore warnings and venture into a desert, facing treacherous situations. Their search for safety in a town fails as more perils emerge. Their ordeal focuses on uncovering the mastermind and surviving.\"\n        ],\n        \"semantic_type\": \"\",\n        \"description\": \"\"\n      }\n    },\n    {\n      \"column\": \"Review Count\",\n      \"properties\": {\n        \"dtype\": \"category\",\n        \"num_unique_values\": 1249,\n        \"samples\": [\n          \"82\",\n          \"110\",\n          \"378\"\n        ],\n        \"semantic_type\": \"\",\n        \"description\": \"\"\n      }\n    },\n    {\n      \"column\": \"Review Title\",\n      \"properties\": {\n        \"dtype\": \"string\",\n        \"num_unique_values\": 9246,\n        \"samples\": [\n          \"Bias is downfall of this movie\",\n          \"Is it written by AI?\",\n          \"Another Biblical Tale Around a Peripheral Character\"\n        ],\n        \"semantic_type\": \"\",\n        \"description\": \"\"\n      }\n    },\n    {\n      \"column\": \"Review\",\n      \"properties\": {\n        \"dtype\": \"string\",\n        \"num_unique_values\": 9484,\n        \"samples\": [\n          \"If all you know about 'Teeth' is the premise, you probably think it's a typical B horror film. In fact, this movie is very good and very fun. I don't mean so-bad-it's-good, I mean good.The key is that the movie is restrained. You get the shots that will make you cringe--the filmmakers don't skimp on the juicy stuff--but nothing outrageous. More importantly, 'Teeth' is well acted and written. In some indie films, the dialogue is so bad it's distracting. Not this one. In fact, movies in this genre can go overboard at almost any point--a rogue scientist arriving to explain everything, buckets of blood, or just a scene that goes too far and makes you laugh instead of scream. 'Teeth' deftly avoids the pitfalls. It is scary, funny, and never too much, at least not for me.This movie isn't an Oscar-worthy drama, but it could be a cult classic. I, for one, left the theatre with my money's worth and then some.\",\n          \"I've watched half an hour and that's enough to be honest. For those that like saccharine Live Actually / The Holiday type movies no doubt this will be lapped up but the acting and script is abysmal. They even feel the need to virtue signal and also have a dig at privatisation when the train is delayed and bizarely blame Margaret Thatcher (was actually John Majors Govt but hey ho), liberal scriptwriting at its most cringe inducing!And no doubt the early good reviews from Sky employees because I can't imagine for one second anyone thinks this is any sort of masterpiece, even for a sentimental, belief suspending Xmas movie. Stick with the cheesy Hallmark ones I would suggest instead.\",\n          \"After \\\"Dirty Harry,\\\" Eastwood returns to the West to work for the first time and the last with John Sturges...With quality Westerns like \\\"Bad Day at Black Rock,\\\" \\\"Gunfight at the O.K. Corral,\\\" and \\\"The Magnificent Seven\\\", Sturges would be the right filmmaker to accelerate Eastwood's cowboy career... In the event he wasn't...The excellent sketching of characters and the poignancy of the dilemma of the peasants which made \\\"The Magnificent Seven\\\" such a classic Western were deplorably absent in \\\"Joe Kidd\\\" and the film never escaped from the weakness of its own screenplay...Eastwood brought some of the qualities of Leone Stranger, but lacked his style, his wit and his class...The film is set in the small town of Sinola, New Mexico, at the turn of the century... Mexican peasants find themselves being exploited and persecuted by American landholders, most notably land baron Frank Harlan (Robert Duvall). The peasants find a charismatic leader in Luis Chama (John Saxon), who takes them before a biased judge to defend their land rights...Upon learning the judge's nature, the Mexicans turn to violence and nearly kill the judge whose life is saved by Joe Kidd (Clint Eastwood), a prisoner jailed for drinking too much...This action endears Kidd to Harlan, who recruits him as a tracker for the posse he has hired to annihilate the poor Mexicans who oppose him...However, Kidd's commitment to Harlan's cause grows weaker the more he observes the landowner's methods... At one stage Harlan takes over a small Mexican town and threatens to kill all the inhabitants if Chama does not give himself up by a specified dead time... Kidd considers the action cowardly, and decides to change sides and join Chama's forces...If you are happy to see Eastwood back in the saddle, and you want to watch him with Robert Duvall, don't miss this highly forgettable Western... I'm quite sure it will manage to hold your attention...\"\n        ],\n        \"semantic_type\": \"\",\n        \"description\": \"\"\n      }\n    }\n  ]\n}",
              "type": "dataframe",
              "variable_name": "data"
            },
            "text/html": [
              "\n",
              "  <div id=\"df-041fc255-6d41-427d-bc89-019464781caa\" class=\"colab-df-container\">\n",
              "    <div>\n",
              "<style scoped>\n",
              "    .dataframe tbody tr th:only-of-type {\n",
              "        vertical-align: middle;\n",
              "    }\n",
              "\n",
              "    .dataframe tbody tr th {\n",
              "        vertical-align: top;\n",
              "    }\n",
              "\n",
              "    .dataframe thead th {\n",
              "        text-align: right;\n",
              "    }\n",
              "</style>\n",
              "<table border=\"1\" class=\"dataframe\">\n",
              "  <thead>\n",
              "    <tr style=\"text-align: right;\">\n",
              "      <th></th>\n",
              "      <th>Poster</th>\n",
              "      <th>Title</th>\n",
              "      <th>Year</th>\n",
              "      <th>Certificate</th>\n",
              "      <th>Duration (min)</th>\n",
              "      <th>Genre</th>\n",
              "      <th>Rating</th>\n",
              "      <th>Metascore</th>\n",
              "      <th>Director</th>\n",
              "      <th>Cast</th>\n",
              "      <th>Votes</th>\n",
              "      <th>Description</th>\n",
              "      <th>Review Count</th>\n",
              "      <th>Review Title</th>\n",
              "      <th>Review</th>\n",
              "    </tr>\n",
              "  </thead>\n",
              "  <tbody>\n",
              "    <tr>\n",
              "      <th>0</th>\n",
              "      <td>https://m.media-amazon.com/images/M/MV5BYWRkZj...</td>\n",
              "      <td>The Idea of You</td>\n",
              "      <td>2023.0</td>\n",
              "      <td>R</td>\n",
              "      <td>115.0</td>\n",
              "      <td>Comedy, Drama, Romance</td>\n",
              "      <td>6.4</td>\n",
              "      <td>67.0</td>\n",
              "      <td>Michael Showalter</td>\n",
              "      <td>Anne Hathaway, Nicholas Galitzine, Ella Rubin,...</td>\n",
              "      <td>28,744</td>\n",
              "      <td>Solène, a 40-year-old single mom, begins an un...</td>\n",
              "      <td>166</td>\n",
              "      <td>Hypocrisy as an idea</td>\n",
              "      <td>This film, as well as the reaction to it, is a...</td>\n",
              "    </tr>\n",
              "    <tr>\n",
              "      <th>1</th>\n",
              "      <td>https://m.media-amazon.com/images/M/MV5BZGI4NT...</td>\n",
              "      <td>Kingdom of the Planet of the Apes</td>\n",
              "      <td>2023.0</td>\n",
              "      <td>PG-13</td>\n",
              "      <td>145.0</td>\n",
              "      <td>Action, Adventure, Sci-Fi</td>\n",
              "      <td>7.3</td>\n",
              "      <td>66.0</td>\n",
              "      <td>Wes Ball</td>\n",
              "      <td>Owen Teague, Freya Allan, Kevin Durand, Peter ...</td>\n",
              "      <td>22,248</td>\n",
              "      <td>Many years after the reign of Caesar, a young ...</td>\n",
              "      <td>183</td>\n",
              "      <td>A phenomenal start to another trilogy!</td>\n",
              "      <td>I'm a big fan of all the planet of the apes, a...</td>\n",
              "    </tr>\n",
              "    <tr>\n",
              "      <th>2</th>\n",
              "      <td>https://m.media-amazon.com/images/M/MV5BZjIyOT...</td>\n",
              "      <td>Unfrosted</td>\n",
              "      <td>2023.0</td>\n",
              "      <td>PG-13</td>\n",
              "      <td>97.0</td>\n",
              "      <td>Biography, Comedy, History</td>\n",
              "      <td>5.5</td>\n",
              "      <td>42.0</td>\n",
              "      <td>Jerry Seinfeld</td>\n",
              "      <td>Isaac Bae, Jerry Seinfeld, Chris Rickett, Rach...</td>\n",
              "      <td>18,401</td>\n",
              "      <td>In 1963 Michigan, business rivals Kellogg's an...</td>\n",
              "      <td>333</td>\n",
              "      <td>not funny</td>\n",
              "      <td>Pretty much the worst criticism you can lay on...</td>\n",
              "    </tr>\n",
              "    <tr>\n",
              "      <th>3</th>\n",
              "      <td>https://m.media-amazon.com/images/M/MV5BMjA5Zj...</td>\n",
              "      <td>The Fall Guy</td>\n",
              "      <td>2023.0</td>\n",
              "      <td>PG-13</td>\n",
              "      <td>126.0</td>\n",
              "      <td>Action, Comedy, Drama</td>\n",
              "      <td>7.3</td>\n",
              "      <td>73.0</td>\n",
              "      <td>David Leitch</td>\n",
              "      <td>Ryan Gosling, Emily Blunt, Aaron Taylor-Johnso...</td>\n",
              "      <td>38,953</td>\n",
              "      <td>A down-and-out stuntman must find the missing ...</td>\n",
              "      <td>384</td>\n",
              "      <td>Everything you needed and more!</td>\n",
              "      <td>Just got out of the Austin premier at SXSW and...</td>\n",
              "    </tr>\n",
              "    <tr>\n",
              "      <th>4</th>\n",
              "      <td>https://m.media-amazon.com/images/M/MV5BNTk1MT...</td>\n",
              "      <td>Challengers</td>\n",
              "      <td>2023.0</td>\n",
              "      <td>R</td>\n",
              "      <td>131.0</td>\n",
              "      <td>Drama, Romance, Sport</td>\n",
              "      <td>7.7</td>\n",
              "      <td>82.0</td>\n",
              "      <td>Luca Guadagnino</td>\n",
              "      <td>Zendaya, Mike Faist, Josh O'Connor, Darnell Ap...</td>\n",
              "      <td>32,517</td>\n",
              "      <td>Tashi, a former tennis prodigy turned coach, t...</td>\n",
              "      <td>194</td>\n",
              "      <td>Watch \"Match Point\" instead</td>\n",
              "      <td>This is a tough one. I liked the concept and t...</td>\n",
              "    </tr>\n",
              "  </tbody>\n",
              "</table>\n",
              "</div>\n",
              "    <div class=\"colab-df-buttons\">\n",
              "\n",
              "  <div class=\"colab-df-container\">\n",
              "    <button class=\"colab-df-convert\" onclick=\"convertToInteractive('df-041fc255-6d41-427d-bc89-019464781caa')\"\n",
              "            title=\"Convert this dataframe to an interactive table.\"\n",
              "            style=\"display:none;\">\n",
              "\n",
              "  <svg xmlns=\"http://www.w3.org/2000/svg\" height=\"24px\" viewBox=\"0 -960 960 960\">\n",
              "    <path d=\"M120-120v-720h720v720H120Zm60-500h600v-160H180v160Zm220 220h160v-160H400v160Zm0 220h160v-160H400v160ZM180-400h160v-160H180v160Zm440 0h160v-160H620v160ZM180-180h160v-160H180v160Zm440 0h160v-160H620v160Z\"/>\n",
              "  </svg>\n",
              "    </button>\n",
              "\n",
              "  <style>\n",
              "    .colab-df-container {\n",
              "      display:flex;\n",
              "      gap: 12px;\n",
              "    }\n",
              "\n",
              "    .colab-df-convert {\n",
              "      background-color: #E8F0FE;\n",
              "      border: none;\n",
              "      border-radius: 50%;\n",
              "      cursor: pointer;\n",
              "      display: none;\n",
              "      fill: #1967D2;\n",
              "      height: 32px;\n",
              "      padding: 0 0 0 0;\n",
              "      width: 32px;\n",
              "    }\n",
              "\n",
              "    .colab-df-convert:hover {\n",
              "      background-color: #E2EBFA;\n",
              "      box-shadow: 0px 1px 2px rgba(60, 64, 67, 0.3), 0px 1px 3px 1px rgba(60, 64, 67, 0.15);\n",
              "      fill: #174EA6;\n",
              "    }\n",
              "\n",
              "    .colab-df-buttons div {\n",
              "      margin-bottom: 4px;\n",
              "    }\n",
              "\n",
              "    [theme=dark] .colab-df-convert {\n",
              "      background-color: #3B4455;\n",
              "      fill: #D2E3FC;\n",
              "    }\n",
              "\n",
              "    [theme=dark] .colab-df-convert:hover {\n",
              "      background-color: #434B5C;\n",
              "      box-shadow: 0px 1px 3px 1px rgba(0, 0, 0, 0.15);\n",
              "      filter: drop-shadow(0px 1px 2px rgba(0, 0, 0, 0.3));\n",
              "      fill: #FFFFFF;\n",
              "    }\n",
              "  </style>\n",
              "\n",
              "    <script>\n",
              "      const buttonEl =\n",
              "        document.querySelector('#df-041fc255-6d41-427d-bc89-019464781caa button.colab-df-convert');\n",
              "      buttonEl.style.display =\n",
              "        google.colab.kernel.accessAllowed ? 'block' : 'none';\n",
              "\n",
              "      async function convertToInteractive(key) {\n",
              "        const element = document.querySelector('#df-041fc255-6d41-427d-bc89-019464781caa');\n",
              "        const dataTable =\n",
              "          await google.colab.kernel.invokeFunction('convertToInteractive',\n",
              "                                                    [key], {});\n",
              "        if (!dataTable) return;\n",
              "\n",
              "        const docLinkHtml = 'Like what you see? Visit the ' +\n",
              "          '<a target=\"_blank\" href=https://colab.research.google.com/notebooks/data_table.ipynb>data table notebook</a>'\n",
              "          + ' to learn more about interactive tables.';\n",
              "        element.innerHTML = '';\n",
              "        dataTable['output_type'] = 'display_data';\n",
              "        await google.colab.output.renderOutput(dataTable, element);\n",
              "        const docLink = document.createElement('div');\n",
              "        docLink.innerHTML = docLinkHtml;\n",
              "        element.appendChild(docLink);\n",
              "      }\n",
              "    </script>\n",
              "  </div>\n",
              "\n",
              "\n",
              "<div id=\"df-09dd7dd3-dba7-44ff-908a-b28f88115765\">\n",
              "  <button class=\"colab-df-quickchart\" onclick=\"quickchart('df-09dd7dd3-dba7-44ff-908a-b28f88115765')\"\n",
              "            title=\"Suggest charts\"\n",
              "            style=\"display:none;\">\n",
              "\n",
              "<svg xmlns=\"http://www.w3.org/2000/svg\" height=\"24px\"viewBox=\"0 0 24 24\"\n",
              "     width=\"24px\">\n",
              "    <g>\n",
              "        <path d=\"M19 3H5c-1.1 0-2 .9-2 2v14c0 1.1.9 2 2 2h14c1.1 0 2-.9 2-2V5c0-1.1-.9-2-2-2zM9 17H7v-7h2v7zm4 0h-2V7h2v10zm4 0h-2v-4h2v4z\"/>\n",
              "    </g>\n",
              "</svg>\n",
              "  </button>\n",
              "\n",
              "<style>\n",
              "  .colab-df-quickchart {\n",
              "      --bg-color: #E8F0FE;\n",
              "      --fill-color: #1967D2;\n",
              "      --hover-bg-color: #E2EBFA;\n",
              "      --hover-fill-color: #174EA6;\n",
              "      --disabled-fill-color: #AAA;\n",
              "      --disabled-bg-color: #DDD;\n",
              "  }\n",
              "\n",
              "  [theme=dark] .colab-df-quickchart {\n",
              "      --bg-color: #3B4455;\n",
              "      --fill-color: #D2E3FC;\n",
              "      --hover-bg-color: #434B5C;\n",
              "      --hover-fill-color: #FFFFFF;\n",
              "      --disabled-bg-color: #3B4455;\n",
              "      --disabled-fill-color: #666;\n",
              "  }\n",
              "\n",
              "  .colab-df-quickchart {\n",
              "    background-color: var(--bg-color);\n",
              "    border: none;\n",
              "    border-radius: 50%;\n",
              "    cursor: pointer;\n",
              "    display: none;\n",
              "    fill: var(--fill-color);\n",
              "    height: 32px;\n",
              "    padding: 0;\n",
              "    width: 32px;\n",
              "  }\n",
              "\n",
              "  .colab-df-quickchart:hover {\n",
              "    background-color: var(--hover-bg-color);\n",
              "    box-shadow: 0 1px 2px rgba(60, 64, 67, 0.3), 0 1px 3px 1px rgba(60, 64, 67, 0.15);\n",
              "    fill: var(--button-hover-fill-color);\n",
              "  }\n",
              "\n",
              "  .colab-df-quickchart-complete:disabled,\n",
              "  .colab-df-quickchart-complete:disabled:hover {\n",
              "    background-color: var(--disabled-bg-color);\n",
              "    fill: var(--disabled-fill-color);\n",
              "    box-shadow: none;\n",
              "  }\n",
              "\n",
              "  .colab-df-spinner {\n",
              "    border: 2px solid var(--fill-color);\n",
              "    border-color: transparent;\n",
              "    border-bottom-color: var(--fill-color);\n",
              "    animation:\n",
              "      spin 1s steps(1) infinite;\n",
              "  }\n",
              "\n",
              "  @keyframes spin {\n",
              "    0% {\n",
              "      border-color: transparent;\n",
              "      border-bottom-color: var(--fill-color);\n",
              "      border-left-color: var(--fill-color);\n",
              "    }\n",
              "    20% {\n",
              "      border-color: transparent;\n",
              "      border-left-color: var(--fill-color);\n",
              "      border-top-color: var(--fill-color);\n",
              "    }\n",
              "    30% {\n",
              "      border-color: transparent;\n",
              "      border-left-color: var(--fill-color);\n",
              "      border-top-color: var(--fill-color);\n",
              "      border-right-color: var(--fill-color);\n",
              "    }\n",
              "    40% {\n",
              "      border-color: transparent;\n",
              "      border-right-color: var(--fill-color);\n",
              "      border-top-color: var(--fill-color);\n",
              "    }\n",
              "    60% {\n",
              "      border-color: transparent;\n",
              "      border-right-color: var(--fill-color);\n",
              "    }\n",
              "    80% {\n",
              "      border-color: transparent;\n",
              "      border-right-color: var(--fill-color);\n",
              "      border-bottom-color: var(--fill-color);\n",
              "    }\n",
              "    90% {\n",
              "      border-color: transparent;\n",
              "      border-bottom-color: var(--fill-color);\n",
              "    }\n",
              "  }\n",
              "</style>\n",
              "\n",
              "  <script>\n",
              "    async function quickchart(key) {\n",
              "      const quickchartButtonEl =\n",
              "        document.querySelector('#' + key + ' button');\n",
              "      quickchartButtonEl.disabled = true;  // To prevent multiple clicks.\n",
              "      quickchartButtonEl.classList.add('colab-df-spinner');\n",
              "      try {\n",
              "        const charts = await google.colab.kernel.invokeFunction(\n",
              "            'suggestCharts', [key], {});\n",
              "      } catch (error) {\n",
              "        console.error('Error during call to suggestCharts:', error);\n",
              "      }\n",
              "      quickchartButtonEl.classList.remove('colab-df-spinner');\n",
              "      quickchartButtonEl.classList.add('colab-df-quickchart-complete');\n",
              "    }\n",
              "    (() => {\n",
              "      let quickchartButtonEl =\n",
              "        document.querySelector('#df-09dd7dd3-dba7-44ff-908a-b28f88115765 button');\n",
              "      quickchartButtonEl.style.display =\n",
              "        google.colab.kernel.accessAllowed ? 'block' : 'none';\n",
              "    })();\n",
              "  </script>\n",
              "</div>\n",
              "\n",
              "    </div>\n",
              "  </div>\n"
            ],
            "text/plain": [
              "                                              Poster  \\\n",
              "0  https://m.media-amazon.com/images/M/MV5BYWRkZj...   \n",
              "1  https://m.media-amazon.com/images/M/MV5BZGI4NT...   \n",
              "2  https://m.media-amazon.com/images/M/MV5BZjIyOT...   \n",
              "3  https://m.media-amazon.com/images/M/MV5BMjA5Zj...   \n",
              "4  https://m.media-amazon.com/images/M/MV5BNTk1MT...   \n",
              "\n",
              "                               Title    Year Certificate  Duration (min)  \\\n",
              "0                    The Idea of You  2023.0           R           115.0   \n",
              "1  Kingdom of the Planet of the Apes  2023.0       PG-13           145.0   \n",
              "2                          Unfrosted  2023.0       PG-13            97.0   \n",
              "3                       The Fall Guy  2023.0       PG-13           126.0   \n",
              "4                        Challengers  2023.0           R           131.0   \n",
              "\n",
              "                        Genre  Rating  Metascore           Director  \\\n",
              "0      Comedy, Drama, Romance     6.4       67.0  Michael Showalter   \n",
              "1   Action, Adventure, Sci-Fi     7.3       66.0           Wes Ball   \n",
              "2  Biography, Comedy, History     5.5       42.0     Jerry Seinfeld   \n",
              "3       Action, Comedy, Drama     7.3       73.0       David Leitch   \n",
              "4       Drama, Romance, Sport     7.7       82.0    Luca Guadagnino   \n",
              "\n",
              "                                                Cast   Votes  \\\n",
              "0  Anne Hathaway, Nicholas Galitzine, Ella Rubin,...  28,744   \n",
              "1  Owen Teague, Freya Allan, Kevin Durand, Peter ...  22,248   \n",
              "2  Isaac Bae, Jerry Seinfeld, Chris Rickett, Rach...  18,401   \n",
              "3  Ryan Gosling, Emily Blunt, Aaron Taylor-Johnso...  38,953   \n",
              "4  Zendaya, Mike Faist, Josh O'Connor, Darnell Ap...  32,517   \n",
              "\n",
              "                                         Description Review Count  \\\n",
              "0  Solène, a 40-year-old single mom, begins an un...          166   \n",
              "1  Many years after the reign of Caesar, a young ...          183   \n",
              "2  In 1963 Michigan, business rivals Kellogg's an...          333   \n",
              "3  A down-and-out stuntman must find the missing ...          384   \n",
              "4  Tashi, a former tennis prodigy turned coach, t...          194   \n",
              "\n",
              "                             Review Title  \\\n",
              "0                    Hypocrisy as an idea   \n",
              "1  A phenomenal start to another trilogy!   \n",
              "2                               not funny   \n",
              "3         Everything you needed and more!   \n",
              "4             Watch \"Match Point\" instead   \n",
              "\n",
              "                                              Review  \n",
              "0  This film, as well as the reaction to it, is a...  \n",
              "1  I'm a big fan of all the planet of the apes, a...  \n",
              "2  Pretty much the worst criticism you can lay on...  \n",
              "3  Just got out of the Austin premier at SXSW and...  \n",
              "4  This is a tough one. I liked the concept and t...  "
            ]
          },
          "execution_count": 7,
          "metadata": {},
          "output_type": "execute_result"
        }
      ],
      "source": [
        "data = pd.read_csv('/content/imdb-movies-dataset.csv', sep=',')\n",
        "\n",
        "# 데이터 확인\n",
        "data.head()"
      ]
    },
    {
      "cell_type": "code",
      "execution_count": null,
      "metadata": {
        "colab": {
          "base_uri": "https://localhost:8080/"
        },
        "id": "J_dX8trKi_NB",
        "outputId": "3b4cf410-9ccd-4349-f3b9-6c251984b0f3"
      },
      "outputs": [
        {
          "name": "stdout",
          "output_type": "stream",
          "text": [
            "<class 'pandas.core.frame.DataFrame'>\n",
            "RangeIndex: 10000 entries, 0 to 9999\n",
            "Data columns (total 15 columns):\n",
            " #   Column          Non-Null Count  Dtype  \n",
            "---  ------          --------------  -----  \n",
            " 0   Poster          10000 non-null  object \n",
            " 1   Title           10000 non-null  object \n",
            " 2   Year            9850 non-null   float64\n",
            " 3   Certificate     7370 non-null   object \n",
            " 4   Duration (min)  9664 non-null   float64\n",
            " 5   Genre           9993 non-null   object \n",
            " 6   Rating          9596 non-null   float64\n",
            " 7   Metascore       7555 non-null   float64\n",
            " 8   Director        9995 non-null   object \n",
            " 9   Cast            9961 non-null   object \n",
            " 10  Votes           9596 non-null   object \n",
            " 11  Description     10000 non-null  object \n",
            " 12  Review Count    9999 non-null   object \n",
            " 13  Review Title    9483 non-null   object \n",
            " 14  Review          9484 non-null   object \n",
            "dtypes: float64(4), object(11)\n",
            "memory usage: 1.1+ MB\n"
          ]
        }
      ],
      "source": [
        "data.info()"
      ]
    },
    {
      "cell_type": "code",
      "execution_count": null,
      "metadata": {
        "colab": {
          "base_uri": "https://localhost:8080/"
        },
        "id": "4_o4zuSaf9rA",
        "outputId": "34d8810d-cd3e-43f4-888d-c1b2cf36fcb3"
      },
      "outputs": [
        {
          "data": {
            "text/plain": [
              "(10000, 15)"
            ]
          },
          "execution_count": 9,
          "metadata": {},
          "output_type": "execute_result"
        }
      ],
      "source": [
        "data.shape"
      ]
    },
    {
      "cell_type": "code",
      "execution_count": null,
      "metadata": {
        "colab": {
          "base_uri": "https://localhost:8080/",
          "height": 383
        },
        "id": "LGrQ0QKdsjZh",
        "outputId": "abab96d7-f261-4c70-a76f-40548849fc14"
      },
      "outputs": [
        {
          "name": "stderr",
          "output_type": "stream",
          "text": [
            "<ipython-input-10-f7b6e412e8d5>:5: SettingWithCopyWarning: \n",
            "A value is trying to be set on a copy of a slice from a DataFrame\n",
            "\n",
            "See the caveats in the documentation: https://pandas.pydata.org/pandas-docs/stable/user_guide/indexing.html#returning-a-view-versus-a-copy\n",
            "  df.dropna(inplace=True)\n"
          ]
        },
        {
          "data": {
            "application/vnd.google.colaboratory.intrinsic+json": {
              "summary": "{\n  \"name\": \"df\",\n  \"rows\": 9342,\n  \"fields\": [\n    {\n      \"column\": \"Title\",\n      \"properties\": {\n        \"dtype\": \"string\",\n        \"num_unique_values\": 9022,\n        \"samples\": [\n          \"With Honors\",\n          \"Last Seen Alive\",\n          \"Plus One\"\n        ],\n        \"semantic_type\": \"\",\n        \"description\": \"\"\n      }\n    },\n    {\n      \"column\": \"Year\",\n      \"properties\": {\n        \"dtype\": \"number\",\n        \"std\": 18.903835917345667,\n        \"min\": 1929.0,\n        \"max\": 2025.0,\n        \"num_unique_values\": 60,\n        \"samples\": [\n          2023.0,\n          1997.0,\n          1988.0\n        ],\n        \"semantic_type\": \"\",\n        \"description\": \"\"\n      }\n    },\n    {\n      \"column\": \"Genre\",\n      \"properties\": {\n        \"dtype\": \"category\",\n        \"num_unique_values\": 460,\n        \"samples\": [\n          \"Adventure, Biography, Drama\",\n          \"Animation, Action, Adventure\",\n          \"Comedy, Family\"\n        ],\n        \"semantic_type\": \"\",\n        \"description\": \"\"\n      }\n    },\n    {\n      \"column\": \"Description\",\n      \"properties\": {\n        \"dtype\": \"string\",\n        \"num_unique_values\": 9339,\n        \"samples\": [\n          \"During her family's move to the suburbs, a sullen 10-year-old girl wanders into a world ruled by gods, witches and spirits, and where humans are changed into beasts.\",\n          \"A wealthy woman from Manhattan's Upper East Side struggles to deal with her new identity and her sexuality after her husband of 16 years leaves her for a younger woman.\",\n          \"A young woman comes to Hollywood with dreams of stardom, and achieves them only with the help of an alcoholic leading man whose best days are behind him.\"\n        ],\n        \"semantic_type\": \"\",\n        \"description\": \"\"\n      }\n    },\n    {\n      \"column\": \"Director\",\n      \"properties\": {\n        \"dtype\": \"category\",\n        \"num_unique_values\": 4276,\n        \"samples\": [\n          \"Sean Penn\",\n          \"Lee Cronin\",\n          \"Hong Sung-ho\"\n        ],\n        \"semantic_type\": \"\",\n        \"description\": \"\"\n      }\n    },\n    {\n      \"column\": \"Cast\",\n      \"properties\": {\n        \"dtype\": \"string\",\n        \"num_unique_values\": 9292,\n        \"samples\": [\n          \"Roy Scheider, Warren Oates, Candy Clark, Daniel Stern\",\n          \"Michael J. Fox, Christopher Lloyd, Lea Thompson, Tom Wilson\",\n          \"Jack Nicholson, Kathleen Turner, Robert Loggia, John Randolph\"\n        ],\n        \"semantic_type\": \"\",\n        \"description\": \"\"\n      }\n    },\n    {\n      \"column\": \"Review\",\n      \"properties\": {\n        \"dtype\": \"string\",\n        \"num_unique_values\": 9342,\n        \"samples\": [\n          \"'Spirited Away' is the first Miyazaki I have seen, but from this stupendous film I can tell he is a master storyteller. A hallmark of a good storyteller is making the audience empathise or pull them into the shoes of the central character. Miyazaki does this brilliantly in 'Spirited Away'. During the first fifteen minutes we have no idea what is going on. Neither does the main character Chihiro. We discover the world as Chihiro does and it's truly amazing to watch. But Miyazaki doesn't seem to treat this world as something amazing. The world is filmed just like our workaday world would. The inhabitants of the world go about their daily business as usual as full with apathy as us normal folks. Places and buildings are not greeted by towering establishing shots and majestic music. The fact that this place is amazing doesn't seem to concern Miyazaki. What do however, are the characters. Miyazaki lingers upon the characters as if they were actors. He infixes his animated actors with such subtleties that I have never seen, even from animation giants Pixar. Twenty minutes into this film and I completely forgot these were animated characters; I started to care for them like they were living and breathing. Miyazaki treats the modest achievements of Chihiro with unashamed bombast. The uplifting scene where she cleanses the River God is accompanied by stirring music and is as exciting as watching gladiatorial combatants fight. Of course, by giving the audience developed characters to care about, the action and conflicts will always be more exciting, terrifying and uplifting than normal, generic action scenes. Through Chihiro, Miyazaki is clearly (but non-patronisingly) talking to youth of Japan. There's a certain sense of revile about the youth of Japan at the moment. Many people consider them to be ill-mannered and baring no respect for their elders or their forefathers. They are simply bi-products of their material world and consumerism. 'Spirited Away' taps into this. At the start Chihiro is a selfish, spoiled, whiny brat. But as she plunges deeper into the spirit world, she becomes more independent, more assured, more respectful and learns some manners. No Face, a black figure with a white mask, is the catalyst behind Chihiro's transformation. Once he is let into the bathhouse, we are no longer tourists \\u0096 the story propels forth. Watching No Face prey on the greed of the workers is a terrifying delight. The three main characters in Miyazaki's youth allegory are Chihiro, No Face and B\\u00f4. All of these characters are disconnected with their world. They are lonely, misunderstood and largely ignored. But when they go on their journey together, they united and become stronger individuals.Miyazaki also talks about the ecology of Japan. What was once a beautiful; grassland has now turned into the Asian New York. That The Last Samurai had to be filmed in New Zealand to get a turn of the century Japanese look speaks volumes. The River God sequence is an unsubtle but unpretentious commentary on pollution. While these two themes are very much current in Japan, they are also universal themes \\u0096 which makes 'Spirited Away' a universal story that most of us can connect with. I'm willing to bet everyone reading this has at some time seen bicycles lying on a lake bed or have had a child talk to them disrespectfully. Sure these themes aren't advanced philosophy. They are everyday issues told in an inventive, fun way.The animation is wonderful, if not as smooth as Disney's works \\u0096 but there's something superior to that. 'Spirited Away's imperfect, but detailed world is far more fascinating than the perfected blandest of Disney's latest offerings. The animators successfully balanced the tight-rope between not-enough animation on characters and too much animation on characters. No Ralph Balski ADD antics here! The film is full of vivid images \\u0096 both beautiful and horrifying. The line between those two extremes is crossed over seamlessly. From Chihiro and Haku running through an opening flower field to Haku's dragon snarling with a bloody mouth, both extremes seem to belong in the film. It's also excellently done with the characters. Kamaji can be seen as a scary, daunting figure at the beginning, but soon he seamlessly changes into a humble, wise figure. Yubaba also seems to be able to turn from kind to witch with the snap of a finger. The sound on the film was expertly done. The sounds perfectly match the on screen actions and objects. My sub woofer got a wonderful workout when Haku swoops Chihiro past the bridge at the beginning. And while I don't speak Japanese, I think the voice actors did a wonderful job of conveying their personality and emotions true their voice. Joe Hisaishi's music is sublime, definitely one of my favourite scores. His main piano theme is simple and evocative. His thunderous action music hits the viewers on the chest like a hammer. Like all great scores it heightens the greatness of a scene about three times. The score, unlike many American composers', is unobtrusive. It plays excellently with the scenes, but never overbears them. A lot of the time the it is barely noticeable, a sole piano plays softly in the background evoking a dreamlike/lullaby quality. 'Spirited Away' is a simply a modern masterpiece, easily one of the Top 10 films of the new millennium. It works on a multitude of levels; a social commentary on Japan, a homage to ancient Japanese/Russian mythology, a moral film for both children and adults. But most importantly, it is a simple story brilliantly told by a great filmmaker who appears to be at the top of his game. 'Spirited Away' works much like a relaxing journey. Pop in the DVD; leave this world for two hours and when you will be almost certainly enriched and ready to take the trip again.\",\n          \"This movie doesn't get the credit that it deserves. Travolta's speech at the end of the movie to the doctor is incredible. Rarely do I ever see a movie that acknowledges the value of a single human life like this movie does. Most movies glorify sacrifice. This movie glorifies life. I highly recommend it.\",\n          \"Saw this film at the Melbourne International Film Festival and was deeply deeply diappointed.The film runs for three hours and it absolutely does not require the massive run time, as so little of consequence actually happens in the film. The bank robbery angle is an intriguing place to start the story and the banality of the workplace provides some moments of amusement and intrigue.However the director soon gets bored with the central premise of the story and gets distracted by meandering through a variety of inconsequential subplots. These subplots end up contributing little to the film's plot overall. By the end it was really making me angry at how slow the plot was and how little the director cared about my time.I have rarely been so bored during a film, honestly would have walked out if I hadn't been with a bunch of people who wanted to stay.I'd ignore the inexplicably positive reviews by the high and mighty artsy film critics, save three hours and skip this one.\"\n        ],\n        \"semantic_type\": \"\",\n        \"description\": \"\"\n      }\n    }\n  ]\n}",
              "type": "dataframe",
              "variable_name": "df"
            },
            "text/html": [
              "\n",
              "  <div id=\"df-0a6198da-89c9-4abc-9d2c-30552b6877b2\" class=\"colab-df-container\">\n",
              "    <div>\n",
              "<style scoped>\n",
              "    .dataframe tbody tr th:only-of-type {\n",
              "        vertical-align: middle;\n",
              "    }\n",
              "\n",
              "    .dataframe tbody tr th {\n",
              "        vertical-align: top;\n",
              "    }\n",
              "\n",
              "    .dataframe thead th {\n",
              "        text-align: right;\n",
              "    }\n",
              "</style>\n",
              "<table border=\"1\" class=\"dataframe\">\n",
              "  <thead>\n",
              "    <tr style=\"text-align: right;\">\n",
              "      <th></th>\n",
              "      <th>Title</th>\n",
              "      <th>Year</th>\n",
              "      <th>Genre</th>\n",
              "      <th>Description</th>\n",
              "      <th>Director</th>\n",
              "      <th>Cast</th>\n",
              "      <th>Review</th>\n",
              "    </tr>\n",
              "  </thead>\n",
              "  <tbody>\n",
              "    <tr>\n",
              "      <th>0</th>\n",
              "      <td>The Idea of You</td>\n",
              "      <td>2023.0</td>\n",
              "      <td>Comedy, Drama, Romance</td>\n",
              "      <td>Solène, a 40-year-old single mom, begins an un...</td>\n",
              "      <td>Michael Showalter</td>\n",
              "      <td>Anne Hathaway, Nicholas Galitzine, Ella Rubin,...</td>\n",
              "      <td>This film, as well as the reaction to it, is a...</td>\n",
              "    </tr>\n",
              "    <tr>\n",
              "      <th>1</th>\n",
              "      <td>Kingdom of the Planet of the Apes</td>\n",
              "      <td>2023.0</td>\n",
              "      <td>Action, Adventure, Sci-Fi</td>\n",
              "      <td>Many years after the reign of Caesar, a young ...</td>\n",
              "      <td>Wes Ball</td>\n",
              "      <td>Owen Teague, Freya Allan, Kevin Durand, Peter ...</td>\n",
              "      <td>I'm a big fan of all the planet of the apes, a...</td>\n",
              "    </tr>\n",
              "    <tr>\n",
              "      <th>2</th>\n",
              "      <td>Unfrosted</td>\n",
              "      <td>2023.0</td>\n",
              "      <td>Biography, Comedy, History</td>\n",
              "      <td>In 1963 Michigan, business rivals Kellogg's an...</td>\n",
              "      <td>Jerry Seinfeld</td>\n",
              "      <td>Isaac Bae, Jerry Seinfeld, Chris Rickett, Rach...</td>\n",
              "      <td>Pretty much the worst criticism you can lay on...</td>\n",
              "    </tr>\n",
              "    <tr>\n",
              "      <th>3</th>\n",
              "      <td>The Fall Guy</td>\n",
              "      <td>2023.0</td>\n",
              "      <td>Action, Comedy, Drama</td>\n",
              "      <td>A down-and-out stuntman must find the missing ...</td>\n",
              "      <td>David Leitch</td>\n",
              "      <td>Ryan Gosling, Emily Blunt, Aaron Taylor-Johnso...</td>\n",
              "      <td>Just got out of the Austin premier at SXSW and...</td>\n",
              "    </tr>\n",
              "    <tr>\n",
              "      <th>4</th>\n",
              "      <td>Challengers</td>\n",
              "      <td>2023.0</td>\n",
              "      <td>Drama, Romance, Sport</td>\n",
              "      <td>Tashi, a former tennis prodigy turned coach, t...</td>\n",
              "      <td>Luca Guadagnino</td>\n",
              "      <td>Zendaya, Mike Faist, Josh O'Connor, Darnell Ap...</td>\n",
              "      <td>This is a tough one. I liked the concept and t...</td>\n",
              "    </tr>\n",
              "  </tbody>\n",
              "</table>\n",
              "</div>\n",
              "    <div class=\"colab-df-buttons\">\n",
              "\n",
              "  <div class=\"colab-df-container\">\n",
              "    <button class=\"colab-df-convert\" onclick=\"convertToInteractive('df-0a6198da-89c9-4abc-9d2c-30552b6877b2')\"\n",
              "            title=\"Convert this dataframe to an interactive table.\"\n",
              "            style=\"display:none;\">\n",
              "\n",
              "  <svg xmlns=\"http://www.w3.org/2000/svg\" height=\"24px\" viewBox=\"0 -960 960 960\">\n",
              "    <path d=\"M120-120v-720h720v720H120Zm60-500h600v-160H180v160Zm220 220h160v-160H400v160Zm0 220h160v-160H400v160ZM180-400h160v-160H180v160Zm440 0h160v-160H620v160ZM180-180h160v-160H180v160Zm440 0h160v-160H620v160Z\"/>\n",
              "  </svg>\n",
              "    </button>\n",
              "\n",
              "  <style>\n",
              "    .colab-df-container {\n",
              "      display:flex;\n",
              "      gap: 12px;\n",
              "    }\n",
              "\n",
              "    .colab-df-convert {\n",
              "      background-color: #E8F0FE;\n",
              "      border: none;\n",
              "      border-radius: 50%;\n",
              "      cursor: pointer;\n",
              "      display: none;\n",
              "      fill: #1967D2;\n",
              "      height: 32px;\n",
              "      padding: 0 0 0 0;\n",
              "      width: 32px;\n",
              "    }\n",
              "\n",
              "    .colab-df-convert:hover {\n",
              "      background-color: #E2EBFA;\n",
              "      box-shadow: 0px 1px 2px rgba(60, 64, 67, 0.3), 0px 1px 3px 1px rgba(60, 64, 67, 0.15);\n",
              "      fill: #174EA6;\n",
              "    }\n",
              "\n",
              "    .colab-df-buttons div {\n",
              "      margin-bottom: 4px;\n",
              "    }\n",
              "\n",
              "    [theme=dark] .colab-df-convert {\n",
              "      background-color: #3B4455;\n",
              "      fill: #D2E3FC;\n",
              "    }\n",
              "\n",
              "    [theme=dark] .colab-df-convert:hover {\n",
              "      background-color: #434B5C;\n",
              "      box-shadow: 0px 1px 3px 1px rgba(0, 0, 0, 0.15);\n",
              "      filter: drop-shadow(0px 1px 2px rgba(0, 0, 0, 0.3));\n",
              "      fill: #FFFFFF;\n",
              "    }\n",
              "  </style>\n",
              "\n",
              "    <script>\n",
              "      const buttonEl =\n",
              "        document.querySelector('#df-0a6198da-89c9-4abc-9d2c-30552b6877b2 button.colab-df-convert');\n",
              "      buttonEl.style.display =\n",
              "        google.colab.kernel.accessAllowed ? 'block' : 'none';\n",
              "\n",
              "      async function convertToInteractive(key) {\n",
              "        const element = document.querySelector('#df-0a6198da-89c9-4abc-9d2c-30552b6877b2');\n",
              "        const dataTable =\n",
              "          await google.colab.kernel.invokeFunction('convertToInteractive',\n",
              "                                                    [key], {});\n",
              "        if (!dataTable) return;\n",
              "\n",
              "        const docLinkHtml = 'Like what you see? Visit the ' +\n",
              "          '<a target=\"_blank\" href=https://colab.research.google.com/notebooks/data_table.ipynb>data table notebook</a>'\n",
              "          + ' to learn more about interactive tables.';\n",
              "        element.innerHTML = '';\n",
              "        dataTable['output_type'] = 'display_data';\n",
              "        await google.colab.output.renderOutput(dataTable, element);\n",
              "        const docLink = document.createElement('div');\n",
              "        docLink.innerHTML = docLinkHtml;\n",
              "        element.appendChild(docLink);\n",
              "      }\n",
              "    </script>\n",
              "  </div>\n",
              "\n",
              "\n",
              "<div id=\"df-93329aa6-5650-40ec-849d-32a4d53908b5\">\n",
              "  <button class=\"colab-df-quickchart\" onclick=\"quickchart('df-93329aa6-5650-40ec-849d-32a4d53908b5')\"\n",
              "            title=\"Suggest charts\"\n",
              "            style=\"display:none;\">\n",
              "\n",
              "<svg xmlns=\"http://www.w3.org/2000/svg\" height=\"24px\"viewBox=\"0 0 24 24\"\n",
              "     width=\"24px\">\n",
              "    <g>\n",
              "        <path d=\"M19 3H5c-1.1 0-2 .9-2 2v14c0 1.1.9 2 2 2h14c1.1 0 2-.9 2-2V5c0-1.1-.9-2-2-2zM9 17H7v-7h2v7zm4 0h-2V7h2v10zm4 0h-2v-4h2v4z\"/>\n",
              "    </g>\n",
              "</svg>\n",
              "  </button>\n",
              "\n",
              "<style>\n",
              "  .colab-df-quickchart {\n",
              "      --bg-color: #E8F0FE;\n",
              "      --fill-color: #1967D2;\n",
              "      --hover-bg-color: #E2EBFA;\n",
              "      --hover-fill-color: #174EA6;\n",
              "      --disabled-fill-color: #AAA;\n",
              "      --disabled-bg-color: #DDD;\n",
              "  }\n",
              "\n",
              "  [theme=dark] .colab-df-quickchart {\n",
              "      --bg-color: #3B4455;\n",
              "      --fill-color: #D2E3FC;\n",
              "      --hover-bg-color: #434B5C;\n",
              "      --hover-fill-color: #FFFFFF;\n",
              "      --disabled-bg-color: #3B4455;\n",
              "      --disabled-fill-color: #666;\n",
              "  }\n",
              "\n",
              "  .colab-df-quickchart {\n",
              "    background-color: var(--bg-color);\n",
              "    border: none;\n",
              "    border-radius: 50%;\n",
              "    cursor: pointer;\n",
              "    display: none;\n",
              "    fill: var(--fill-color);\n",
              "    height: 32px;\n",
              "    padding: 0;\n",
              "    width: 32px;\n",
              "  }\n",
              "\n",
              "  .colab-df-quickchart:hover {\n",
              "    background-color: var(--hover-bg-color);\n",
              "    box-shadow: 0 1px 2px rgba(60, 64, 67, 0.3), 0 1px 3px 1px rgba(60, 64, 67, 0.15);\n",
              "    fill: var(--button-hover-fill-color);\n",
              "  }\n",
              "\n",
              "  .colab-df-quickchart-complete:disabled,\n",
              "  .colab-df-quickchart-complete:disabled:hover {\n",
              "    background-color: var(--disabled-bg-color);\n",
              "    fill: var(--disabled-fill-color);\n",
              "    box-shadow: none;\n",
              "  }\n",
              "\n",
              "  .colab-df-spinner {\n",
              "    border: 2px solid var(--fill-color);\n",
              "    border-color: transparent;\n",
              "    border-bottom-color: var(--fill-color);\n",
              "    animation:\n",
              "      spin 1s steps(1) infinite;\n",
              "  }\n",
              "\n",
              "  @keyframes spin {\n",
              "    0% {\n",
              "      border-color: transparent;\n",
              "      border-bottom-color: var(--fill-color);\n",
              "      border-left-color: var(--fill-color);\n",
              "    }\n",
              "    20% {\n",
              "      border-color: transparent;\n",
              "      border-left-color: var(--fill-color);\n",
              "      border-top-color: var(--fill-color);\n",
              "    }\n",
              "    30% {\n",
              "      border-color: transparent;\n",
              "      border-left-color: var(--fill-color);\n",
              "      border-top-color: var(--fill-color);\n",
              "      border-right-color: var(--fill-color);\n",
              "    }\n",
              "    40% {\n",
              "      border-color: transparent;\n",
              "      border-right-color: var(--fill-color);\n",
              "      border-top-color: var(--fill-color);\n",
              "    }\n",
              "    60% {\n",
              "      border-color: transparent;\n",
              "      border-right-color: var(--fill-color);\n",
              "    }\n",
              "    80% {\n",
              "      border-color: transparent;\n",
              "      border-right-color: var(--fill-color);\n",
              "      border-bottom-color: var(--fill-color);\n",
              "    }\n",
              "    90% {\n",
              "      border-color: transparent;\n",
              "      border-bottom-color: var(--fill-color);\n",
              "    }\n",
              "  }\n",
              "</style>\n",
              "\n",
              "  <script>\n",
              "    async function quickchart(key) {\n",
              "      const quickchartButtonEl =\n",
              "        document.querySelector('#' + key + ' button');\n",
              "      quickchartButtonEl.disabled = true;  // To prevent multiple clicks.\n",
              "      quickchartButtonEl.classList.add('colab-df-spinner');\n",
              "      try {\n",
              "        const charts = await google.colab.kernel.invokeFunction(\n",
              "            'suggestCharts', [key], {});\n",
              "      } catch (error) {\n",
              "        console.error('Error during call to suggestCharts:', error);\n",
              "      }\n",
              "      quickchartButtonEl.classList.remove('colab-df-spinner');\n",
              "      quickchartButtonEl.classList.add('colab-df-quickchart-complete');\n",
              "    }\n",
              "    (() => {\n",
              "      let quickchartButtonEl =\n",
              "        document.querySelector('#df-93329aa6-5650-40ec-849d-32a4d53908b5 button');\n",
              "      quickchartButtonEl.style.display =\n",
              "        google.colab.kernel.accessAllowed ? 'block' : 'none';\n",
              "    })();\n",
              "  </script>\n",
              "</div>\n",
              "\n",
              "    </div>\n",
              "  </div>\n"
            ],
            "text/plain": [
              "                               Title    Year                       Genre  \\\n",
              "0                    The Idea of You  2023.0      Comedy, Drama, Romance   \n",
              "1  Kingdom of the Planet of the Apes  2023.0   Action, Adventure, Sci-Fi   \n",
              "2                          Unfrosted  2023.0  Biography, Comedy, History   \n",
              "3                       The Fall Guy  2023.0       Action, Comedy, Drama   \n",
              "4                        Challengers  2023.0       Drama, Romance, Sport   \n",
              "\n",
              "                                         Description           Director  \\\n",
              "0  Solène, a 40-year-old single mom, begins an un...  Michael Showalter   \n",
              "1  Many years after the reign of Caesar, a young ...           Wes Ball   \n",
              "2  In 1963 Michigan, business rivals Kellogg's an...     Jerry Seinfeld   \n",
              "3  A down-and-out stuntman must find the missing ...       David Leitch   \n",
              "4  Tashi, a former tennis prodigy turned coach, t...    Luca Guadagnino   \n",
              "\n",
              "                                                Cast  \\\n",
              "0  Anne Hathaway, Nicholas Galitzine, Ella Rubin,...   \n",
              "1  Owen Teague, Freya Allan, Kevin Durand, Peter ...   \n",
              "2  Isaac Bae, Jerry Seinfeld, Chris Rickett, Rach...   \n",
              "3  Ryan Gosling, Emily Blunt, Aaron Taylor-Johnso...   \n",
              "4  Zendaya, Mike Faist, Josh O'Connor, Darnell Ap...   \n",
              "\n",
              "                                              Review  \n",
              "0  This film, as well as the reaction to it, is a...  \n",
              "1  I'm a big fan of all the planet of the apes, a...  \n",
              "2  Pretty much the worst criticism you can lay on...  \n",
              "3  Just got out of the Austin premier at SXSW and...  \n",
              "4  This is a tough one. I liked the concept and t...  "
            ]
          },
          "execution_count": 10,
          "metadata": {},
          "output_type": "execute_result"
        }
      ],
      "source": [
        "# 필요한 컬럼 선택\n",
        "df = data[['Title', 'Year', 'Genre', 'Description', 'Director', 'Cast', 'Review']]\n",
        "\n",
        "# 결측치 제거\n",
        "df.dropna(inplace=True)\n",
        "\n",
        "# 데이터 샘플 확인\n",
        "df.head()"
      ]
    },
    {
      "cell_type": "markdown",
      "metadata": {
        "id": "ajT1twbnKEDe"
      },
      "source": [
        "### 2. Upstage API 키 설정"
      ]
    },
    {
      "cell_type": "code",
      "execution_count": null,
      "metadata": {
        "id": "madJe-Ufbo6C"
      },
      "outputs": [],
      "source": [
        "# Upstage API 키 설정\n",
        "# MY_UPSTAGE_API_KEY = os.environ.get(MY_UPSTAGE_API_KEY)  # 환경 변수에서 가져오기\n",
        "\n",
        "# Upstage 클라이언트 초기화\n",
        "client = OpenAI(\n",
        "    api_key= MY_UPSTAGE_API_KEY,\n",
        "    base_url=\"https://api.upstage.ai/v1/solar\"\n",
        ")"
      ]
    },
    {
      "cell_type": "markdown",
      "metadata": {
        "id": "IwxpThnCO1GV"
      },
      "source": [
        "### 3. 영화 설명에 대한 임베딩 생성"
      ]
    },
    {
      "cell_type": "markdown",
      "metadata": {
        "id": "19ZkIPakX9lw"
      },
      "source": [
        "- 임베딩하는데 $0.45 사용됨"
      ]
    },
    {
      "cell_type": "code",
      "execution_count": null,
      "metadata": {
        "colab": {
          "base_uri": "https://localhost:8080/"
        },
        "id": "-r1XQbr5bpbL",
        "outputId": "d637122a-0fc8-4d23-dbbc-703623582c8c"
      },
      "outputs": [
        {
          "name": "stderr",
          "output_type": "stream",
          "text": [
            " 81%|████████  | 7577/9342 [1:48:12<24:38,  1.19it/s]"
          ]
        }
      ],
      "source": [
        "# 임베딩을 저장할 리스트\n",
        "embeddings = []\n",
        "\n",
        "# 각 행에 대해 텍스트 결합 및 임베딩 생성\n",
        "for idx, row in tqdm(df.iterrows(), total=df.shape[0]): # 'index'를 'idx'로 변경\n",
        "    # 텍스트 결합\n",
        "    text = f\"Title: {row['Title']}\\nYear: {row['Year']}\\nGenre: {row['Genre']}\\nDescription: {row['Description']}\\nDirector: {row['Director']}\\nCast: {row['Cast']}\\nReview: {row['Review']}\"\n",
        "\n",
        "    # 임베딩 생성\n",
        "    embedding = client.embeddings.create(\n",
        "        model=\"solar-embedding-1-large-passage\",\n",
        "        input=text\n",
        "    ).data[0].embedding\n",
        "\n",
        "    embeddings.append(embedding)\n",
        "\n",
        "    # 0.2초 대기(API호출량 과부하 방지)\n",
        "    time.sleep(0.2)\n",
        "\n",
        "# 임베딩을 데이터프레임에 추가\n",
        "df['Embeddings'] = embeddings"
      ]
    },
    {
      "cell_type": "code",
      "execution_count": null,
      "metadata": {
        "id": "QKYKquobzkRm"
      },
      "outputs": [],
      "source": [
        "# 첫 번째 임베딩 벡터의 길이를 통해 차원 수 확인\n",
        "embedding_dimension = len(embeddings[0])\n",
        "print(f\"Embedding Dimension: {embedding_dimension}\")"
      ]
    },
    {
      "cell_type": "code",
      "execution_count": null,
      "metadata": {
        "id": "uJQ4f4-3XMSX"
      },
      "outputs": [],
      "source": [
        "df.head()"
      ]
    },
    {
      "cell_type": "code",
      "execution_count": null,
      "metadata": {
        "id": "SdldEbKBXscg"
      },
      "outputs": [],
      "source": [
        "df.shape"
      ]
    },
    {
      "cell_type": "code",
      "execution_count": null,
      "metadata": {
        "id": "Z3SgU-ss_IdU"
      },
      "outputs": [],
      "source": [
        "# df.to_csv('/content/imdb-movies-dataset2.csv')"
      ]
    },
    {
      "cell_type": "markdown",
      "metadata": {
        "id": "oF4HVMAXhRqm"
      },
      "source": [
        "### 3.5 데이터 재로드(여기부터 시작)"
      ]
    },
    {
      "cell_type": "code",
      "execution_count": null,
      "metadata": {
        "colab": {
          "base_uri": "https://localhost:8080/"
        },
        "id": "3yeLgvdihXf_",
        "outputId": "bbdec8f9-4d67-438b-e894-519d835951c5"
      },
      "outputs": [
        {
          "data": {
            "application/vnd.google.colaboratory.intrinsic+json": {
              "summary": "{\n  \"name\": \"df\",\n  \"rows\": 9342,\n  \"fields\": [\n    {\n      \"column\": \"Unnamed: 0\",\n      \"properties\": {\n        \"dtype\": \"number\",\n        \"std\": 2859,\n        \"min\": 0,\n        \"max\": 9999,\n        \"num_unique_values\": 9342,\n        \"samples\": [\n          390,\n          6270,\n          9041\n        ],\n        \"semantic_type\": \"\",\n        \"description\": \"\"\n      }\n    },\n    {\n      \"column\": \"Title\",\n      \"properties\": {\n        \"dtype\": \"string\",\n        \"num_unique_values\": 9022,\n        \"samples\": [\n          \"With Honors\",\n          \"Last Seen Alive\",\n          \"Plus One\"\n        ],\n        \"semantic_type\": \"\",\n        \"description\": \"\"\n      }\n    },\n    {\n      \"column\": \"Year\",\n      \"properties\": {\n        \"dtype\": \"number\",\n        \"std\": 18.903835917345855,\n        \"min\": 1929.0,\n        \"max\": 2025.0,\n        \"num_unique_values\": 60,\n        \"samples\": [\n          2023.0,\n          1997.0,\n          1988.0\n        ],\n        \"semantic_type\": \"\",\n        \"description\": \"\"\n      }\n    },\n    {\n      \"column\": \"Genre\",\n      \"properties\": {\n        \"dtype\": \"category\",\n        \"num_unique_values\": 460,\n        \"samples\": [\n          \"Adventure, Biography, Drama\",\n          \"Animation, Action, Adventure\",\n          \"Comedy, Family\"\n        ],\n        \"semantic_type\": \"\",\n        \"description\": \"\"\n      }\n    },\n    {\n      \"column\": \"Description\",\n      \"properties\": {\n        \"dtype\": \"string\",\n        \"num_unique_values\": 9339,\n        \"samples\": [\n          \"During her family's move to the suburbs, a sullen 10-year-old girl wanders into a world ruled by gods, witches and spirits, and where humans are changed into beasts.\",\n          \"A wealthy woman from Manhattan's Upper East Side struggles to deal with her new identity and her sexuality after her husband of 16 years leaves her for a younger woman.\",\n          \"A young woman comes to Hollywood with dreams of stardom, and achieves them only with the help of an alcoholic leading man whose best days are behind him.\"\n        ],\n        \"semantic_type\": \"\",\n        \"description\": \"\"\n      }\n    },\n    {\n      \"column\": \"Director\",\n      \"properties\": {\n        \"dtype\": \"category\",\n        \"num_unique_values\": 4276,\n        \"samples\": [\n          \"Sean Penn\",\n          \"Lee Cronin\",\n          \"Hong Sung-ho\"\n        ],\n        \"semantic_type\": \"\",\n        \"description\": \"\"\n      }\n    },\n    {\n      \"column\": \"Cast\",\n      \"properties\": {\n        \"dtype\": \"string\",\n        \"num_unique_values\": 9292,\n        \"samples\": [\n          \"Roy Scheider, Warren Oates, Candy Clark, Daniel Stern\",\n          \"Michael J. Fox, Christopher Lloyd, Lea Thompson, Tom Wilson\",\n          \"Jack Nicholson, Kathleen Turner, Robert Loggia, John Randolph\"\n        ],\n        \"semantic_type\": \"\",\n        \"description\": \"\"\n      }\n    },\n    {\n      \"column\": \"Review\",\n      \"properties\": {\n        \"dtype\": \"string\",\n        \"num_unique_values\": 9342,\n        \"samples\": [\n          \"'Spirited Away' is the first Miyazaki I have seen, but from this stupendous film I can tell he is a master storyteller. A hallmark of a good storyteller is making the audience empathise or pull them into the shoes of the central character. Miyazaki does this brilliantly in 'Spirited Away'. During the first fifteen minutes we have no idea what is going on. Neither does the main character Chihiro. We discover the world as Chihiro does and it's truly amazing to watch. But Miyazaki doesn't seem to treat this world as something amazing. The world is filmed just like our workaday world would. The inhabitants of the world go about their daily business as usual as full with apathy as us normal folks. Places and buildings are not greeted by towering establishing shots and majestic music. The fact that this place is amazing doesn't seem to concern Miyazaki. What do however, are the characters. Miyazaki lingers upon the characters as if they were actors. He infixes his animated actors with such subtleties that I have never seen, even from animation giants Pixar. Twenty minutes into this film and I completely forgot these were animated characters; I started to care for them like they were living and breathing. Miyazaki treats the modest achievements of Chihiro with unashamed bombast. The uplifting scene where she cleanses the River God is accompanied by stirring music and is as exciting as watching gladiatorial combatants fight. Of course, by giving the audience developed characters to care about, the action and conflicts will always be more exciting, terrifying and uplifting than normal, generic action scenes. Through Chihiro, Miyazaki is clearly (but non-patronisingly) talking to youth of Japan. There's a certain sense of revile about the youth of Japan at the moment. Many people consider them to be ill-mannered and baring no respect for their elders or their forefathers. They are simply bi-products of their material world and consumerism. 'Spirited Away' taps into this. At the start Chihiro is a selfish, spoiled, whiny brat. But as she plunges deeper into the spirit world, she becomes more independent, more assured, more respectful and learns some manners. No Face, a black figure with a white mask, is the catalyst behind Chihiro's transformation. Once he is let into the bathhouse, we are no longer tourists \\u0096 the story propels forth. Watching No Face prey on the greed of the workers is a terrifying delight. The three main characters in Miyazaki's youth allegory are Chihiro, No Face and B\\u00f4. All of these characters are disconnected with their world. They are lonely, misunderstood and largely ignored. But when they go on their journey together, they united and become stronger individuals.Miyazaki also talks about the ecology of Japan. What was once a beautiful; grassland has now turned into the Asian New York. That The Last Samurai had to be filmed in New Zealand to get a turn of the century Japanese look speaks volumes. The River God sequence is an unsubtle but unpretentious commentary on pollution. While these two themes are very much current in Japan, they are also universal themes \\u0096 which makes 'Spirited Away' a universal story that most of us can connect with. I'm willing to bet everyone reading this has at some time seen bicycles lying on a lake bed or have had a child talk to them disrespectfully. Sure these themes aren't advanced philosophy. They are everyday issues told in an inventive, fun way.The animation is wonderful, if not as smooth as Disney's works \\u0096 but there's something superior to that. 'Spirited Away's imperfect, but detailed world is far more fascinating than the perfected blandest of Disney's latest offerings. The animators successfully balanced the tight-rope between not-enough animation on characters and too much animation on characters. No Ralph Balski ADD antics here! The film is full of vivid images \\u0096 both beautiful and horrifying. The line between those two extremes is crossed over seamlessly. From Chihiro and Haku running through an opening flower field to Haku's dragon snarling with a bloody mouth, both extremes seem to belong in the film. It's also excellently done with the characters. Kamaji can be seen as a scary, daunting figure at the beginning, but soon he seamlessly changes into a humble, wise figure. Yubaba also seems to be able to turn from kind to witch with the snap of a finger. The sound on the film was expertly done. The sounds perfectly match the on screen actions and objects. My sub woofer got a wonderful workout when Haku swoops Chihiro past the bridge at the beginning. And while I don't speak Japanese, I think the voice actors did a wonderful job of conveying their personality and emotions true their voice. Joe Hisaishi's music is sublime, definitely one of my favourite scores. His main piano theme is simple and evocative. His thunderous action music hits the viewers on the chest like a hammer. Like all great scores it heightens the greatness of a scene about three times. The score, unlike many American composers', is unobtrusive. It plays excellently with the scenes, but never overbears them. A lot of the time the it is barely noticeable, a sole piano plays softly in the background evoking a dreamlike/lullaby quality. 'Spirited Away' is a simply a modern masterpiece, easily one of the Top 10 films of the new millennium. It works on a multitude of levels; a social commentary on Japan, a homage to ancient Japanese/Russian mythology, a moral film for both children and adults. But most importantly, it is a simple story brilliantly told by a great filmmaker who appears to be at the top of his game. 'Spirited Away' works much like a relaxing journey. Pop in the DVD; leave this world for two hours and when you will be almost certainly enriched and ready to take the trip again.\",\n          \"This movie doesn't get the credit that it deserves. Travolta's speech at the end of the movie to the doctor is incredible. Rarely do I ever see a movie that acknowledges the value of a single human life like this movie does. Most movies glorify sacrifice. This movie glorifies life. I highly recommend it.\",\n          \"Saw this film at the Melbourne International Film Festival and was deeply deeply diappointed.The film runs for three hours and it absolutely does not require the massive run time, as so little of consequence actually happens in the film. The bank robbery angle is an intriguing place to start the story and the banality of the workplace provides some moments of amusement and intrigue.However the director soon gets bored with the central premise of the story and gets distracted by meandering through a variety of inconsequential subplots. These subplots end up contributing little to the film's plot overall. By the end it was really making me angry at how slow the plot was and how little the director cared about my time.I have rarely been so bored during a film, honestly would have walked out if I hadn't been with a bunch of people who wanted to stay.I'd ignore the inexplicably positive reviews by the high and mighty artsy film critics, save three hours and skip this one.\"\n        ],\n        \"semantic_type\": \"\",\n        \"description\": \"\"\n      }\n    },\n    {\n      \"column\": \"Embeddings\",\n      \"properties\": {\n        \"dtype\": \"string\",\n        \"num_unique_values\": 9342,\n        \"samples\": [\n          \"[-0.006191253662109375, -0.003108978271484375, 0.0037860870361328125, -0.0097198486328125, 0.0123291015625, -0.0078582763671875, -0.028717041015625, 0.01291656494140625, 0.005390167236328125, 0.0012197494506835938, -0.0165557861328125, 0.0203857421875, 0.0155181884765625, 0.00994110107421875, 0.0267181396484375, -0.0005736351013183594, -0.00022208690643310547, 0.004627227783203125, -0.018402099609375, -0.00798797607421875, 0.0185089111328125, -0.0076446533203125, 0.0027599334716796875, 0.006381988525390625, 0.0012292861938476562, 0.03106689453125, -0.009246826171875, -0.004398345947265625, -0.0172576904296875, -0.0018787384033203125, -0.00157928466796875, -0.01119232177734375, -0.0183563232421875, -0.008575439453125, -0.01430511474609375, -0.0014638900756835938, -0.006023406982421875, 0.0208282470703125, -0.0032711029052734375, 0.0135040283203125, -0.00356292724609375, -0.0013513565063476562, -0.0162353515625, 0.0035457611083984375, -0.0203857421875, 0.00038933753967285156, -0.0010013580322265625, -0.002231597900390625, -0.00463104248046875, 0.0157623291015625, 0.0294189453125, 0.01015472412109375, 0.00555419921875, -0.00908660888671875, -0.007167816162109375, 0.02447509765625, -0.0113067626953125, -0.007228851318359375, -0.01055145263671875, -0.01235198974609375, 0.002544403076171875, 0.006603240966796875, 0.016815185546875, 0.0006694793701171875, -0.0099029541015625, -0.01456451416015625, -0.00775909423828125, -0.0017518997192382812, 0.0028228759765625, -0.004344940185546875, 0.02587890625, 0.017608642578125, 0.001567840576171875, 0.00160980224609375, -0.01322174072265625, 0.0019426345825195312, 0.0025539398193359375, -0.01366424560546875, 0.0012416839599609375, -0.0199127197265625, 0.00551605224609375, -0.0200347900390625, -0.01263427734375, -0.006069183349609375, -0.014373779296875, 0.0333251953125, 0.0112762451171875, 0.013580322265625, -0.0015687942504882812, 0.0009937286376953125, -0.01105499267578125, -0.07281494140625, -0.00351715087890625, -0.03057861328125, 0.01340484619140625, 0.005451202392578125, 0.03924560546875, -0.0290679931640625, 0.0032215118408203125, -0.0062408447265625, 0.021575927734375, -0.01245880126953125, -0.0036716461181640625, 0.0020656585693359375, 0.005672454833984375, 0.00457763671875, -0.01251220703125, -0.00102996826171875, 0.02783203125, 0.02117919921875, 0.01806640625, 0.017669677734375, -0.004543304443359375, -0.023529052734375, -0.0274200439453125, 0.00252532958984375, 0.002895355224609375, 0.015655517578125, -0.0081634521484375, 0.0094146728515625, -0.02740478515625, 0.021697998046875, 0.0101318359375, -0.010009765625, -0.01058197021484375, 0.0091552734375, 0.006511688232421875, -0.01027679443359375, -0.01464080810546875, -0.0105133056640625, 0.01263427734375, -0.00753021240234375, -0.014251708984375, 0.007053375244140625, -0.002071380615234375, 0.00015687942504882812, -0.0104522705078125, 0.0008749961853027344, 0.006755828857421875, 0.00234222412109375, -0.0138092041015625, 0.004390716552734375, 0.006305694580078125, -0.004077911376953125, 0.0240478515625, -0.0005245208740234375, 0.01055145263671875, 0.004749298095703125, 0.018402099609375, -0.0171661376953125, 0.00014162063598632812, 0.001796722412109375, 0.000301361083984375, 0.0018301010131835938, 0.0130767822265625, -0.005001068115234375, 0.007770538330078125, -0.0121307373046875, 0.0014009475708007812, -0.012603759765625, 0.01422882080078125, 0.022979736328125, -0.0178070068359375, -0.004302978515625, 0.007442474365234375, 0.00868988037109375, -0.006977081298828125, -0.0204925537109375, -0.035308837890625, -0.004261016845703125, 0.0093994140625, 0.007373809814453125, -0.0166168212890625, 0.00257110595703125, 0.0110931396484375, 0.0128631591796875, -0.034576416015625, 0.0021877288818359375, 0.00958251953125, -0.001979827880859375, 0.0146026611328125, 0.0103912353515625, -0.00018715858459472656, -0.003757476806640625, -0.007213592529296875, -0.0306243896484375, -0.01727294921875, -0.004486083984375, -0.010467529296875, 0.01183319091796875, -0.00553131103515625, -0.0156707763671875, -0.0194244384765625, -0.00934600830078125, 0.01104736328125, -0.0167236328125, -0.0328369140625, 0.02484130859375, 0.00965118408203125, -0.0221710205078125, -0.00640106201171875, -0.00963592529296875, 0.021575927734375, -0.006122589111328125, -0.04815673828125, 0.0223236083984375, -0.00882720947265625, -0.004810333251953125, 0.021148681640625, -9.08970832824707e-05, -0.005260467529296875, 0.0101776123046875, -0.0008525848388671875, -0.00789642333984375, -0.00466156005859375, -0.0135040283203125, -0.01258087158203125, -0.006481170654296875, -0.017578125, -0.02789306640625, -0.02593994140625, 0.004322052001953125, -0.0299530029296875, 0.01055908203125, 0.00714111328125, -0.004673004150390625, 0.01219940185546875, 0.00653839111328125, -0.0141754150390625, -0.004108428955078125, 0.00505828857421875, -0.0110626220703125, -0.002887725830078125, 0.01432037353515625, 0.007091522216796875, 0.01488494873046875, -0.005901336669921875, 0.0086212158203125, -0.0009675025939941406, -0.0021495819091796875, 0.00424957275390625, 0.00043582916259765625, -0.0213470458984375, -0.0111083984375, -0.00044918060302734375, -0.00826263427734375, 0.0038890838623046875, 0.0127105712890625, 0.0179290771484375, -0.0123748779296875, -0.0016756057739257812, -0.001613616943359375, -0.0179443359375, 0.0146026611328125, 0.0291748046875, -0.0031032562255859375, -0.0034694671630859375, 0.0049896240234375, 0.0020771026611328125, 0.002777099609375, 0.0175018310546875, 0.003879547119140625, -0.0211639404296875, -0.00795745849609375, 0.015380859375, 0.007537841796875, 0.020416259765625, -0.0035533905029296875, -0.0003597736358642578, 0.02825927734375, 0.0082550048828125, -0.004364013671875, 0.0146331787109375, -0.0005679130554199219, 0.0069732666015625, 0.00931549072265625, -0.0120849609375, 0.0241241455078125, 0.00809478759765625, -0.00830841064453125, -0.008636474609375, 0.006763458251953125, 0.004886627197265625, -0.0089874267578125, -0.008819580078125, -0.00127410888671875, -0.038909912109375, -0.005466461181640625, -0.0244140625, -0.01468658447265625, 0.004718780517578125, 0.004016876220703125, -0.002353668212890625, 0.017303466796875, -0.0038661956787109375, -0.024139404296875, -5.644559860229492e-05, -0.009918212890625, -2.8371810913085938e-05, -0.01282501220703125, 0.040435791015625, 0.0140380859375, 0.01399993896484375, -0.005435943603515625, -0.00794219970703125, -0.0029430389404296875, 0.0162811279296875, 0.050201416015625, 0.0127410888671875, -0.00347900390625, -0.01374053955078125, -0.01483154296875, 0.0537109375, 0.001987457275390625, -0.0213165283203125, -0.015960693359375, -0.006893157958984375, 0.0022296905517578125, 0.00423431396484375, -0.017364501953125, 0.00494384765625, -0.007663726806640625, 0.04656982421875, 0.02154541015625, 0.00988006591796875, -0.0090789794921875, -0.007537841796875, -0.00499725341796875, 0.0235595703125, 0.01953125, -0.028076171875, 0.0033245086669921875, -0.0017309188842773438, -0.00682830810546875, 0.0159454345703125, 0.03759765625, -0.0223541259765625, -0.004558563232421875, 0.0173187255859375, 0.01947021484375, 0.0024700164794921875, 0.012939453125, -0.036376953125, -0.0107879638671875, -0.003711700439453125, -0.006412506103515625, -0.0010509490966796875, 0.00948333740234375, 0.01256561279296875, -0.00507354736328125, -0.0029621124267578125, 0.0065460205078125, -0.003925323486328125, -0.021484375, -0.00991058349609375, -0.02264404296875, 0.0165863037109375, 0.002063751220703125, 0.01203155517578125, 0.01265716552734375, -0.0137176513671875, -0.00606536865234375, -0.005023956298828125, 0.0135498046875, 0.001232147216796875, 0.01751708984375, 0.0009355545043945312, -0.00432586669921875, -0.0176544189453125, -0.006439208984375, -0.010498046875, 0.00597381591796875, -0.013031005859375, 0.00444793701171875, -0.01270294189453125, -0.000514984130859375, 0.0267791748046875, -0.005859375, 0.0105438232421875, -0.0211181640625, -0.006732940673828125, -0.0221099853515625, -0.00457763671875, 0.0224151611328125, -0.0265655517578125, -0.004566192626953125, 0.0205078125, -0.01409149169921875, -0.0062408447265625, -0.0142974853515625, 0.005420684814453125, 0.01010894775390625, 0.01264190673828125, -0.0038280487060546875, -0.0211029052734375, -0.0130615234375, -0.0233001708984375, -0.0191802978515625, 0.00788116455078125, -0.00395965576171875, 0.00753021240234375, -0.014617919921875, 0.01352691650390625, 0.0005631446838378906, -0.010223388671875, 0.006664276123046875, 0.004291534423828125, -0.0025177001953125, -0.01172637939453125, -0.003292083740234375, 0.0068817138671875, 0.013092041015625, 0.01239776611328125, -0.0014982223510742188, 0.00701141357421875, -0.0193939208984375, 0.0100250244140625, -0.0079803466796875, 0.0182647705078125, -0.02899169921875, 0.01947021484375, -0.0162353515625, 0.016357421875, -0.002582550048828125, 0.0152740478515625, -0.0164794921875, -0.0015888214111328125, 0.006778717041015625, -0.02056884765625, 0.0030422210693359375, -0.01418304443359375, 0.01198577880859375, -0.0160980224609375, 0.005535125732421875, 0.02032470703125, 0.00823974609375, 0.00323486328125, 0.0162200927734375, -0.004398345947265625, 0.0235443115234375, 0.0164031982421875, 0.01824951171875, 0.01093292236328125, 0.00496673583984375, 0.0207672119140625, 0.0036773681640625, 0.019378662109375, 0.0120391845703125, -0.022705078125, -0.00730133056640625, -0.003925323486328125, -0.00399017333984375, 0.0175323486328125, 0.016571044921875, 0.0283203125, -0.018157958984375, -0.0006060600280761719, 0.0004911422729492188, -0.0059814453125, 0.007434844970703125, 0.01372528076171875, -0.01401519775390625, -0.005855560302734375, 0.009918212890625, -0.001071929931640625, -0.022125244140625, -0.0240325927734375, 0.01861572265625, -0.02703857421875, -0.0102691650390625, -0.010894775390625, -0.01470947265625, 0.007320404052734375, -0.004608154296875, 0.01433563232421875, 0.03155517578125, 0.01378631591796875, -0.004695892333984375, -0.01324462890625, 0.0173492431640625, 0.0047454833984375, -0.02099609375, 0.0065460205078125, 0.00817108154296875, -0.0031719207763671875, -0.0008220672607421875, -0.00634765625, 0.01294708251953125, 0.0132293701171875, -0.0016765594482421875, 0.002880096435546875, 0.0081634521484375, 0.00031948089599609375, -0.019317626953125, -0.0012159347534179688, 0.033843994140625, 0.016815185546875, 0.015625, -0.0202178955078125, -0.00499725341796875, 0.0005364418029785156, 0.004425048828125, -0.006072998046875, 0.00539398193359375, -0.04095458984375, 0.0199432373046875, -0.036895751953125, 0.01230621337890625, 0.0031337738037109375, -0.02032470703125, 0.0038089752197265625, -0.01027679443359375, -0.0186004638671875, 0.0126495361328125, -0.01409149169921875, 0.01194000244140625, -0.01067352294921875, -0.004917144775390625, -0.0099029541015625, -0.0025768280029296875, 0.004909515380859375, 0.0149383544921875, -0.03533935546875, 0.0142669677734375, -0.006839752197265625, -0.004062652587890625, -0.006946563720703125, -0.00371551513671875, 0.001598358154296875, 0.0018491744995117188, 0.0022430419921875, -0.01062774658203125, 0.0170745849609375, -0.051544189453125, 0.0004391670227050781, 0.0028209686279296875, -0.005512237548828125, 0.0267791748046875, 0.00016105175018310547, -0.0086517333984375, -0.01025390625, -0.0037555694580078125, -0.0011301040649414062, 0.0202178955078125, 0.0247955322265625, 0.0260772705078125, -0.04486083984375, 0.00991058349609375, 0.051910400390625, 0.022796630859375, 0.014801025390625, 0.028717041015625, 0.00919342041015625, -0.0160980224609375, -0.0212249755859375, -0.0220184326171875, -0.00011515617370605469, 0.02984619140625, -0.00537109375, -0.0167999267578125, 0.00557708740234375, -0.00983428955078125, -0.00910186767578125, 0.0139312744140625, -0.007671356201171875, 0.0007581710815429688, -0.01226806640625, 0.007266998291015625, 0.0362548828125, 0.00838470458984375, -0.019073486328125, 0.002872467041015625, 0.003570556640625, 0.007114410400390625, -0.0049896240234375, -0.00567626953125, -0.003047943115234375, 0.0059967041015625, -0.019073486328125, -0.0161590576171875, -0.00860595703125, 0.0150604248046875, 0.006717681884765625, -0.0103759765625, 0.019744873046875, 0.007495880126953125, -0.0024509429931640625, 0.00539398193359375, -0.0131683349609375, 0.00897216796875, 0.006145477294921875, -0.0182952880859375, -0.0157012939453125, 0.0271453857421875, 0.00965118408203125, 0.0085906982421875, 0.00860595703125, 0.010528564453125, 0.00574493408203125, -0.0018644332885742188, -0.007770538330078125, 0.00376129150390625, 0.0142974853515625, -0.01253509521484375, -0.01166534423828125, -0.0167083740234375, -0.00954437255859375, 0.006412506103515625, -0.0030231475830078125, 0.0291595458984375, -0.005901336669921875, -0.0102081298828125, 0.0168304443359375, 0.01068115234375, 0.00390625, 0.01100921630859375, 0.0015268325805664062, 0.02490234375, -0.0018434524536132812, 0.0005121231079101562, -0.01282501220703125, -0.004669189453125, 0.024627685546875, 0.0189208984375, -0.0008797645568847656, 0.0041961669921875, 0.01166534423828125, 0.034149169921875, 0.010223388671875, -0.01457977294921875, -0.003482818603515625, -0.0029697418212890625, -0.00870513916015625, -0.00235748291015625, -0.002193450927734375, -0.0120849609375, 0.01192474365234375, 0.0005030632019042969, -0.0011110305786132812, 0.005916595458984375, -0.01433563232421875, 0.0089569091796875, -0.005268096923828125, 0.005157470703125, 0.010162353515625, -0.00577545166015625, -0.0027828216552734375, 0.005931854248046875, -0.0250091552734375, -0.01003265380859375, 0.01175689697265625, 0.002468109130859375, -0.0361328125, 0.0128631591796875, -0.0176849365234375, -0.01441192626953125, -0.0004220008850097656, -0.01486968994140625, -0.0216827392578125, -0.0103607177734375, -0.0187530517578125, -0.0184783935546875, 0.0112152099609375, 0.00672149658203125, -0.018035888671875, -0.0009765625, -0.0025806427001953125, 0.01201629638671875, 0.017852783203125, 0.0006847381591796875, 0.0184326171875, -0.0034046173095703125, -0.00635528564453125, 0.01401519775390625, 0.00942230224609375, 0.0021228790283203125, 0.0025272369384765625, 0.015960693359375, 0.009521484375, 0.00933837890625, -0.0004229545593261719, 0.00408172607421875, 0.018096923828125, -0.0067291259765625, -0.0031490325927734375, 0.0177764892578125, -0.016632080078125, 0.005504608154296875, -0.0081024169921875, 0.0124664306640625, -0.01605224609375, 0.007602691650390625, -0.01111602783203125, 0.0226287841796875, 0.0127716064453125, -0.0254364013671875, 0.0236968994140625, 0.003147125244140625, -0.002010345458984375, -0.026092529296875, 0.00881195068359375, -0.002597808837890625, -0.0128936767578125, 0.00809478759765625, -0.00687408447265625, 0.01453399658203125, 0.0025196075439453125, 0.002635955810546875, 0.0008068084716796875, 0.005947113037109375, -0.007389068603515625, -0.006412506103515625, -0.0022258758544921875, 0.005481719970703125, -0.007007598876953125, -0.011962890625, 0.01509857177734375, -0.0049285888671875, 0.0215606689453125, 0.033447265625, -0.006824493408203125, 0.0035457611083984375, 0.0183868408203125, -0.00860595703125, -0.0063934326171875, 0.00960540771484375, 0.003204345703125, -0.0015554428100585938, -0.006072998046875, 0.0021209716796875, 0.0113372802734375, 0.0189971923828125, 0.0167083740234375, -0.0216827392578125, 0.0190887451171875, -0.00994873046875, -0.00859832763671875, 0.00795745849609375, -0.018768310546875, 0.00891876220703125, -0.016357421875, 0.031890869140625, -0.01092529296875, 0.0225372314453125, 0.0206451416015625, 0.0013055801391601562, 0.00428009033203125, -0.004886627197265625, -0.017974853515625, -0.0036468505859375, -0.028289794921875, 0.0041046142578125, 0.0017328262329101562, 0.0345458984375, -0.0014867782592773438, 0.00946807861328125, -0.00484466552734375, 0.0052947998046875, -0.013275146484375, -0.0016565322875976562, 0.01220703125, -0.0004296302795410156, 0.01739501953125, 0.00897979736328125, -0.017669677734375, -0.006317138671875, -0.01678466796875, -0.030181884765625, -0.007434844970703125, 0.0281524658203125, 0.0211181640625, 0.0092315673828125, 0.01013946533203125, -0.0007510185241699219, 0.01122283935546875, -0.002391815185546875, 0.0019292831420898438, 0.052734375, -0.0186614990234375, -0.0190582275390625, 0.0015954971313476562, -0.007160186767578125, -0.00640106201171875, -0.0225372314453125, -0.000598907470703125, 0.006816864013671875, -0.005481719970703125, -0.00714111328125, 0.009307861328125, -0.0164794921875, 0.01010894775390625, -0.0039215087890625, 0.0084075927734375, -0.01499176025390625, -0.002613067626953125, -0.0148162841796875, 0.006072998046875, -0.02264404296875, 0.00933074951171875, -0.036376953125, -0.0191802978515625, 0.006610870361328125, -0.032501220703125, -0.00044417381286621094, 0.0150604248046875, -0.005584716796875, 0.0113983154296875, -0.0179443359375, 0.001461029052734375, -0.005313873291015625, -0.0055389404296875, 0.0017461776733398438, -0.009185791015625, 0.005290985107421875, -0.0166778564453125, -0.005260467529296875, 0.006381988525390625, 0.04449462890625, -0.00762939453125, -0.02099609375, -0.0163726806640625, -0.0026187896728515625, 0.019378662109375, -0.01800537109375, 0.00629425048828125, -0.0012378692626953125, -0.0263214111328125, 0.0213470458984375, 0.00702667236328125, 0.007434844970703125, 0.0080718994140625, 0.0069732666015625, -0.0005650520324707031, -0.0193939208984375, -0.0119171142578125, -0.105224609375, -0.00632476806640625, -0.0222625732421875, 0.01514434814453125, 0.0142822265625, -0.0194244384765625, 0.00275421142578125, -0.0013532638549804688, 0.0302886962890625, 0.028717041015625, -0.0153961181640625, -0.0258941650390625, -0.00717926025390625, 0.0167083740234375, -0.013153076171875, -0.01036834716796875, 0.00017774105072021484, -0.01163482666015625, -0.006664276123046875, 0.0044403076171875, -0.01372528076171875, 0.00270843505859375, 0.00286865234375, -0.0101318359375, -0.00714111328125, -0.00890350341796875, -0.02313232421875, -0.02850341796875, -0.0177154541015625, 0.004581451416015625, 0.0201873779296875, 0.0138092041015625, -0.03741455078125, -0.00400543212890625, -0.0095977783203125, 0.005092620849609375, -0.0396728515625, -0.0036468505859375, -0.0275115966796875, 0.0005030632019042969, 0.01348876953125, 0.003116607666015625, -0.0098724365234375, 0.0038433074951171875, 0.0018911361694335938, -0.0001506805419921875, 0.0038127899169921875, 0.0196533203125, 0.0240936279296875, -0.0016269683837890625, -0.0033321380615234375, 0.0004901885986328125, 0.00395965576171875, 0.006412506103515625, 0.005634307861328125, -0.01546478271484375, -0.007656097412109375, -0.00024890899658203125, -0.0191497802734375, -0.009063720703125, -0.003902435302734375, -0.0200653076171875, -0.0126190185546875, 0.030609130859375, 0.016357421875, 0.0110626220703125, 0.003231048583984375, -0.00020194053649902344, -0.0007405281066894531, 0.03863525390625, -0.0254058837890625, 0.009918212890625, -0.0033111572265625, 0.01511383056640625, 0.00591278076171875, 0.00032830238342285156, 0.010009765625, 0.01224517822265625, 0.028717041015625, 0.00888824462890625, 0.0038928985595703125, 0.038055419921875, -0.00467681884765625, -0.0194244384765625, -0.01373291015625, -0.0233154296875, 0.01410675048828125, -0.0183563232421875, 0.00740814208984375, 0.01299285888671875, -0.01343536376953125, -0.01334381103515625, 0.007843017578125, -0.0081939697265625, 0.0186767578125, -0.017242431640625, 0.0014219284057617188, 0.00888824462890625, -0.001129150390625, -0.01544952392578125, -0.0019626617431640625, 0.0162353515625, 0.01300811767578125, -0.00821685791015625, 0.004474639892578125, 0.002025604248046875, 0.005157470703125, -0.021697998046875, -0.038360595703125, -0.0026302337646484375, -0.02117919921875, -0.007495880126953125, 0.0418701171875, -0.002445220947265625, -0.0229339599609375, -0.01142120361328125, -0.0011959075927734375, -0.0202484130859375, -0.0016384124755859375, -0.031463623046875, 0.01351165771484375, -0.0127105712890625, 0.0151824951171875, -0.001956939697265625, 0.0016317367553710938, 0.032958984375, -0.0111083984375, 0.005435943603515625, -0.015045166015625, 0.008758544921875, 0.01143646240234375, -0.0024051666259765625, -0.0360107421875, -0.01103973388671875, 0.02825927734375, -0.0006070137023925781, -0.004177093505859375, -0.0205535888671875, -0.004734039306640625, -0.0007905960083007812, -0.00370025634765625, 0.0101470947265625, -0.00846099853515625, 0.0032100677490234375, 0.01261138916015625, 0.0034465789794921875, 0.006679534912109375, 0.0036678314208984375, -0.005199432373046875, -0.006832122802734375, 0.03778076171875, -0.0142669677734375, 0.001842498779296875, 0.00771331787109375, -0.0121612548828125, 0.030364990234375, -0.021087646484375, -0.0054168701171875, 0.01067352294921875, 0.0148162841796875, 0.0213470458984375, -0.01287078857421875, -0.0127105712890625, -0.012481689453125, -0.0201416015625, -0.003482818603515625, 0.006359100341796875, -0.01468658447265625, 0.013946533203125, 0.0102386474609375, -0.005840301513671875, -0.017181396484375, 0.007549285888671875, 0.024169921875, -0.01197052001953125, 0.00946044921875, -0.004840850830078125, -0.00015485286712646484, -0.0256500244140625, -0.0089569091796875, -0.01189422607421875, -0.01502227783203125, -0.00054931640625, 0.00566864013671875, -0.01259613037109375, -0.00684356689453125, 0.016326904296875, 0.00255584716796875, -0.0271148681640625, 0.026275634765625, -0.007457733154296875, 0.0026149749755859375, -0.0185546875, 0.00949859619140625, -0.003772735595703125, -0.0787353515625, -0.00867462158203125, 0.01319122314453125, -0.01568603515625, 0.006511688232421875, -0.013763427734375, -0.0032825469970703125, 0.01377105712890625, 0.00521087646484375, 0.01151275634765625, -0.0177001953125, -0.0004127025604248047, -0.0200347900390625, 0.006198883056640625, -0.0018367767333984375, 0.003673553466796875, 0.017608642578125, -0.026580810546875, 0.01497650146484375, -0.0274200439453125, 0.00795745849609375, -0.01308441162109375, 0.03582763671875, -0.006389617919921875, -0.00751495361328125, -0.003398895263671875, 0.005870819091796875, -0.00696563720703125, 0.026458740234375, -0.003978729248046875, 0.0186309814453125, -0.01044464111328125, -0.005062103271484375, 0.006458282470703125, 0.01367950439453125, 0.012359619140625, -0.002101898193359375, -0.0078277587890625, -0.0095367431640625, 0.00040221214294433594, -0.01654052734375, -0.01213836669921875, -0.0049285888671875, -0.0013713836669921875, 0.0020885467529296875, -0.01018524169921875, 0.01007080078125, -0.02264404296875, -0.01187896728515625, -0.006473541259765625, 0.01027679443359375, -0.0005078315734863281, -0.0167999267578125, -0.004711151123046875, 0.0095977783203125, -0.01221466064453125, -0.013092041015625, 0.0181427001953125, 0.00789642333984375, -3.075599670410156e-05, 0.02471923828125, 0.004062652587890625, 0.0154876708984375, -0.0143890380859375, -0.04071044921875, -0.006420135498046875, 0.007678985595703125, 0.0017232894897460938, -0.017364501953125, 0.001461029052734375, 0.004352569580078125, -0.027435302734375, -0.020050048828125, 0.0104522705078125, -0.01910400390625, -0.0027713775634765625, 0.031890869140625, 0.00681304931640625, 0.0304718017578125, 0.0077972412109375, -0.01442718505859375, -0.0002949237823486328, 0.0022373199462890625, -0.00445556640625, -0.01165771484375, 0.007904052734375, 0.0194854736328125, 0.0253448486328125, -0.008026123046875, -0.002872467041015625, 0.0014963150024414062, -0.021636962890625, 0.007476806640625, -0.0134124755859375, -0.0081939697265625, 0.012359619140625, 0.0033016204833984375, -0.007160186767578125, 0.0141754150390625, 0.0014925003051757812, 0.0003974437713623047, -0.005523681640625, -0.0023288726806640625, 0.0013761520385742188, -0.008880615234375, 0.01885986328125, 0.007320404052734375, -0.0016908645629882812, -0.004207611083984375, 0.0018892288208007812, -0.0003345012664794922, 0.006305694580078125, 0.010009765625, 0.0107574462890625, -0.003963470458984375, 0.0229949951171875, -0.006855010986328125, 0.006931304931640625, 0.0298309326171875, -0.04571533203125, -0.0115814208984375, 0.0034046173095703125, -0.006511688232421875, 0.006801605224609375, 0.0374755859375, 0.00948333740234375, 0.00910186767578125, 0.0266571044921875, -0.009124755859375, -0.002685546875, 0.01751708984375, 0.0031986236572265625, 0.00904083251953125, 0.0170135498046875, 0.0187835693359375, 0.0014171600341796875, 0.004428863525390625, 0.005313873291015625, -0.039642333984375, 0.026702880859375, -0.01313018798828125, -0.028594970703125, 0.0017480850219726562, -0.01715087890625, 0.0020542144775390625, -0.00396728515625, -0.01214599609375, -0.022125244140625, 0.01299285888671875, 0.0228271484375, 0.0007510185241699219, -0.0165863037109375, 0.01372528076171875, 0.00925445556640625, 0.00493621826171875, -0.00714874267578125, 0.004665374755859375, 0.027801513671875, -0.0012416839599609375, -0.0247650146484375, 0.01041412353515625, -0.0010843276977539062, 0.017852783203125, -0.0254669189453125, -0.03216552734375, -0.00244903564453125, 0.010406494140625, -0.0127105712890625, -0.0034236907958984375, 0.00612640380859375, -0.0201416015625, 0.0161285400390625, 0.00893402099609375, -0.00925445556640625, -0.005229949951171875, 0.00797271728515625, 0.01971435546875, -0.0275726318359375, -0.032806396484375, -0.00740814208984375, -0.029205322265625, 0.00270843505859375, -0.0192413330078125, 0.0206298828125, -0.01087188720703125, -0.010498046875, -0.00109100341796875, 0.0237884521484375, -0.037322998046875, -0.0014181137084960938, -0.00460052490234375, 0.006862640380859375, -0.010498046875, 0.01038360595703125, -0.0018339157104492188, 0.00904083251953125, -0.01479339599609375, 0.0036029815673828125, -0.0153961181640625, 0.015838623046875, 0.0179901123046875, 0.021484375, -0.0124664306640625, -0.0011444091796875, 0.01084136962890625, 0.0261688232421875, -0.00615692138671875, -0.0196533203125, -0.01099395751953125, 0.005462646484375, 0.00951385498046875, 0.0255584716796875, 0.0004572868347167969, -0.00058746337890625, 0.006038665771484375, -0.0176239013671875, 0.01355743408203125, -0.0218658447265625, -0.0030803680419921875, -0.005199432373046875, 0.0190887451171875, -0.0343017578125, 0.00673675537109375, 0.0265960693359375, 0.0091094970703125, -0.00771331787109375, -0.0047149658203125, -0.0299072265625, -0.002063751220703125, -0.01271820068359375, -0.01067352294921875, -0.01922607421875, -0.018157958984375, 0.0237274169921875, -0.0181121826171875, -0.00617218017578125, -0.0233154296875, -0.00646209716796875, 0.003414154052734375, -0.0042724609375, -0.0005903244018554688, -0.012176513671875, 0.0023708343505859375, -0.006343841552734375, -0.0035762786865234375, -0.01001739501953125, -0.0115966796875, 0.0010175704956054688, -0.0150299072265625, 0.0043182373046875, -0.001850128173828125, 0.01134490966796875, 0.0223541259765625, 0.01197052001953125, 0.004390716552734375, -0.0013513565063476562, 0.00031280517578125, 0.001781463623046875, 0.01483154296875, -0.01593017578125, -0.0202789306640625, 0.01483154296875, 0.007259368896484375, -0.0196380615234375, 0.0183563232421875, 0.003383636474609375, 0.003765106201171875, 0.0120086669921875, -0.007396697998046875, -0.006374359130859375, 0.0157928466796875, 0.036651611328125, 0.00730133056640625, 0.00920867919921875, 0.0178375244140625, -0.01153564453125, -0.023651123046875, 0.0186920166015625, 0.00991058349609375, -0.00017261505126953125, -0.00946807861328125, 0.0197906494140625, -0.021636962890625, -0.01849365234375, 0.001468658447265625, 0.008758544921875, -0.01044464111328125, 0.020782470703125, 0.003849029541015625, -0.0167236328125, 0.00482177734375, 0.0059051513671875, 0.016815185546875, 0.00479888916015625, -0.007434844970703125, 0.0244140625, -0.00470733642578125, 0.00848388671875, 0.011566162109375, 0.000324249267578125, 0.018829345703125, 0.010711669921875, -0.018280029296875, 0.0084381103515625, -0.005420684814453125, 0.0020198822021484375, 0.002185821533203125, -0.0185546875, -0.01593017578125, -0.01024627685546875, 0.006259918212890625, 0.01297760009765625, -0.0088043212890625, -0.01372528076171875, -0.0007448196411132812, 0.0374755859375, -0.00278472900390625, -0.0204315185546875, -0.00516510009765625, 0.00087738037109375, 0.005096435546875, 0.01363372802734375, 0.0148468017578125, 0.0044097900390625, -0.00551605224609375, 0.010772705078125, -0.0019073486328125, -0.0167999267578125, -0.004665374755859375, -0.02001953125, -0.0157623291015625, -0.0005598068237304688, 0.020233154296875, 0.020843505859375, -0.0207977294921875, -0.0178985595703125, -0.02252197265625, 0.004119873046875, -0.0080108642578125, 0.007724761962890625, 0.01064300537109375, 0.0165863037109375, 0.00255584716796875, -0.0150604248046875, -0.031463623046875, -0.01806640625, 0.005619049072265625, -3.0994415283203125e-05, -0.003627777099609375, 0.0032196044921875, 0.007457733154296875, -0.0007305145263671875, 0.0014696121215820312, 0.02301025390625, -0.00418853759765625, -0.01079559326171875, 0.00988006591796875, 0.0292816162109375, 0.004985809326171875, 0.002796173095703125, 8.20159912109375e-05, -0.01194000244140625, 0.00106048583984375, -0.01412200927734375, 0.002040863037109375, -0.004062652587890625, -0.0037689208984375, -0.0016393661499023438, 0.01029205322265625, -0.0012416839599609375, -0.0140380859375, -0.01200103759765625, -0.01318359375, -0.0160675048828125, -0.01418304443359375, 0.01372528076171875, -0.033905029296875, -0.00524139404296875, -0.00281524658203125, -0.005283355712890625, 0.003910064697265625, -0.013916015625, 0.003261566162109375, -0.002445220947265625, -0.01474761962890625, 0.02044677734375, 0.00138092041015625, 0.0262298583984375, 0.00450897216796875, -0.0015382766723632812, 0.003070831298828125, -0.0167083740234375, 0.011993408203125, -0.0098114013671875, -0.003017425537109375, 0.0021152496337890625, 0.0293426513671875, -0.00225830078125, -0.0615234375, -0.0200042724609375, 0.00614166259765625, 0.0252685546875, 0.003021240234375, -0.00785064697265625, -0.0125579833984375, 0.0156402587890625, -0.001811981201171875, 0.0042877197265625, 0.0180816650390625, 0.0020351409912109375, -0.03057861328125, -0.000812530517578125, -0.03997802734375, 0.00013256072998046875, -0.0215911865234375, 0.032135009765625, -0.03570556640625, 0.002399444580078125, -0.01479339599609375, -0.017791748046875, -0.00771331787109375, 0.005222320556640625, 0.0209808349609375, -0.005626678466796875, -0.003452301025390625, 0.0064697265625, 0.00868988037109375, 0.003307342529296875, -0.004184722900390625, -0.0159149169921875, 0.01226806640625, 0.005718231201171875, -0.01291656494140625, -0.0121612548828125, -0.01861572265625, 0.007442474365234375, -0.01395416259765625, 0.0026950836181640625, -0.028045654296875, 0.0025119781494140625, -0.02227783203125, -0.0109710693359375, -0.0124359130859375, -0.0223541259765625, -0.0013971328735351562, -0.00159454345703125, 0.00447845458984375, -0.01080322265625, 0.01262664794921875, 0.005023956298828125, -0.02117919921875, 0.003879547119140625, -0.004558563232421875, -0.0112457275390625, -0.0081634521484375, 0.0071258544921875, -0.012603759765625, 0.0030422210693359375, -0.01004791259765625, 0.035400390625, 0.0173797607421875, 0.007965087890625, -0.00536346435546875, -0.0013332366943359375, -0.00470733642578125, -0.0009851455688476562, -0.0008597373962402344, 0.01421356201171875, -0.00199127197265625, -0.0237884521484375, 0.0054779052734375, -0.02728271484375, 0.00870513916015625, -0.0080108642578125, 0.0028972625732421875, 0.004047393798828125, -0.01012420654296875, 0.0157928466796875, 0.0177764892578125, -0.01605224609375, -0.0241851806640625, -0.0143890380859375, 0.01580810546875, 0.001415252685546875, -0.013824462890625, -0.008544921875, -0.0013761520385742188, -0.0202789306640625, -0.018585205078125, -0.003620147705078125, 0.0263214111328125, 0.00754547119140625, -0.01018524169921875, -0.002468109130859375, -0.02435302734375, -0.016845703125, -0.00611114501953125, -0.0174407958984375, -0.0254058837890625, 0.00484466552734375, 0.0162506103515625, 0.00246429443359375, 0.0136566162109375, 0.03826904296875, -0.005336761474609375, -0.0196380615234375, -0.005615234375, -0.0113525390625, 0.00719451904296875, 0.01456451416015625, -0.032135009765625, -0.02117919921875, -0.020172119140625, 0.007450103759765625, -0.010009765625, -0.0196380615234375, 0.009765625, 0.01401519775390625, 0.03277587890625, -0.0019025802612304688, -0.003536224365234375, -0.00963592529296875, -0.01824951171875, -0.016937255859375, -0.00145721435546875, -0.012939453125, -0.01433563232421875, 0.006549835205078125, -0.0012464523315429688, -0.01268768310546875, -0.007503509521484375, -0.007114410400390625, -0.016357421875, 0.0030670166015625, -0.022003173828125, -0.0166778564453125, 0.0301513671875, -0.005191802978515625, 0.01021575927734375, 0.020050048828125, 0.0013151168823242188, -0.024017333984375, -0.0247344970703125, 0.03167724609375, 0.01654052734375, -0.0169677734375, 0.0171966552734375, 0.0193328857421875, -0.01678466796875, -0.0028972625732421875, 0.004119873046875, 0.002399444580078125, 0.0101165771484375, -0.0107879638671875, -0.006778717041015625, 0.013427734375, 0.004230499267578125, -0.0290679931640625, -0.013824462890625, 0.00787353515625, -0.006183624267578125, -0.0251922607421875, -0.0097808837890625, 0.009033203125, -0.002269744873046875, 0.017822265625, 0.0157928466796875, 0.01419830322265625, -0.0136871337890625, 0.019439697265625, 0.02374267578125, 0.00797271728515625, 0.02349853515625, -0.005947113037109375, 0.0014142990112304688, 0.024444580078125, 0.006168365478515625, -0.01325225830078125, -0.0047149658203125, 0.001407623291015625, 0.0225982666015625, -0.0210723876953125, -0.01495361328125, 0.0212860107421875, -0.0090179443359375, 0.0043792724609375, 0.00971221923828125, -0.037109375, 0.0009236335754394531, -0.0084686279296875, 0.00940704345703125, 0.002742767333984375, -0.00275421142578125, 0.0218658447265625, -0.00885772705078125, -0.006557464599609375, -0.0095367431640625, 0.00885009765625, -0.0300140380859375, -0.016693115234375, -0.006992340087890625, 0.01611328125, 0.01947021484375, -0.0071258544921875, -0.00891876220703125, 0.007343292236328125, -0.01012420654296875, 0.00708770751953125, 0.0157012939453125, -0.0052337646484375, -0.0130462646484375, -0.053619384765625, -0.0022068023681640625, 0.040191650390625, 0.046539306640625, -0.0570068359375, -0.0122222900390625, -0.00960540771484375, -0.016815185546875, 0.0080413818359375, 0.00963592529296875, -0.0238189697265625, 0.02947998046875, 0.005626678466796875, -0.01259613037109375, -0.0167999267578125, -0.00653076171875, 0.01488494873046875, 0.016448974609375, 0.00608062744140625, -0.01355743408203125, 0.0236663818359375, 0.01395416259765625, -0.02447509765625, -0.01277923583984375, -0.007793426513671875, 0.0220184326171875, -0.0008420944213867188, -0.013580322265625, 0.014129638671875, -0.000286102294921875, 0.0073699951171875, 0.0175018310546875, -0.01174163818359375, 0.0007905960083007812, 0.0157928466796875, -0.015533447265625, 0.0023899078369140625, -0.029388427734375, 0.0139007568359375, 0.0265960693359375, 0.005344390869140625, -0.0171051025390625, -0.01107025146484375, -0.005985260009765625, -0.0021762847900390625, -0.0148162841796875, -0.0034046173095703125, -0.006320953369140625, -0.016571044921875, 0.0439453125, -0.0068206787109375, -0.022705078125, -0.005626678466796875, 0.037109375, 0.0027675628662109375, -0.0004525184631347656, 0.027008056640625, -0.00689697265625, 0.007740020751953125, -0.00095367431640625, -0.0222930908203125, -0.0032520294189453125, -0.017486572265625, 0.0131988525390625, 0.006351470947265625, 0.02032470703125, 0.0009303092956542969, 0.004062652587890625, 0.0182952880859375, -0.019500732421875, -0.004520416259765625, 0.011962890625, 0.003032684326171875, 0.01141357421875, 0.0012807846069335938, 0.0038089752197265625, -0.0089263916015625, 0.01788330078125, 0.031219482421875, -0.008209228515625, 0.0199737548828125, 0.01009368896484375, 0.010955810546875, -0.03271484375, 0.01183319091796875, -0.0153961181640625, 0.006214141845703125, 0.0022487640380859375, 0.02032470703125, -0.04827880859375, -0.0245819091796875, 0.00890350341796875, 0.0182647705078125, -0.00785064697265625, -0.0012063980102539062, -0.0017948150634765625, -0.0101165771484375, 0.0156707763671875, 0.00998687744140625, 0.02825927734375, -0.00870513916015625, -0.013824462890625, 0.0095977783203125, 0.01111602783203125, -0.01641845703125, -0.0139312744140625, -0.023681640625, 0.0159149169921875, 0.0030670166015625, -0.0192108154296875, -0.00623321533203125, 0.00200653076171875, -0.025604248046875, -0.00860595703125, -0.0222625732421875, 0.030059814453125, -0.008026123046875, 0.006069183349609375, -0.00724029541015625, -0.040618896484375, 0.01153564453125, -0.0041351318359375, 0.006099700927734375, -0.009918212890625, -0.03363037109375, 0.004230499267578125, -0.00560760498046875, 0.028106689453125, -0.01183319091796875, 0.0136566162109375, 0.00872039794921875, -0.028778076171875, -0.01548004150390625, -0.0035266876220703125, -0.01329803466796875, 0.010955810546875, 0.01300811767578125, 0.013824462890625, 0.034637451171875, -0.004970550537109375, -0.0283203125, -0.00748443603515625, -0.00836944580078125, -0.000164031982421875, 0.018157958984375, 0.00785064697265625, -0.002986907958984375, -0.01165008544921875, -0.0236663818359375, -0.030181884765625, -0.0139007568359375, 0.0186309814453125, -0.01300048828125, -0.01430511474609375, 0.0138397216796875, 0.0200958251953125, 0.00537109375, 0.0165557861328125, -0.00580596923828125, -0.0011920928955078125, -0.019561767578125, 0.00548553466796875, -0.006862640380859375, 0.01334381103515625, 0.0240631103515625, 0.002841949462890625, 0.019439697265625, 0.01172637939453125, -0.00563812255859375, -0.003704071044921875, 0.0211334228515625, 0.0010423660278320312, -0.0014019012451171875, 0.0185089111328125, -0.0174102783203125, 0.0212249755859375, 0.013671875, 0.040802001953125, 0.0187225341796875, 0.01342010498046875, -0.006072998046875, -0.01507568359375, -0.0130157470703125, 0.0224761962890625, 0.0283966064453125, 0.0030956268310546875, -0.0026302337646484375, -0.0160369873046875, 0.01763916015625, 0.01067352294921875, -0.01079559326171875, -0.006805419921875, -0.011474609375, 0.01033782958984375, -0.0043792724609375, 0.00881195068359375, 0.004093170166015625, 0.0217437744140625, 0.01274871826171875, 0.010162353515625, -0.002590179443359375, 0.00882720947265625, 0.0023822784423828125, 0.00025534629821777344, 0.0241546630859375, 0.0031833648681640625, -0.0086517333984375, 0.0103912353515625, -0.0116424560546875, -0.0025119781494140625, 0.0002378225326538086, 0.0187530517578125, 0.00399017333984375, 0.0146026611328125, -0.005481719970703125, 0.02423095703125, 0.00199127197265625, -0.0033626556396484375, 0.006488800048828125, -8.70823860168457e-05, -0.01027679443359375, -0.0099945068359375, 0.00930023193359375, -0.024505615234375, -0.0105438232421875, 0.0029144287109375, 0.007778167724609375, 0.02020263671875, -0.014129638671875, 0.01010894775390625, 0.01548004150390625, -0.0030364990234375, 0.00910186767578125, -0.004726409912109375, 0.013946533203125, -0.024658203125, 0.00028967857360839844, 0.0077056884765625, -0.013214111328125, 0.002410888671875, -0.0011577606201171875, -0.01049041748046875, 0.0240631103515625, -0.01186370849609375, 0.015716552734375, 0.0195770263671875, 0.01253509521484375, -0.01265716552734375, -0.007656097412109375, -0.00684356689453125, -0.0156402587890625, -0.0181121826171875, 0.027618408203125, -0.008941650390625, 0.006801605224609375, 0.0217742919921875, -0.0021953582763671875, -0.01311492919921875, -0.014404296875, -0.0173492431640625, -0.01047515869140625, -0.0028591156005859375, -0.0011529922485351562, 0.005901336669921875, 0.01221466064453125, 0.029205322265625, 0.018280029296875, 0.006946563720703125, -0.0010232925415039062, -0.0181884765625, -0.006298065185546875, 0.00356292724609375, -0.01021575927734375, -0.024444580078125, -0.0012912750244140625, 0.004138946533203125, -0.0188446044921875, 0.01477813720703125, -0.006168365478515625, 0.018218994140625, 0.025665283203125, -0.0017118453979492188, -0.0005078315734863281, 0.003025054931640625, 0.00907135009765625, -0.02337646484375, 0.020050048828125, -0.018707275390625, 0.0140228271484375, -0.007061004638671875, -0.0016546249389648438, -0.0069580078125, 0.016143798828125, -0.01947021484375, 0.0014028549194335938, -0.0025691986083984375, 0.0031299591064453125, -0.0025157928466796875, -0.017913818359375, -0.0286102294921875, -0.0159912109375, -0.01654052734375, 0.0258941650390625, 0.039306640625, -0.00934600830078125, 0.0095977783203125, -0.0048828125, 0.00896453857421875, 0.031768798828125, -0.006229400634765625, -0.01256561279296875, 0.01303863525390625, 0.01123809814453125, -0.00164031982421875, 0.005023956298828125, 0.04718017578125, 0.00919342041015625, -0.01433563232421875, 0.00408935546875, -0.023468017578125, 0.011199951171875, 0.017486572265625, 0.0020046234130859375, -0.00910186767578125, -0.0157318115234375, 0.03961181640625, -0.017852783203125, 0.004302978515625, 0.0156097412109375, -0.003879547119140625, 0.028533935546875, -0.009765625, -0.0004799365997314453, -0.005496978759765625, 0.023162841796875, -0.0304412841796875, 0.0030364990234375, -0.0069122314453125, -0.014129638671875, 0.02178955078125, -0.01116943359375, -0.021453857421875, -0.0184783935546875, -0.00102996826171875, -0.0178375244140625, -0.018402099609375, 0.00400543212890625, -0.00615692138671875, 0.0088043212890625, 0.021697998046875, 0.00731658935546875, -0.00460052490234375, -0.0207977294921875, 0.0254364013671875, -0.007293701171875, 0.00634765625, 0.0108642578125, -0.0248565673828125, -0.00527191162109375, -0.0189056396484375, 0.002597808837890625, 0.0027484893798828125, -0.007442474365234375, 0.001895904541015625, 0.0108184814453125, -0.00408935546875, -0.0158843994140625, -0.018768310546875, 0.003345489501953125, 0.01013946533203125, -0.032379150390625, 0.01001739501953125, -0.0265350341796875, -0.01535797119140625, -0.013763427734375, -0.009796142578125, -0.01000213623046875, -0.018951416015625, -0.0006122589111328125, 0.005306243896484375, 0.002338409423828125, 0.010009765625, 0.02392578125, -0.01348876953125, 0.0024509429931640625, 0.0025615692138671875, 0.0089263916015625, 0.005756378173828125, -0.0264434814453125, 0.0247344970703125, -0.0261688232421875, 0.021728515625, -0.0177459716796875, 0.0002340078353881836, 0.0031490325927734375, -0.05560302734375, 0.018768310546875, 0.0222930908203125, 0.04669189453125, -0.01453399658203125, -0.025604248046875, -0.006801605224609375, -0.005645751953125, 0.0154876708984375, -0.028961181640625, 0.00872039794921875, -0.0076904296875, 0.0235137939453125, -0.01479339599609375, 0.00881195068359375, -0.013458251953125, -0.0101776123046875, -0.016693115234375, -0.0023288726806640625, 0.006153106689453125, 0.01145172119140625, 0.0240631103515625, -0.01070404052734375, -0.0164031982421875, -0.02783203125, -0.002971649169921875, 0.0049896240234375, 0.010162353515625, -0.005504608154296875, -0.0205841064453125, 0.0291290283203125, 0.0290985107421875, 0.0204925537109375, -0.033416748046875, 0.023773193359375, 0.031829833984375, -0.01215362548828125, -0.007537841796875, -0.0232696533203125, -0.0014495849609375, -0.00850677490234375, -0.0173797607421875, -0.0239105224609375, -0.028289794921875, -0.0011644363403320312, 0.013153076171875, -0.0023593902587890625, -3.5643577575683594e-05, 0.03387451171875, -0.0059356689453125, 0.01267242431640625, -0.0286712646484375, -0.01488494873046875, -0.013824462890625, 0.0185394287109375, -0.003986358642578125, -0.0045623779296875, -0.025390625, -0.0211181640625, 0.014129638671875, -0.002140045166015625, -0.0020999908447265625, -0.005939483642578125, -0.0085601806640625, 0.003879547119140625, -0.011810302734375, -0.006443023681640625, 0.0226898193359375, 0.00246429443359375, 0.00634765625, 0.01218414306640625, -0.002048492431640625, -0.0187530517578125, 0.026092529296875, 0.0257720947265625, -0.0175323486328125, 0.05242919921875, -0.0300140380859375, -0.00215911865234375, 0.0255279541015625, -0.0020999908447265625, -0.032745361328125, -0.003795623779296875, -0.0032100677490234375, 0.005680084228515625, -0.01641845703125, -0.006195068359375, -0.01009368896484375, -0.006839752197265625, -0.01947021484375, -0.02197265625, 0.0115814208984375, -0.00884246826171875, 0.007843017578125, 0.0157470703125, -0.02545166015625, -0.052093505859375, -0.0298004150390625, 0.0143890380859375, -0.0173492431640625, 0.0159454345703125, 0.01287841796875, 0.031280517578125, 0.01163482666015625, 0.00225830078125, -0.008270263671875, -0.00238800048828125, 0.005016326904296875, 0.0103302001953125, -0.02001953125, -0.0256500244140625, -0.03704833984375, -0.0140533447265625, 0.01220703125, 0.003917694091796875, 0.0271759033203125, 0.007740020751953125, 0.01537322998046875, -0.026947021484375, 0.0216827392578125, -0.0025539398193359375, -0.01267242431640625, -0.01299285888671875, 0.007717132568359375, 0.003360748291015625, -0.009246826171875, -0.022552490234375, -0.0244140625, 0.002887725830078125, -0.018280029296875, 0.028350830078125, 0.00145721435546875, 0.012420654296875, -0.00539398193359375, -0.0243682861328125, 0.0189208984375, -0.00012922286987304688, 0.00873565673828125, -0.00360107421875, 0.033050537109375, -0.019989013671875, 0.0037441253662109375, -0.01165771484375, -4.7087669372558594e-05, -0.0084991455078125, -0.0218048095703125, 0.010955810546875, 0.023101806640625, -0.0008344650268554688, -0.005584716796875, 0.01116180419921875, -0.0032634735107421875, -0.010772705078125, 0.0099639892578125, 0.00782012939453125, -0.027069091796875, 0.0150604248046875, -0.00876617431640625, -0.0098876953125, -0.00876617431640625, -0.01300048828125, 0.0173187255859375, 0.0242767333984375, -0.016387939453125, 0.0213470458984375, -0.00934600830078125, 0.0017633438110351562, 0.0097808837890625, 5.060434341430664e-05, 0.024078369140625, -0.00959014892578125, 0.007381439208984375, 0.030609130859375, -0.00323486328125, -0.0027332305908203125, 0.0099945068359375, -0.00942230224609375, -0.0023670196533203125, 0.0032958984375, -0.007793426513671875, 0.0185699462890625, -0.0197296142578125, -0.0163726806640625, 0.0214691162109375, -0.0075836181640625, 0.0020732879638671875, -0.0001062154769897461, 0.00875091552734375, -0.003353118896484375, 0.01081085205078125, 0.005222320556640625, 0.007106781005859375, 0.002979278564453125, -0.001926422119140625, -0.011688232421875, -0.0005273818969726562, 0.006938934326171875, -0.00667572021484375, 0.0157318115234375, 0.0174713134765625, -0.002899169921875, -0.0274658203125, -0.01021575927734375, 0.0243377685546875, 0.01502227783203125, 0.01092529296875, -0.05303955078125, -0.003162384033203125, 0.0230865478515625, 0.01094818115234375, -0.0073089599609375, 0.014404296875, -0.0102081298828125, -0.0007843971252441406, -0.02130126953125, -0.0007390975952148438, 0.016815185546875, -0.00725555419921875, -0.02655029296875, -0.03448486328125, 0.0062103271484375, 0.04119873046875, -0.026947021484375, 0.0139007568359375, -0.01219940185546875, -0.03692626953125, -0.0116119384765625, -0.0189056396484375, -0.00283050537109375, -0.0208282470703125, -0.026214599609375, 0.01214599609375, -0.004974365234375, 0.01123046875, -0.00513458251953125, -0.01451873779296875, 0.0019664764404296875, -0.00039315223693847656, -0.0235595703125, 0.0148468017578125, 0.003284454345703125, 0.0035037994384765625, 0.016510009765625, -0.007678985595703125, -0.0101470947265625, -0.007080078125, -0.0260162353515625, -0.009735107421875, 0.006938934326171875, -0.01061248779296875, -0.01396942138671875, -0.005558013916015625, 0.01495361328125, -0.0141448974609375, 0.0102081298828125, 0.0131378173828125, -0.028778076171875, -0.02447509765625, 0.0289154052734375, 0.007396697998046875, 0.0163726806640625, -0.0050811767578125, -0.0159912109375, -0.0023479461669921875, -0.007373809814453125, 0.026458740234375, -0.0182647705078125, -0.0291748046875, 0.007080078125, 0.00566864013671875, 0.0275421142578125, -0.0232391357421875, -0.0229339599609375, -0.0153045654296875, 0.01419830322265625, 0.00031304359436035156, -0.0102996826171875, 0.00675201416015625, 0.0052490234375, 0.0224761962890625, -0.003475189208984375, -0.0055999755859375, -0.007061004638671875, -0.007106781005859375, -0.0135040283203125, 0.005767822265625, -0.0128326416015625, -0.0162353515625, -0.00885772705078125, 0.0225830078125, 0.015960693359375, 0.0003192424774169922, 0.01171875, -0.0098724365234375, 0.027679443359375, 0.0026111602783203125, 0.018310546875, 0.0134735107421875, -0.0063629150390625, 0.00559234619140625, 0.0105133056640625, -0.00574493408203125, 0.003253936767578125, -0.0126800537109375, 0.03656005859375, 0.008270263671875, 0.0323486328125, 0.004032135009765625, -0.0207977294921875, 0.01277923583984375, 0.00638580322265625, 0.004638671875, 0.012542724609375, -0.00847625732421875, -0.005748748779296875, -0.0179443359375, -0.003902435302734375, -0.0240020751953125, -0.01229095458984375, -0.00641632080078125, 0.0028018951416015625, 0.005352020263671875, 0.00817108154296875, 0.0005316734313964844, 0.0131072998046875, 0.0068817138671875, -0.01543426513671875, -0.00479888916015625, 0.00370025634765625, 0.0167083740234375, -0.01824951171875, 0.0083465576171875, 0.0177459716796875, 0.022491455078125, -0.005435943603515625, 0.00388336181640625, 0.00786590576171875, -0.00415802001953125, -0.03179931640625, 0.001117706298828125, -0.009185791015625, 0.0143585205078125, -0.0179290771484375, -0.00225830078125, -0.02276611328125, 0.0046539306640625, 0.03460693359375, -0.0168914794921875, -0.0032176971435546875, 0.00812530517578125, -0.0092315673828125, 0.0308685302734375, 0.002201080322265625, 0.0035190582275390625, 0.0369873046875, 0.00814056396484375, 0.015777587890625, 0.019866943359375, -0.0019445419311523438, -0.0131072998046875, 0.00893402099609375, 0.0165557861328125, 0.00817108154296875, -0.00609588623046875, 0.006816864013671875, -0.004302978515625, -0.01029205322265625, -0.01015472412109375, -0.0070648193359375, -0.013763427734375, 0.0176849365234375, -0.0155029296875, -0.007354736328125, -0.0192718505859375, -0.038818359375, 0.0016088485717773438, 0.021942138671875, -0.005107879638671875, 0.0251922607421875, 0.00788116455078125, -0.0005030632019042969, -0.018524169921875, -0.00400543212890625, 0.0167388916015625, 0.0099334716796875, -0.001041412353515625, 0.01456451416015625, -0.0140380859375, -0.0257415771484375, -0.002780914306640625, 0.006603240966796875, -0.015625, 0.042236328125, -0.01348876953125, 0.00305938720703125, -0.004486083984375, 0.002323150634765625, 0.008575439453125, -0.0207672119140625, -0.0029087066650390625, 0.01384735107421875, 0.005931854248046875, -0.01629638671875, -0.0027179718017578125, -0.01238250732421875, -0.0168914794921875, -0.0180206298828125, 0.02130126953125, -0.01348876953125, 0.0006422996520996094, -0.0120849609375, -0.01044464111328125, -0.00353240966796875, 0.0078125, 0.0245208740234375, 0.0032634735107421875, -0.0004105567932128906, 0.01142120361328125, 0.001373291015625, 0.01377105712890625, -0.0010547637939453125, -0.027862548828125, 0.01084136962890625, 0.00495147705078125, -0.001392364501953125, -0.0015459060668945312, -0.0018100738525390625, 0.00041413307189941406, -0.00087738037109375, -0.01396942138671875, 0.00458526611328125, -0.0209503173828125, 0.03741455078125, 0.0021953582763671875, -0.0104827880859375, 0.012115478515625, 0.0088348388671875, 0.00966644287109375, 0.004505157470703125, -0.00418853759765625, 0.005130767822265625, -0.0200347900390625, -0.001659393310546875, 0.0147247314453125, 0.01044464111328125, -0.018280029296875, 0.012054443359375, 0.0023708343505859375, 0.027587890625, -0.02130126953125, -0.004589080810546875, 0.00908660888671875, -0.0018720626831054688, 0.0025539398193359375, 0.006122589111328125, 0.00215911865234375, 0.00042057037353515625, -0.007335662841796875, 0.00042819976806640625, -0.0113677978515625, -6.020069122314453e-06, 0.0146026611328125, -0.00887298583984375, -0.005496978759765625, -0.016998291015625, 0.00347900390625, 0.023712158203125, -0.0032901763916015625, -0.0169830322265625, -0.02337646484375, 0.01148223876953125, 0.006786346435546875, 0.01398468017578125, -0.03497314453125, 0.0194091796875, -0.015411376953125, 0.0049591064453125, 0.00013720989227294922, 0.0169219970703125, 0.001079559326171875, -0.0014514923095703125, 0.00013935565948486328, -0.00345611572265625, 0.0204010009765625, -0.0095367431640625, 0.01329803466796875, -0.0105438232421875, -0.00675201416015625, 0.0200958251953125, 0.007415771484375, 0.0024318695068359375, -0.0002605915069580078, 0.0035800933837890625, -0.0104217529296875, -0.005096435546875, 0.00806427001953125, 0.0177459716796875, -0.0034885406494140625, -0.0026264190673828125, 0.0096893310546875, -0.0240936279296875, -0.0257568359375, 0.0299072265625, -0.040374755859375, 0.02813720703125, 0.020782470703125, -0.00872802734375, -0.004184722900390625, 0.005916595458984375, -0.010894775390625, 0.012603759765625, -0.00482177734375, 0.007152557373046875, -0.0042572021484375, 0.007793426513671875, -0.0460205078125, -0.01454925537109375, 0.0054168701171875, -0.0014753341674804688, 0.004222869873046875, -0.01374053955078125, 0.0308685302734375, 0.0176849365234375, -0.0010328292846679688, 0.003734588623046875, 0.010467529296875, 0.024444580078125, 0.0011072158813476562, 0.00921630859375, 0.0016641616821289062, 0.004573822021484375, -0.0144805908203125, 0.01177215576171875, 0.001163482666015625, -0.019866943359375, 0.022674560546875, 0.0025691986083984375, 0.00968170166015625, -0.01361083984375, -0.00110626220703125, -9.47713851928711e-06, -0.00852203369140625, 0.004085540771484375, 0.0161590576171875, -0.001644134521484375, 0.0015306472778320312, 0.014923095703125, -0.017913818359375, 0.0069122314453125, 0.01788330078125, 0.0269775390625, -0.0264434814453125, -0.01267242431640625, -0.0144805908203125, -0.0206756591796875, -0.038055419921875, 0.0016736984252929688, 0.0003514289855957031, 0.0084991455078125, 0.0010881423950195312, -0.0011444091796875, -0.0011777877807617188, -0.0026397705078125, 0.002208709716796875, 0.00731658935546875, 0.0118255615234375, -0.0103607177734375, 0.00984954833984375, -0.0160980224609375, 0.06378173828125, 0.03662109375, -0.00894927978515625, -0.0067901611328125, 0.0178375244140625, -0.0291290283203125, -0.026947021484375, -0.004154205322265625, 0.002593994140625, -0.0164794921875, 0.0157012939453125, 0.041534423828125, -0.0178985595703125, 0.035675048828125, 0.016021728515625, 0.004150390625, -0.00868988037109375, -0.000362396240234375, -0.00478363037109375, 0.003963470458984375, 0.002803802490234375, 0.004772186279296875, -0.00849151611328125, 0.0108489990234375, 0.02874755859375, -0.015411376953125, -0.0212249755859375, -0.0034732818603515625, -0.0281829833984375, -0.0189208984375, -0.0192718505859375, 0.00321197509765625, 0.001964569091796875, 0.0032405853271484375, 0.0186920166015625, -0.0098114013671875, 0.006011962890625, 0.0103302001953125, 0.0174102783203125, 0.004245758056640625, 0.004528045654296875, 0.010345458984375, 0.01015472412109375, -0.0526123046875, 0.0037746429443359375, -0.00858306884765625, 0.0014238357543945312, -0.01313018798828125, 0.0208892822265625, 0.006439208984375, 0.0200042724609375, -0.0257720947265625, -0.003414154052734375, -0.004550933837890625, 0.01316070556640625, -0.023040771484375, -0.1240234375, -0.01873779296875, 0.01031494140625, -0.0098724365234375, -0.023040771484375, -0.006252288818359375, -0.0011873245239257812, -0.0196380615234375, -0.020904541015625, 0.00701904296875, 0.0218658447265625, 0.0206146240234375, -0.0251617431640625, 0.015960693359375, -0.01247406005859375, 0.0237274169921875, 0.0020122528076171875, -0.0011339187622070312, -0.01093292236328125, -5.841255187988281e-05, 0.00025534629821777344, 0.0460205078125, 0.01535797119140625, 0.0007038116455078125, -0.0008177757263183594, 0.0190582275390625, -6.318092346191406e-06, 0.00702667236328125, 0.04901123046875, -0.01119232177734375, -0.0193328857421875, 0.0038852691650390625, 0.01161956787109375, -0.00505828857421875, 0.016937255859375, 0.00160980224609375, 0.00936126708984375, 0.0026760101318359375, 0.01132965087890625, -0.024688720703125, 0.0013751983642578125, -0.01094818115234375, -0.0110931396484375, -0.0021457672119140625, -0.00014603137969970703, -0.0026397705078125, -0.02691650390625, 0.01384735107421875, 0.003437042236328125, 0.0126190185546875, -0.01332855224609375, -0.001972198486328125, -0.0028247833251953125, -0.0036640167236328125, 0.00955963134765625, -0.0176849365234375, -0.00960540771484375, -0.005001068115234375, 0.017059326171875, -0.006610870361328125, 0.019317626953125, 0.00951385498046875, -0.01058197021484375, 0.004764556884765625, -0.00896453857421875, -0.006755828857421875, 0.01824951171875, -0.00830841064453125, -0.01490020751953125, 0.0009641647338867188, 0.034820556640625, 0.00414276123046875, -0.006435394287109375, 0.004924774169921875, -0.01062774658203125, -0.004833221435546875, 0.0011463165283203125, 0.012481689453125, -0.01148223876953125, 0.00336456298828125, -0.01363372802734375, -0.00543975830078125, -0.0178375244140625, -0.058685302734375, 0.01361083984375, 0.01305389404296875, 0.00519561767578125, 0.01812744140625, 9.751319885253906e-05, 0.00917816162109375, 0.007537841796875, -0.00524139404296875, -0.0177154541015625, -0.00213623046875, -0.0109405517578125, 0.013702392578125, -0.023345947265625, -0.0027675628662109375, -0.0021724700927734375, 0.0255889892578125, 0.01287841796875, -0.021575927734375, -0.0207366943359375, -0.0206451416015625, 0.015533447265625, 0.007457733154296875, -0.004611968994140625, -0.01236724853515625, -0.0024700164794921875, -0.01389312744140625, -0.01093292236328125, 0.0016880035400390625, -0.036651611328125, 0.0178375244140625, -0.0006289482116699219, -0.00569915771484375, 0.0017099380493164062, -0.012542724609375, 0.0006098747253417969, -0.0050201416015625, -0.0157928466796875, -0.0174713134765625, -0.0279083251953125, 0.002803802490234375, 0.0164031982421875, -0.0074310302734375, 0.00757598876953125, -0.0302886962890625, -0.00017464160919189453, 0.01512908935546875, 0.02825927734375, 0.005466461181640625, 0.005451202392578125, 0.0266571044921875, 0.01214599609375, 0.008209228515625, -0.0111083984375, -0.021697998046875, -0.026824951171875, -0.0291290283203125, 0.006999969482421875, -0.0018053054809570312, 0.005710601806640625, -0.004863739013671875, -0.021453857421875, 0.0137481689453125, 0.0167694091796875, -0.0192718505859375, 0.006893157958984375, 0.016845703125, 0.01116943359375, 0.004688262939453125, 0.001129150390625, 0.0068359375, -0.002635955810546875, 0.05157470703125, -0.016082763671875, -0.004974365234375, -0.002307891845703125, -0.0021152496337890625, 0.0156707763671875, 0.00460052490234375, -0.0211181640625, -0.0001888275146484375, -0.01219940185546875, 0.00652313232421875, 0.0161895751953125, 0.00318145751953125, 0.0024929046630859375, -0.016815185546875, -0.005359649658203125, -0.00019609928131103516, 0.002841949462890625, 0.006832122802734375, 0.005779266357421875, 0.00011104345321655273, -0.0259552001953125, 0.013671875, -0.033355712890625, 0.006610870361328125, 0.0048980712890625, -0.0015020370483398438, 0.00788116455078125, 0.0073089599609375, -0.01389312744140625, -0.008026123046875, 0.01284027099609375, -0.0162811279296875, 0.003658294677734375, 0.017608642578125, -0.01007843017578125, 0.01922607421875, -0.00304412841796875, -0.00545501708984375, -0.01399993896484375, 0.0050201416015625, 0.004390716552734375, 0.00717926025390625, -0.003597259521484375, 0.0218963623046875, 0.0022411346435546875, -0.01084136962890625, -0.01678466796875, -0.003055572509765625, 0.024505615234375, 0.0095672607421875, -0.0290374755859375, 0.004100799560546875, -0.0300140380859375, 0.01213836669921875, -0.0008935928344726562, -0.00684356689453125, -0.015869140625, -0.01367950439453125, -0.0229949951171875, -0.0182647705078125, 0.0029239654541015625, -0.0012617111206054688, 0.006183624267578125, -0.006633758544921875, -0.0008330345153808594, 0.0138092041015625, -0.0177001953125, 0.01230621337890625, 0.029937744140625, -0.01557159423828125, -0.01898193359375, -0.0031566619873046875, -0.00592041015625, -0.01309967041015625, 0.0006074905395507812, -0.003265380859375, 0.01309967041015625, -0.006679534912109375, -0.003284454345703125, -0.00939178466796875, 0.004604339599609375, 0.011474609375, 0.005901336669921875, 0.0099945068359375, 0.0004353523254394531, -0.0055999755859375, 0.0126190185546875, 0.026580810546875, -0.003925323486328125, 0.00540924072265625, 0.0106353759765625, 0.0156402587890625, -0.00945281982421875, -0.01293182373046875, 0.004772186279296875, -0.0025882720947265625, -0.0201263427734375, 0.00926971435546875, -0.0010433197021484375, 0.00991058349609375, -0.01290130615234375, 0.0089263916015625, -0.01250457763671875, 0.0216522216796875, 0.0150299072265625, 0.028533935546875, -0.0016222000122070312, -0.00600433349609375, -0.007038116455078125, 0.00010353326797485352, -0.048675537109375, 0.0083770751953125, -0.021697998046875, -0.0200958251953125, -0.0077972412109375, 0.01282501220703125, -0.0179595947265625, -0.01971435546875, -0.0027008056640625, -0.026092529296875, -0.007328033447265625, -0.011993408203125, 0.0182342529296875, -0.01410675048828125, -0.019317626953125, 0.0012035369873046875, -0.0030956268310546875, -0.01361846923828125, -0.0037078857421875, -0.0013179779052734375, -0.0256805419921875, -0.0017118453979492188, 0.01953125, 0.01433563232421875, 0.0254364013671875, -0.01079559326171875, -0.0014886856079101562, -0.00025153160095214844, -0.01340484619140625, -0.000804901123046875, 0.00846099853515625, 0.00986480712890625, 0.00635528564453125, 0.045074462890625, 0.0287017822265625, -0.0239105224609375, 0.01255035400390625, -0.005542755126953125, -0.019622802734375, -0.02069091796875, -0.016998291015625, 0.0007634162902832031, -0.01203155517578125, -0.0138092041015625, 0.00959014892578125, 0.0240936279296875, -0.0191497802734375, -0.0134429931640625, -0.01261138916015625, 0.084716796875, 0.0225372314453125, -0.0193634033203125, 0.007415771484375, 0.022125244140625, -0.027099609375, -0.035675048828125, 0.01023101806640625, -0.006610870361328125, 0.006984710693359375, -0.0168304443359375, -0.0197906494140625, -0.019073486328125, -0.00408935546875, 0.0020313262939453125, 0.001178741455078125, 0.0234527587890625, 0.023895263671875, -0.01806640625, 0.0021152496337890625, 0.01241302490234375, -0.0204925537109375, 0.025604248046875, -0.0204315185546875, 0.0029239654541015625, 0.0026111602783203125, -0.04412841796875, -0.0180206298828125, 0.023284912109375, 0.018096923828125, -0.0039825439453125, -0.0013017654418945312, 0.005596160888671875, -0.01058197021484375, 0.008575439453125, 0.01454925537109375, 0.01085662841796875, -0.00852203369140625, -0.0095367431640625, -0.0187530517578125, -0.014801025390625, 0.01058197021484375, 0.01605224609375, -0.019256591796875, 0.005939483642578125, 0.0115509033203125, 0.0203399658203125, 0.0107269287109375, -0.00740814208984375, 0.0238037109375, 0.00992584228515625, -0.005878448486328125, 0.00792694091796875, 0.0171356201171875, -0.0212249755859375, 0.01222991943359375, -0.03656005859375, -0.0240631103515625, 0.0290985107421875, -0.01554107666015625, 0.002880096435546875, 0.0017528533935546875, -0.014801025390625, -0.001064300537109375, -0.01113128662109375, 0.0034732818603515625, 0.014129638671875, -0.0095977783203125, -0.0037517547607421875, 0.0160064697265625, -0.01165008544921875, -0.021240234375, -0.00952911376953125, 0.0193939208984375, -0.0157928466796875, 0.0243988037109375, -0.0234222412109375, -0.005985260009765625, -0.01222991943359375, 0.0143890380859375, -0.0073089599609375, -0.01441192626953125, 0.0166168212890625, -0.00563812255859375, 0.0138092041015625, -0.00804901123046875, -0.00440216064453125, 0.0059967041015625, -0.01605224609375, -0.0205078125, 0.0102081298828125, 0.015289306640625, -0.00852203369140625, -0.0001615285873413086, -0.0005216598510742188, 0.056854248046875, 0.00540924072265625, -0.03704833984375, 0.005374908447265625, -0.008392333984375, -0.0277862548828125, 0.0058441162109375, -0.012542724609375, -5.412101745605469e-05, 0.0015344619750976562, -0.0225830078125, -0.0052642822265625, -0.00907135009765625, -0.0166473388671875, -0.0059356689453125, 0.00417327880859375, 0.0142974853515625, -0.01080322265625, 0.0201263427734375, -0.0087890625, 0.0157928466796875, -0.01296234130859375, -0.0150909423828125, 0.023956298828125, -0.01064300537109375, -0.007232666015625, 0.01476287841796875, -0.007549285888671875, 0.01171112060546875, 0.005565643310546875, -0.0020732879638671875, 0.0088348388671875, 0.00574493408203125, 0.0151824951171875, 0.00014531612396240234, 0.024688720703125, 0.0286102294921875, 0.023895263671875, -0.0016279220581054688, -0.030181884765625, -0.03643798828125, 0.014617919921875, -0.0061798095703125, -0.004032135009765625, 0.0162353515625, 0.01316070556640625, 0.0161285400390625, 0.0024471282958984375, -0.01502227783203125, 0.00982666015625, -0.02117919921875, 0.005523681640625, -0.02880859375, 0.0011425018310546875, 0.003589630126953125, -0.0090179443359375, 0.020843505859375, 0.00351715087890625, -0.0030918121337890625, -0.00981903076171875, 0.0070648193359375, -0.01183319091796875, -0.0194244384765625, 0.01139068603515625, 0.028533935546875, -0.006397247314453125, 0.00049591064453125, -0.00946807861328125, -0.01519775390625, -0.01898193359375, -0.00550079345703125, -0.02362060546875, -0.00353240966796875, 0.01088714599609375, 0.01432037353515625, -0.023590087890625, 0.00891876220703125, -0.006389617919921875, 0.004817962646484375, 0.0019073486328125, 0.00821685791015625, -0.01113128662109375, -0.0008783340454101562, 0.0030117034912109375, -0.00780487060546875, -0.003948211669921875, -0.0019483566284179688, 0.023834228515625, -0.0155029296875, -0.00856781005859375, -0.0084075927734375, 0.018218994140625, 0.01276397705078125, 0.002559661865234375, -0.00537872314453125, 0.00650787353515625, 0.00576019287109375, 0.01038360595703125, -0.005645751953125, -0.00519561767578125, -0.0024662017822265625, -0.004009246826171875, 0.0239410400390625, 0.004512786865234375, 0.00272369384765625, 0.01013946533203125, 0.0186309814453125, 0.00183868408203125, 0.006412506103515625, 0.028778076171875, 0.005252838134765625, -0.01309967041015625, 0.0006690025329589844, 0.0012035369873046875, 0.00844573974609375, 0.0121002197265625, -0.00974273681640625, -0.004673004150390625, -2.759695053100586e-05, 0.0035305023193359375, -0.004749298095703125, 0.037872314453125, -0.003200531005859375, 0.007053375244140625, -0.006183624267578125, 0.0021533966064453125, -0.024261474609375, -0.0501708984375, 0.01119232177734375, -0.01235198974609375, 0.00244903564453125, -0.013214111328125, -0.005645751953125, -0.0175933837890625, 0.01477813720703125, -0.0010938644409179688, 0.0191192626953125, 0.00970458984375, 0.0202789306640625, -0.0094451904296875, -0.0262603759765625, -0.0190277099609375, 0.00594329833984375, 0.00852203369140625, 0.0236053466796875, 0.0009469985961914062, 0.02008056640625, -0.027435302734375, 0.0108184814453125, 0.0291290283203125, 0.004749298095703125, 0.0196685791015625, 0.0091552734375, 0.0225677490234375, 0.004756927490234375, -0.0057830810546875, -0.007328033447265625, -0.005680084228515625, -0.031036376953125, -0.013824462890625, 0.01441192626953125, 0.0121002197265625, -0.034271240234375, -0.013031005859375, -0.0141754150390625, -0.0011281967163085938, -0.00238037109375, -0.01335906982421875, 0.018798828125, 0.00923919677734375, 0.021087646484375, -0.006565093994140625, -0.02294921875, 0.016082763671875, 0.026641845703125, -0.00934600830078125, 0.0161285400390625, 0.0156707763671875, 0.00494384765625, 0.00885009765625, 0.0208892822265625, -0.01535797119140625, -0.001514434814453125, -0.0006270408630371094, -0.035919189453125, -0.0022182464599609375, 0.005794525146484375, -0.000980377197265625, 0.005596160888671875, -0.0169830322265625, -0.0240631103515625, 0.0112762451171875, -0.02850341796875, 0.0010356903076171875, -0.028350830078125, 0.011444091796875, -0.003627777099609375, 0.033233642578125, 0.018096923828125, -0.0015506744384765625, 0.0025043487548828125, 0.00982666015625, 0.001316070556640625, 0.0121612548828125, 0.0141754150390625, -0.020477294921875, 0.0123138427734375, -0.006656646728515625, -0.00815582275390625, -0.00806427001953125, -0.00013256072998046875, 0.0010118484497070312, 0.0009522438049316406, -0.0164337158203125, 0.01398468017578125, 0.00969696044921875, -0.0011310577392578125, 0.0047607421875, 0.01558685302734375, -0.00036144256591796875, -0.0113677978515625, -0.005977630615234375, -0.017791748046875, -0.01511383056640625, 0.0047607421875, 0.0105438232421875, 0.009857177734375, -0.007564544677734375, -0.041473388671875, -0.009490966796875, -0.01514434814453125, 0.0008797645568847656, -0.018585205078125, -0.01885986328125, -0.010223388671875, -0.004886627197265625, -0.03326416015625, 0.003574371337890625, -0.0131683349609375, -0.0081787109375, 0.00487518310546875, 0.0001087188720703125, 0.026214599609375, 0.01099395751953125, -0.0191192626953125, -0.0021457672119140625, -0.0037822723388671875, 0.0069732666015625, -0.004970550537109375, -0.00701904296875, 0.01467132568359375, 0.0164794921875, 0.0271759033203125, 0.01502227783203125, -0.0088653564453125, 0.003948211669921875, -0.031005859375, 0.00943756103515625, 0.0187530517578125, 0.020416259765625, -0.01061248779296875, 0.03253173828125, 0.0240325927734375, 0.00978851318359375, 0.0265655517578125, -0.002300262451171875, -0.0115203857421875, -0.005580902099609375, 0.0142974853515625, -0.027099609375, 0.00757598876953125, 0.00626373291015625, -0.00182342529296875, -0.005245208740234375, 0.0087890625, -0.032135009765625, -0.0094451904296875, 0.015625, 0.0207366943359375, 0.027008056640625, -0.0301513671875, 0.032684326171875, 0.00640106201171875, 0.0017833709716796875, 0.033843994140625, 0.0174102783203125, -0.027801513671875, -0.0239410400390625, 0.0099334716796875, 0.008514404296875, -0.0026111602783203125, 0.0007376670837402344, -0.0244903564453125, 0.007904052734375, -0.0022869110107421875, 0.003101348876953125, -0.0169677734375, 0.0009708404541015625, -0.0011854171752929688, -0.00812530517578125, 0.0208282470703125, -0.01457977294921875, 0.01418304443359375, -0.01535797119140625, -0.010498046875, -0.004360198974609375, 0.0002315044403076172, -0.0160675048828125, -0.0155029296875, 0.029388427734375, 0.00675201416015625, -0.00870513916015625, 0.00717926025390625, -0.0268707275390625, 0.009918212890625, -0.0215911865234375, -0.002941131591796875, 0.0087890625, -0.0165863037109375, -0.002960205078125, 0.0202178955078125, 0.019683837890625, 0.0088043212890625, 0.004940032958984375, -0.01806640625, 0.0024814605712890625, -0.01203155517578125, -0.028717041015625, 0.00472259521484375, -0.004306793212890625, 0.01053619384765625, -0.01210784912109375, -0.0157623291015625, 0.006832122802734375, -0.0228118896484375, 0.016845703125, -0.0026645660400390625, 0.0184326171875, -0.010009765625, -0.00205230712890625, -0.01226806640625, -0.013427734375, 0.01611328125, 0.005645751953125, -0.01129913330078125, 0.0200958251953125, 0.0017633438110351562, 0.032135009765625, -0.00501251220703125, 0.016845703125, -0.0029392242431640625, -0.0029926300048828125, 0.006244659423828125, 0.00240325927734375, -0.0220184326171875, 0.0023746490478515625, -0.014251708984375, 0.0374755859375, -0.0142974853515625, -0.022674560546875, 0.0032329559326171875, -0.0209503173828125, -0.0026073455810546875, -0.0022678375244140625, -0.0238494873046875, 0.003009796142578125, 0.0226898193359375, -0.0019855499267578125, 0.007320404052734375, -0.0018911361694335938, 0.005832672119140625, -0.01123809814453125, -0.01342010498046875, 0.0001747608184814453, -0.0064544677734375, 0.00936126708984375, 0.0221099853515625, -0.01021575927734375, -0.042877197265625, -0.00928497314453125, 0.0007672309875488281, 0.01334381103515625, 0.0111083984375, -0.0027065277099609375, 0.0098114013671875, -0.01378631591796875, -0.0193328857421875, -0.004486083984375, -0.012420654296875, 0.03033447265625, 0.0225982666015625, -0.0020160675048828125, 0.0128021240234375, -0.006496429443359375, 0.00013875961303710938, 0.0177459716796875, 0.00621795654296875, -0.00409698486328125, 0.0411376953125, -0.0246734619140625, 0.002696990966796875, 0.016876220703125, -0.0188751220703125, 0.00608062744140625, 0.008636474609375, -0.0032901763916015625, -0.01300048828125, -0.00443267822265625, -0.004901885986328125, 0.009033203125, -0.007080078125, -0.0242919921875, 0.0028057098388671875, 0.0243988037109375, -0.0089263916015625, 0.0024356842041015625, -0.0099945068359375, -0.014617919921875, 0.015045166015625, 0.01153564453125, 0.003101348876953125, -0.004962921142578125, 0.0074005126953125, -0.005260467529296875, -0.008880615234375, 0.006114959716796875, -0.007549285888671875, 0.0321044921875, 0.0307464599609375, -0.00917816162109375, 0.029266357421875, 0.03082275390625, -0.01079559326171875, -0.004791259765625, -0.00518035888671875, -0.021209716796875, -0.01763916015625, 0.01479339599609375, 0.0151519775390625, 0.005985260009765625, 0.00725555419921875, -0.03631591796875, -0.0133056640625, -0.0306549072265625, 0.0029087066650390625, -0.003108978271484375, -0.0017881393432617188, 0.00971221923828125, 0.005123138427734375, -0.0055389404296875, -0.0219879150390625, -0.0155029296875, -0.0013790130615234375, 0.001850128173828125, 0.0016946792602539062, 0.00920867919921875, -0.0015087127685546875, -0.0029354095458984375, -0.0211181640625, 0.0011425018310546875, 0.0031108856201171875, 0.00666046142578125, -0.00905609130859375, -0.01184844970703125, -0.019256591796875, -0.01290130615234375, -0.0015726089477539062, -0.00894927978515625, -0.0047454833984375, -0.00235748291015625, 0.01128387451171875, 0.00907135009765625, -0.00809478759765625, 0.0022602081298828125, -0.010894775390625, 0.0054473876953125, -0.0041656494140625, -0.0230560302734375, -0.0038356781005859375, 0.0075225830078125, -0.01477813720703125, 0.005161285400390625, 0.019989013671875, 0.00695037841796875, 0.03277587890625, 0.0007443428039550781, -0.00860595703125, -0.0065460205078125, -0.003162384033203125, -0.01412200927734375, 0.00460052490234375, -0.00595855712890625, 0.0033016204833984375, 0.054595947265625, 0.02227783203125, 0.017486572265625, 0.01378631591796875, -0.006679534912109375, 0.0031719207763671875, -0.0043792724609375, -0.00856781005859375, -0.01070404052734375, 0.0179443359375, -0.0193328857421875, 0.0156402587890625, 0.0151519775390625, 0.011566162109375, 0.00611114501953125, 0.00867462158203125, -0.007152557373046875, -0.0141754150390625, -0.0272979736328125, 0.005695343017578125, -0.0004935264587402344, 0.0107269287109375, -0.00899505615234375, 0.00838470458984375, -0.016693115234375, -0.01432037353515625, 0.0023860931396484375, -0.005352020263671875, -0.0110015869140625, -0.003711700439453125, -0.021514892578125, -0.0202178955078125, 0.008514404296875, -0.0222930908203125, -0.017242431640625, -0.01070404052734375, -0.02789306640625, 0.001049041748046875, 0.00925445556640625, -0.006534576416015625, -0.00920867919921875, -0.0032482147216796875, 0.0220947265625, 0.0175933837890625, -0.01045989990234375, 0.007354736328125, -0.0164794921875, 0.019927978515625, -0.025848388671875, -0.01290130615234375, 0.0148468017578125, 0.005611419677734375, -0.00817108154296875, -0.007724761962890625, 0.02069091796875, 0.009185791015625, 0.01111602783203125, -0.006683349609375, -0.0283203125, 0.01050567626953125, 0.00943756103515625, 0.01326751708984375, 0.0007567405700683594, -0.007732391357421875, -0.0095977783203125, -0.0140228271484375, 0.0204620361328125, -0.01509857177734375, 0.0113372802734375, 0.02679443359375, 0.0017366409301757812, -0.018280029296875, 0.0002543926239013672, -0.00014901161193847656, -0.0056610107421875, 0.00769805908203125, 0.003543853759765625, -0.0013885498046875, -0.004840850830078125, -0.0231781005859375, -0.01885986328125, -0.013031005859375, 0.001796722412109375, -0.00018298625946044922, 0.00977325439453125, -0.004261016845703125, 0.00823211669921875, -0.0118865966796875, 0.0262298583984375, -0.0175018310546875, -0.00231170654296875, -0.01013946533203125, 0.005931854248046875, 0.006744384765625, -0.01287078857421875, -0.01812744140625, -0.01047515869140625, 0.020294189453125, -0.006282806396484375, -0.0014085769653320312, -0.00222015380859375, 0.01065826416015625, 0.0120849609375, -0.00846099853515625, 0.00409698486328125, -0.014495849609375, 0.0048675537109375, -0.00634765625, 0.006137847900390625, 0.01094818115234375, 0.005115509033203125, 0.01209259033203125, -0.00548553466796875, 0.004909515380859375, 0.00335693359375, -0.0127410888671875, -0.01387786865234375, 0.003658294677734375, -0.0228729248046875, -0.0001036524772644043, 0.0058441162109375, 0.02984619140625, 0.005603790283203125, 0.01288604736328125, 0.005748748779296875, 0.006771087646484375, -0.004730224609375, 0.0121307373046875, 0.00881195068359375, -0.0214080810546875, 0.015045166015625, 0.015594482421875, 0.028045654296875, -0.003871917724609375, -0.0169219970703125, 0.00402069091796875, 0.006061553955078125, 0.0081787109375, 0.002063751220703125, -0.0184783935546875, 0.0038433074951171875, -0.01678466796875, -0.01244354248046875, -0.006412506103515625, 0.004024505615234375, -0.007354736328125, 0.0012073516845703125, -0.012054443359375, -0.0015039443969726562, -0.004642486572265625, -0.01238250732421875, 0.004817962646484375, 0.0092315673828125, 0.0279083251953125, 0.003387451171875, -0.0214385986328125, 0.021514892578125, 0.00861358642578125, 0.01165771484375, 0.0253753662109375, 0.011749267578125, -0.0178375244140625, -0.00714874267578125, 0.02960205078125, 0.0171051025390625, -0.002841949462890625, -0.02032470703125, 0.0206451416015625, 0.0018587112426757812, -0.01520538330078125, -0.0008940696716308594, -0.03985595703125, -0.01322174072265625, -0.0256805419921875, 0.0159149169921875, 0.0136566162109375, -0.00545501708984375, 0.01032257080078125, 0.0216064453125, 0.0216827392578125, -0.010833740234375, -0.01251220703125, 0.0227203369140625, -0.0158233642578125, 0.01093292236328125, 0.01183319091796875, 0.0034198760986328125, -0.016326904296875, -0.00894927978515625, -0.0216064453125, -0.0044708251953125, -0.01064300537109375, -0.00013327598571777344, 0.0125732421875, 0.0110015869140625, -0.0189361572265625, -0.006870269775390625, 0.0189666748046875, 0.002849578857421875, 0.01303863525390625, -0.0012311935424804688, 0.0043182373046875, -0.014801025390625, -0.0243682861328125, 0.0142822265625, 0.01074981689453125, 0.013031005859375, -0.01336669921875, -0.0011043548583984375, -0.004932403564453125, -0.021759033203125, 0.033447265625, 0.0173187255859375, -0.0050048828125, -0.0118255615234375, -0.00879669189453125, -0.01454925537109375, 0.0161895751953125, 0.0213470458984375, -0.009063720703125, -0.0029811859130859375, -0.00046896934509277344, -0.01157379150390625, -0.0030670166015625, -0.0037555694580078125, 0.00479888916015625, 0.01049041748046875, 0.00675201416015625, 0.00884246826171875, -0.0322265625, 0.007625579833984375, -0.00731658935546875, 0.0018520355224609375, 0.016754150390625, -0.004726409912109375, -0.00888824462890625, -0.009735107421875, 0.005828857421875, 0.00205230712890625, 0.00652313232421875, -0.01099395751953125, 0.0163421630859375, 0.022064208984375, -0.0037078857421875, -0.0016908645629882812, 0.01119232177734375, -0.0177764892578125, 0.0120391845703125, 0.01114654541015625, 0.005619049072265625, -0.0206451416015625, -0.0133209228515625, -0.0084228515625, 0.0018053054809570312, 0.0192413330078125, -0.0211181640625, 0.0054779052734375, -0.043670654296875, -0.0177154541015625, -0.00421905517578125, -0.01308441162109375, 0.01258087158203125, -0.031982421875, 0.01103973388671875, -0.0004906654357910156, -0.01216888427734375, -0.00305938720703125, -0.00858306884765625, -0.016876220703125, 0.005306243896484375, -0.018890380859375, 0.023345947265625, -0.0019550323486328125, 0.002529144287109375, 0.007556915283203125, -0.007717132568359375, 0.0148162841796875, 0.00740814208984375, 0.018585205078125, 0.004940032958984375, -0.0196380615234375, -0.008056640625, -0.01140594482421875, 0.019500732421875, 0.00879669189453125, 0.0166168212890625, -0.00844573974609375, 0.0206756591796875, 0.009857177734375, -0.0222625732421875, -0.024566650390625, 0.0251617431640625, -0.0005588531494140625, -0.0234832763671875, -0.01898193359375, -0.0156097412109375, -0.002956390380859375, 0.0031948089599609375, -0.0012884140014648438, 0.0111846923828125, -0.0101470947265625, -0.0189361572265625, 0.0229339599609375, -0.0010080337524414062, 0.01499176025390625, -0.00395965576171875, -0.0140228271484375, -0.009857177734375, -0.0232696533203125, 0.0092010498046875, 0.023345947265625, 0.0146026611328125, -0.0207672119140625, -0.007415771484375, -0.00920867919921875, -0.006504058837890625, -0.004657745361328125, -0.021759033203125, 0.023040771484375, -0.0029926300048828125, 0.010833740234375, 0.0013828277587890625, -0.004535675048828125, -0.003509521484375, 0.0088348388671875, -0.003536224365234375, -0.004901885986328125, -0.01026153564453125, -0.00799560546875, -0.00902557373046875, -0.00035643577575683594, 0.00971221923828125, 0.007045745849609375, -0.030975341796875, 0.0275421142578125, -0.0213165283203125, -0.0166473388671875, 0.0001633167266845703, 0.005931854248046875, 0.00946044921875, 0.0110626220703125, 0.0015268325805664062, -0.0259552001953125, -0.00514984130859375, 0.0110321044921875, 0.0202178955078125, -0.002201080322265625, -0.0078887939453125, 0.0019063949584960938, 0.00817108154296875, -0.014251708984375, 0.01003265380859375, 0.0026645660400390625, 0.004093170166015625, 0.003948211669921875, 0.0087738037109375, 0.0270233154296875, -0.046478271484375, -0.0208282470703125, 0.00848388671875, 0.012664794921875, 0.015899658203125, 0.00870513916015625, 0.004909515380859375, -0.0081634521484375, -0.00033736228942871094, -0.005023956298828125, 0.00916290283203125, 0.0008568763732910156, -0.005001068115234375, -0.015960693359375, -0.003314971923828125, -0.0002980232238769531, 0.02703857421875, -0.007213592529296875, 4.70280647277832e-05, -0.01537322998046875, -0.0241851806640625, 0.0009336471557617188, -0.025390625, -0.033050537109375, 0.0014400482177734375, 0.01111602783203125, -0.0041961669921875, -0.006114959716796875, 0.00199127197265625, 0.01236724853515625, 0.00913238525390625, -0.03271484375, -0.0208282470703125, 0.01500701904296875, 0.0246429443359375, -0.01050567626953125, -0.026947021484375, -0.00902557373046875, 0.004123687744140625, -0.016510009765625, -0.00371551513671875, -0.0216827392578125, 0.0112762451171875, -0.0023365020751953125, 0.0134735107421875, -0.0004756450653076172, -0.014251708984375, -0.0079803466796875, 0.0214996337890625, 0.016876220703125, -0.013946533203125, -0.005847930908203125, 0.005931854248046875, -0.004032135009765625, 0.00872802734375, -0.0011072158813476562, 0.0038089752197265625, -0.007228851318359375, -0.01190948486328125, -0.0247039794921875, -0.016357421875, 0.01280975341796875, -0.00962066650390625, 0.0126495361328125, -0.0009059906005859375, 0.0048675537109375, 0.00838470458984375, 0.016632080078125, -0.005680084228515625, -0.000820159912109375, 0.0025539398193359375, 0.01983642578125, 0.0299072265625, -0.0005040168762207031, -0.014129638671875, 0.022796630859375, -0.0435791015625, -0.003208160400390625, -0.01377105712890625, -0.03466796875, 0.028564453125, 0.002277374267578125, 0.0291595458984375, 0.014251708984375, 0.0142974853515625, 0.00220489501953125, 0.00998687744140625, -0.013824462890625, 0.0206146240234375, 0.0223541259765625, 0.0007257461547851562, -0.0162200927734375, -0.01027679443359375, -0.00582122802734375, -0.0034694671630859375, 0.01812744140625, -0.0017137527465820312, -0.0153045654296875, -0.0175933837890625, -0.0014867782592773438, -0.01141357421875, 0.00925445556640625, 0.003108978271484375, -0.0091552734375, -0.00714111328125, 0.020538330078125, -0.0065460205078125, 0.0106658935546875, -0.0177001953125, 0.0016689300537109375, 0.0052947998046875, 0.003353118896484375, -0.0024738311767578125, 0.0131072998046875, 0.0141754150390625, 0.003437042236328125, -0.0069732666015625, -0.003658294677734375, -0.004730224609375, -0.003482818603515625, 0.017486572265625, -0.01024627685546875, -0.005687713623046875, -0.0022983551025390625, 0.0013875961303710938, -0.0133819580078125, -0.0017871856689453125, 0.01580810546875, 0.0228729248046875, -0.006072998046875, -0.0051727294921875, 0.0021114349365234375, -0.0109710693359375, -0.0138397216796875, -0.0136260986328125, 0.024505615234375, -0.0188751220703125, -0.00835418701171875, 0.03057861328125, -0.00872039794921875, 0.009674072265625, -0.01302337646484375, 0.01374053955078125, 0.0090789794921875, 0.012298583984375, 0.01511383056640625, 0.0152740478515625, -0.01091766357421875, -0.00421905517578125, -0.012542724609375, -0.002101898193359375, -0.0035190582275390625, 0.0006623268127441406, -0.0193634033203125, -0.00347900390625, 0.005908966064453125, -0.010528564453125, -0.0257110595703125, 0.00493621826171875, -0.022918701171875, 0.01035308837890625, -0.0013513565063476562, 0.01418304443359375, -0.0018100738525390625, 0.005458831787109375, -0.004207611083984375, -0.007274627685546875, 0.0111541748046875, -0.01079559326171875, -0.0011425018310546875, -0.0309295654296875, 0.014495849609375, -0.024200439453125, 0.00734710693359375, 0.017913818359375]\",\n          \"[-0.0209503173828125, 0.0017910003662109375, 0.01070404052734375, 0.01395416259765625, -0.0018749237060546875, 0.016876220703125, 0.00878143310546875, 0.024505615234375, 0.01354217529296875, 0.0035991668701171875, -0.01514434814453125, 0.019561767578125, 0.02142333984375, 0.0021076202392578125, 0.0084228515625, 0.00909423828125, -0.0095062255859375, -0.0015401840209960938, 0.01140594482421875, -0.0028553009033203125, -0.0023670196533203125, -0.006839752197265625, -0.00307464599609375, -0.0257110595703125, 0.01849365234375, -0.0008606910705566406, 0.04132080078125, 0.0070343017578125, -0.0034656524658203125, -0.0078582763671875, -0.0247650146484375, 0.0271759033203125, 0.013824462890625, -0.00579071044921875, -0.0176544189453125, 0.0085906982421875, -0.0173797607421875, 0.00777435302734375, -0.00925445556640625, 0.018310546875, -0.038360595703125, -0.0133056640625, -0.0382080078125, 0.000652313232421875, 0.030364990234375, -0.009552001953125, -0.019622802734375, 0.0030384063720703125, 0.006969451904296875, 0.01055145263671875, 0.0170440673828125, -0.0184326171875, 0.004852294921875, -0.034759521484375, 0.004985809326171875, 0.0155181884765625, -0.0163726806640625, -0.006389617919921875, 0.0052032470703125, -0.0102081298828125, -0.00962066650390625, -0.0002956390380859375, -0.01488494873046875, -0.00896453857421875, -0.013397216796875, 0.0166015625, 0.0126495361328125, 0.008880615234375, -0.02203369140625, -0.0009350776672363281, 0.03338623046875, 0.00492095947265625, 0.0118408203125, 0.00832366943359375, -0.00449371337890625, -1.0907649993896484e-05, 0.003078460693359375, 0.01934814453125, 0.003330230712890625, -0.01393890380859375, 0.031036376953125, -0.004261016845703125, -0.0015277862548828125, 0.00531768798828125, -0.0027904510498046875, 0.00595855712890625, -0.0134124755859375, -0.0005183219909667969, -0.0186004638671875, -0.01505279541015625, -0.0166778564453125, -0.0400390625, 0.00994110107421875, -0.02008056640625, 0.002857208251953125, -0.02508544921875, -0.0177001953125, 0.01812744140625, -0.0012922286987304688, -0.01678466796875, 0.01100921630859375, 0.006534576416015625, 0.0004696846008300781, -0.005512237548828125, 0.01373291015625, 0.0036468505859375, -0.00897979736328125, -0.0026454925537109375, -0.0018835067749023438, 0.0098876953125, 0.01465606689453125, 0.033050537109375, -0.006114959716796875, -0.044677734375, -0.0229949951171875, 0.0023632049560546875, 0.0106658935546875, 0.0270843505859375, 0.00494384765625, 0.02349853515625, -0.037353515625, 0.034088134765625, 0.00984954833984375, -0.0015048980712890625, -0.0115509033203125, 0.0028705596923828125, 0.01219940185546875, -0.0199737548828125, -0.019287109375, 0.0018377304077148438, 0.0120391845703125, 0.01100921630859375, -0.005741119384765625, 0.020477294921875, -0.0263671875, -0.00034499168395996094, 0.007701873779296875, -0.0091094970703125, 0.0057830810546875, -0.004535675048828125, 0.003902435302734375, 0.0128936767578125, 0.00585174560546875, -0.00963592529296875, 0.0335693359375, -0.01345062255859375, 0.02099609375, 0.00592041015625, 0.0199127197265625, -0.018829345703125, -0.0262908935546875, -0.004398345947265625, -0.0072479248046875, -0.011016845703125, 0.0038127899169921875, 0.016693115234375, -0.00809478759765625, 0.01505279541015625, 0.01763916015625, -0.041259765625, -0.00726318359375, 0.01084136962890625, -0.005126953125, -0.0240631103515625, 0.0041961669921875, 0.0240631103515625, -0.0196990966796875, -0.0257110595703125, -0.0165557861328125, -0.0064239501953125, -0.00855255126953125, 0.0012502670288085938, 0.005977630615234375, -0.0021991729736328125, 0.00421905517578125, 0.0019969940185546875, -0.002971649169921875, -0.00400543212890625, 0.01806640625, -0.00814056396484375, -0.013916015625, 0.035308837890625, -0.02081298828125, -0.020111083984375, -0.01045989990234375, -0.002716064453125, -0.00262451171875, 0.0023441314697265625, 0.00017964839935302734, -0.00638580322265625, -0.0031414031982421875, -0.01416015625, -0.0260009765625, 0.000576019287109375, 0.0241241455078125, -0.0158538818359375, -0.006420135498046875, 0.01155853271484375, 0.00720977783203125, -0.01280975341796875, -0.011077880859375, 0.00321197509765625, 0.005199432373046875, -0.024322509765625, -0.034942626953125, -0.004261016845703125, 0.007358551025390625, 0.0032291412353515625, 0.0095672607421875, -0.00467681884765625, -0.0072021484375, 0.01483154296875, -0.00475311279296875, -0.006809234619140625, -0.005001068115234375, -0.016693115234375, 0.007137298583984375, -0.01343536376953125, 0.0145721435546875, -0.00762939453125, -0.0199737548828125, 0.009613037109375, -0.007701873779296875, 0.032073974609375, 0.00873565673828125, -0.01348876953125, 0.01708984375, -0.005184173583984375, -0.0119476318359375, -0.0021533966064453125, -0.0105133056640625, -0.0226898193359375, 0.00649261474609375, 0.00787353515625, -0.01593017578125, -0.003387451171875, -0.00936126708984375, -0.00765228271484375, -0.0027618408203125, -0.0016145706176757812, -0.010345458984375, -0.01043701171875, -0.012847900390625, -0.00479888916015625, 0.015838623046875, 0.005710601806640625, 0.00756072998046875, 0.013092041015625, 0.01543426513671875, -0.005390167236328125, -0.004657745361328125, 0.0116729736328125, -0.00887298583984375, 0.01078033447265625, -0.0017652511596679688, -0.0202484130859375, -0.006877899169921875, 0.0150146484375, -0.0004181861877441406, -0.0188140869140625, 0.0330810546875, -0.00030040740966796875, -0.01207733154296875, -0.0009899139404296875, -0.01251220703125, 0.002010345458984375, 0.02923583984375, -0.0017299652099609375, -0.01092529296875, 0.01360321044921875, 0.0107269287109375, -0.00720977783203125, 0.003997802734375, 0.004634857177734375, 0.0024280548095703125, -0.003177642822265625, 0.008056640625, 0.008819580078125, -0.00789642333984375, 0.02899169921875, -0.00794219970703125, 0.0011768341064453125, -0.0122528076171875, -0.007671356201171875, -0.0229949951171875, -0.002544403076171875, -0.007068634033203125, 9.769201278686523e-05, -0.02532958984375, -0.00417327880859375, 0.01007843017578125, 0.0089263916015625, 0.0155487060546875, 0.0005059242248535156, 0.0006465911865234375, -0.004566192626953125, 0.0009026527404785156, -0.0142364501953125, -0.00691986083984375, -0.004425048828125, 0.0148773193359375, 0.00804901123046875, 0.01270294189453125, 0.003978729248046875, 0.0023479461669921875, 0.0015468597412109375, -0.0172576904296875, 0.04180908203125, 0.0019369125366210938, 0.020111083984375, -0.0082244873046875, -0.021942138671875, 0.019989013671875, 0.0301666259765625, 0.01290130615234375, 0.01430511474609375, -0.02374267578125, -0.0004303455352783203, 0.0086822509765625, -0.0285797119140625, 0.009857177734375, -0.011566162109375, 0.03338623046875, 0.0200958251953125, 0.007183074951171875, -0.007350921630859375, 0.00606536865234375, -0.01131439208984375, 0.006717681884765625, -0.01434326171875, -0.0255584716796875, 0.0008249282836914062, 0.01171112060546875, 0.013580322265625, 0.006511688232421875, 0.03973388671875, -0.0033321380615234375, -0.0015783309936523438, 0.002902984619140625, 0.019744873046875, 0.01025390625, -0.0017795562744140625, -0.00024819374084472656, -0.0254364013671875, -0.001922607421875, -0.0178375244140625, 0.021331787109375, -0.003345489501953125, -0.006866455078125, 0.0034503936767578125, -0.0133819580078125, -0.0054168701171875, -0.01081085205078125, -0.021575927734375, -0.0104217529296875, -0.035614013671875, 0.0290679931640625, 0.0247344970703125, -0.0015506744384765625, 0.00921630859375, -0.000820159912109375, -0.051483154296875, -0.01444244384765625, 0.0015544891357421875, -0.0046844482421875, -0.01275634765625, 0.00044083595275878906, 0.019866943359375, 0.00849151611328125, -0.0161590576171875, 0.01238250732421875, -0.00914764404296875, 0.0038356781005859375, 0.0025482177734375, -0.0166168212890625, -0.0149993896484375, 0.00926971435546875, 0.0150909423828125, -0.00946807861328125, 0.00049591064453125, 0.0013027191162109375, -0.005290985107421875, 0.003566741943359375, 0.007965087890625, -0.01361846923828125, -0.01277923583984375, 0.0036144256591796875, -0.002838134765625, -0.006565093994140625, -0.0182037353515625, 0.0145263671875, -0.00063323974609375, -0.005130767822265625, -0.01617431640625, -0.0221405029296875, -0.001880645751953125, -0.0111083984375, -0.0002593994140625, -0.005405426025390625, -0.0021572113037109375, -0.0217437744140625, -0.03338623046875, -0.001438140869140625, 0.006809234619140625, -0.0073089599609375, -0.0038700103759765625, 0.00472259521484375, 0.006298065185546875, -0.020477294921875, -0.00376129150390625, 0.01039886474609375, 0.01971435546875, 0.0087890625, 0.0194854736328125, 0.005588531494140625, 0.004261016845703125, 0.0186767578125, -0.01497650146484375, -0.008880615234375, -0.01549530029296875, -0.01373291015625, -0.0136260986328125, 0.0113525390625, -0.0030384063720703125, -0.0035305023193359375, -0.0235595703125, 0.00213623046875, 0.01261138916015625, -0.019622802734375, 0.0009431838989257812, -0.005611419677734375, 0.01025390625, -0.01084136962890625, 0.0025081634521484375, -0.00208282470703125, -0.01474761962890625, -0.005588531494140625, 0.01282501220703125, 0.0151824951171875, 0.005817413330078125, 0.017608642578125, 0.004245758056640625, 0.03253173828125, -0.0014810562133789062, 0.00811004638671875, 0.005153656005859375, -0.01739501953125, -0.0035858154296875, -0.0160675048828125, -0.02447509765625, -0.0016279220581054688, -0.007781982421875, -0.00798797607421875, 0.038482666015625, -0.0009937286376953125, -0.01629638671875, 0.01148223876953125, 0.0094146728515625, -0.00809478759765625, 0.0079193115234375, 0.005435943603515625, 0.00010496377944946289, -0.0023174285888671875, -0.0237274169921875, -0.0238800048828125, -0.006622314453125, -0.0292510986328125, 0.01078033447265625, 0.01210784912109375, -0.0151824951171875, -0.017913818359375, -0.0116119384765625, 0.011749267578125, 0.01397705078125, 0.01166534423828125, -0.0026340484619140625, 0.02099609375, -0.01448822021484375, -0.01465606689453125, 0.01280975341796875, -0.01105499267578125, -0.02532958984375, 0.0089263916015625, 0.0013227462768554688, 0.002765655517578125, -0.002506256103515625, -0.04132080078125, 0.01125335693359375, -0.00902557373046875, -0.0191192626953125, -0.017181396484375, 0.00738525390625, -0.0019321441650390625, -0.026611328125, 0.0017948150634765625, 0.00583648681640625, 0.007579803466796875, 0.0038967132568359375, 0.0015106201171875, -0.00203704833984375, 0.005725860595703125, 0.02569580078125, -0.00428009033203125, -0.0011110305786132812, -0.01062774658203125, -0.0013341903686523438, -0.0194244384765625, -0.0104522705078125, 0.0159912109375, -0.0028781890869140625, -0.0318603515625, -0.0171966552734375, -0.00977325439453125, -0.0026874542236328125, -0.005367279052734375, 0.0390625, -0.016357421875, 0.001544952392578125, -0.0016088485717773438, 0.01342010498046875, -0.00878143310546875, 0.01727294921875, -0.0213165283203125, -0.0012378692626953125, 0.01165008544921875, -0.0251922607421875, -0.0277252197265625, -0.004344940185546875, 0.0177154541015625, 0.006519317626953125, 0.0021209716796875, -0.01290130615234375, 0.00563812255859375, -0.027679443359375, 0.01129150390625, -0.0164337158203125, -0.0023708343505859375, 0.0173492431640625, -0.0113983154296875, 0.006591796875, 0.0122222900390625, 0.0203399658203125, 0.01219940185546875, -0.0008387565612792969, 0.012969970703125, 0.019805908203125, -0.040771484375, 0.030548095703125, 0.019561767578125, 0.005100250244140625, 0.01471710205078125, 0.0186767578125, 0.00279998779296875, -0.024658203125, -0.017578125, 0.0008921623229980469, -0.015838623046875, 0.0135498046875, -0.0025310516357421875, 0.01540374755859375, -0.0067291259765625, -0.005619049072265625, -0.009521484375, 0.0083160400390625, 0.004581451416015625, -0.0113525390625, 0.0021533966064453125, 0.0189208984375, 0.0073089599609375, 0.0005354881286621094, -0.0172271728515625, -0.00746917724609375, 0.004169464111328125, -0.01453399658203125, -0.01290130615234375, 0.0263519287109375, 0.00826263427734375, 0.0122833251953125, -0.0193634033203125, 0.0013332366943359375, 0.0242767333984375, -0.00406646728515625, 0.0225677490234375, -0.0219879150390625, 0.02569580078125, 0.00021898746490478516, -0.0205230712890625, -0.04486083984375, 0.0072021484375, -0.0243377685546875, -0.0160369873046875, -0.006000518798828125, 0.00418853759765625, 0.0030956268310546875, -0.005764007568359375, -0.004055023193359375, 0.027984619140625, 0.033233642578125, 0.013641357421875, 0.01312255859375, 0.00859832763671875, 0.0103302001953125, 0.031097412109375, -0.0206451416015625, 0.0268707275390625, -0.00516510009765625, -0.01019287109375, 0.0005435943603515625, -0.020721435546875, 0.0243988037109375, 0.00978851318359375, -0.02593994140625, 0.02716064453125, 0.0076751708984375, 0.0139007568359375, -0.0088348388671875, 0.0107879638671875, 0.0254974365234375, -0.00982666015625, -0.0036373138427734375, 0.00490570068359375, -0.02191162109375, 0.0032806396484375, -0.00286102294921875, 0.01519775390625, 0.0267486572265625, -0.02545166015625, 0.004974365234375, 0.0075225830078125, 0.00301361083984375, 0.0245208740234375, -0.0157318115234375, -0.001148223876953125, -0.0026226043701171875, 0.0019016265869140625, -0.007541656494140625, 0.00618743896484375, 0.007480621337890625, 0.02099609375, 0.0091552734375, -0.005771636962890625, 0.0008616447448730469, -0.02178955078125, 0.01280975341796875, 0.00833892822265625, -0.002620697021484375, 0.0168609619140625, -0.0014295578002929688, -0.0104522705078125, -0.005413055419921875, 0.0134735107421875, -0.0060272216796875, -0.026611328125, -0.0004863739013671875, 0.004322052001953125, -0.021392822265625, 0.0183258056640625, -0.0087432861328125, 0.0035533905029296875, -0.0014934539794921875, -0.0192718505859375, 0.0088348388671875, 0.067138671875, -0.01290130615234375, -0.015716552734375, 0.025543212890625, 0.01038360595703125, -0.0087738037109375, 0.03070068359375, -0.0086517333984375, -0.0165252685546875, 0.019195556640625, -0.0008974075317382812, -0.004642486572265625, 0.019317626953125, 0.006526947021484375, -0.0030536651611328125, 0.017486572265625, 0.004352569580078125, -0.004543304443359375, 0.009979248046875, 0.00476837158203125, 0.0214385986328125, -0.0181884765625, 0.01751708984375, 0.024261474609375, -0.00543975830078125, 0.0218048095703125, 0.0115509033203125, 0.004764556884765625, 0.00804901123046875, 0.00334930419921875, -0.007625579833984375, 0.016021728515625, 0.01953125, -0.034393310546875, -0.00801849365234375, 0.01202392578125, 0.0009937286376953125, -0.0215606689453125, 0.031524658203125, -0.016815185546875, -0.005191802978515625, -0.0265350341796875, -0.0059051513671875, 0.0218658447265625, -0.00664520263671875, -0.00896453857421875, -0.007015228271484375, 0.0037708282470703125, 0.004077911376953125, -0.00919342041015625, 0.014007568359375, -0.0201873779296875, -0.01373291015625, -0.01030731201171875, -0.00984954833984375, 0.0002582073211669922, 0.015533447265625, 0.0247039794921875, -0.007965087890625, 0.02545166015625, 0.0178070068359375, -0.0015106201171875, 0.007617950439453125, 0.0156097412109375, 0.0158233642578125, -0.004581451416015625, -0.004734039306640625, -0.004848480224609375, 0.029541015625, 0.00128936767578125, 0.0018320083618164062, -0.00612640380859375, -0.0036983489990234375, 0.01397705078125, -0.0256195068359375, 0.0256195068359375, -0.004810333251953125, 0.0013132095336914062, 0.03338623046875, 0.029571533203125, -0.00299072265625, 0.0251922607421875, -0.0052490234375, -0.00751495361328125, 0.0075531005859375, -0.021240234375, -0.03338623046875, 0.005611419677734375, 0.01096343994140625, 0.0238800048828125, -0.0240325927734375, 0.00926971435546875, -0.00400543212890625, 0.00936126708984375, 8.857250213623047e-05, -0.011993408203125, -0.0404052734375, -0.00176239013671875, -0.01465606689453125, -0.00551605224609375, 0.005184173583984375, 0.01824951171875, -0.01380157470703125, 0.01522064208984375, -0.0063629150390625, -0.0027790069580078125, -0.007244110107421875, 0.0231170654296875, 0.0074310302734375, 0.0145111083984375, -0.01096343994140625, -0.007282257080078125, 0.0026950836181640625, 0.0211944580078125, 0.006134033203125, 0.06610107421875, 0.0018768310546875, -0.0206451416015625, 0.0030517578125, 0.0029621124267578125, -0.00543975830078125, -0.0271759033203125, -0.0103302001953125, 0.007198333740234375, -0.00926971435546875, 0.012298583984375, 0.005252838134765625, -0.0198822021484375, 0.00811004638671875, 0.004688262939453125, 0.01244354248046875, 0.004901885986328125, -0.0141448974609375, -0.00025177001953125, 0.004566192626953125, -0.0169525146484375, 0.0178985595703125, -0.031036376953125, 0.003387451171875, -0.00939178466796875, -0.017364501953125, -0.01358795166015625, 0.0037479400634765625, -0.0287322998046875, 0.0257110595703125, -0.0139312744140625, -0.01439666748046875, 0.0178985595703125, -0.036712646484375, 0.00673675537109375, -0.00568389892578125, 0.007564544677734375, 0.01373291015625, 0.0007309913635253906, -0.0008893013000488281, 0.020355224609375, -0.015838623046875, 0.0003643035888671875, 0.0133056640625, -0.0189208984375, 0.01247406005859375, -0.007480621337890625, 0.0309600830078125, 0.0022869110107421875, -0.0247344970703125, 0.0035343170166015625, 0.005802154541015625, -0.002471923828125, 0.01154327392578125, 0.01221466064453125, 0.00821685791015625, -0.0024204254150390625, 0.0075225830078125, -0.10260009765625, -0.016204833984375, -0.0264739990234375, 0.000453948974609375, -0.0009870529174804688, -0.02935791015625, 0.01016998291015625, 0.02227783203125, 0.00914764404296875, 0.004604339599609375, -0.00713348388671875, -0.01422882080078125, 0.00392913818359375, -0.0084228515625, -0.0167999267578125, -0.0102386474609375, -0.0102386474609375, -0.0189666748046875, 0.004688262939453125, -0.031494140625, -0.0060882568359375, 0.00725555419921875, -0.012725830078125, -0.02349853515625, -0.0245513916015625, -0.007526397705078125, -0.00594329833984375, 0.01078033447265625, 0.00914764404296875, -0.01387786865234375, 0.02630615234375, 0.004604339599609375, -0.01053619384765625, -0.0201263427734375, -0.0186767578125, -0.014862060546875, -0.008636474609375, 0.025421142578125, -0.023468017578125, -0.0131378173828125, 0.01230621337890625, -0.0275421142578125, 0.01080322265625, -0.00785064697265625, 0.004405975341796875, 0.016998291015625, -0.00946807861328125, 0.007293701171875, -0.005023956298828125, -0.019287109375, -0.00803375244140625, -0.0111236572265625, 0.01629638671875, 0.01401519775390625, 0.0016889572143554688, 0.00445556640625, -0.01062774658203125, 0.016693115234375, -0.0291748046875, -0.0233612060546875, 0.01302337646484375, 0.0087127685546875, -0.01099395751953125, -0.004795074462890625, 0.01800537109375, -0.01358795166015625, -0.00617218017578125, 0.01558685302734375, -0.00623321533203125, 0.002960205078125, 0.0120849609375, 0.00028967857360839844, 0.0037479400634765625, 0.005741119384765625, 0.0032596588134765625, -0.02020263671875, 0.007350921630859375, -0.0173797607421875, -0.009429931640625, -0.00531768798828125, -0.005481719970703125, 0.02972412109375, -0.00569915771484375, 0.00922393798828125, 0.0147857666015625, -0.0160980224609375, 0.0086669921875, -0.0233154296875, 0.0153045654296875, 0.01505279541015625, -0.01137542724609375, 0.005764007568359375, -0.01551055908203125, -0.01462554931640625, 0.0034389495849609375, -0.037689208984375, 0.0014400482177734375, 0.002727508544921875, -0.02099609375, -0.006809234619140625, -0.026580810546875, 0.0044097900390625, 0.0236053466796875, -0.0252838134765625, 0.00014674663543701172, 0.0006208419799804688, 0.0131072998046875, 0.00843048095703125, -0.039581298828125, 0.0024967193603515625, -0.030517578125, -0.0157470703125, 0.0361328125, 0.0158538818359375, -0.00818634033203125, 0.0078277587890625, 0.004058837890625, -0.04449462890625, -0.00045680999755859375, -0.01349639892578125, 0.0132904052734375, 0.003326416015625, 0.0012874603271484375, -0.0094146728515625, -0.00202178955078125, 0.026580810546875, 0.00574493408203125, -0.01354217529296875, -0.0416259765625, -0.00537872314453125, -0.0032253265380859375, -0.002140045166015625, -0.022186279296875, 0.001941680908203125, -0.0112457275390625, -0.0015926361083984375, -0.016021728515625, -0.032073974609375, -0.00347900390625, -0.0024738311767578125, -0.006069183349609375, 0.02056884765625, -0.0181732177734375, -0.011962890625, 0.01445770263671875, 0.004489898681640625, -0.001987457275390625, -0.0149383544921875, 0.00786590576171875, 0.0026454925537109375, 0.036407470703125, -0.015899658203125, -0.02130126953125, 0.0250244140625, -0.005573272705078125, 0.00481414794921875, 0.0108489990234375, -0.01360321044921875, 0.005374908447265625, 0.019744873046875, 0.01119232177734375, 0.010833740234375, 0.005374908447265625, -0.00603485107421875, 0.0015859603881835938, -0.0003497600555419922, 0.00905609130859375, -0.01080322265625, 0.0168304443359375, 0.0016307830810546875, 0.0091400146484375, -0.01462554931640625, -0.00662994384765625, 0.0276031494140625, 0.00591278076171875, 0.00738525390625, -0.0031185150146484375, -0.0070037841796875, 0.002094268798828125, 0.0020275115966796875, -0.0170440673828125, 0.004390716552734375, 0.00914764404296875, -0.00904083251953125, -0.01123809814453125, 0.001739501953125, -0.0168914794921875, 0.0008907318115234375, -0.0257415771484375, 0.005352020263671875, 0.001739501953125, -0.00669097900390625, -0.0156097412109375, 0.0013866424560546875, 0.010009765625, -0.07379150390625, -0.008819580078125, -0.005054473876953125, -0.013031005859375, 0.0046234130859375, 0.004360198974609375, 0.0003802776336669922, 0.033660888671875, -0.00356292724609375, 0.0204010009765625, -0.0296173095703125, -0.0205841064453125, -0.0021305084228515625, 0.0070343017578125, 0.003437042236328125, 0.01995849609375, 0.007274627685546875, -0.01910400390625, -0.006488800048828125, -0.0004513263702392578, -0.00980377197265625, 0.0012989044189453125, 0.0164337158203125, -0.0206451416015625, 0.01004791259765625, -0.00875091552734375, -0.00107574462890625, 0.0193328857421875, -0.0094451904296875, -0.0003371238708496094, 0.01776123046875, 0.016632080078125, -0.0011768341064453125, -0.003997802734375, 0.0092926025390625, 0.0222625732421875, -0.021514892578125, -0.0027618408203125, -0.0183563232421875, -0.00897216796875, -0.04901123046875, 0.01026153564453125, 0.00136566162109375, -0.013641357421875, 0.00582122802734375, -0.02081298828125, 0.0003147125244140625, 0.0097503662109375, 0.00345611572265625, 0.0023441314697265625, -0.003925323486328125, -0.01195526123046875, -0.0103912353515625, 0.01371002197265625, 0.0164642333984375, -0.004779815673828125, -0.01074981689453125, 0.006793975830078125, 0.01068115234375, 0.027435302734375, 0.020172119140625, -0.0181427001953125, 0.005130767822265625, 0.0029697418212890625, -0.0211334228515625, -0.0072174072265625, 0.00855255126953125, 0.00687408447265625, -0.0026226043701171875, 0.007843017578125, 0.0174713134765625, -0.001758575439453125, -0.0238189697265625, 0.01352691650390625, -0.0132598876953125, 0.001583099365234375, 0.0223388671875, -0.016815185546875, 0.018890380859375, 0.0178375244140625, 0.010894775390625, 0.0174560546875, -0.007228851318359375, -0.013824462890625, -0.0282135009765625, 0.0024623870849609375, -0.0084381103515625, 0.0078582763671875, 0.00756072998046875, -0.00614166259765625, -0.0292510986328125, -0.00124359130859375, -0.01348876953125, -0.0236663818359375, -0.00498199462890625, 0.05029296875, 0.01222991943359375, -0.007450103759765625, 0.0039215087890625, -0.0252838134765625, -0.01041412353515625, -0.0208892822265625, 0.0037937164306640625, 0.00662994384765625, -0.01145172119140625, 0.005687713623046875, 0.001621246337890625, -0.0107421875, -0.0031299591064453125, -0.01226806640625, 0.004974365234375, -0.0124664306640625, 0.00887298583984375, -0.0231781005859375, -0.029510498046875, 0.01221466064453125, 0.019561767578125, 0.031585693359375, 0.02862548828125, -0.0234527587890625, -0.01326751708984375, -0.00318145751953125, 0.003963470458984375, 0.040771484375, 0.0287933349609375, 0.0243682861328125, 0.035400390625, 0.03656005859375, 0.0193634033203125, -0.0288848876953125, -0.005413055419921875, -0.008575439453125, 0.0023651123046875, 0.0070343017578125, 0.0292510986328125, 0.0128326416015625, 0.016937255859375, -0.0038318634033203125, -0.0164794921875, 0.0020236968994140625, 0.00612640380859375, -0.005611419677734375, -0.00829315185546875, 0.0196685791015625, -0.0194549560546875, -0.0150146484375, 0.0211029052734375, -0.01393890380859375, 0.01812744140625, -0.004497528076171875, 0.0207366943359375, 0.00240325927734375, 0.0167388916015625, -0.006343841552734375, 0.0011491775512695312, 0.0107421875, 0.003231048583984375, 0.018585205078125, -0.01490020751953125, -0.037628173828125, -0.01081085205078125, 0.015838623046875, -0.021087646484375, -0.012542724609375, -0.0103912353515625, 0.00862884521484375, 0.025115966796875, 0.01198577880859375, 0.0011453628540039062, 0.0261688232421875, -0.0305023193359375, 0.01215362548828125, 0.02587890625, 0.0098114013671875, -0.01427459716796875, 0.0215301513671875, 0.00885772705078125, 0.0089569091796875, -0.01641845703125, -0.01568603515625, -0.0192718505859375, 0.034088134765625, 0.0019588470458984375, -0.005504608154296875, 0.00885772705078125, 0.0039825439453125, -0.0004279613494873047, 0.00579071044921875, -0.0157623291015625, -0.00942230224609375, -0.039764404296875, -0.00283050537109375, -0.0037860870361328125, -0.0077667236328125, -0.003997802734375, 0.01611328125, -0.036041259765625, -0.00830078125, 0.0076751708984375, 0.01236724853515625, 0.015380859375, -0.00395965576171875, -0.00524139404296875, 0.00974273681640625, -0.00550079345703125, -0.0022907257080078125, -0.01532745361328125, 0.001190185546875, -0.021759033203125, 0.0005979537963867188, 0.002044677734375, -0.004779815673828125, 0.0098724365234375, -0.00220489501953125, 0.0103607177734375, -0.00911712646484375, -0.0070037841796875, 0.0032367706298828125, -0.004100799560546875, 0.0005750656127929688, 0.0016717910766601562, -0.020599365234375, -0.007541656494140625, 0.0013561248779296875, 0.004024505615234375, 0.003276824951171875, 0.00539398193359375, -0.0007266998291015625, -0.0178680419921875, -0.03900146484375, -0.0037441253662109375, -0.0247344970703125, 0.0020198822021484375, -0.0124359130859375, -0.0159454345703125, 0.02471923828125, -0.01035308837890625, 0.0014276504516601562, -0.025970458984375, 0.011444091796875, 0.004734039306640625, -0.0172119140625, -0.013397216796875, 0.022125244140625, -0.0037250518798828125, 0.026947021484375, -0.00738525390625, -0.022796630859375, -0.00803375244140625, 0.0017633438110351562, -0.0025005340576171875, 0.00737762451171875, 0.018829345703125, -0.01058197021484375, -0.007904052734375, 0.01163482666015625, 0.015045166015625, 0.034515380859375, -0.01428985595703125, -0.004192352294921875, -0.00014412403106689453, 0.0204315185546875, 0.0270538330078125, -0.0221710205078125, 0.0157928466796875, 0.04144287109375, 0.0139312744140625, 0.00835418701171875, 0.0012617111206054688, -0.01302337646484375, 0.02490234375, 0.004138946533203125, 0.010009765625, 0.010406494140625, -0.027862548828125, -0.026611328125, -0.0033969879150390625, 0.011322021484375, 0.025115966796875, -0.01393890380859375, -0.0269775390625, 0.012786865234375, 0.00341033935546875, 0.005611419677734375, 0.000263214111328125, 0.00885009765625, -0.00846099853515625, -0.00351715087890625, -0.00739288330078125, -0.01404571533203125, -0.006435394287109375, 0.007694244384765625, 0.003749847412109375, 0.024169921875, 0.0015163421630859375, -0.0003437995910644531, -0.0022335052490234375, 0.0169525146484375, 0.0010595321655273438, -0.001537322998046875, 0.0352783203125, 0.006061553955078125, -0.00616455078125, -0.0013036727905273438, 0.0261077880859375, 0.010101318359375, 0.01200103759765625, -0.02301025390625, 0.007358551025390625, -0.0101776123046875, -0.0013322830200195312, 0.01001739501953125, -0.0060882568359375, 0.0031871795654296875, -0.00545501708984375, 0.00984954833984375, 0.012176513671875, -0.00942230224609375, -0.0187225341796875, 0.01419830322265625, -0.0009393692016601562, -0.003986358642578125, -0.0014781951904296875, 0.0230560302734375, -0.01070404052734375, 0.005237579345703125, -0.0210723876953125, -0.00876617431640625, -0.013916015625, 0.01422882080078125, -0.01367950439453125, 7.545948028564453e-05, 0.031280517578125, -0.022674560546875, -0.0171661376953125, -0.01678466796875, 0.0005602836608886719, -0.0029449462890625, 0.00417327880859375, -0.009979248046875, 0.0281982421875, -0.016357421875, -0.0048980712890625, -0.01047515869140625, -0.017852783203125, -0.09185791015625, -0.01154327392578125, 0.0174560546875, -0.0065155029296875, 0.0013170242309570312, 0.006343841552734375, -0.00273895263671875, -0.006244659423828125, 0.011138916015625, 0.003566741943359375, 0.004795074462890625, -0.0296630859375, 0.00989532470703125, -0.0260467529296875, -0.006744384765625, -0.01490020751953125, -0.03533935546875, -0.002147674560546875, -0.006923675537109375, -0.019256591796875, -0.01099395751953125, -0.004638671875, 0.00907135009765625, -0.00937652587890625, -0.00852203369140625, 0.0156707763671875, -0.0160369873046875, 0.025543212890625, 0.0279083251953125, 0.0010271072387695312, 0.0108795166015625, -0.0283203125, 0.00974273681640625, -0.019378662109375, 0.00461578369140625, 0.0106353759765625, 0.0151824951171875, 0.0318603515625, -0.02001953125, -0.0285491943359375, -0.0026493072509765625, -0.014495849609375, -0.0228729248046875, 0.01158905029296875, -0.0196990966796875, 0.027618408203125, -0.006298065185546875, 0.00888824462890625, -0.00588226318359375, -0.009429931640625, -0.006160736083984375, 0.0027923583984375, 0.01061248779296875, -0.060638427734375, 0.005535125732421875, 0.01462554931640625, 0.019439697265625, 0.025543212890625, -0.002742767333984375, -0.00847625732421875, 0.0198211669921875, -0.0014410018920898438, 0.0004570484161376953, 0.0005559921264648438, 0.0247344970703125, -0.03369140625, 0.002666473388671875, 0.0036182403564453125, -0.0067291259765625, -0.0229339599609375, 0.00970458984375, 0.0025157928466796875, 0.0227813720703125, -0.01190948486328125, 0.00252532958984375, 0.0058135986328125, -0.0036640167236328125, 0.0050506591796875, 0.0133819580078125, 0.013641357421875, -0.00507354736328125, -0.01806640625, 0.0108795166015625, 0.005462646484375, 0.0120391845703125, 0.018402099609375, 0.0030059814453125, -0.009796142578125, 0.00917816162109375, 0.0011301040649414062, 0.005828857421875, -0.0169525146484375, 0.0104827880859375, 0.005237579345703125, -0.021270751953125, -0.0023593902587890625, 0.004791259765625, -0.01349639892578125, 0.014404296875, 0.00229644775390625, 0.009246826171875, -0.0005083084106445312, -0.0202789306640625, -0.005420684814453125, 0.00972747802734375, -0.004119873046875, -0.0041351318359375, -0.0042877197265625, -0.0167388916015625, -0.00323486328125, 0.0335693359375, 0.006671905517578125, -0.002071380615234375, -0.007564544677734375, 0.0138092041015625, 0.018341064453125, 0.01328277587890625, 0.0171966552734375, 0.0071563720703125, -0.01100921630859375, -0.0108489990234375, 0.02386474609375, 0.0160369873046875, -0.00182342529296875, 0.00412750244140625, -0.018890380859375, -0.01226043701171875, -6.115436553955078e-05, 0.0016870498657226562, 0.0004534721374511719, 0.0025482177734375, -0.027313232421875, 0.00833892822265625, 0.0095062255859375, 0.0022678375244140625, -0.001590728759765625, -0.007843017578125, 0.00738525390625, -0.013214111328125, 0.01202392578125, -0.0090789794921875, 0.00787353515625, -0.00921630859375, -0.00644683837890625, 0.00395965576171875, 0.01462554931640625, -0.02679443359375, -0.0120849609375, 0.007274627685546875, -0.01181793212890625, -0.01910400390625, -0.006221771240234375, 0.003993988037109375, -0.0258026123046875, 0.0265045166015625, 0.0194854736328125, -0.014617919921875, 0.0005893707275390625, 0.028289794921875, -0.0045318603515625, -0.019775390625, -0.0165863037109375, -0.0229034423828125, 0.0007443428039550781, -0.0008640289306640625, 0.00390625, -0.0057373046875, -0.0240325927734375, 0.015716552734375, -0.01035308837890625, -0.03302001953125, 0.01076507568359375, -0.013916015625, 0.01910400390625, -0.002590179443359375, -0.01654052734375, -0.01280975341796875, -0.0124359130859375, -0.01031494140625, -0.00933074951171875, -0.057098388671875, -0.00490570068359375, 0.026824951171875, -0.0277252197265625, -0.0036983489990234375, 0.0009813308715820312, 0.009033203125, -0.0098876953125, -0.0026569366455078125, 0.005954742431640625, 0.003265380859375, 0.01302337646484375, 0.00605010986328125, 0.01126861572265625, 0.02264404296875, -0.001255035400390625, -0.01422882080078125, 0.00543975830078125, 0.009429931640625, -0.00669097900390625, -0.00131988525390625, -0.025787353515625, 0.01161956787109375, -0.0289154052734375, 0.0235595703125, -0.00099945068359375, -0.019622802734375, 0.0232696533203125, 0.00772857666015625, -0.0124664306640625, 0.01439666748046875, -0.000270843505859375, -0.0023708343505859375, -0.006103515625, -0.035614013671875, -0.0005364418029785156, -0.027435302734375, 0.0010700225830078125, -0.0202178955078125, 0.01186370849609375, -0.0007715225219726562, -0.00347137451171875, 0.0031414031982421875, 0.004840850830078125, -0.0323486328125, 0.01473236083984375, 0.037689208984375, 0.00142669677734375, 0.00968170166015625, 0.007564544677734375, 0.0240020751953125, -0.004405975341796875, -0.01274871826171875, -0.0048675537109375, -0.0024318695068359375, 0.0202178955078125, 0.004520416259765625, -0.0008287429809570312, -0.0006861686706542969, -0.01885986328125, 0.01006317138671875, 0.0224761962890625, -0.03668212890625, 0.0013904571533203125, -0.007282257080078125, 0.00301361083984375, -0.01560211181640625, -0.022003173828125, 0.00630950927734375, 0.004405975341796875, -0.0095062255859375, 0.0077362060546875, -0.00557708740234375, -0.022125244140625, -0.023284912109375, -0.0159759521484375, -0.002773284912109375, 0.019256591796875, -0.005889892578125, 0.0144195556640625, 0.0066070556640625, 0.00792694091796875, 0.0256195068359375, 0.01171112060546875, 0.006229400634765625, -0.0273895263671875, -0.01497650146484375, -0.0014324188232421875, -0.01541900634765625, 0.023590087890625, -0.0285491943359375, -0.00777435302734375, 0.00322723388671875, -0.007022857666015625, 0.00911712646484375, -0.0193939208984375, -0.01654052734375, 0.0205230712890625, 0.0085906982421875, -8.20159912109375e-05, -0.02484130859375, 0.00603485107421875, 0.0023288726806640625, 0.0036869049072265625, 0.002429962158203125, 0.00989532470703125, 0.019012451171875, 0.0284271240234375, -0.0147857666015625, -0.01448822021484375, 0.01322174072265625, 0.00749969482421875, 0.002765655517578125, 0.005584716796875, 0.00417327880859375, 0.0010461807250976562, -0.0251312255859375, 0.0204315185546875, 0.00580596923828125, -0.0130462646484375, 0.0108184814453125, -0.0242156982421875, 0.0038051605224609375, 0.0015287399291992188, 0.00670623779296875, 0.0203094482421875, -0.02081298828125, 0.00011146068572998047, 0.0198974609375, 0.0014410018920898438, -0.015380859375, 0.0098724365234375, -0.0006504058837890625, -0.0156402587890625, -0.0209503173828125, 0.0191497802734375, -0.00450897216796875, -0.01447296142578125, -0.0156707763671875, -0.0032672882080078125, 0.0045928955078125, 0.011688232421875, 0.00388336181640625, 0.0011577606201171875, -0.037933349609375, 0.004840850830078125, 0.0030002593994140625, -0.005878448486328125, -0.031097412109375, 0.010406494140625, 0.0202484130859375, 0.0032138824462890625, -0.00968170166015625, -0.006679534912109375, 0.007720947265625, -0.00826263427734375, -0.03302001953125, 0.00772857666015625, -0.0028285980224609375, 0.01934814453125, 0.0024261474609375, 0.033050537109375, -0.011871337890625, -0.0009593963623046875, 0.0139007568359375, -0.0030384063720703125, 0.01560211181640625, 0.003173828125, 0.024505615234375, -0.0127716064453125, 0.0033168792724609375, 0.015533447265625, 0.018768310546875, 0.01166534423828125, 0.0260009765625, -0.0225372314453125, -0.01007080078125, 0.021728515625, 0.00848388671875, -0.034515380859375, 0.00798797607421875, -0.01190185546875, 0.005168914794921875, 0.01092529296875, 0.004024505615234375, 0.0135650634765625, 0.00616455078125, 0.004852294921875, -0.0322265625, -0.005634307861328125, -0.01416015625, 0.008148193359375, 0.01181793212890625, 0.01123809814453125, -0.0148468017578125, -0.01201629638671875, -0.0308380126953125, 0.01349639892578125, -0.00904083251953125, 0.0083465576171875, -0.0008630752563476562, 0.01033782958984375, -0.007701873779296875, -0.00485992431640625, -0.0164794921875, -0.01230621337890625, -0.025299072265625, -0.0016870498657226562, -0.00579071044921875, 0.005985260009765625, -0.0160369873046875, -0.01308441162109375, 0.0156097412109375, 0.00496673583984375, 0.0287933349609375, 0.0145263671875, -0.00562286376953125, -0.003772735595703125, -0.0152587890625, -0.0186309814453125, -0.00998687744140625, -0.0089111328125, 0.0016651153564453125, 0.01540374755859375, 0.0189971923828125, 0.0036106109619140625, -0.00812530517578125, 0.018646240234375, 0.0041046142578125, 0.0134735107421875, 0.0241546630859375, -0.0105133056640625, 0.00463104248046875, -0.0239410400390625, 0.00113677978515625, 0.0017490386962890625, -0.0183258056640625, 0.0270538330078125, 0.01050567626953125, 0.005718231201171875, 0.005706787109375, 0.01128387451171875, -0.0246734619140625, 0.0004203319549560547, -0.002323150634765625, -0.003757476806640625, 0.00115203857421875, 0.02777099609375, -0.01019287109375, 0.004947662353515625, 0.0016384124755859375, -0.009490966796875, 0.004238128662109375, 0.00907135009765625, 0.0006113052368164062, 0.0218963623046875, -0.034423828125, -0.0005931854248046875, -0.004955291748046875, 0.00933837890625, -0.016693115234375, 0.0192108154296875, -0.00150299072265625, 0.054412841796875, 0.01229095458984375, -0.003772735595703125, 0.00946807861328125, -0.014404296875, 0.00820159912109375, -0.014190673828125, 0.0036144256591796875, 0.0133819580078125, -0.01275634765625, -0.00664520263671875, 0.0279388427734375, -0.00823211669921875, -0.00968170166015625, -0.0231170654296875, 0.0004754066467285156, 0.0153656005859375, -0.0108795166015625, 0.0010023117065429688, 0.0029315948486328125, 0.0014801025390625, 0.01348876953125, 0.004199981689453125, -0.01045989990234375, -0.0025081634521484375, 0.012664794921875, -0.0020198822021484375, 0.0270843505859375, 0.00225067138671875, 0.0019817352294921875, 0.01076507568359375, -0.004161834716796875, -0.004222869873046875, -0.0023956298828125, 0.0067291259765625, 0.00800323486328125, -0.01885986328125, -0.00214385986328125, -0.0033321380615234375, -0.0005326271057128906, -0.00843048095703125, -0.004985809326171875, -0.0026302337646484375, 0.006275177001953125, -0.0041046142578125, 0.0142364501953125, -0.0086822509765625, -0.0075531005859375, 0.007740020751953125, 0.006000518798828125, 0.004581451416015625, 0.0172882080078125, 0.0022830963134765625, 0.006450653076171875, -0.0004620552062988281, 0.0416259765625, 0.0083465576171875, -0.0011796951293945312, -0.029327392578125, -0.0165863037109375, -0.011566162109375, 0.0155487060546875, -0.01470184326171875, -0.0031948089599609375, -0.002452850341796875, 0.017303466796875, -0.0282135009765625, -0.0262298583984375, 0.016387939453125, 0.0208587646484375, -0.01995849609375, 0.0004611015319824219, -0.0196533203125, -0.007720947265625, 0.01113128662109375, 0.0213775634765625, 0.01213836669921875, 0.0157623291015625, -2.6226043701171875e-06, -0.0093231201171875, -0.0031452178955078125, -0.0033550262451171875, -0.004970550537109375, -0.006450653076171875, -0.005462646484375, -0.006275177001953125, 0.0225372314453125, 0.0034618377685546875, 0.0260162353515625, 0.004138946533203125, -0.0134735107421875, 0.00498199462890625, -0.0195159912109375, -0.029510498046875, -0.010894775390625, -0.0082550048828125, -0.01019287109375, 0.007282257080078125, -0.00408935546875, -0.0142669677734375, 0.003192901611328125, 0.0022983551025390625, -0.011566162109375, 0.018768310546875, -0.00921630859375, -0.01499176025390625, 0.0032901763916015625, 0.0123748779296875, 0.004520416259765625, -0.02081298828125, -0.036285400390625, 0.0005135536193847656, 0.0025615692138671875, -0.005435943603515625, -0.009307861328125, 0.0018138885498046875, -0.0024967193603515625, 0.007244110107421875, 0.01343536376953125, -0.01514434814453125, 0.0002989768981933594, -0.0233154296875, -0.005558013916015625, -0.0010271072387695312, -0.0308380126953125, -0.001461029052734375, 0.0096435546875, -0.0044403076171875, -0.0086822509765625, -0.0174407958984375, 0.012115478515625, 0.010498046875, 0.012451171875, -0.017120361328125, -0.00228118896484375, -0.031341552734375, -0.0164337158203125, -0.0045318603515625, 0.007488250732421875, -0.002216339111328125, 0.01216888427734375, -0.0003566741943359375, -0.012237548828125, -0.00492095947265625, 0.01396942138671875, -0.006244659423828125, 0.0207366943359375, 0.00603485107421875, 0.022613525390625, -0.01019287109375, -0.004146575927734375, 0.006580352783203125, 0.02618408203125, 0.01137542724609375, -0.00574493408203125, -0.00074005126953125, -0.016357421875, 0.0242462158203125, -0.0299072265625, 0.00921630859375, -0.003936767578125, -0.01023101806640625, 0.005615234375, 0.004428863525390625, -0.0001188516616821289, 0.00015819072723388672, -0.0128173828125, -0.037506103515625, 0.015289306640625, 0.0147705078125, 0.01128387451171875, -0.0036182403564453125, 0.00894927978515625, 0.01016998291015625, -0.005870819091796875, 0.009979248046875, 0.0010852813720703125, -0.00048470497131347656, -0.0166015625, 0.0083160400390625, 0.0029296875, 0.0099029541015625, -0.00424957275390625, -0.021484375, -0.006855010986328125, -0.00464630126953125, -0.01343536376953125, 0.0011796951293945312, -0.0206756591796875, -0.032958984375, -0.004390716552734375, -0.0085601806640625, -0.01354217529296875, -0.001567840576171875, -0.0006480216979980469, 0.00848388671875, -0.0222320556640625, -0.0164947509765625, 0.021026611328125, -0.01727294921875, -0.0173492431640625, -0.019439697265625, 0.022613525390625, 0.020416259765625, 0.00415802001953125, 0.0209197998046875, 0.002399444580078125, 0.01137542724609375, 0.023651123046875, -0.00046563148498535156, 0.02032470703125, -0.015838623046875, 0.026336669921875, -0.0215606689453125, -0.0061492919921875, 0.004009246826171875, -0.0036640167236328125, -0.0024471282958984375, -0.0382080078125, 0.019134521484375, 0.035400390625, 0.00751495361328125, 0.00033593177795410156, -0.00323486328125, 0.0251312255859375, 0.0016469955444335938, 0.019256591796875, -0.0019989013671875, 0.0099334716796875, -0.0232391357421875, -0.0029354095458984375, -0.0205535888671875, 0.0077667236328125, -0.0154571533203125, 0.01074981689453125, -0.00926971435546875, -0.01305389404296875, -0.0025081634521484375, 0.004108428955078125, 0.0090789794921875, -0.016357421875, -0.035797119140625, 0.0093536376953125, -0.004009246826171875, 0.0020046234130859375, 0.038787841796875, -0.039794921875, -0.0178070068359375, 0.01049041748046875, 0.0272369384765625, 0.00495147705078125, -0.02764892578125, 0.0193939208984375, 0.02301025390625, -0.013885498046875, -0.01117706298828125, 0.00641632080078125, -0.002269744873046875, -0.002857208251953125, 0.004711151123046875, -0.017120361328125, -0.02227783203125, 0.0208892822265625, 0.0021572113037109375, 0.008270263671875, -0.00019288063049316406, 0.0106658935546875, 0.00998687744140625, 0.0095367431640625, 0.00032806396484375, -0.010986328125, -0.0150146484375, -0.0064544677734375, 0.0121917724609375, -0.00939178466796875, -0.00909423828125, 0.0149383544921875, 0.00550079345703125, -0.002750396728515625, 0.0175628662109375, -0.01371002197265625, 0.0034847259521484375, -0.004520416259765625, -0.0343017578125, -0.006256103515625, 0.002895355224609375, -0.0022735595703125, -0.00318145751953125, 0.02679443359375, -0.0005650520324707031, -0.02313232421875, -0.004489898681640625, -0.006099700927734375, 0.0109100341796875, 0.0199127197265625, -0.031585693359375, 0.006023406982421875, -0.0005664825439453125, 0.01849365234375, -0.00582122802734375, 0.0190582275390625, -0.00800323486328125, 0.007190704345703125, 0.0122528076171875, -0.00820159912109375, -0.0081634521484375, -0.0017843246459960938, -0.0247650146484375, -0.006298065185546875, -0.0018377304077148438, -0.01873779296875, -0.00984954833984375, 0.0008382797241210938, -0.00518035888671875, -0.018280029296875, -0.045684814453125, 0.0216217041015625, -0.031097412109375, 0.0137481689453125, -0.001346588134765625, -0.0259857177734375, 0.0266571044921875, 0.0147705078125, 0.0263214111328125, 0.0202484130859375, 0.00809478759765625, 0.01525115966796875, -0.03204345703125, -0.0012989044189453125, -0.0210723876953125, 0.005687713623046875, 0.01403045654296875, 0.0009899139404296875, 0.00023603439331054688, 0.00708770751953125, 0.015838623046875, 0.00015497207641601562, -0.008270263671875, -0.00792694091796875, 0.0036563873291015625, -0.0235443115234375, -0.002590179443359375, 0.006130218505859375, 0.005458831787109375, -0.0165863037109375, -0.0175933837890625, 0.006744384765625, -0.0044403076171875, 0.005828857421875, 0.0279541015625, -0.012603759765625, -0.0017719268798828125, -0.0101165771484375, 0.0003094673156738281, 0.0172119140625, -0.0177154541015625, -0.004199981689453125, 0.021453857421875, 0.0078125, -0.00760650634765625, 0.0010814666748046875, -0.01397705078125, 0.0007572174072265625, 0.00974273681640625, 0.0238189697265625, 0.0149383544921875, 0.0249176025390625, -0.0019702911376953125, 0.00519561767578125, -0.0147705078125, -0.008453369140625, -0.01348876953125, -0.0017213821411132812, -0.00409698486328125, -0.013580322265625, 0.0252838134765625, 0.01568603515625, -0.00847625732421875, 0.0023345947265625, 0.01270294189453125, 0.01149749755859375, -0.01538848876953125, 0.0141448974609375, 0.0295867919921875, 0.004299163818359375, 0.070556640625, -0.01519775390625, 0.01495361328125, -0.0015354156494140625, -0.05029296875, 0.052734375, -0.01557159423828125, -0.0191497802734375, 0.0124664306640625, -0.02459716796875, 0.007598876953125, 0.0257110595703125, -0.00601959228515625, 0.0168304443359375, -0.0328369140625, 0.0142364501953125, 0.0258026123046875, 0.0113677978515625, -0.029876708984375, 0.0206146240234375, 0.0031719207763671875, -0.030059814453125, 0.0010128021240234375, 0.0080108642578125, 0.0032138824462890625, 0.006885528564453125, -0.00673675537109375, -0.009552001953125, 0.013671875, -0.032012939453125, 0.003021240234375, -0.0099029541015625, -0.003963470458984375, 0.0242919921875, -0.0148773193359375, 0.03485107421875, -0.0013484954833984375, -0.0169677734375, 0.007320404052734375, -0.035614013671875, -0.0083160400390625, 0.01238250732421875, 0.01110076904296875, 0.006381988525390625, 0.028533935546875, -0.00994873046875, 0.01201629638671875, -0.0004222393035888672, -0.00620269775390625, 0.01122283935546875, -0.0090789794921875, -0.003936767578125, -0.04901123046875, 0.01267242431640625, -0.003902435302734375, -0.007396697998046875, -0.0009431838989257812, -0.0298004150390625, -0.0419921875, -0.0269927978515625, -0.00809478759765625, -0.019317626953125, -9.644031524658203e-05, 0.00035119056701660156, -0.0006051063537597656, 0.0110931396484375, -0.01345062255859375, 0.01012420654296875, -0.0224456787109375, -0.0110626220703125, 0.0090484619140625, -0.01904296875, 0.02166748046875, -0.04742431640625, 0.00386810302734375, 0.02679443359375, -0.0012960433959960938, -0.00536346435546875, 0.0133056640625, 0.00431060791015625, -0.0151214599609375, 0.01861572265625, -0.0224761962890625, -0.001972198486328125, -0.004131317138671875, 0.0156707763671875, -0.0068206787109375, -0.00836181640625, -0.00527191162109375, 0.00023639202117919922, -0.01244354248046875, 0.0278778076171875, 0.0016231536865234375, 0.0085601806640625, -0.0244140625, 0.00165557861328125, -0.01538848876953125, -0.0235748291015625, 0.00656890869140625, -0.0203857421875, -0.018585205078125, -0.024078369140625, -0.0029239654541015625, 0.0250701904296875, -0.015472412109375, -0.0207366943359375, 0.0175628662109375, 0.0166015625, -0.008544921875, 0.0056610107421875, 0.01369476318359375, -0.0101470947265625, -0.017822265625, 0.00244140625, -0.0005764961242675781, -0.00969696044921875, -0.005184173583984375, -0.00543212890625, 0.0178070068359375, 0.0003178119659423828, -0.01532745361328125, -0.01079559326171875, 0.007904052734375, 0.00466156005859375, -2.7418136596679688e-06, -0.0186614990234375, -0.0227203369140625, 0.00405120849609375, -0.0021724700927734375, 0.018585205078125, 0.0341796875, 0.017364501953125, 0.01203155517578125, 0.0047760009765625, 0.0013036727905273438, 0.01294708251953125, -0.0233917236328125, 0.017242431640625, -0.01019287109375, 0.0206298828125, 0.0345458984375, -0.0210113525390625, 0.00917816162109375, 0.01445770263671875, 0.013671875, 0.0108642578125, -0.0018596649169921875, 0.002292633056640625, -0.003116607666015625, -0.02239990234375, -0.0081329345703125, 6.943941116333008e-05, -0.0017652511596679688, 0.00664520263671875, 0.0116119384765625, 0.00397491455078125, 0.01201629638671875, -0.0180206298828125, 0.008758544921875, -0.01470184326171875, 0.0133056640625, 0.00909423828125, 0.016143798828125, 0.0032482147216796875, -0.02490234375, 0.01953125, 0.02459716796875, -0.025146484375, -0.006404876708984375, 0.00449371337890625, 0.006366729736328125, -0.00788116455078125, -0.005161285400390625, -0.0202484130859375, -0.0071563720703125, -0.026641845703125, -0.016876220703125, -0.0019683837890625, 0.0035533905029296875, 0.0031490325927734375, 0.0003361701965332031, 0.0058746337890625, -0.009613037109375, -0.004787445068359375, 0.009490966796875, -0.003063201904296875, -0.0187225341796875, 0.0109710693359375, -0.007228851318359375, 0.0008444786071777344, 0.00782012939453125, 0.003993988037109375, -0.0013132095336914062, 0.01084136962890625, 0.037322998046875, 0.004161834716796875, -0.01092529296875, 0.0169525146484375, -0.0110321044921875, 0.00754547119140625, -0.0094757080078125, 0.01084136962890625, -0.01036834716796875, -0.0239105224609375, -0.0160064697265625, -0.01568603515625, -0.008392333984375, -0.03369140625, -0.00717926025390625, 0.00970458984375, -0.0150146484375, -0.006801605224609375, 0.0159149169921875, 0.00970458984375, -0.0175018310546875, -0.010467529296875, 0.01971435546875, -0.003993988037109375, 0.001312255859375, 0.0159912109375, -0.0218505859375, -0.0341796875, -0.0017747879028320312, 0.00971221923828125, -0.023712158203125, 0.0361328125, -0.01343536376953125, 0.0089569091796875, -0.0009579658508300781, -0.003368377685546875, 0.00659942626953125, 0.00220489501953125, -0.0004591941833496094, -0.006046295166015625, 0.020263671875, -0.018585205078125, -0.0008192062377929688, -0.0040435791015625, 0.00634002685546875, -0.01351165771484375, -0.0012826919555664062, 0.021942138671875, -0.005451202392578125, -0.00128936767578125, 0.006534576416015625, 0.021087646484375, 0.00012636184692382812, 0.025421142578125, 0.005466461181640625, 0.0161895751953125, 0.0004119873046875, -0.006465911865234375, 0.0033817291259765625, 0.0057220458984375, -0.0025177001953125, 0.01267242431640625, 0.007190704345703125, 0.0045623779296875, -0.0030689239501953125, -0.004131317138671875, 0.018524169921875, 0.01384735107421875, 0.002056121826171875, 0.006885528564453125, 0.00756072998046875, 0.035430908203125, 0.00824737548828125, -0.00846099853515625, 0.00875091552734375, 0.0299224853515625, -0.0015249252319335938, 0.011505126953125, -0.02178955078125, -0.00217437744140625, -0.0290679931640625, 0.0086212158203125, -0.0152130126953125, -0.0016469955444335938, -0.0157623291015625, 0.004150390625, -0.009796142578125, -0.0008778572082519531, -0.01033782958984375, 0.00952911376953125, -0.01126861572265625, -0.006420135498046875, 0.0262298583984375, -0.00984954833984375, 0.02044677734375, -0.0094757080078125, -0.01004791259765625, 0.0115814208984375, -0.01488494873046875, 0.0164794921875, -0.0137481689453125, -0.000640869140625, 0.0169525146484375, 0.029144287109375, -0.00948333740234375, -0.0090179443359375, -0.00655364990234375, -0.03326416015625, 0.0120849609375, -0.007495880126953125, -0.0096893310546875, 0.0195465087890625, -0.034515380859375, -0.003086090087890625, -0.0023937225341796875, -0.0256195068359375, 0.0219879150390625, -0.0193634033203125, 0.00341033935546875, -0.00870513916015625, 0.013031005859375, -0.001979827880859375, 0.00637054443359375, 0.00591278076171875, 0.0275115966796875, -0.016845703125, -0.00618743896484375, 0.0038928985595703125, 0.0139923095703125, 0.0112152099609375, 0.005298614501953125, 0.0201568603515625, 0.0102386474609375, 0.0018138885498046875, -0.0134735107421875, 0.0164337158203125, -0.0031185150146484375, -0.0080108642578125, -0.010711669921875, -0.00597381591796875, 3.933906555175781e-06, 0.005664825439453125, -0.0182952880859375, 0.01849365234375, 0.0150146484375, -0.0084075927734375, 0.034454345703125, 0.033660888671875, 0.0246429443359375, 0.00020992755889892578, 0.004978179931640625, -0.0004239082336425781, -0.005828857421875, -0.01464080810546875, -0.019317626953125, -0.004123687744140625, 0.0002256631851196289, -0.04901123046875, 0.0087127685546875, 0.0065155029296875, 0.00868988037109375, -0.01027679443359375, -0.0035724639892578125, -0.0173797607421875, -0.0036869049072265625, 0.02508544921875, 0.0299530029296875, -0.0094451904296875, 0.0012655258178710938, 0.0284576416015625, 8.153915405273438e-05, 0.00360107421875, 0.0111236572265625, 0.002971649169921875, 0.005596160888671875, -0.0181884765625, -0.01169586181640625, -0.00913238525390625, -0.0031585693359375, -0.003818511962890625, 0.00571441650390625, 0.0283966064453125, -0.01395416259765625, 0.017425537109375, 0.01300048828125, -0.00019824504852294922, -0.007114410400390625, 0.01290130615234375, -0.0014104843139648438, -0.01235198974609375, 0.00826263427734375, -0.018096923828125, -0.0051727294921875, -0.021881103515625, -0.03192138671875, 0.004772186279296875, -0.00598907470703125, -0.00852203369140625, 0.008056640625, 0.0005497932434082031, -0.0085601806640625, 0.00278472900390625, 0.01332855224609375, 0.006671905517578125, 0.0017948150634765625, -0.0194244384765625, 0.0135650634765625, -0.0177001953125, 0.0088348388671875, 0.0130615234375, -0.0002989768981933594, -0.011871337890625, 0.00559234619140625, -0.0117950439453125, -0.005542755126953125, 0.00574493408203125, -0.003963470458984375, -0.004550933837890625, 0.0217437744140625, 0.0158843994140625, 0.01131439208984375, -0.01464080810546875, 0.00911712646484375, 0.001132965087890625, -0.01454925537109375, 0.0032520294189453125, 0.01245880126953125, -0.0011348724365234375, -0.00677490234375, -0.0085601806640625, -0.02935791015625, 0.0033206939697265625, -0.00920867919921875, -0.01479339599609375, -0.0175323486328125, -0.0013513565063476562, 0.0027141571044921875, -0.0155181884765625, -0.0174713134765625, 0.0361328125, 0.0023555755615234375, 0.015899658203125, 0.00860595703125, 0.01349639892578125, -0.0128631591796875, -0.00321197509765625, 0.0098114013671875, -0.00963592529296875, 0.0113372802734375, 0.0018320083618164062, 0.019012451171875, -0.00711822509765625, -0.01351165771484375, 0.0007038116455078125, 0.044891357421875, 0.006103515625, 0.0235595703125, 0.0026035308837890625, 0.006420135498046875, -0.002826690673828125, 0.0231781005859375, 0.00347137451171875, 0.03253173828125, 0.017120361328125, -0.0977783203125, -0.037506103515625, 0.007801055908203125, 0.00260162353515625, 0.0084228515625, -0.00954437255859375, -0.0201873779296875, -0.00568389892578125, -0.0134735107421875, 0.01971435546875, 0.005664825439453125, 0.02972412109375, -0.016387939453125, 0.0093536376953125, 0.004444122314453125, 0.0138397216796875, 0.01277923583984375, -0.01438140869140625, -0.0219268798828125, 0.00229644775390625, 0.00704193115234375, 0.06256103515625, 0.01727294921875, 0.0015192031860351562, 0.0108489990234375, -0.00543212890625, 0.008697509765625, 0.008392333984375, 0.0294952392578125, 0.00870513916015625, 0.0002313852310180664, 0.0014944076538085938, 0.01238250732421875, -0.0120391845703125, -0.0090789794921875, -0.01983642578125, -0.002452850341796875, -0.0132904052734375, 0.03900146484375, -0.020538330078125, 0.007617950439453125, 0.0172882080078125, 0.004924774169921875, 0.0073394775390625, 0.0075225830078125, -0.02081298828125, -0.01401519775390625, 0.0308074951171875, -0.002742767333984375, -0.0244140625, 0.002956390380859375, -0.01080322265625, -0.02593994140625, -0.0108795166015625, 0.0067291259765625, -0.0052337646484375, 0.0045166015625, -0.0121612548828125, 0.035003662109375, 0.0029888153076171875, 0.020294189453125, 0.004489898681640625, -0.0167388916015625, -0.01470184326171875, -0.01023101806640625, -0.0034236907958984375, 0.0093994140625, 0.003936767578125, -0.0067901611328125, 0.0009889602661132812, 0.039703369140625, 0.010986328125, -0.0195159912109375, 0.006191253662109375, -0.00394439697265625, 6.258487701416016e-05, 0.0186767578125, 0.0195770263671875, 0.010833740234375, -0.0341796875, -0.018585205078125, 0.0020961761474609375, -0.0190277099609375, -0.0257568359375, 0.01409912109375, 0.006328582763671875, -0.01084136962890625, 0.0020122528076171875, 0.00849151611328125, 0.027618408203125, 0.0030498504638671875, -0.0118255615234375, -0.0211639404296875, -0.00115203857421875, -0.003299713134765625, 0.034332275390625, -0.0238494873046875, 0.001705169677734375, 0.0017976760864257812, 0.004581451416015625, 0.0287628173828125, 0.0035305023193359375, -0.00666046142578125, 7.611513137817383e-05, -0.00695037841796875, 0.0067291259765625, -0.0006995201110839844, -0.00984954833984375, -0.0023899078369140625, -0.00726318359375, -0.01183319091796875, 0.0207061767578125, -0.027862548828125, 0.0104217529296875, -0.0113525390625, -0.00783538818359375, -0.02716064453125, -0.00481414794921875, 0.003520965576171875, -0.006763458251953125, -0.0013494491577148438, -0.0096435546875, 0.00782012939453125, -0.00852203369140625, 0.0081787109375, 0.00940704345703125, 0.00846099853515625, -0.0097503662109375, -0.003795623779296875, -0.003719329833984375, 0.0352783203125, -0.0005793571472167969, -0.00196075439453125, 0.032379150390625, 0.0164794921875, -0.0007014274597167969, -0.0005741119384765625, -0.03070068359375, -0.02508544921875, -0.0157928466796875, 0.0199737548828125, -0.003753662109375, -0.0057830810546875, -0.0037860870361328125, -0.00571441650390625, 0.0230560302734375, 0.0006456375122070312, -0.004001617431640625, 0.0245208740234375, 0.0222930908203125, 0.00472259521484375, 0.0089111328125, -0.0229339599609375, 0.0035114288330078125, 0.0148773193359375, 0.0596923828125, -0.005451202392578125, -0.0122528076171875, -0.0103759765625, -0.003734588623046875, 0.01519775390625, 0.01059722900390625, -0.00621795654296875, 0.006320953369140625, -0.0176849365234375, -0.0021953582763671875, 0.0233154296875, -0.005390167236328125, -0.0041961669921875, 5.364418029785156e-06, -0.021942138671875, -0.006343841552734375, 0.02203369140625, 0.0018911361694335938, -0.0032787322998046875, 0.016510009765625, -0.0161285400390625, 0.0145111083984375, -0.0066986083984375, 0.0018968582153320312, 0.01270294189453125, 0.003650665283203125, 0.0029125213623046875, 0.005764007568359375, -0.0157470703125, -0.0109710693359375, -0.00013518333435058594, -0.006893157958984375, 0.0034198760986328125, 0.005336761474609375, -0.0007781982421875, -0.01702880859375, 0.009124755859375, 0.0037822723388671875, 0.017303466796875, -0.015533447265625, 0.01129150390625, 0.01474761962890625, 0.004688262939453125, -0.0181732177734375, -0.01354217529296875, -0.0070343017578125, 0.03436279296875, -0.0117034912109375, 0.00551605224609375, 0.0085296630859375, -0.01279449462890625, 0.01154327392578125, -0.003936767578125, 0.01345062255859375, -0.004566192626953125, -0.0273895263671875, 0.0010843276977539062, -0.01255035400390625, -0.008544921875, 0.01178741455078125, -0.0208740234375, 0.0255279541015625, -0.01397705078125, 1.7821788787841797e-05, -0.004428863525390625, 0.00971221923828125, -0.0297698974609375, -0.00884246826171875, 0.0216217041015625, -0.001857757568359375, -0.00240325927734375, -0.01136016845703125, -0.01062774658203125, 0.0102081298828125, 0.004047393798828125, -0.01293182373046875, 0.031494140625, 0.01910400390625, -0.0111846923828125, 0.002521514892578125, 0.03985595703125, -0.018402099609375, 0.02264404296875, 0.0190887451171875, 0.0014295578002929688, -0.007656097412109375, -0.00677490234375, 0.0084991455078125, 0.0058746337890625, 0.0022182464599609375, -0.005977630615234375, 0.026397705078125, 0.010589599609375, 0.01078033447265625, -0.006717681884765625, 0.001598358154296875, 0.01371002197265625, -0.007293701171875, -0.005069732666015625, -0.0033817291259765625, 0.0167999267578125, 0.00997161865234375, -0.011474609375, 0.0224761962890625, -0.011322021484375, 0.03253173828125, -0.0203704833984375, -0.006114959716796875, 0.00873565673828125, -0.0024280548095703125, -0.03057861328125, 0.01251220703125, 0.0016727447509765625, -0.0311431884765625, -0.0082244873046875, -0.00765228271484375, -0.0095062255859375, 0.0017948150634765625, 0.01141357421875, -0.01348876953125, 0.003345489501953125, 0.005828857421875, 0.00492095947265625, -0.0146636962890625, 0.0369873046875, 0.0007748603820800781, -0.0161590576171875, -0.00826263427734375, -0.011566162109375, 0.009490966796875, -0.0053558349609375, -0.004695892333984375, 0.0209808349609375, -0.01275634765625, 0.01454925537109375, -0.015106201171875, 0.0087432861328125, 0.007598876953125, -0.016998291015625, -0.002109527587890625, 0.00261688232421875, -0.01560211181640625, -0.0008974075317382812, 0.063720703125, 0.023345947265625, -0.0203857421875, 0.0028533935546875, 0.0224609375, -0.01155853271484375, -0.00910186767578125, -0.004974365234375, -0.0024623870849609375, 0.012298583984375, 0.006801605224609375, 0.003086090087890625, 0.00997161865234375, -0.01360321044921875, 0.004573822021484375, 0.01070404052734375, 0.046142578125, 0.01250457763671875, 0.0039520263671875, 0.016326904296875, 0.0095062255859375, -0.0003044605255126953, -0.01187896728515625, -0.0002703666687011719, -0.0109405517578125, 0.00016021728515625, -0.0088958740234375, -0.00711822509765625, -0.00567626953125, 0.01025390625, -0.0016078948974609375, -0.006877899169921875, 0.01352691650390625, -0.0044403076171875, -0.00405120849609375, 0.0153045654296875, 0.017425537109375, 0.01155853271484375, 0.0029506683349609375, -0.02880859375, -0.019256591796875, -0.00682830810546875, -0.0305023193359375, -0.0195465087890625, -0.0218353271484375, -0.003238677978515625, 0.006046295166015625, -0.01053619384765625, -0.00565338134765625, -0.0019779205322265625, -0.020599365234375, 0.00936126708984375, 0.0279541015625, 0.01849365234375, -0.028839111328125, -0.00789642333984375, -0.0027599334716796875, 0.01395416259765625, -0.00821685791015625, -0.0061798095703125, 0.031829833984375, 0.02435302734375, 0.0128631591796875, 0.01380157470703125, 0.0120849609375, -0.0018215179443359375, 0.00571441650390625, -0.0178985595703125, -0.0181884765625, 0.013458251953125, 0.00571441650390625, 0.00807952880859375, -0.004581451416015625, -0.038726806640625, 0.01678466796875, -0.016876220703125, 0.006866455078125, -0.010040283203125, -0.0108795166015625, 0.0012416839599609375, -0.0235595703125, -0.004886627197265625, 0.01099395751953125, -0.006061553955078125, -0.01224517822265625, -0.005764007568359375, -0.0178375244140625, -0.03271484375, -0.015960693359375, -0.012176513671875, 0.0173797607421875, 0.028472900390625, 0.002658843994140625, -0.0057373046875, 0.02294921875, 0.002838134765625, -0.0125732421875, 0.0142364501953125, 0.0015430450439453125, -0.018157958984375, 0.0247955322265625, -0.0016469955444335938, 0.0089111328125, -0.002101898193359375, -0.0130462646484375, 0.004238128662109375, -0.0156707763671875, 0.01058197021484375, 0.0004620552062988281, -0.008453369140625, -0.01471710205078125, 0.061309814453125, -0.007415771484375, -0.0235595703125, 0.004650115966796875, -0.01444244384765625, 0.00765228271484375, 0.00028705596923828125, -0.01922607421875, -0.0210418701171875, 0.024932861328125, -0.01200103759765625, 0.00946044921875, -0.03094482421875, -0.0143280029296875, -0.03204345703125, -0.002956390380859375, 0.01436614990234375, 0.0048828125, 0.0167694091796875, -0.00997161865234375, 0.00926971435546875, -0.00867462158203125, 0.0012798309326171875, 0.043853759765625, -0.013458251953125, -0.01378631591796875, 0.004459381103515625, 0.0009465217590332031, -0.005191802978515625, -0.0086822509765625, -0.0084686279296875, -0.00021255016326904297, -0.0006542205810546875, 0.00959014892578125, -0.0173797607421875, 0.0103759765625, 0.0177001953125, -0.00787353515625, 0.0028629302978515625, 0.00833892822265625, -0.037750244140625, -0.00411224365234375, -0.0025730133056640625, 0.0213623046875, 0.00038504600524902344, 0.0220184326171875, 0.01043701171875, 0.0015478134155273438, 0.01309967041015625, 0.0189666748046875, 0.0129547119140625, -0.0076446533203125, -0.040985107421875, -0.0020999908447265625, 0.0041351318359375, -0.0036640167236328125, 0.0106201171875, 0.004505157470703125, -0.005649566650390625, -0.02484130859375, -0.024871826171875, -0.0018835067749023438, -0.004680633544921875, 0.0183258056640625, 0.012847900390625, -0.01279449462890625, 0.00772857666015625, -0.031219482421875, -0.01763916015625, -0.020782470703125, 0.0042266845703125, 0.0018377304077148438, -0.0210723876953125, -0.0017795562744140625, 0.0168609619140625, -0.01194000244140625, 0.01453399658203125, 0.009857177734375, 0.0010519027709960938, 0.0006756782531738281, -0.012298583984375, 0.0145263671875, -0.0126953125, 0.026947021484375, 0.01265716552734375, -0.00635528564453125, -0.024566650390625, 0.044769287109375, -0.0193939208984375, -0.01126861572265625, -0.01313018798828125, 0.002773284912109375, -0.003101348876953125, 0.0016078948974609375, -0.006687164306640625, 0.00980377197265625, 0.007106781005859375, 0.003997802734375, 0.022705078125, 0.0029430389404296875, -0.0010118484497070312, 0.01020050048828125, 0.01134490966796875, -0.03460693359375, 0.0005898475646972656, 0.0242156982421875, 0.00678253173828125, 0.0047149658203125, 0.0080718994140625, 0.0179901123046875, 0.01201629638671875, 0.016448974609375, 0.012847900390625, -0.0127716064453125, 0.0238494873046875, -0.02728271484375, -0.00548553466796875, -0.01305389404296875, 0.011383056640625, -0.015869140625, 0.00205230712890625, 0.027252197265625, -0.01904296875, -0.01251220703125, -0.007442474365234375, 0.027618408203125, -0.0207977294921875, -0.0261688232421875, -0.005489349365234375, 0.003116607666015625, -0.0249176025390625, -0.0145263671875, 0.01454925537109375, -0.005008697509765625, -0.01352691650390625, -0.00794219970703125, -0.01073455810546875, -0.005069732666015625, 0.00958251953125, -0.021697998046875, 0.0122833251953125, -0.01177978515625, 0.004695892333984375, -0.0161895751953125, -0.0137481689453125, 0.0012502670288085938, -0.007411956787109375, -0.0180511474609375, 0.0234527587890625, 0.01491546630859375, 0.003879547119140625, 0.0015115737915039062, -0.00844573974609375, 0.0251312255859375, -0.005157470703125, -0.020111083984375, -0.0034465789794921875, 0.0171051025390625, -0.0287933349609375, -0.015533447265625, 0.01506805419921875, 0.01219940185546875, -0.017608642578125, -0.007198333740234375, -0.0203399658203125, 0.031341552734375, 0.0068206787109375, -0.0159912109375, 0.009429931640625, 0.009552001953125, 0.0272064208984375, -0.0014858245849609375, 0.005649566650390625, 0.01186370849609375, 0.00540924072265625, -0.0290679931640625, 0.00048232078552246094, -0.01375579833984375, 0.0015783309936523438, 0.0017213821411132812, -0.035858154296875, -0.018890380859375, -0.00189971923828125, -0.00966644287109375, -0.0195159912109375, -0.007564544677734375, -0.01100921630859375, 0.01123046875, -0.01169586181640625, -0.024200439453125, -0.00299072265625, -0.01195526123046875, -0.0188446044921875, -0.0106201171875, -0.018157958984375, 0.035797119140625, 0.02545166015625, 0.0333251953125, 0.0169677734375, 0.006000518798828125, 0.020233154296875, 0.000179290771484375, -0.00030803680419921875, -0.0017442703247070312, 0.0266876220703125, -0.01910400390625, 0.0019016265869140625, 0.004608154296875, -0.0258026123046875, 0.004405975341796875, -0.017303466796875, 0.0006122589111328125, -0.023040771484375, 0.01342010498046875, -0.00974273681640625, 0.0036182403564453125, -0.0102386474609375, -0.00347900390625, -0.00023949146270751953, -6.222724914550781e-05, -0.00885772705078125, -0.02764892578125, -0.0145111083984375, 0.0112762451171875, 0.023529052734375, 0.004459381103515625, 0.007572174072265625, 0.032440185546875, -0.032867431640625, -0.0014705657958984375, 0.000797271728515625, 0.00347137451171875, -0.0148468017578125, -0.01557159423828125, 0.0164794921875, 0.0115509033203125, 0.00439453125, -0.00777435302734375, 0.00975799560546875, 0.006450653076171875, 0.0174713134765625, -0.0166015625, 0.00457000732421875, 0.0255279541015625, -0.003948211669921875, -0.01611328125, -0.016876220703125, -0.0005025863647460938, 0.0017604827880859375, 0.0031261444091796875, 0.01248931884765625, 0.0164031982421875, 0.004566192626953125, 0.002410888671875, -0.0106658935546875, 0.0012311935424804688, -0.0105438232421875, 0.02044677734375, -0.004364013671875, 4.380941390991211e-05, 0.0089874267578125, 0.0271759033203125, 0.0270233154296875, 0.02410888671875, 0.04364013671875, 0.0036334991455078125, 0.001617431640625, -0.00360107421875, 0.022186279296875, 0.007740020751953125, 0.0189666748046875, 0.0179443359375, 0.006072998046875, -0.02093505859375, -0.0011720657348632812, -0.0035953521728515625, 0.003864288330078125, 0.0131988525390625, -0.00975799560546875, 0.02606201171875, -0.0027637481689453125, 0.01369476318359375, 0.0120849609375, 0.00482177734375, -0.01288604736328125, 0.0029239654541015625, -0.016876220703125, -0.0291290283203125, 0.00824737548828125, -0.01495361328125, 0.00890350341796875, 0.006641387939453125, 0.01080322265625, 0.01222991943359375, 0.00252532958984375, 0.0006465911865234375, -0.0086822509765625, 0.0009279251098632812, 0.007781982421875, 0.01904296875, 0.00347137451171875, 0.0187225341796875, 0.005275726318359375, 0.020050048828125, 4.017353057861328e-05, 0.006183624267578125, -0.00021135807037353516, -0.0030307769775390625, -0.014404296875, 0.0008816719055175781, -0.01045989990234375, -0.006404876708984375, -0.004848480224609375, -0.029510498046875, -0.0054168701171875, -0.01268768310546875, 0.0124664306640625, -0.005252838134765625, 0.0037899017333984375, -0.008575439453125, 0.00463104248046875, 0.0232391357421875, 0.00797271728515625, 0.01073455810546875, -0.0047760009765625, 0.0251312255859375, -0.007053375244140625, -0.031036376953125, 0.017608642578125, -0.007114410400390625, 5.2809715270996094e-05, -0.00574493408203125, 0.00878143310546875, -0.0264892578125, -0.01922607421875, 0.01384735107421875, -0.0237274169921875, 0.0209808349609375, -0.027496337890625, 0.0233917236328125, 0.0015935897827148438, -0.0272369384765625, -0.001407623291015625, 0.0100860595703125, -0.004688262939453125, 0.031402587890625, -0.005496978759765625, -0.00255584716796875, 0.004199981689453125, 0.0201416015625, 0.006622314453125, -0.006855010986328125, 0.01465606689453125, 0.00852203369140625, 0.0014629364013671875, -0.038818359375, -0.006763458251953125, 0.0102996826171875, -0.026580810546875, -0.030517578125, -0.01111602783203125, 0.01024627685546875, 0.0128631591796875, -0.01538848876953125, -0.029144287109375, 0.010406494140625, 0.029998779296875, -0.007740020751953125, 0.023895263671875, -0.0035343170166015625, 0.0010318756103515625, -0.0184173583984375, -0.0150146484375, -0.0008816719055175781, -0.0127105712890625, 0.0087738037109375, 0.0179595947265625, 0.01232147216796875, -0.017822265625, 0.00505828857421875, 0.006031036376953125, 0.008697509765625, 0.0015239715576171875, 0.006610870361328125, 0.01480865478515625, 0.002368927001953125, -0.0092315673828125, -0.00983428955078125, -0.0233001708984375, 0.023406982421875, 0.0188446044921875, 0.0008249282836914062, -0.005619049072265625, -0.0114593505859375, 0.004245758056640625, -0.017120361328125, 0.0011377334594726562, 0.0178375244140625, 0.0009441375732421875, -0.00728607177734375, 0.00885009765625, 0.006488800048828125, -0.0017347335815429688, -0.004146575927734375, 0.0150909423828125, -0.00382232666015625, -0.01031494140625, -0.023651123046875, 0.00418853759765625, 0.0107879638671875, -0.0189208984375, -0.002201080322265625, 0.01219940185546875, 0.0159912109375, -0.01311492919921875, -0.01041412353515625, -0.01885986328125, -0.0116119384765625, -0.020599365234375, 0.004055023193359375, -0.0008478164672851562, -0.0225982666015625, 0.00262451171875, -0.0037441253662109375, 0.0083160400390625, 0.00728607177734375, -0.0031642913818359375, 0.004932403564453125, 0.03271484375, -0.01378631591796875, 0.0011453628540039062, 0.0161285400390625, -0.0114593505859375, 0.0204925537109375, -0.00765228271484375, -0.04010009765625, -0.0239715576171875, -0.00904083251953125, 0.0147857666015625, -0.019622802734375, -0.0010404586791992188, -0.034820556640625, -0.0016889572143554688, -0.0291748046875, -0.01214599609375, 0.007598876953125, 0.0030117034912109375, 0.006473541259765625, 0.00920867919921875, 0.007282257080078125, -0.022308349609375, -0.0123291015625, -0.040283203125, -0.024139404296875, -0.014678955078125, 0.0362548828125, -0.01015472412109375, -0.00347900390625, -0.03656005859375, 0.0204925537109375, 0.0113372802734375, 0.007293701171875, -0.0062408447265625, -0.0063629150390625, 0.0050048828125, -0.00460052490234375, 0.0184173583984375, -0.010284423828125, -0.0156097412109375, -0.00899505615234375, 0.00357818603515625, -0.0083770751953125, -0.014312744140625, 0.004024505615234375, -0.01375579833984375, 0.005279541015625, -0.00014269351959228516, -0.0019207000732421875, -0.009368896484375, -0.008575439453125, -0.020965576171875, 0.0085296630859375, 0.032379150390625, -0.0092010498046875, 0.0005445480346679688, -0.0086212158203125, 0.01264190673828125, -0.0203857421875, 0.01006317138671875, -0.02044677734375, -0.00859832763671875, -0.006679534912109375, 0.0275726318359375, 0.00545501708984375, -0.0095367431640625, 0.00971221923828125, 0.0164642333984375, -0.011627197265625, -0.0031108856201171875, 0.0189666748046875, 0.00861358642578125, 0.0027217864990234375, 0.0023174285888671875, 0.017333984375, 0.0144195556640625, -0.00270843505859375, 0.0248260498046875, -0.01031494140625, -0.0191192626953125, -0.0099334716796875, 0.03570556640625, -0.01099395751953125, 0.020843505859375, -0.0017719268798828125, 0.01454925537109375, -0.006206512451171875, 0.0141754150390625, -0.01375579833984375, -0.0019512176513671875, 0.003971099853515625, 0.0119781494140625, -0.004009246826171875, -0.0017652511596679688, 0.0012273788452148438, -0.0099029541015625, 0.0165252685546875, -0.0167999267578125, -0.003326416015625, -0.00510406494140625, -0.033050537109375, -0.011749267578125, -0.01059722900390625, -0.01332855224609375, -0.00482177734375, 0.0018377304077148438, 0.02313232421875, 0.007450103759765625, 0.0164642333984375, -0.0118255615234375, 0.00302886962890625, 0.0015497207641601562, -0.007396697998046875, 0.0148773193359375, 0.017120361328125, -0.007610321044921875, -0.006622314453125, 0.0119781494140625, 0.00360870361328125, 0.01922607421875, -0.007656097412109375, -0.00955963134765625, 0.01222991943359375, -0.006206512451171875, -0.01348876953125, 0.01123809814453125, -0.01258087158203125, 0.005275726318359375, 0.004009246826171875, -0.0179901123046875, -0.004703521728515625, -0.0160980224609375, -0.0088043212890625, 0.0162506103515625, 4.750490188598633e-05, -0.01345062255859375, -0.00017333030700683594, -0.0029621124267578125, 0.0023326873779296875, 0.0078582763671875, 0.0090789794921875, -0.013824462890625, 0.0045166015625, -0.0308380126953125, -0.0301055908203125, -0.01375579833984375, -0.005645751953125, 0.005096435546875, 0.0079498291015625, 0.007266998291015625, 0.005615234375, -0.0097503662109375, 0.00899505615234375, -0.01302337646484375, -0.0238189697265625, -0.01434326171875, -0.0292816162109375, -0.0014352798461914062, 0.0033397674560546875, -0.00907135009765625, -0.013916015625, 0.030426025390625, -0.00553131103515625, -0.005687713623046875, -0.01319122314453125, -0.01013946533203125, 0.01218414306640625, -0.01296234130859375, 0.00199127197265625, -0.0168304443359375, 0.0221099853515625, -0.002410888671875, 0.0038928985595703125, 0.0006742477416992188, 0.007022857666015625, -0.0031585693359375, 0.013824462890625, 0.00453948974609375, -0.022491455078125, -0.011627197265625, -0.003627777099609375, -0.00972747802734375, 0.00959014892578125, -0.018218994140625, 0.01349639892578125, 0.012115478515625, 0.009918212890625, -0.01010894775390625, -0.001789093017578125, 0.01800537109375, 0.004528045654296875, 0.03607177734375, -0.0048065185546875, -0.011566162109375, 0.0269012451171875, -0.005741119384765625, 0.0323486328125, -0.020172119140625, -0.010284423828125, -0.0015468597412109375, -0.01512908935546875, 0.006191253662109375, -0.005634307861328125, -0.00826263427734375, -0.01242828369140625, -0.01085662841796875, -0.015838623046875, 0.00873565673828125, -0.0008730888366699219, -0.02728271484375, -0.0160980224609375, 0.0189361572265625, 0.0003802776336669922, -0.004840850830078125, -0.00894927978515625, 0.00589752197265625, -0.020355224609375, 0.0294952392578125, -0.0269012451171875, -0.0172882080078125, 0.00594329833984375, 0.020965576171875, 0.009033203125, 0.003284454345703125, 0.02227783203125, -0.006984710693359375, -0.01702880859375, -0.0015811920166015625, 0.01004791259765625, 0.0206451416015625, -0.019744873046875, 0.0078125, 0.0008988380432128906, -0.0035076141357421875, -0.00377655029296875, -0.02691650390625, -0.0140838623046875, -0.020843505859375, 0.007373809814453125, 0.0010986328125, -0.03985595703125, -0.0212554931640625, 0.007236480712890625, 0.015106201171875, 0.004314422607421875, 0.0023899078369140625, 0.01131439208984375, -0.0261688232421875, 0.0130615234375, 0.004932403564453125, -0.010467529296875, -0.02166748046875, 0.0137176513671875, -0.00937652587890625, -0.0139312744140625, -0.0182037353515625, -0.00494384765625, -0.00841522216796875, 0.0038471221923828125, -0.0096435546875, -0.014678955078125, 0.0181121826171875, 0.0011701583862304688, 0.008392333984375, 0.01232147216796875, -0.0017347335815429688, -0.005809783935546875, -0.00989532470703125, -0.00878143310546875, 0.0225830078125, 0.00980377197265625, -0.00916290283203125, -0.0208892822265625, -0.010345458984375, -0.02264404296875, 0.0161590576171875, -0.0147857666015625, -0.003772735595703125, -0.01473236083984375, 0.004535675048828125, -0.015838623046875, 0.0089874267578125, -0.00435638427734375, -0.011749267578125, -0.01419830322265625, -0.0092620849609375, 0.0055084228515625, 0.026397705078125, 0.0157012939453125, 0.03668212890625, 0.0090484619140625, -0.006561279296875, 0.032012939453125, -0.0160064697265625, -0.000988006591796875, 0.01345062255859375, -0.0139923095703125, 0.0133056640625, -0.01479339599609375, 0.00281524658203125, -0.0231781005859375, 0.004344940185546875, -0.0007147789001464844, 0.01629638671875, 0.01148223876953125, 0.004512786865234375, -0.012298583984375, -0.0131072998046875, -0.014312744140625, 0.0025806427001953125, 0.00530242919921875, 0.00431060791015625, 0.039520263671875, 0.02069091796875, -0.010711669921875, -0.0054779052734375, -0.002838134765625, 2.1755695343017578e-05, 0.021942138671875, 0.0211639404296875, 0.01497650146484375, -0.023223876953125, -0.01454925537109375, -0.004001617431640625, -0.0222625732421875, -0.0239715576171875, 0.013641357421875, -0.01253509521484375, 0.02459716796875, -0.00928497314453125, 0.0078582763671875, -0.0160980224609375, -0.0211639404296875, -0.007709503173828125, -0.00514984130859375, 0.022796630859375, 0.0064239501953125, 0.0091552734375, 0.01239776611328125, -0.0270538330078125, 0.01053619384765625, -0.012725830078125, -0.0011854171752929688, 0.007080078125, -0.0104217529296875, 0.0156707763671875, 0.004131317138671875, 0.004817962646484375, 0.0240936279296875, -0.0030918121337890625, -0.0156707763671875, 0.0007920265197753906, -0.0078582763671875, 0.0006046295166015625, -0.00817108154296875, -0.0051116943359375, 0.0084381103515625, -0.01436614990234375, -0.03314208984375, 0.00406646728515625, 0.00405120849609375, -0.009521484375, 0.011749267578125, -0.01334381103515625, 0.0042724609375, 0.0018835067749023438, 0.024261474609375, 0.022430419921875, 0.003223419189453125, -0.022552490234375, -0.0159759521484375, -0.0034656524658203125, -0.0145263671875, -0.00855255126953125, 0.0374755859375, -0.0029449462890625, 0.02447509765625, 0.00783538818359375, 0.02374267578125, 0.0036220550537109375, -0.0087738037109375, -0.00760650634765625, 0.00899505615234375, 0.0078277587890625, 0.0188140869140625, -0.010498046875, 0.001979827880859375, 0.025238037109375, 0.018951416015625, 0.01543426513671875, -0.01497650146484375, -0.0117645263671875, 0.014862060546875, 0.0010595321655273438, 0.006725311279296875, 0.01251983642578125, 0.0006585121154785156, -0.00820159912109375, 0.009307861328125, -0.02386474609375, -0.0013599395751953125, 0.00014579296112060547, -0.01508331298828125, -8.273124694824219e-05, -0.0175323486328125, 0.0244140625, -0.0172119140625, 0.005130767822265625, -0.0006666183471679688, 0.0255279541015625, -0.017608642578125, -0.00011479854583740234, -0.004184722900390625, 0.006809234619140625, -0.0203094482421875, 0.007495880126953125, 0.006031036376953125, -0.000583648681640625, 0.0002639293670654297, -0.0224609375, 0.0357666015625, -0.03228759765625, -0.03070068359375, -0.002559661865234375, 0.0026226043701171875, 0.00760650634765625, -0.014068603515625, 0.012054443359375, 0.007015228271484375, 0.004878997802734375, -0.00597381591796875, 0.0017881393432617188, -0.003307342529296875, 0.00629425048828125, -0.006343841552734375, -0.004535675048828125, -0.00690460205078125, 0.0209808349609375, -0.01169586181640625, 0.0081329345703125, 0.00957489013671875, -0.0227203369140625, 0.002429962158203125, 0.010223388671875, 0.0095977783203125, -0.00901031494140625, -5.370378494262695e-05, -0.0016956329345703125, 0.01308441162109375, -0.00447845458984375, 0.00804901123046875, 0.007965087890625, -0.0291290283203125, -0.0201263427734375, 0.019012451171875, -0.0123138427734375, 0.01024627685546875, 0.0008573532104492188, -0.00954437255859375, -0.001918792724609375, 0.006580352783203125, 0.01128387451171875, -0.001834869384765625, -0.01100921630859375, -0.007030487060546875, -0.004947662353515625, 0.01271820068359375, 0.01297760009765625, 0.0027141571044921875, 0.0088653564453125, 0.0009508132934570312, -0.020660400390625, 0.01464080810546875, -0.0007042884826660156, -0.00762939453125, -0.00444793701171875, -0.03021240234375, 0.002834320068359375, -0.007358551025390625, -0.0299224853515625, -0.031890869140625, -0.029327392578125, 0.008819580078125, 0.00945281982421875, -0.0016298294067382812, -0.0150909423828125, 0.01702880859375, 0.007740020751953125, -0.007328033447265625, -0.01270294189453125, 0.01117706298828125, 0.005462646484375, 0.002475738525390625, 0.0227813720703125, -0.0276031494140625, 2.2411346435546875e-05, 0.0033206939697265625, -0.02410888671875, 0.0123748779296875, -0.0010166168212890625, -0.0298309326171875, 0.0182037353515625, 0.00501251220703125, -0.01070404052734375, 0.0150299072265625, 0.00894927978515625, 0.007709503173828125, 0.030548095703125, -0.007274627685546875, -0.02294921875, 0.0238800048828125, -0.002826690673828125, -0.005352020263671875, 0.0008373260498046875, 0.0007538795471191406, -0.01012420654296875, 0.00047969818115234375, 0.0005564689636230469, -0.01195526123046875, -0.0101776123046875, -0.01531219482421875, -0.00560760498046875, 0.01303863525390625, -0.0026607513427734375, 0.0012264251708984375, -0.01448822021484375, 0.0132598876953125, -0.0101776123046875, -0.0092620849609375, -0.02252197265625, -0.00738525390625, -0.005741119384765625, 0.0084381103515625, 0.0092926025390625, -0.008819580078125, 0.0028324127197265625, 0.007274627685546875, 0.00969696044921875, 0.031707763671875, -0.00806427001953125, 0.0296478271484375, 0.000728607177734375, -0.01277923583984375, 0.001789093017578125, -0.004795074462890625, -0.007663726806640625, -0.0159912109375, 0.0045013427734375, 0.004150390625, -0.0007996559143066406, -0.01078033447265625, 0.00991058349609375, 0.0198822021484375, -0.0167083740234375, -0.00959014892578125, -0.00933837890625, -0.01739501953125, -0.0197906494140625, -0.009857177734375, 0.040252685546875, -0.0093231201171875, 0.00821685791015625, -0.003223419189453125, 0.01074981689453125, 0.006000518798828125, 0.00875091552734375, 0.006053924560546875, -0.01654052734375, -0.0039825439453125, -0.01416015625, -0.00894927978515625, 0.01678466796875, 0.020599365234375, -0.01279449462890625, -0.005218505859375, 0.0014820098876953125, -0.0274658203125, 0.0004649162292480469, -0.00768280029296875, 0.03948974609375, -0.0262908935546875, 0.0098724365234375, 0.019439697265625, -0.004352569580078125, 0.00420379638671875, 0.01259613037109375, -0.017486572265625, -0.0335693359375, 0.0099639892578125, 0.00878143310546875, -0.01334381103515625, -0.055450439453125, -0.01043701171875, -0.005954742431640625, 0.0108795166015625, 0.0268707275390625]\",\n          \"[-0.00658416748046875, -0.02490234375, 0.01439666748046875, -0.006683349609375, -0.0024623870849609375, -0.0186004638671875, 0.00872802734375, 0.0021190643310546875, 0.01018524169921875, -0.0200958251953125, -0.01580810546875, -0.00730133056640625, -0.0257568359375, 0.01020050048828125, 0.032562255859375, -0.008697509765625, 0.00333404541015625, -0.004787445068359375, 0.007099151611328125, -0.009185791015625, -0.0115509033203125, -0.0024662017822265625, 0.0019311904907226562, 0.0215301513671875, 0.01146697998046875, 0.0177459716796875, 0.01145172119140625, 0.01548004150390625, 0.0030536651611328125, 0.021148681640625, -0.01374053955078125, 0.01739501953125, -0.0280914306640625, -0.00885009765625, -0.0013370513916015625, 0.0022430419921875, -0.002857208251953125, 0.0014801025390625, 0.0218963623046875, -0.0142364501953125, -0.01580810546875, -0.018310546875, -0.0251617431640625, 0.00656890869140625, 0.01419830322265625, 0.0114898681640625, -0.0038661956787109375, -0.00627899169921875, 0.0021648406982421875, 0.0193939208984375, 0.01666259765625, 0.0118865966796875, -0.006114959716796875, 0.0128021240234375, -0.029327392578125, 0.006511688232421875, -0.0007257461547851562, -0.003753662109375, 0.0185699462890625, -0.004070281982421875, 0.0008249282836914062, 0.0150146484375, 0.002193450927734375, -0.006381988525390625, -0.0031375885009765625, -0.00695037841796875, -0.0038051605224609375, 0.01406097412109375, -0.04144287109375, -0.0112762451171875, 0.0058746337890625, 0.00019872188568115234, 0.015167236328125, -0.00846099853515625, -0.0266571044921875, -0.01251220703125, -0.00966644287109375, -0.009552001953125, -0.0003943443298339844, -0.01486968994140625, 0.018646240234375, -0.00020647048950195312, 0.0038089752197265625, -0.0035953521728515625, 0.01361846923828125, 0.0007262229919433594, 0.00951385498046875, -0.01282501220703125, 0.006145477294921875, 0.0207366943359375, -0.0166015625, 0.00891876220703125, -0.014312744140625, -0.01169586181640625, 0.006755828857421875, 0.01242828369140625, 0.007442474365234375, -0.00022518634796142578, 0.0183868408203125, 0.00959014892578125, 0.026824951171875, 0.0279541015625, 0.01271820068359375, -0.01262664794921875, 0.0064697265625, 0.005695343017578125, -0.007293701171875, 0.00835418701171875, -0.0064697265625, 0.0218353271484375, 0.047088623046875, 0.02593994140625, -0.005016326904296875, -0.012481689453125, -0.0253753662109375, 0.0016126632690429688, -0.006092071533203125, 0.014801025390625, 0.00923919677734375, -0.0007123947143554688, -0.0272369384765625, -0.01105499267578125, 0.004425048828125, -0.01029205322265625, 0.0011768341064453125, 0.01349639892578125, -0.005680084228515625, 0.004856109619140625, -0.006832122802734375, -0.005580902099609375, 0.0222625732421875, 0.00768280029296875, -0.018035888671875, -0.016571044921875, -0.00435638427734375, 0.0009746551513671875, -0.0126800537109375, -0.0090789794921875, -0.003185272216796875, -0.018310546875, -0.028717041015625, 0.010528564453125, 0.0077972412109375, 0.01093292236328125, 0.0133209228515625, -0.0020961761474609375, 0.01165771484375, 0.019866943359375, 0.0246734619140625, 0.00841522216796875, 0.00028014183044433594, 0.0083770751953125, 0.02484130859375, -0.01000213623046875, -0.0111846923828125, 0.005344390869140625, -0.01045989990234375, 0.0146942138671875, 0.0126953125, -0.03839111328125, -0.016845703125, 0.02239990234375, -0.01004791259765625, -0.0010662078857421875, 0.00646209716796875, 0.0016345977783203125, 0.01195526123046875, -0.02667236328125, -0.01273345947265625, -0.0029964447021484375, -0.0251007080078125, -0.005123138427734375, -0.00528717041015625, 0.0135650634765625, 0.0008158683776855469, 0.002353668212890625, -0.01013946533203125, 0.0025691986083984375, 0.01303863525390625, 0.005817413330078125, -0.0018262863159179688, -0.01186370849609375, -0.0014333724975585938, -0.0004832744598388672, -0.0049591064453125, -0.046478271484375, -0.0269927978515625, -0.005695343017578125, 0.0009126663208007812, 0.0013170242309570312, -0.007251739501953125, 0.0066375732421875, -0.031982421875, 0.0209197998046875, 0.0176849365234375, -0.009246826171875, 0.006839752197265625, 0.0294189453125, -0.01477813720703125, -0.0055999755859375, 0.00830841064453125, 0.004215240478515625, -0.00455474853515625, -0.00287628173828125, -0.05230712890625, -0.00244140625, -0.018585205078125, 0.00020897388458251953, 0.039306640625, 0.00711822509765625, -0.004474639892578125, 0.014801025390625, -0.0013141632080078125, -0.00730133056640625, -0.01052093505859375, -0.01511383056640625, -0.001796722412109375, -0.00811004638671875, 0.0033397674560546875, -0.01003265380859375, -0.01824951171875, 0.01483154296875, -0.0020618438720703125, 0.03192138671875, -0.003238677978515625, -0.00852203369140625, 0.0126800537109375, 9.071826934814453e-05, -0.0014667510986328125, 0.001132965087890625, -0.0018758773803710938, -0.0285491943359375, 0.0081787109375, 0.00945281982421875, -0.01282501220703125, -0.029205322265625, -0.01512908935546875, 0.01727294921875, -0.0105438232421875, -0.023895263671875, 0.0008788108825683594, -0.01495361328125, 0.01178741455078125, -0.01593017578125, 0.01261138916015625, 0.0136871337890625, 0.013092041015625, 0.006504058837890625, 0.021636962890625, 0.004650115966796875, -0.006214141845703125, 0.014556884765625, 0.00658416748046875, 0.006603240966796875, 0.0171966552734375, -0.01108551025390625, -0.0199127197265625, 0.019927978515625, 0.023193359375, -0.0048828125, 0.00762176513671875, 0.00534820556640625, -0.0028400421142578125, -0.00537872314453125, 0.0018854141235351562, 0.0266571044921875, 0.040069580078125, 0.004383087158203125, -0.00693511962890625, 0.0230712890625, 0.0418701171875, 0.00939178466796875, 0.018524169921875, 0.007373809814453125, -0.004085540771484375, 0.008544921875, 0.00689697265625, 0.0002605915069580078, -0.007602691650390625, 0.00037932395935058594, -0.017425537109375, 0.0010890960693359375, 0.01947021484375, -0.0030422210693359375, -0.028167724609375, -0.01532745361328125, -0.0228424072265625, -0.0021533966064453125, -0.020751953125, -0.00016510486602783203, 0.0033512115478515625, 0.01318359375, 0.0011873245239257812, -0.0021114349365234375, -0.023162841796875, -0.0157928466796875, -0.00921630859375, 0.01543426513671875, 0.016815185546875, -0.0125885009765625, 0.0203857421875, 0.00435638427734375, 0.006298065185546875, 0.01189422607421875, -0.02117919921875, -0.0114593505859375, 0.0022220611572265625, 0.0367431640625, 0.0159454345703125, 0.0274200439453125, -0.017852783203125, 0.0219268798828125, 0.0113372802734375, 0.001262664794921875, -0.0280609130859375, -0.00039458274841308594, -0.00605010986328125, 0.0034542083740234375, 0.022613525390625, -0.0006070137023925781, -0.006343841552734375, -0.006969451904296875, -0.004619598388671875, 0.00036835670471191406, 0.0254364013671875, -0.03985595703125, -0.0116119384765625, -0.004596710205078125, 0.0004558563232421875, 0.020904541015625, -0.0138092041015625, 0.022796630859375, 0.0075836181640625, 0.037933349609375, 0.01430511474609375, 0.00560760498046875, 0.01093292236328125, -0.0088348388671875, -0.006496429443359375, 0.0210418701171875, 0.0199432373046875, -0.017364501953125, 0.00028514862060546875, -0.022796630859375, -0.01010894775390625, -0.0174407958984375, -0.031463623046875, 0.0005764961242675781, -0.003467559814453125, -0.00681304931640625, -0.0095062255859375, -0.02032470703125, 0.0040283203125, -0.00855255126953125, 0.0065460205078125, -0.0287933349609375, 0.004474639892578125, 0.021484375, 0.0089874267578125, -0.001922607421875, 0.0005936622619628906, -0.03131103515625, -0.0228729248046875, -0.0008134841918945312, -0.0164337158203125, -0.007038116455078125, 0.005611419677734375, -0.002407073974609375, 0.004581451416015625, -0.02862548828125, 0.0015897750854492188, -0.00899505615234375, 0.00246429443359375, 0.00824737548828125, 0.00272369384765625, 0.0082855224609375, 0.0021209716796875, 0.01541900634765625, -0.00042176246643066406, 0.007434844970703125, -0.00041747093200683594, -0.0268707275390625, 0.00945281982421875, 0.01523590087890625, -0.024200439453125, 0.00688934326171875, 0.004825592041015625, -0.0254364013671875, -0.0059356689453125, -0.0238800048828125, 0.00899505615234375, 0.0204925537109375, 0.0121002197265625, 0.0014104843139648438, -0.006061553955078125, -0.017547607421875, -0.029449462890625, -0.01413726806640625, -0.0078887939453125, -0.0058135986328125, -0.01041412353515625, -0.0118255615234375, -0.00438690185546875, -0.006343841552734375, 0.0158233642578125, -0.0205078125, 0.0007038116455078125, -0.023193359375, -0.0263214111328125, 0.00353240966796875, 0.00669097900390625, 0.0191192626953125, 0.00286102294921875, -0.0161895751953125, 0.0136566162109375, 0.02386474609375, 0.00258636474609375, 0.0019245147705078125, 0.0228424072265625, -0.01397705078125, 0.0362548828125, -0.0207366943359375, 0.00901031494140625, 0.0052032470703125, 0.0017948150634765625, -0.0238494873046875, -0.0099334716796875, 0.0006122589111328125, -0.00928497314453125, -0.01403045654296875, 0.0091705322265625, -0.00021004676818847656, -0.0197601318359375, -0.00681304931640625, -0.0107574462890625, -0.010498046875, 0.0037517547607421875, 0.0179901123046875, -0.01541900634765625, -0.0002474784851074219, 0.01512908935546875, 0.0166168212890625, 0.01268768310546875, -0.01279449462890625, 0.0129547119140625, -0.003932952880859375, -0.016143798828125, 0.007076263427734375, -0.0215911865234375, -0.006549835205078125, -0.029876708984375, -0.004512786865234375, 0.01531219482421875, 0.0270233154296875, -0.0021076202392578125, 0.0094757080078125, 0.003383636474609375, -0.00933837890625, 0.0022068023681640625, 0.009368896484375, 0.01270294189453125, -0.0092315673828125, -0.006961822509765625, -0.003101348876953125, -0.0147247314453125, -0.0020732879638671875, -0.0018281936645507812, 0.0187835693359375, 0.005126953125, -0.008697509765625, -0.0243072509765625, -0.0098876953125, 0.014373779296875, -0.0095977783203125, 0.0029697418212890625, -0.007778167724609375, 0.01052093505859375, -0.01439666748046875, -0.00299072265625, -0.00592041015625, -0.004634857177734375, -0.01404571533203125, 0.01023101806640625, 0.01477813720703125, -0.0009984970092773438, -0.0285797119140625, -0.0156707763671875, 0.028656005859375, 0.0002951622009277344, -0.00618743896484375, -0.01126861572265625, -0.01371002197265625, -0.0135345458984375, -0.031646728515625, 0.00968170166015625, 0.0245361328125, 0.0249176025390625, 0.024139404296875, -0.004436492919921875, 0.01352691650390625, 0.01230621337890625, 0.0092315673828125, -0.0091552734375, 0.017364501953125, -0.033050537109375, 0.00791168212890625, -0.010986328125, 0.01422119140625, 0.004444122314453125, -0.0167236328125, -0.01506805419921875, -0.01390838623046875, -0.0014905929565429688, -0.0040435791015625, -0.0278167724609375, 0.0200347900390625, 0.0087890625, 9.5367431640625e-05, 0.0104827880859375, 0.00403594970703125, -0.013427734375, -0.0203857421875, -0.024749755859375, -0.012451171875, 0.00370025634765625, -0.0024261474609375, -0.0333251953125, -0.00521087646484375, 0.01165771484375, 0.0236968994140625, 0.0018329620361328125, -0.0127716064453125, 0.00815582275390625, -0.0174102783203125, 0.018890380859375, 0.026641845703125, -0.005466461181640625, 0.004383087158203125, 0.01299285888671875, -0.00934600830078125, 0.0106201171875, -0.0021800994873046875, 0.0157318115234375, 0.0115814208984375, 0.032989501953125, -0.01004791259765625, -0.0292816162109375, -0.0096282958984375, -0.001583099365234375, 0.0169219970703125, 0.003589630126953125, 0.019989013671875, 0.0341796875, -0.01873779296875, 0.01244354248046875, -0.020965576171875, -0.01824951171875, 0.023895263671875, -0.0187225341796875, 0.006671905517578125, -0.004825592041015625, -0.007259368896484375, -0.0009813308715820312, -0.001689910888671875, -0.0182342529296875, -0.00595855712890625, -0.0006690025329589844, 0.0033893585205078125, 0.0275115966796875, 0.00904083251953125, 0.0034847259521484375, 0.010894775390625, 0.021514892578125, -0.008209228515625, -0.0003993511199951172, 0.0364990234375, -0.003917694091796875, 0.0201873779296875, 0.01404571533203125, 0.0025577545166015625, 0.01174163818359375, -0.0078277587890625, 0.0057373046875, -0.01003265380859375, 0.0240478515625, 0.01313018798828125, -0.00872802734375, -0.0123291015625, 0.0119476318359375, 0.01371002197265625, 0.0221099853515625, -0.01320648193359375, 0.0135345458984375, 0.025390625, -0.0025882720947265625, 0.0228729248046875, -0.01087188720703125, 0.03924560546875, 0.00909423828125, -0.0164947509765625, -0.01043701171875, 0.00982666015625, 0.00679779052734375, -0.0014543533325195312, 0.0167999267578125, -0.00846099853515625, -0.00988006591796875, -0.00026488304138183594, -0.0016279220581054688, 0.03253173828125, 0.0008158683776855469, 0.0008020401000976562, -0.0019397735595703125, 0.0311126708984375, 0.0208282470703125, 0.0020599365234375, -0.003368377685546875, 0.01406097412109375, -0.006988525390625, -0.00919342041015625, -0.0020084381103515625, -0.0309600830078125, -0.00313568115234375, 0.0026607513427734375, 0.015869140625, 0.01122283935546875, -0.01100921630859375, 0.0194244384765625, 0.0018320083618164062, 0.0005540847778320312, 0.01140594482421875, -0.0218505859375, 0.0004901885986328125, 0.00357818603515625, -0.003997802734375, -0.035186767578125, -0.00775146484375, 0.01122283935546875, -0.006252288818359375, -0.0126190185546875, 0.0031795501708984375, 0.01534271240234375, 0.0007538795471191406, 0.013427734375, 0.0092010498046875, -0.0099029541015625, 0.0201568603515625, 0.035003662109375, -0.00399017333984375, -0.00836181640625, 0.005558013916015625, 0.0072174072265625, -0.047882080078125, 0.03277587890625, -0.0175018310546875, -0.003787994384765625, -0.0063934326171875, 0.005218505859375, -0.00539398193359375, -0.0281982421875, -0.01123046875, 0.0178070068359375, 0.05438232421875, -0.01180267333984375, -0.026824951171875, -0.001735687255859375, 0.028045654296875, -0.017730712890625, -0.01397705078125, -0.005340576171875, 0.002704620361328125, -0.00030350685119628906, 0.006866455078125, -0.0001723766326904297, 0.025970458984375, 0.00016939640045166016, 0.00982666015625, -0.0289306640625, 0.0135955810546875, -0.0031299591064453125, 0.005023956298828125, 0.02081298828125, -0.0113372802734375, 0.005588531494140625, -0.016632080078125, 0.0256805419921875, -0.0079345703125, 0.003231048583984375, 0.0009140968322753906, -0.0085601806640625, 0.01319122314453125, 0.0180511474609375, -0.00433349609375, 0.019012451171875, 0.03741455078125, -0.0274505615234375, -0.01392364501953125, -0.00734710693359375, -0.0047760009765625, -0.0187225341796875, 0.01727294921875, -0.0095977783203125, -0.0135498046875, -0.0130615234375, -0.002552032470703125, 0.049652099609375, 0.02459716796875, -0.0171661376953125, -0.00800323486328125, 0.0258331298828125, -0.0254364013671875, -0.0137786865234375, 0.0132293701171875, -0.0240325927734375, 0.02081298828125, -0.0108795166015625, 0.0011548995971679688, -0.0008115768432617188, 0.006740570068359375, 0.0158233642578125, -0.00231170654296875, 0.0234375, 0.025360107421875, -0.00010651350021362305, 0.016357421875, 0.0292205810546875, 0.00518035888671875, -0.007305145263671875, -0.00652313232421875, 0.01001739501953125, -0.009674072265625, 0.0197601318359375, 0.006801605224609375, -0.002490997314453125, 0.003124237060546875, 0.01221466064453125, -0.046661376953125, 0.0113067626953125, -0.0091705322265625, -0.004215240478515625, 0.00957489013671875, 0.0166778564453125, -0.01306915283203125, 0.02642822265625, -0.0052337646484375, -0.0177764892578125, 0.01346588134765625, -0.01419830322265625, -0.0020580291748046875, -0.0033473968505859375, -0.00547027587890625, 0.0055694580078125, -0.00637054443359375, 0.01381683349609375, -0.0087738037109375, 0.01383209228515625, -0.00350189208984375, -0.035980224609375, -0.017669677734375, 0.001373291015625, 0.03857421875, -0.0290679931640625, 0.0143280029296875, 0.01486968994140625, -0.01282501220703125, -0.010498046875, 0.0042266845703125, 0.019683837890625, -0.024688720703125, -0.0010166168212890625, 0.025787353515625, 0.01474761962890625, -0.0281219482421875, 0.00653076171875, 0.0019311904907226562, 0.00965118408203125, -0.00168609619140625, 0.054595947265625, -0.0019893646240234375, 0.015045166015625, -0.00811004638671875, -0.0311126708984375, -0.023712158203125, 0.00508880615234375, 0.0024433135986328125, 0.00262451171875, -0.0011491775512695312, 0.011566162109375, 0.0020465850830078125, -0.0138092041015625, 0.00304412841796875, 0.01439666748046875, 0.020538330078125, -0.01251220703125, 0.005374908447265625, 0.006412506103515625, -0.0208740234375, -0.0015821456909179688, 0.01232147216796875, -0.033599853515625, 0.00933074951171875, 0.0127410888671875, -0.0257110595703125, -0.0035991668701171875, 0.0156097412109375, 0.000682830810546875, 0.01934814453125, 0.002513885498046875, -0.027069091796875, 0.0208282470703125, -0.0313720703125, 0.019439697265625, -0.007740020751953125, 0.00984954833984375, 0.0325927734375, -0.01291656494140625, -0.00478363037109375, 0.0185699462890625, -0.002346038818359375, -0.01229095458984375, 0.02252197265625, -0.0011768341064453125, 0.03289794921875, -0.00897979736328125, 0.0015010833740234375, -0.002353668212890625, 0.018463134765625, 0.0166778564453125, 0.02325439453125, 0.0039215087890625, 0.0159149169921875, 0.007678985595703125, 0.0186614990234375, 0.007068634033203125, -0.008697509765625, -0.061431884765625, -0.00179290771484375, -0.03460693359375, 0.0087738037109375, 0.0245513916015625, -0.01200103759765625, 0.0109100341796875, 0.01171875, 0.01464080810546875, -0.0096282958984375, -0.022430419921875, -0.01543426513671875, 0.00959014892578125, -0.01222991943359375, -3.403425216674805e-05, 0.0097808837890625, 0.0037822723388671875, 0.00591278076171875, 0.00896453857421875, -0.01983642578125, -0.0164947509765625, 0.0110931396484375, -0.0062255859375, -0.01273345947265625, -0.0245361328125, -0.0014467239379882812, -0.026611328125, -0.03680419921875, -0.0190277099609375, 0.01441192626953125, 0.0193023681640625, -0.01690673828125, -0.0290985107421875, -0.0150146484375, -0.0248870849609375, -0.011077880859375, -0.01442718505859375, 0.00893402099609375, -0.005859375, -0.02166748046875, 0.014801025390625, -0.025054931640625, -0.0239410400390625, 0.0010805130004882812, 0.0157318115234375, -0.00026917457580566406, -0.004161834716796875, 0.0008158683776855469, 0.006256103515625, 0.0186920166015625, 0.003993988037109375, 0.0247955322265625, 0.00704193115234375, 0.0031909942626953125, 0.004558563232421875, 0.002716064453125, -0.01428985595703125, 0.01009368896484375, 0.0022563934326171875, -0.01568603515625, 0.01177978515625, -0.01117706298828125, -0.0013647079467773438, 0.0203094482421875, 0.017059326171875, -0.01073455810546875, -0.00656890869140625, 0.003765106201171875, 0.002460479736328125, 0.0281524658203125, -0.017669677734375, 7.18832015991211e-05, -0.006237030029296875, -0.01477813720703125, -0.01448822021484375, -0.025238037109375, 0.005649566650390625, -0.021575927734375, 0.008056640625, 0.01275634765625, 0.015594482421875, 0.01067352294921875, 0.0139923095703125, -0.0193023681640625, 0.0175018310546875, -0.019134521484375, -0.00356292724609375, -0.0179443359375, 0.01058197021484375, 0.0244293212890625, 0.0016345977783203125, -0.0207061767578125, -0.00612640380859375, -0.0016698837280273438, -0.010589599609375, -0.006130218505859375, 0.01038360595703125, 0.0025463104248046875, 0.00229644775390625, 0.00780487060546875, -0.007476806640625, 0.02606201171875, 0.022613525390625, -0.01067352294921875, 0.0089111328125, 0.004085540771484375, 0.01113128662109375, 0.00426483154296875, -0.0124053955078125, -0.004779815673828125, -0.0227508544921875, 0.01495361328125, 0.017669677734375, 0.0264434814453125, -0.003787994384765625, 0.016265869140625, -0.0131988525390625, -0.030120849609375, -0.0028438568115234375, -0.027557373046875, 0.01425933837890625, -0.0035686492919921875, -0.006076812744140625, -0.016387939453125, -0.0075836181640625, 0.0072174072265625, 0.01557159423828125, 0.005855560302734375, -0.041748046875, -0.017303466796875, 0.0096588134765625, -0.019500732421875, -0.021087646484375, -0.0009174346923828125, 0.0133514404296875, 0.0055999755859375, -0.0169219970703125, -0.01093292236328125, -0.0008249282836914062, -0.01439666748046875, 0.000331878662109375, 0.015869140625, -0.01178741455078125, -0.0035686492919921875, -0.01092529296875, 0.004489898681640625, 0.004085540771484375, -0.021636962890625, 0.001850128173828125, -0.01110076904296875, 0.04779052734375, -0.0133209228515625, -0.0006551742553710938, 0.0260162353515625, 0.02191162109375, 0.01132965087890625, -0.0201873779296875, 0.00937652587890625, -0.0105133056640625, 0.0138702392578125, -0.0123291015625, 0.00325775146484375, 0.005413055419921875, 0.0005583763122558594, -0.01071929931640625, -0.0181732177734375, 0.0294647216796875, -0.01422119140625, 0.0169525146484375, -0.03509521484375, 0.032806396484375, -0.01800537109375, 0.01065826416015625, 0.02337646484375, -0.006412506103515625, 0.01464080810546875, -0.008544921875, -0.0002486705780029297, 0.0014066696166992188, 0.032867431640625, -0.008819580078125, -0.007671356201171875, -0.00667572021484375, -0.0094451904296875, -0.005756378173828125, -0.0014400482177734375, -0.006317138671875, -0.0006198883056640625, -0.0157318115234375, -0.00859832763671875, 0.00508880615234375, 0.0080718994140625, -0.0166473388671875, -0.00035262107849121094, 0.00592803955078125, -0.0010242462158203125, -0.0134735107421875, 0.00984954833984375, -0.007244110107421875, 0.01461029052734375, 0.004795074462890625, 0.0016193389892578125, 0.01221466064453125, 0.005809783935546875, 0.01316070556640625, -0.01300048828125, -0.0217437744140625, -0.0149078369140625, 0.0013303756713867188, -0.038543701171875, 0.01374053955078125, 0.0090179443359375, -0.025238037109375, 0.0138092041015625, 0.01328277587890625, -0.0101165771484375, -0.005626678466796875, -0.006420135498046875, 0.01812744140625, 0.0080718994140625, 0.0111236572265625, -0.007427215576171875, 0.0157928466796875, -0.018218994140625, -0.0031147003173828125, 0.0051727294921875, 0.02484130859375, -0.0027313232421875, -0.018951416015625, -0.005054473876953125, 0.007617950439453125, -0.0107421875, 0.0277099609375, -0.00644683837890625, -0.003353118896484375, -0.023773193359375, -0.0157470703125, -0.0005908012390136719, -0.00681304931640625, 0.00959014892578125, 0.014678955078125, 0.01277923583984375, 0.0057220458984375, -0.00235748291015625, 0.031585693359375, -0.00911712646484375, -0.006282806396484375, -0.004650115966796875, 0.0004525184631347656, 0.000774383544921875, 0.019744873046875, -0.0007190704345703125, -0.00812530517578125, 0.01116180419921875, -0.026763916015625, 0.015625, -0.0091400146484375, 0.012451171875, -0.012603759765625, -0.025238037109375, 0.0081634521484375, -0.00505828857421875, 0.00537872314453125, -0.01441192626953125, 0.0014801025390625, -0.020263671875, 0.00606536865234375, -0.018218994140625, 0.024383544921875, 0.004058837890625, -0.01453399658203125, 0.01285552978515625, -0.0150146484375, 0.0089569091796875, 0.0260162353515625, -0.00013625621795654297, 0.0126190185546875, -0.01390838623046875, -0.0056610107421875, -0.018524169921875, 0.00922393798828125, 0.00870513916015625, 0.0118560791015625, 0.01056671142578125, -0.00615692138671875, -0.0095062255859375, -0.016387939453125, 0.00801849365234375, -0.01027679443359375, -0.0262451171875, -0.005035400390625, -0.010162353515625, -0.00836944580078125, -0.00998687744140625, 0.01453399658203125, -0.0160369873046875, 0.00936126708984375, 0.01256561279296875, 0.0008635520935058594, -0.0030345916748046875, 0.007366180419921875, 0.0167694091796875, 0.00339508056640625, 0.006313323974609375, -0.0199737548828125, -0.00853729248046875, -0.0232696533203125, 0.0077972412109375, -0.016387939453125, 0.01328277587890625, 0.00962066650390625, 0.0083160400390625, 0.02227783203125, 0.00884246826171875, 0.0036029815673828125, 0.0043487548828125, -0.00571441650390625, -0.004329681396484375, 0.01654052734375, 0.00868988037109375, 0.01068878173828125, -0.00023639202117919922, 0.01837158203125, -0.01232147216796875, 0.0269622802734375, -0.006801605224609375, -0.0027408599853515625, 0.00733184814453125, 0.0023555755615234375, 0.011810302734375, -0.0146026611328125, -0.00299835205078125, -0.006778717041015625, 0.006572723388671875, 0.0017404556274414062, 0.016448974609375, -0.0160064697265625, -0.0016355514526367188, -0.004299163818359375, -0.02508544921875, -0.0072174072265625, 0.0223388671875, 0.004070281982421875, 0.0089874267578125, -0.0169677734375, -0.0008273124694824219, 0.0142364501953125, -0.00333404541015625, 0.0029754638671875, -0.0007648468017578125, -0.005146026611328125, 0.0222930908203125, 0.0194091796875, 0.0016727447509765625, -0.035888671875, -0.005218505859375, -0.0157470703125, -0.004360198974609375, -0.0243072509765625, -0.03302001953125, -0.0272674560546875, -0.013397216796875, 0.0048828125, -0.0024871826171875, -0.004718780517578125, -0.0196533203125, 0.0406494140625, -0.01934814453125, -0.0084228515625, -0.0108795166015625, 0.0174102783203125, 0.00395965576171875, -0.0203857421875, -0.034454345703125, -0.00339508056640625, -0.0087738037109375, 0.0274810791015625, -0.0009813308715820312, 0.005474090576171875, 0.01151275634765625, -0.006717681884765625, 0.0090484619140625, 0.0014104843139648438, -0.0101318359375, 0.004901885986328125, -0.03009033203125, -3.4570693969726562e-06, -0.0090484619140625, 0.010498046875, -0.00223541259765625, 0.006927490234375, -0.001995086669921875, -0.0020904541015625, -0.0151824951171875, 0.0243988037109375, 0.01605224609375, -0.0007190704345703125, -0.018463134765625, 0.0281982421875, 0.005519866943359375, 0.0019741058349609375, 0.00464630126953125, 0.0011119842529296875, -0.0254669189453125, -1.1146068572998047e-05, 0.00927734375, 0.01261138916015625, -0.0012340545654296875, 0.0192413330078125, 0.0026607513427734375, -0.0004696846008300781, 0.0014314651489257812, 0.0035076141357421875, 0.00984954833984375, 0.00574493408203125, -0.0161285400390625, -0.0185394287109375, -0.002227783203125, 0.037078857421875, 0.0159454345703125, 0.00249481201171875, -0.00829315185546875, -0.0254058837890625, 0.00823974609375, -0.0296630859375, 0.013031005859375, -0.01465606689453125, 0.01513671875, 0.01354217529296875, -0.0023250579833984375, -0.0217437744140625, -0.0157928466796875, -0.002208709716796875, -0.001132965087890625, 0.00542449951171875, 0.00452423095703125, -0.012451171875, 0.0018215179443359375, -0.0007600784301757812, -0.0185699462890625, -0.01044464111328125, -0.01232147216796875, -0.001834869384765625, -0.0136260986328125, -0.0024051666259765625, -0.005176544189453125, -0.004398345947265625, 0.0148162841796875, -0.0050201416015625, -0.01165771484375, 0.0157623291015625, 0.0035648345947265625, -0.0207061767578125, -0.0130615234375, 0.005001068115234375, -0.009490966796875, 0.0006575584411621094, 0.0057830810546875, -0.00644683837890625, -0.004184722900390625, 0.0032367706298828125, 0.0100555419921875, -0.011566162109375, -0.0004181861877441406, -0.002960205078125, 0.006443023681640625, 0.0250244140625, 0.026763916015625, 0.0008401870727539062, 0.0019855499267578125, -0.0116119384765625, -0.0209808349609375, 0.01000213623046875, -0.03228759765625, -0.00847625732421875, -0.00508880615234375, 0.0084075927734375, -0.00992584228515625, -0.006805419921875, -0.01169586181640625, -0.0012416839599609375, -0.004913330078125, 0.000209808349609375, -0.0248870849609375, -0.00228118896484375, 9.924173355102539e-05, -0.012420654296875, -0.017547607421875, -0.025146484375, -0.006481170654296875, -0.003490447998046875, 0.0047760009765625, 0.009552001953125, 0.00678253173828125, 0.023681640625, 0.057952880859375, 0.014373779296875, 0.00531005859375, -0.002986907958984375, 0.031005859375, 0.003971099853515625, -0.0041046142578125, -0.02630615234375, 0.03265380859375, -0.01439666748046875, 0.007213592529296875, -0.002307891845703125, -0.0178680419921875, 0.0020732879638671875, -0.013275146484375, 0.0260162353515625, 0.0189666748046875, 0.016326904296875, -0.0180206298828125, -0.0146636962890625, 0.00921630859375, 0.0013856887817382812, -0.004505157470703125, 0.01129913330078125, 0.0160369873046875, 0.0181884765625, 0.01318359375, -0.011688232421875, -0.0238189697265625, 0.004241943359375, -0.01378631591796875, -0.004489898681640625, 0.0296630859375, 0.0013790130615234375, -0.0048828125, 0.0134124755859375, -0.009368896484375, 0.0019741058349609375, 0.0035686492919921875, 0.0180511474609375, 0.01126861572265625, -0.02911376953125, -0.034027099609375, -0.0208892822265625, 0.01021575927734375, -0.0460205078125, -0.002742767333984375, 0.0157318115234375, 0.0014362335205078125, 0.0154876708984375, -0.0133514404296875, -0.0057220458984375, -0.01224517822265625, -0.0018186569213867188, -0.01415252685546875, -0.0012426376342773438, -0.01593017578125, 0.0299530029296875, -0.0016679763793945312, -0.001956939697265625, 0.0191497802734375, -0.04443359375, -0.0084991455078125, -0.01543426513671875, -0.01119232177734375, -0.016571044921875, 0.01076507568359375, -0.0005774497985839844, 0.00605010986328125, -0.00970458984375, -0.004711151123046875, -0.037445068359375, -0.0023975372314453125, 0.004352569580078125, 0.0167694091796875, 0.006786346435546875, 0.0008907318115234375, -0.001293182373046875, -0.0218505859375, 0.00868988037109375, 0.016143798828125, 0.0022525787353515625, 0.00637054443359375, -0.0108184814453125, -0.01180267333984375, -0.0180206298828125, -0.0014667510986328125, -0.0032958984375, -0.01274871826171875, -0.018829345703125, 0.0085906982421875, -0.0290679931640625, 0.006282806396484375, 0.0013980865478515625, -0.01119232177734375, 0.018951416015625, 0.020233154296875, 0.0006837844848632812, -0.0231170654296875, -0.0183868408203125, 0.0150604248046875, -0.007251739501953125, -0.0013837814331054688, -0.00992584228515625, -0.0196533203125, -0.0009794235229492188, -0.01128387451171875, 0.0019273757934570312, -0.01132965087890625, 0.001895904541015625, -0.037872314453125, 0.0190582275390625, -0.0014324188232421875, 0.0105438232421875, -0.005001068115234375, -0.00710296630859375, -0.01280975341796875, -0.0301971435546875, 0.0034885406494140625, 0.005657196044921875, -0.00817108154296875, 0.01214599609375, 0.01418304443359375, 0.01180267333984375, 0.0245361328125, 0.005680084228515625, -0.014801025390625, -0.0162506103515625, -0.0036258697509765625, 0.00543212890625, 0.016387939453125, -0.0086517333984375, -0.0297393798828125, 0.02252197265625, -0.0010023117065429688, 0.0225677490234375, -0.0240631103515625, 0.0093536376953125, 0.002346038818359375, -0.01049041748046875, -0.0040130615234375, -0.0228118896484375, -0.0162353515625, -0.00647735595703125, -0.005340576171875, -0.002246856689453125, 0.0187225341796875, 0.007602691650390625, -0.018829345703125, -0.0039825439453125, -0.00145721435546875, -0.029632568359375, -0.0136260986328125, 0.00018906593322753906, -0.0159149169921875, 0.022674560546875, -0.002246856689453125, 0.0011587142944335938, -0.01390838623046875, -0.0034046173095703125, -0.00434112548828125, -0.00884246826171875, -0.006343841552734375, -0.004505157470703125, -0.0295257568359375, 0.005100250244140625, 0.010009765625, -0.0022258758544921875, 0.018341064453125, 0.004405975341796875, 0.006397247314453125, -0.0166778564453125, 0.01116180419921875, -0.00577545166015625, -0.0025997161865234375, 0.020721435546875, -0.005157470703125, 0.0297088623046875, -0.0119781494140625, 0.0016193389892578125, -0.0267486572265625, -0.01451873779296875, -0.00522613525390625, 0.0205841064453125, 0.0077972412109375, -0.0229644775390625, 0.00965118408203125, -0.04248046875, 0.0020389556884765625, -0.0029926300048828125, 0.0204925537109375, 0.005115509033203125, -0.01253509521484375, 0.006763458251953125, -0.005321502685546875, 0.0022182464599609375, -0.00930023193359375, 0.0104217529296875, -0.025970458984375, 0.0171051025390625, 0.0188446044921875, 0.01508331298828125, 0.0021495819091796875, 0.0139007568359375, -0.0113372802734375, -0.006381988525390625, 0.0056610107421875, -0.00640869140625, 0.0136871337890625, -0.012908935546875, -0.0078277587890625, -0.03326416015625, 0.0085601806640625, 0.030303955078125, -0.0257110595703125, -0.0185394287109375, 0.0164337158203125, -0.03167724609375, 0.009490966796875, 0.003345489501953125, -0.0034770965576171875, 0.0015153884887695312, -0.00804901123046875, -0.0264129638671875, 0.005794525146484375, -0.02935791015625, -0.0005640983581542969, 0.023101806640625, -0.015655517578125, -0.00021588802337646484, 0.00539398193359375, 0.016082763671875, -0.02374267578125, 0.011474609375, -0.011627197265625, -0.024200439453125, 0.0240020751953125, -0.0017404556274414062, 0.00555419921875, 0.0321044921875, -0.0002301931381225586, -0.0210113525390625, -0.009002685546875, 0.01788330078125, 0.002338409423828125, -0.0095672607421875, 0.007503509521484375, 0.0095367431640625, 0.0019054412841796875, 0.0256195068359375, -0.0210418701171875, -0.00798797607421875, -0.0005259513854980469, 0.01074981689453125, -0.0016946792602539062, 0.020660400390625, -0.01067352294921875, -0.01303863525390625, -0.0176544189453125, -0.014801025390625, 0.01129150390625, -0.034423828125, 0.0159912109375, -0.005321502685546875, -0.0111541748046875, 0.0025615692138671875, 0.014923095703125, 0.01068115234375, -0.0217132568359375, -0.0248565673828125, 0.01483917236328125, 0.03375244140625, -0.005146026611328125, 0.01397705078125, 0.0205535888671875, 0.0019683837890625, 0.0039520263671875, -0.0262298583984375, -0.0230712890625, 0.0251312255859375, 0.0204315185546875, -0.0096435546875, 0.0175628662109375, 0.01236724853515625, -0.01580810546875, 0.0237884521484375, 0.0165557861328125, -0.005466461181640625, 0.0052337646484375, -0.033233642578125, -0.00786590576171875, -0.006076812744140625, -0.0033016204833984375, 0.0211639404296875, 0.0070648193359375, -0.013153076171875, -0.005466461181640625, 0.0401611328125, -0.0010499954223632812, 0.0032749176025390625, -0.003875732421875, 0.0098724365234375, 0.0063934326171875, -0.0029582977294921875, -0.01390838623046875, -0.0139617919921875, -0.01172637939453125, 0.02386474609375, 0.006969451904296875, 0.00988006591796875, -0.01523590087890625, -0.0260162353515625, -0.001171112060546875, 0.0188751220703125, 0.034149169921875, -0.01001739501953125, -0.00795745849609375, 0.0030231475830078125, -0.0157928466796875, 0.0086669921875, -0.019317626953125, -0.00305938720703125, 0.041748046875, 0.02197265625, -0.006488800048828125, -0.0219268798828125, -0.0166778564453125, -0.006420135498046875, 0.01104736328125, -0.00379180908203125, 0.0114593505859375, -0.019073486328125, 0.031646728515625, 0.006351470947265625, -0.0215911865234375, 0.0030994415283203125, -0.01070404052734375, -0.0028820037841796875, -0.004192352294921875, -0.006359100341796875, -0.0019025802612304688, 0.0080718994140625, 0.0197906494140625, 0.0005359649658203125, 0.0086822509765625, 0.004055023193359375, -0.03253173828125, 0.0167388916015625, 0.0006585121154785156, 0.01348114013671875, 0.0011501312255859375, -0.0033092498779296875, 0.00785064697265625, 0.0235137939453125, 0.01055145263671875, -0.002132415771484375, 0.01023101806640625, 0.00917816162109375, -0.0081939697265625, -0.005275726318359375, 0.01548004150390625, -0.0172119140625, -0.01605224609375, -0.02490234375, -0.00260162353515625, -0.00121307373046875, 0.0018434524536132812, 0.005832672119140625, 0.00406646728515625, 0.011260986328125, 0.002475738525390625, -0.01268768310546875, -0.017120361328125, -0.016815185546875, 0.0192413330078125, 0.0009975433349609375, -0.007656097412109375, -0.009307861328125, -0.00476837158203125, 0.0024700164794921875, -0.0079345703125, -0.01385498046875, -0.0017576217651367188, -0.0104827880859375, 0.01325225830078125, 0.0306549072265625, 0.001514434814453125, -0.020843505859375, -0.00024437904357910156, 0.02459716796875, -0.00020885467529296875, 0.002338409423828125, 0.00482177734375, 0.00577545166015625, -0.0199737548828125, 0.01213836669921875, -0.0182342529296875, -0.0012388229370117188, -0.01007843017578125, 0.00655364990234375, -0.04217529296875, -0.01373291015625, -0.004795074462890625, 0.01268768310546875, -0.026153564453125, -0.00449371337890625, -0.0245819091796875, -0.0113983154296875, 0.007556915283203125, -0.00994873046875, 0.0164031982421875, 0.0027370452880859375, 0.019134521484375, -0.030975341796875, -0.0104522705078125, 0.00531005859375, -0.00537109375, 0.0176544189453125, 0.005954742431640625, -0.021148681640625, -0.00907135009765625, -0.0180816650390625, 0.03387451171875, -0.01116180419921875, -0.03399658203125, -0.01045989990234375, 0.031646728515625, 0.02197265625, 0.0120391845703125, -0.0237579345703125, -0.00414276123046875, 0.0009675025939941406, -0.0018482208251953125, 0.01454925537109375, -0.0076904296875, -0.0164947509765625, -0.00962066650390625, -0.0217437744140625, 0.0159149169921875, 0.010711669921875, 0.0163116455078125, 0.019317626953125, -0.004291534423828125, 0.00795745849609375, -0.02716064453125, -0.011322021484375, 0.0038623809814453125, 0.0161590576171875, 0.01352691650390625, 0.02862548828125, 0.008209228515625, -0.016387939453125, 0.0111846923828125, 0.002166748046875, -0.00888824462890625, 0.0216217041015625, -0.0030422210693359375, 0.006702423095703125, -0.01248931884765625, -0.024658203125, 0.00426483154296875, -0.019287109375, 0.0307159423828125, 0.0195465087890625, -0.00965118408203125, 0.01430511474609375, 0.003265380859375, -0.031982421875, 0.006397247314453125, 0.0244293212890625, -0.00989532470703125, -0.004764556884765625, 0.0113372802734375, 0.03131103515625, 0.030303955078125, 0.02215576171875, 0.0, 0.01215362548828125, -0.019256591796875, -0.01050567626953125, 0.00801849365234375, 0.0017881393432617188, 0.015838623046875, -0.00978851318359375, 0.002048492431640625, -0.002025604248046875, 0.01450347900390625, -0.0071563720703125, 0.01395416259765625, -0.012176513671875, 0.00780487060546875, 0.0017271041870117188, -0.0262298583984375, -0.0027332305908203125, 0.0176544189453125, 0.0293121337890625, 0.007476806640625, 0.01122283935546875, -0.000980377197265625, 0.0007162094116210938, 0.01425933837890625, -0.0258941650390625, -0.01273345947265625, 0.00010573863983154297, 0.020843505859375, 0.0032596588134765625, -0.0002574920654296875, 0.0173187255859375, 0.01215362548828125, 0.00716400146484375, 0.034210205078125, 0.005901336669921875, 0.012115478515625, 0.0174102783203125, -0.0017576217651367188, 0.0186004638671875, 0.01369476318359375, 0.0002903938293457031, 0.0194091796875, -0.01031494140625, -0.018402099609375, -0.0038967132568359375, -0.0153656005859375, 0.0157623291015625, -0.0107421875, 0.0114593505859375, 0.011932373046875, 0.010528564453125, 0.006893157958984375, -0.00817108154296875, -0.0144500732421875, -0.007564544677734375, -0.0230255126953125, 0.0089874267578125, -0.004184722900390625, -0.003673553466796875, 0.0033416748046875, 0.015167236328125, -0.004730224609375, 0.01104736328125, 0.0160064697265625, -0.0036334991455078125, -0.0173187255859375, 0.00464630126953125, 0.0029735565185546875, 0.00968170166015625, -0.0023860931396484375, -0.00899505615234375, -0.0009446144104003906, -0.0011053085327148438, 0.0165863037109375, 0.0160369873046875, 0.0007114410400390625, 0.0021495819091796875, -0.01129913330078125, 0.0010385513305664062, 0.0244140625, -0.00960540771484375, -0.0013141632080078125, -0.01268768310546875, -0.0292510986328125, 0.007419586181640625, -0.003612518310546875, -0.0117034912109375, 0.00605010986328125, 0.007480621337890625, -0.008544921875, 0.006671905517578125, 0.0035552978515625, -0.022918701171875, -0.01300048828125, -0.002353668212890625, 0.01450347900390625, 0.0182952880859375, 0.023406982421875, -0.0018672943115234375, 0.0163421630859375, -0.0007052421569824219, -0.0149383544921875, 0.0066680908203125, -0.0126495361328125, 0.0132904052734375, -0.01125335693359375, 0.016571044921875, 0.005985260009765625, -0.0014209747314453125, 0.0143585205078125, 0.0117950439453125, 0.001766204833984375, 0.0027313232421875, 0.01239013671875, 0.01287841796875, 0.0024585723876953125, -0.040252685546875, 0.006011962890625, 0.00080108642578125, -0.023406982421875, -0.005092620849609375, -0.02056884765625, -0.0004801750183105469, -0.0199127197265625, -0.0207366943359375, -0.029632568359375, -0.003810882568359375, -0.0156707763671875, 0.0087432861328125, 0.0196685791015625, 0.00528717041015625, -0.018524169921875, 0.001995086669921875, -0.004608154296875, -0.019989013671875, -0.01910400390625, 0.005260467529296875, 0.0211639404296875, -0.00855255126953125, 0.00572967529296875, -0.0218353271484375, 0.032745361328125, -0.00424957275390625, 0.0050201416015625, 0.01378631591796875, -0.0107421875, -0.00698089599609375, 0.001522064208984375, 0.0033092498779296875, 0.007171630859375, -0.008514404296875, 0.004619598388671875, 0.0081787109375, -0.010833740234375, -0.0015344619750976562, 0.0024738311767578125, -0.0176239013671875, 0.0032863616943359375, 0.00901031494140625, -0.0032215118408203125, -0.020263671875, 0.0077056884765625, 0.01439666748046875, -0.0198822021484375, 0.01419830322265625, -0.04290771484375, 0.002773284912109375, 0.002170562744140625, 0.00848388671875, -0.0374755859375, -0.0005497932434082031, 0.006893157958984375, -0.017730712890625, 0.0328369140625, -0.02001953125, -0.007778167724609375, 0.0072174072265625, -0.01177978515625, -0.00836181640625, 0.01555633544921875, 0.007099151611328125, -0.02716064453125, 0.01715087890625, -0.008880615234375, 0.01026153564453125, 0.0215911865234375, -0.002285003662109375, -0.0034618377685546875, -0.0009679794311523438, -0.009613037109375, -0.0004558563232421875, -0.0101165771484375, -0.0283355712890625, -0.0182037353515625, -0.0280914306640625, -0.025360107421875, 0.0009455680847167969, -0.016143798828125, 0.0083160400390625, -0.0063323974609375, -0.0269775390625, -0.005901336669921875, -0.0017042160034179688, -0.01323699951171875, -0.03533935546875, 0.0152435302734375, -0.0126190185546875, 0.0021648406982421875, 0.0005321502685546875, -0.01226806640625, -0.007415771484375, -0.031524658203125, -0.0039825439453125, 0.004238128662109375, 0.0009093284606933594, -0.009674072265625, -0.0274658203125, 0.004550933837890625, 0.007274627685546875, -0.0108184814453125, 0.02398681640625, -0.01153564453125, 0.0005445480346679688, 0.00839996337890625, 0.00499725341796875, 0.0226287841796875, -0.000881195068359375, 0.01221466064453125, -0.01404571533203125, -0.0277099609375, -0.0037822723388671875, 0.01425933837890625, 0.0201416015625, 0.0063934326171875, 0.0219573974609375, 0.005901336669921875, 0.004634857177734375, -0.0018835067749023438, -0.0068359375, 0.0096435546875, -0.0224456787109375, -0.004177093505859375, -0.024505615234375, 0.0276031494140625, -0.02093505859375, -0.00804901123046875, -0.022003173828125, 0.0004849433898925781, 0.00948333740234375, 0.005504608154296875, -0.01055908203125, 0.012298583984375, -0.0232696533203125, 0.00605010986328125, -0.001178741455078125, 0.0145721435546875, 0.0333251953125, -0.0180206298828125, -0.033050537109375, 0.024505615234375, 0.0066070556640625, 0.01953125, -0.014923095703125, 0.0234375, 0.03179931640625, 0.002574920654296875, -0.00598907470703125, 0.003292083740234375, 0.00237274169921875, -0.0013275146484375, -0.03057861328125, -0.0194854736328125, -0.0068817138671875, -0.0023975372314453125, 0.00559234619140625, 0.00235748291015625, 0.00421142578125, 0.014556884765625, -0.00601959228515625, -0.0028514862060546875, -0.00849151611328125, -0.00746917724609375, -0.00921630859375, -0.007144927978515625, -0.0034542083740234375, -0.0222320556640625, 0.0132598876953125, 0.0164947509765625, 0.004852294921875, -0.006195068359375, -0.00022745132446289062, 0.006748199462890625, 0.005306243896484375, 0.0025634765625, -0.0156402587890625, 0.0005955696105957031, 0.0004696846008300781, -0.0172576904296875, -0.00154876708984375, 0.01082611083984375, 0.007495880126953125, -0.0308685302734375, 0.0211029052734375, 0.027435302734375, 0.01122283935546875, 0.045806884765625, -0.003704071044921875, 0.00554656982421875, -0.01383209228515625, 0.0160064697265625, -0.037872314453125, 0.0156097412109375, -0.0017147064208984375, 0.0268096923828125, 0.0283966064453125, -0.00833892822265625, -0.0122833251953125, 0.020355224609375, -0.01593017578125, -0.0360107421875, 0.0030117034912109375, 0.023223876953125, -0.016693115234375, 0.0247039794921875, 0.005100250244140625, -0.0310821533203125, -0.035888671875, 0.00762176513671875, -0.0143280029296875, 0.01434326171875, 0.0006833076477050781, -0.007110595703125, 0.00757598876953125, -0.00055694580078125, -0.005069732666015625, 0.00977325439453125, 0.0008726119995117188, 0.007144927978515625, -0.01824951171875, -0.0246429443359375, -0.0230712890625, -0.0021514892578125, 0.007198333740234375, -0.0027370452880859375, 0.004726409912109375, 0.004497528076171875, 0.0159912109375, 0.0018787384033203125, 0.0225677490234375, 0.00817108154296875, 0.01216888427734375, -0.020111083984375, 0.0119476318359375, -0.014373779296875, 0.003589630126953125, -0.006359100341796875, -0.023406982421875, 0.0023670196533203125, -0.0208587646484375, 0.019287109375, -0.00537872314453125, 0.01192474365234375, 0.01323699951171875, -0.033935546875, 0.0218963623046875, 0.01221466064453125, -0.01439666748046875, 0.023681640625, 0.006687164306640625, 0.006458282470703125, -0.0259552001953125, -0.009307861328125, -0.011383056640625, 0.0234527587890625, 0.006969451904296875, -0.0026378631591796875, 0.0190277099609375, -0.0095977783203125, -0.01377105712890625, 0.0164642333984375, 0.01171112060546875, 0.0069427490234375, -0.0230712890625, 0.00728607177734375, -0.0018186569213867188, 0.00577545166015625, 0.01476287841796875, 0.0222930908203125, 0.01297760009765625, -0.0126953125, 0.0096435546875, 0.024200439453125, -0.006618499755859375, 0.012298583984375, -0.00710296630859375, -0.0192108154296875, -0.0092620849609375, 0.0227508544921875, 0.005176544189453125, -0.0015010833740234375, -0.029449462890625, 0.01422119140625, 0.024078369140625, -0.0041351318359375, 0.00384521484375, -0.007110595703125, -0.005908966064453125, -0.0133514404296875, -0.0119171142578125, 0.00931549072265625, -0.0272674560546875, 0.005023956298828125, 0.0160064697265625, -6.401538848876953e-05, -0.015899658203125, 0.003787994384765625, -0.00539398193359375, -0.023529052734375, 0.00759124755859375, 0.0012407302856445312, 0.0153045654296875, -0.0160675048828125, -0.0017709732055664062, 0.0035648345947265625, 0.0037822723388671875, 0.014312744140625, -0.0328369140625, -0.00521087646484375, -0.0107574462890625, -0.016510009765625, -0.004314422607421875, -0.01088714599609375, -0.005489349365234375, 0.0002416372299194336, 0.014923095703125, -0.06365966796875, 0.007785797119140625, 0.035400390625, 0.006916046142578125, 0.034881591796875, -0.0184478759765625, -0.00933837890625, -0.0014629364013671875, 0.0040283203125, -0.0157318115234375, 0.00585174560546875, -0.0006122589111328125, -0.021209716796875, -0.0273590087890625, 0.0120391845703125, 0.0098419189453125, 0.0008411407470703125, 0.0215911865234375, -0.003421783447265625, -0.0265350341796875, -0.0361328125, -0.0038585662841796875, 0.0013141632080078125, -0.0223236083984375, -0.0168914794921875, -0.027984619140625, 0.0116424560546875, -0.014007568359375, 0.01181793212890625, -0.020416259765625, -0.0217742919921875, 0.0256195068359375, -0.0035686492919921875, 0.0297698974609375, -0.0094451904296875, -0.0134429931640625, 0.01001739501953125, 0.0092620849609375, -0.0084075927734375, 0.01204681396484375, 0.0026645660400390625, -0.0249786376953125, -0.0008616447448730469, -0.0031833648681640625, -0.031707763671875, -0.025909423828125, 0.030609130859375, -0.00027298927307128906, 0.002269744873046875, -0.01522064208984375, -0.0160064697265625, -0.032318115234375, 0.0254058837890625, -0.0022125244140625, -0.004730224609375, -0.00421905517578125, -0.019195556640625, -0.01177978515625, -0.00818634033203125, -0.003139495849609375, -0.0203857421875, -0.0222625732421875, -0.005096435546875, -0.0067291259765625, 0.0411376953125, -0.0037174224853515625, -0.041015625, 0.0222320556640625, -0.001293182373046875, -0.02117919921875, -0.02728271484375, 0.004486083984375, -0.004444122314453125, 0.0057373046875, -0.008056640625, -0.01222991943359375, 0.01477813720703125, -0.007129669189453125, 0.00363922119140625, 0.0149078369140625, -0.00848388671875, -0.01513671875, -0.00762939453125, 0.00677490234375, 0.0135498046875, 0.0318603515625, -0.00013077259063720703, 0.00878143310546875, 0.0026149749755859375, -0.0021572113037109375, 0.02081298828125, -0.006378173828125, -0.0006146430969238281, 0.0028896331787109375, 0.005786895751953125, 0.0013275146484375, 0.0199432373046875, -0.0268707275390625, 0.0131072998046875, -0.01837158203125, 0.0055389404296875, 0.0274200439453125, 0.006969451904296875, -0.005756378173828125, 0.008026123046875, -0.006618499755859375, -0.0185394287109375, -0.0126800537109375, -0.0020885467529296875, 0.0068817138671875, -0.03082275390625, 0.0060577392578125, 0.0027484893798828125, 0.006847381591796875, -0.00887298583984375, -0.00379180908203125, -0.0063323974609375, 0.0071258544921875, 0.008392333984375, 0.0006394386291503906, -0.02105712890625, 0.01134490966796875, 0.01448822021484375, 0.01074981689453125, -0.0017642974853515625, 0.00664520263671875, 0.004268646240234375, -0.006038665771484375, 0.0011987686157226562, -0.00716400146484375, -0.015777587890625, -0.0001341104507446289, -0.01119232177734375, -0.0277099609375, 0.00452423095703125, -0.01152801513671875, -0.025054931640625, -0.0008330345153808594, -0.01000213623046875, 0.00531768798828125, -0.0035648345947265625, -0.00811004638671875, 0.0101776123046875, 0.0014543533325195312, 0.0152740478515625, 0.01462554931640625, -0.004024505615234375, -0.0014905929565429688, 0.0105743408203125, -0.01580810546875, -0.0095367431640625, -0.00957489013671875, 0.01245880126953125, -0.00543212890625, -0.00267791748046875, -0.02423095703125, 0.0193939208984375, -0.0245513916015625, -0.01078033447265625, 0.0223541259765625, -0.0079803466796875, 0.006916046142578125, -0.003406524658203125, -0.0245208740234375, -0.031524658203125, -0.00972747802734375, 0.00867462158203125, -0.024871826171875, -0.006252288818359375, 0.0114288330078125, 0.00836181640625, -0.00412750244140625, 0.0194549560546875, 0.01415252685546875, 0.0094451904296875, -0.016204833984375, 0.0037136077880859375, 0.00750732421875, 0.0005035400390625, -0.0043182373046875, 0.00443267822265625, -0.0016260147094726562, -0.03436279296875, -0.016265869140625, 0.016845703125, -0.00994110107421875, 0.0026073455810546875, -0.0199737548828125, 0.0129241943359375, 0.01282501220703125, -0.0018568038940429688, 0.007427215576171875, -0.0190582275390625, 0.005184173583984375, -0.0012426376342773438, 0.0157928466796875, -0.0253753662109375, -0.004451751708984375, 0.0007596015930175781, -0.0223236083984375, -0.0018262863159179688, -0.0150146484375, -0.0038967132568359375, -0.007415771484375, 0.006282806396484375, 0.0021877288818359375, 0.01076507568359375, 0.01029205322265625, 0.0230560302734375, 0.01201629638671875, 0.0147247314453125, -0.0093994140625, -0.00634002685546875, 0.013580322265625, -0.024658203125, 0.00949859619140625, 0.007656097412109375, -0.01806640625, -0.0024089813232421875, 0.01316070556640625, 0.0006394386291503906, 0.0122222900390625, -0.0017232894897460938, 0.000698089599609375, -0.0004837512969970703, 0.01274871826171875, 0.029327392578125, -0.00555419921875, -0.01331329345703125, 0.0254974365234375, 0.00833892822265625, 0.00710296630859375, 0.0029239654541015625, 0.0032367706298828125, 0.01140594482421875, -0.036376953125, -0.007389068603515625, 0.0106201171875, 0.003917694091796875, -0.00440216064453125, -0.0030994415283203125, -0.0094451904296875, 0.00885009765625, -0.0200653076171875, 0.00591278076171875, 0.00644683837890625, -0.010589599609375, -0.0009379386901855469, -0.0150299072265625, 0.0286865234375, -0.01485443115234375, -0.0018186569213867188, 0.006793975830078125, -0.0034580230712890625, -0.00021970272064208984, -0.005687713623046875, -0.00952911376953125, 0.0017251968383789062, -0.004634857177734375, -0.00424957275390625, 0.0175323486328125, 0.00373077392578125, -0.0249176025390625, 0.00548553466796875, -0.0120849609375, -0.01708984375, 0.0228729248046875, 0.01052093505859375, 0.0111846923828125, 0.001628875732421875, 0.0196533203125, -0.0095977783203125, -0.01346588134765625, 0.0236358642578125, -0.017791748046875, 0.01500701904296875, -0.0212860107421875, 0.00217437744140625, 0.0248870849609375, 0.0047149658203125, -0.009429931640625, -0.016326904296875, 0.0242767333984375, -0.00199127197265625, 0.00814056396484375, -0.0015840530395507812, 0.0166015625, -0.0171661376953125, -0.0058746337890625, -0.02197265625, 0.0170745849609375, -0.024017333984375, -0.01427459716796875, -0.0092315673828125, 0.0160675048828125, 0.0107269287109375, 0.037261962890625, -0.0157470703125, 0.01837158203125, 0.025665283203125, 0.017333984375, -0.01122283935546875, -0.002971649169921875, -0.0237274169921875, 0.01288604736328125, 0.01003265380859375, 0.00984954833984375, -0.01546478271484375, -0.0079345703125, -0.02301025390625, -0.012420654296875, -0.0073394775390625, -0.056671142578125, 0.00965118408203125, -0.00891876220703125, 0.004207611083984375, -0.0014629364013671875, 0.0050048828125, -0.01708984375, -0.0170135498046875, 0.017425537109375, 0.0140838623046875, -0.0035343170166015625, 0.012969970703125, 0.0260772705078125, -0.0202484130859375, -0.034698486328125, 0.0090179443359375, -0.0031299591064453125, -0.006023406982421875, -0.0085296630859375, -0.0255126953125, 0.00901031494140625, -0.0016412734985351562, -0.017730712890625, 0.0032367706298828125, 0.01251220703125, -0.0218658447265625, -0.0260162353515625, 0.0220184326171875, 0.028045654296875, -0.00873565673828125, 0.014892578125, -0.005931854248046875, -0.0020275115966796875, -0.00510406494140625, -0.0172271728515625, -0.00542449951171875, 0.0180816650390625, -0.007293701171875, -0.01033782958984375, 0.01453399658203125, 0.0091552734375, -0.013580322265625, 0.0150146484375, -0.0006031990051269531, 0.010406494140625, -0.01873779296875, 0.0016927719116210938, 0.0072784423828125, 0.0232696533203125, 0.01375579833984375, 0.0008215904235839844, 0.032073974609375, 0.041259765625, 0.0204620361328125, -0.01165771484375, 0.018218994140625, -0.0203399658203125, 0.002124786376953125, 0.0148162841796875, -0.0081329345703125, 0.0030574798583984375, 0.0070648193359375, 0.03564453125, -0.002544403076171875, -0.0124664306640625, 0.01001739501953125, 0.0084228515625, -0.017669677734375, -0.01375579833984375, 0.01215362548828125, -0.002101898193359375, -0.0008301734924316406, -0.0039215087890625, -0.02294921875, 0.01329803466796875, 0.0092926025390625, -0.0137176513671875, -0.01383209228515625, -0.016143798828125, -0.0111083984375, 0.00024199485778808594, -0.01425933837890625, 0.043060302734375, 0.0171051025390625, 0.0016489028930664062, 0.01441192626953125, 0.02984619140625, -0.0105438232421875, 0.0079193115234375, 0.0223846435546875, 0.0178985595703125, -0.003475189208984375, 0.0193328857421875, 0.0068511962890625, -0.0294647216796875, -0.009765625, 0.0231475830078125, 0.02056884765625, 0.005741119384765625, 0.01434326171875, 0.005645751953125, -0.01262664794921875, -0.021148681640625, 0.0028781890869140625, -0.0027599334716796875, 0.0029544830322265625, 0.034332275390625, -0.1005859375, -0.0390625, -0.00603485107421875, 0.006748199462890625, -0.00038933753967285156, -0.0029621124267578125, 0.0229339599609375, -0.0206451416015625, -0.0031757354736328125, -0.0037441253662109375, 0.022491455078125, 0.01239013671875, 0.0030803680419921875, 0.014312744140625, -0.0067138671875, 0.0252685546875, -0.0033817291259765625, 0.007293701171875, 0.0013341903686523438, 0.01418304443359375, -0.00615692138671875, 0.035797119140625, 0.0224761962890625, 0.0024700164794921875, 0.0198822021484375, -0.00229644775390625, 0.006229400634765625, 0.019683837890625, 0.0186004638671875, 0.0021495819091796875, -0.052215576171875, 0.006473541259765625, 0.007534027099609375, -0.01102447509765625, -0.00620269775390625, -0.0163421630859375, -0.01453399658203125, -0.014007568359375, 0.0284423828125, -0.021087646484375, 0.0096588134765625, -0.012176513671875, -0.02191162109375, -0.0037822723388671875, -0.0159149169921875, -0.00276947021484375, -0.007595062255859375, 0.01751708984375, -0.0023956298828125, 0.005184173583984375, -0.0007224082946777344, 0.0079193115234375, -0.0177001953125, -0.011322021484375, 0.024078369140625, -0.0157318115234375, -0.002838134765625, -0.01000213623046875, 0.0261688232421875, 0.003925323486328125, 0.031280517578125, 0.01450347900390625, 0.00836944580078125, -0.0245513916015625, -0.024810791015625, -0.0264892578125, 0.0197601318359375, 0.0026264190673828125, -0.005680084228515625, 0.004978179931640625, 0.0322265625, 0.004253387451171875, -0.0120086669921875, 0.0116119384765625, -0.0006151199340820312, -0.0111846923828125, 0.006198883056640625, 0.0057830810546875, 0.006038665771484375, 0.0001150965690612793, -0.0143585205078125, 0.00537872314453125, -0.015045166015625, -0.0033664703369140625, 0.01464080810546875, 0.01910400390625, -0.01425933837890625, 0.00824737548828125, 0.00437164306640625, 0.01448822021484375, 0.00982666015625, 0.001979827880859375, -0.006023406982421875, 0.0080108642578125, 0.0021209716796875, 0.006191253662109375, -0.0042572021484375, 0.020111083984375, -0.00664520263671875, 0.0015668869018554688, 0.02301025390625, -0.0020732879638671875, -0.011077880859375, -0.0013713836669921875, 0.00258636474609375, 0.0313720703125, -0.00948333740234375, -0.00884246826171875, -0.007320404052734375, -0.00977325439453125, 0.00177764892578125, 0.0043792724609375, -0.0247955322265625, 0.03875732421875, -0.020111083984375, 0.0008144378662109375, -0.0111236572265625, 0.0168914794921875, 0.0085296630859375, 0.0157623291015625, -0.001373291015625, -0.0159759521484375, 0.0013647079467773438, -0.0007843971252441406, -0.005687713623046875, -0.0277099609375, -0.01068115234375, -0.020416259765625, -0.007785797119140625, 0.00107574462890625, 0.031219482421875, 0.0054931640625, 0.0042877197265625, 0.039306640625, 0.0149383544921875, -0.004535675048828125, 0.00177764892578125, 0.00893402099609375, -0.0025730133056640625, -0.042724609375, 0.0087890625, -0.00753021240234375, -0.00765228271484375, 0.00951385498046875, -0.00458526611328125, 0.011505126953125, -0.033172607421875, -0.015655517578125, 0.035430908203125, 0.0164794921875, 0.0015916824340820312, 0.01128387451171875, -0.0096435546875, 0.018951416015625, 0.002353668212890625, -0.003875732421875, 0.00434112548828125, -0.01470947265625, -0.007244110107421875, -0.0115509033203125, 0.007381439208984375, 0.005878448486328125, -0.005031585693359375, 0.01904296875, -0.019683837890625, -0.010406494140625, 0.0049285888671875, 0.01513671875, -0.0182037353515625, -0.01128387451171875, -0.023681640625, -0.0213623046875, 0.023223876953125, -0.00659942626953125, -0.01428985595703125, -0.006969451904296875, -0.01229095458984375, -0.01546478271484375, -0.0240325927734375, 0.014251708984375, 0.0062255859375, 0.0175628662109375, 0.0006237030029296875, 0.008636474609375, -0.0257110595703125, 0.0127410888671875, -0.004184722900390625, -0.009613037109375, 0.007843017578125, 0.051971435546875, -0.0014324188232421875, 0.0050201416015625, -0.003406524658203125, -0.0244293212890625, 0.032623291015625, -0.01149749755859375, 0.01311492919921875, 0.01229095458984375, 0.0021610260009765625, 0.02178955078125, 0.006069183349609375, -0.0016069412231445312, -0.00734710693359375, 0.0192718505859375, 0.013427734375, 0.01247406005859375, 0.01117706298828125, 0.016571044921875, -0.00846099853515625, 0.037261962890625, 0.0008945465087890625, 0.0084228515625, 0.00017273426055908203, 0.00228118896484375, -0.02337646484375, 0.00832366943359375, -0.003246307373046875, 0.00664520263671875, -0.00868988037109375, -0.0014209747314453125, 4.231929779052734e-06, 0.0108184814453125, -0.0027618408203125, 0.008575439453125, 0.0214691162109375, 0.01360321044921875, 0.009063720703125, 0.002960205078125, -0.00705718994140625, 0.003429412841796875, -0.0023822784423828125, -0.0081787109375, 0.00774383544921875, 0.00033020973205566406, -0.01335906982421875, 0.0076904296875, 0.0037479400634765625, -0.0255889892578125, 0.033477783203125, 0.01251220703125, 0.01434326171875, 0.00501251220703125, 0.00121307373046875, -0.007556915283203125, -0.00971221923828125, -0.001708984375, -0.018951416015625, 0.03619384765625, 8.344650268554688e-06, -0.0095062255859375, 0.0115509033203125, 0.0040435791015625, 0.005931854248046875, 0.00634002685546875, 0.005096435546875, -0.0017404556274414062, 0.004611968994140625, -0.0186004638671875, -0.0218048095703125, 0.00501251220703125, 0.01232147216796875, 0.0390625, -0.01142120361328125, 0.0193023681640625, -0.014434814453125, -0.00901031494140625, 0.0032100677490234375, 0.01253509521484375, -0.013153076171875, -0.0182647705078125, -0.0059967041015625, -0.00594329833984375, -0.01230621337890625, -0.01103973388671875, 0.0195159912109375, -0.0104827880859375, 0.005756378173828125, 0.0022411346435546875, 0.005466461181640625, -0.00524139404296875, 0.0203704833984375, -0.0102386474609375, -0.0150604248046875, 0.00894927978515625, 0.017974853515625, -0.004970550537109375, -0.016021728515625, -0.0042724609375, 0.02423095703125, -0.0256500244140625, 0.015869140625, 0.00867462158203125, 0.011474609375, 0.03790283203125, -0.00623321533203125, 0.006504058837890625, -0.0188446044921875, 0.0023975372314453125, 0.00876617431640625, 0.018829345703125, -0.012664794921875, 0.0156402587890625, 0.002552032470703125, -0.01151275634765625, -0.00812530517578125, -5.21540641784668e-05, -0.00970458984375, 0.01055908203125, 0.01442718505859375, 0.01849365234375, 0.01155853271484375, 0.002117156982421875, -0.03607177734375, 0.00894927978515625, -0.00824737548828125, 0.05352783203125, 0.0106201171875, 0.00998687744140625, -0.014434814453125, -0.0185699462890625, 0.0226287841796875, -0.0106964111328125, 0.01397705078125, -0.0014543533325195312, 0.0187835693359375, -0.0045318603515625, -0.00911712646484375, -0.0115509033203125, 0.014129638671875, -0.0001933574676513672, 0.021240234375, 0.01300811767578125, 0.0201873779296875, -0.01248931884765625, 0.01065826416015625, -0.01557159423828125, 0.00234222412109375, 0.0160369873046875, 0.0018405914306640625, 0.01397705078125, 0.0101776123046875, -0.0221405029296875, -0.015869140625, 0.0113677978515625, 0.006805419921875, 0.00879669189453125, 0.01207733154296875, 0.0178985595703125, 0.0098114013671875, -0.03057861328125, 0.0190582275390625, 0.03814697265625, 0.0217437744140625, -0.005931854248046875, 0.00794219970703125, -0.029327392578125, 0.0091552734375, 0.013671875, -0.020904541015625, 0.01010894775390625, -0.0106201171875, 0.0089874267578125, 0.01059722900390625, -0.00325775146484375, 0.023681640625, 0.0163726806640625, -0.00798797607421875, 0.020538330078125, 0.016754150390625, -0.006092071533203125, 0.006561279296875, -0.0200042724609375, -0.01776123046875, 0.030517578125, -0.01255035400390625, 0.019683837890625, 0.005931854248046875, 0.0011167526245117188, 0.0023784637451171875, -0.003490447998046875, 0.00299835205078125, -0.00695037841796875, -0.0130157470703125, 0.0016345977783203125, 0.016143798828125, -0.006519317626953125, -0.02801513671875, -0.02294921875, -0.00287628173828125, 0.0027866363525390625, 0.0126495361328125, -0.0258636474609375, 0.00012165307998657227, -0.006816864013671875, 0.0221710205078125, -0.002368927001953125, -0.0177154541015625, 0.00473785400390625, -0.0172271728515625, 0.01335906982421875, -0.004718780517578125, 0.0180511474609375, 0.01192474365234375, -0.0247344970703125, 0.0140838623046875, -0.00206756591796875, -0.006496429443359375, 0.00923919677734375, -0.001056671142578125, -0.036895751953125, 0.0190887451171875, 0.003505706787109375, -0.045928955078125, 0.028656005859375, -5.6624412536621094e-05, -0.006313323974609375, -0.01531219482421875, -0.004795074462890625, -0.0243072509765625, 0.015869140625, -0.019012451171875, 0.005840301513671875, -0.0222015380859375, -0.019317626953125, -0.0196380615234375, -0.017852783203125, 0.00783538818359375, 0.014129638671875, 0.00403594970703125, 0.005153656005859375, 0.034423828125, -0.01406097412109375, 0.00577545166015625, 0.022430419921875, -0.00531005859375, -0.020904541015625, 0.0094451904296875, -0.004573822021484375, 0.0030536651611328125, -0.0021800994873046875, -0.0082244873046875, 0.0012731552124023438, 0.0209808349609375, -0.005878448486328125, -0.0116424560546875, 0.01076507568359375, 0.0279541015625, -0.0214080810546875, 0.0288238525390625, -0.0036945343017578125, -0.03826904296875, -0.020751953125, 0.007495880126953125, -0.005527496337890625, 0.0201416015625, 0.01306915283203125, 0.0101165771484375, 0.03936767578125, 0.0187530517578125, 0.0158233642578125, 0.0008525848388671875, -0.005359649658203125, -0.01288604736328125, 0.0008687973022460938, -0.013153076171875, -0.0029125213623046875, 0.021636962890625, 0.038726806640625, -0.0113677978515625, -0.010467529296875, -0.0306243896484375, -0.00830078125, 0.031341552734375, -0.02239990234375, 0.01279449462890625, -0.015289306640625, -0.006961822509765625, -0.00884246826171875, -0.00965118408203125, -0.0146026611328125, -0.005462646484375, -0.004077911376953125, -0.0055389404296875, 0.0009927749633789062, -0.0156707763671875, -0.01541900634765625, 0.0186767578125, -0.006076812744140625, 0.01092529296875, -0.0005817413330078125, -0.01383209228515625, 0.01568603515625, -0.0109710693359375, 0.03076171875, -0.0039825439453125, -0.0047454833984375, -0.0002027750015258789, 0.0209808349609375, -0.025238037109375, -0.007843017578125, -0.0031261444091796875, 0.01486968994140625, -0.004642486572265625, 0.0125274658203125, 0.0045318603515625, 0.032684326171875, -0.0173187255859375, -0.026336669921875, -0.0003941059112548828, -0.0175933837890625, -0.0079498291015625, -0.0038661956787109375, -0.0003204345703125, -0.01003265380859375, 0.0036258697509765625, -0.005290985107421875, 0.00011247396469116211, 0.003757476806640625, 0.00020956993103027344, 0.01256561279296875, 0.0179443359375, -0.01334381103515625, -0.0050506591796875, -0.0015459060668945312, -0.0130157470703125, -0.032379150390625, -0.0002048015594482422, -0.021240234375, 0.00693511962890625, -0.0066680908203125, 0.009674072265625, 0.023773193359375, -0.016204833984375, 0.0085906982421875, -0.0257110595703125, 0.01348114013671875, -0.0237274169921875, -0.0287933349609375, -0.0129241943359375, -3.826618194580078e-05, -0.025726318359375, -0.02313232421875, 0.004940032958984375, -0.018798828125, -0.004131317138671875, -0.01419830322265625, -0.0216217041015625, 0.006031036376953125, -0.00952911376953125, -0.01065826416015625, -0.01406097412109375, 0.001979827880859375, -0.00616455078125, 0.0007190704345703125, 0.0028743743896484375, 0.004871368408203125, 0.01415252685546875, -0.00986480712890625, -0.02392578125, 0.01236724853515625, 0.017547607421875, 0.00894927978515625, -0.005847930908203125, 0.0107421875, 0.006740570068359375, -0.014801025390625, -0.01418304443359375, -0.01800537109375, 0.004261016845703125, -0.003620147705078125, 0.01546478271484375, -0.006084442138671875, -0.012664794921875, 0.00045752525329589844, -0.00894927978515625, 0.01068878173828125, 0.00467681884765625, -0.0018472671508789062, 0.020660400390625, 0.004932403564453125, 0.0171356201171875, 0.003978729248046875, -0.01222991943359375, 0.056182861328125, 0.021942138671875, -0.01263427734375, 0.00667572021484375, 0.00035071372985839844, 0.0130157470703125, 0.0011548995971679688, -0.05224609375, -0.006717681884765625, 0.00540924072265625, -0.0258941650390625, -0.021392822265625, 0.0005469322204589844, -0.01418304443359375, -0.0022106170654296875, -0.004547119140625, -0.0193634033203125, -0.0026340484619140625, -0.01038360595703125, -0.00543212890625, -0.0220947265625, -0.05133056640625, 0.006343841552734375, -0.00638580322265625, 0.01221466064453125, -0.002750396728515625, 0.00040793418884277344, -0.006076812744140625, 0.006847381591796875, 0.00572967529296875, 0.00543975830078125, 0.039764404296875, 0.0171966552734375, 0.00807952880859375, -0.005863189697265625, -0.0179901123046875, -0.0103302001953125, -0.02935791015625, 0.006038665771484375, -0.007495880126953125, 0.005039215087890625, 0.01055145263671875, -0.0034847259521484375, -0.003192901611328125, -8.64267349243164e-06, 0.0001919269561767578, 0.030609130859375, 0.0004508495330810547, -0.0214691162109375, -0.00768280029296875, 0.01499176025390625, 0.015594482421875, -0.0006623268127441406, 0.01116180419921875, -0.03546142578125, -0.0121002197265625, 0.003307342529296875, -0.00859832763671875, -0.01476287841796875, -0.0187530517578125, -0.007251739501953125, -0.01427459716796875, -0.008270263671875, -0.0012836456298828125, 0.00415802001953125, 0.0009131431579589844, -0.01023101806640625, 0.009063720703125, -0.01068115234375, 0.002445220947265625, 0.03741455078125, -0.0197296142578125, 0.0066680908203125, -0.01380157470703125, -0.00226593017578125, -0.008087158203125, 0.008331298828125, 0.0120849609375, 0.00882720947265625, 0.014434814453125, 0.011474609375, -0.0031890869140625, -0.00859832763671875, -0.022491455078125, 0.0089569091796875, 0.0180206298828125, 0.0270843505859375, 0.01434326171875, 0.0205078125, 0.00627899169921875, -0.014373779296875, 0.039215087890625, 0.0026912689208984375, -0.004680633544921875, 0.00733184814453125, 0.04827880859375, 0.0045013427734375, 0.0160064697265625, 0.027252197265625, 0.002819061279296875, 0.0121307373046875, -0.00292205810546875, -0.0208740234375, 0.015380859375, -0.0126953125, 0.004528045654296875, 0.032440185546875, -0.0180511474609375, 0.04180908203125, 0.021636962890625, -0.00669097900390625, -0.0225830078125, 0.0225982666015625, -0.00882720947265625, 0.0035076141357421875, 0.01279449462890625, 0.01407623291015625, 0.0266876220703125, 0.0172271728515625, -0.0007610321044921875, 0.007488250732421875, -0.005496978759765625, -0.005336761474609375, -0.006916046142578125, 0.0357666015625, -0.002094268798828125, -0.00841522216796875, 0.0219573974609375, 0.0004372596740722656, 0.0036163330078125, -2.86102294921875e-06, 0.005702972412109375, 0.00894927978515625, 0.0167999267578125, -0.01094818115234375, -0.017425537109375, -0.005580902099609375, -0.004787445068359375, 0.000698089599609375, -0.005268096923828125, -0.0256500244140625, -6.300210952758789e-05, -0.00438690185546875, 0.0095367431640625, -0.00911712646484375, -0.01094818115234375, -0.0029430389404296875, 0.0008492469787597656, 0.00017380714416503906, -0.00836944580078125, 0.017913818359375, 0.0031108856201171875, 0.027069091796875, -0.0177154541015625, -0.02215576171875, 0.01213836669921875, 0.005420684814453125, -0.00392913818359375, -0.00911712646484375, 0.01453399658203125, -0.0004642009735107422, -0.0260009765625, 0.0280609130859375, -0.000545501708984375, 0.0281219482421875, -0.02294921875, 0.01202392578125, -2.0265579223632812e-05, -0.0130767822265625, -0.004642486572265625, 0.0222625732421875, -0.0038394927978515625, 0.0192718505859375, -0.00199127197265625, 0.005321502685546875, -0.00044226646423339844, 0.0024471282958984375, 0.0253753662109375, 0.00272369384765625, 0.018585205078125, 0.00202178955078125, 0.030303955078125, 0.0099945068359375, -0.0197601318359375, 0.0241546630859375, -0.0023632049560546875, -0.009307861328125, -0.0206451416015625, 0.0027618408203125, 0.006458282470703125, -0.022796630859375, -0.028045654296875, -0.0004329681396484375, 0.008270263671875, 0.0009722709655761719, 0.0220947265625, 0.01404571533203125, -0.011962890625, -0.0032291412353515625, 0.0018033981323242188, -0.0157470703125, -0.002513885498046875, 1.4126300811767578e-05, 0.01198577880859375, 0.00704193115234375, -0.0214691162109375, 0.0035190582275390625, 0.0063934326171875, 0.0364990234375, 0.020751953125, -0.00635528564453125, 0.041961669921875, 0.0009646415710449219, 0.002490997314453125, -0.0038700103759765625, -0.018035888671875, 0.0261688232421875, 0.0098419189453125, 0.0283660888671875, 0.0167083740234375, 0.001068115234375, 0.001369476318359375, -0.0003342628479003906, 0.005023956298828125, -0.0262908935546875, -0.01087188720703125, -0.01326751708984375, 0.0194091796875, 0.017974853515625, 0.00540924072265625, -0.005435943603515625, 0.022369384765625, 0.016082763671875, -0.005092620849609375, -0.0136566162109375, -0.007541656494140625, 0.00902557373046875, 0.005802154541015625, 0.004528045654296875, 0.0127105712890625, 0.01425933837890625, -0.02777099609375, -0.01593017578125, 0.02032470703125, -0.0261077880859375, 0.0013933181762695312, 0.0016317367553710938, -0.01441192626953125, -0.004337310791015625, 0.00475311279296875, -0.0182342529296875, -0.00274658203125, -0.005115509033203125, -0.01136016845703125, 0.002170562744140625, 0.0181732177734375, -0.0051727294921875, -0.01605224609375, 0.0156707763671875, -0.0037078857421875, -0.0038356781005859375, -0.006488800048828125, 0.005382537841796875, -0.0071563720703125, -0.00323486328125, 0.010955810546875, -0.0194854736328125, 0.0023097991943359375, -0.006511688232421875, -0.0322265625, -0.00757598876953125, -0.003620147705078125, 0.016448974609375, 0.021026611328125, 0.01532745361328125, 0.00679779052734375, 0.01129913330078125, -0.015625, -0.0027179718017578125, 0.00026535987854003906, -0.0214996337890625, 0.020904541015625, 0.0126953125, -0.0159759521484375, 0.00836181640625, -0.08648681640625, 0.01428985595703125, 0.020355224609375, 0.0008378028869628906, -0.004146575927734375, -0.00598907470703125, 0.0236053466796875, 0.00988006591796875, 0.0133819580078125, 0.0036602020263671875, -0.002971649169921875, -0.01483154296875, 0.025360107421875, -0.00925445556640625, -0.0032329559326171875, 0.00461578369140625, -0.01263427734375, -0.01129913330078125, -0.0196533203125, 0.024993896484375, 0.0045928955078125, 0.0021686553955078125, -0.021148681640625, -0.004772186279296875, 0.0113983154296875, -0.00876617431640625, 0.031219482421875, -0.0160369873046875, 0.004852294921875, -0.020263671875, 0.01441192626953125, -0.005931854248046875, 0.006359100341796875, -0.0101318359375, 0.0154876708984375, 0.0809326171875, -0.01023101806640625, 0.0006933212280273438, 0.00821685791015625, -0.0015964508056640625, -0.0185089111328125, 0.01343536376953125, -5.030632019042969e-05, -0.0099029541015625, 0.00885772705078125, 0.02239990234375, 0.009429931640625, 0.01251983642578125, 0.009521484375, -0.00150299072265625, -0.0137481689453125, -0.0115966796875, -0.003040313720703125, -0.0259857177734375, 0.023651123046875, 0.004848480224609375, 0.00609588623046875, -0.0208587646484375, -0.01629638671875, -0.01265716552734375, 0.0012111663818359375, 0.00977325439453125, 0.0060272216796875, -0.0064849853515625, -0.0252532958984375, -0.0204620361328125, 0.0028934478759765625, 0.024200439453125, -0.00963592529296875, -0.0175628662109375, -0.0203857421875, -0.0246734619140625, -0.012969970703125, -0.00505828857421875, -0.0150146484375, 0.004230499267578125, -0.004566192626953125, 0.017974853515625, 0.00824737548828125, -0.0005068778991699219, -0.0140228271484375, 0.00965118408203125, -0.01081085205078125, 0.0004134178161621094, 0.004604339599609375, 0.0133819580078125, 0.01024627685546875, -0.016387939453125, 0.00676727294921875, 0.0005102157592773438, -0.0015230178833007812, -0.00786590576171875, -0.01509857177734375, -0.0236053466796875, -0.00012242794036865234, 0.0117034912109375, 0.0171051025390625, -0.00540924072265625, -0.003528594970703125, 0.01392364501953125, -0.0171661376953125, 0.02679443359375, -0.004970550537109375, -0.007022857666015625, -0.025299072265625, -0.0022678375244140625, -0.0203399658203125, 0.01103973388671875, 0.0230255126953125, 0.0027599334716796875, -1.1324882507324219e-05, -0.0032024383544921875, 0.0015287399291992188, 0.01372528076171875, -0.041107177734375, -0.0225677490234375, -0.006359100341796875, -0.00717926025390625, 0.0018033981323242188, 0.03436279296875, 0.0048065185546875, -0.03009033203125, 0.01361846923828125, 0.0007929801940917969, -0.00939178466796875, -0.0169525146484375, -0.01168060302734375, 0.016143798828125, 0.037689208984375, -0.0017795562744140625, 0.005809783935546875, -0.0184326171875, 0.006443023681640625, -0.00020432472229003906, -0.0025787353515625, 0.00812530517578125, -0.0214691162109375, 0.020263671875, 0.00222015380859375, 0.005466461181640625, 0.02105712890625, 0.00537872314453125, 0.009063720703125, -2.1755695343017578e-05, 0.01776123046875, -0.0117034912109375, -0.0089874267578125, 0.022674560546875, 0.0038967132568359375, -0.0133819580078125, -0.00035953521728515625, -0.006195068359375, -0.0290679931640625, -0.01319122314453125, 0.008697509765625, -0.0005059242248535156, 0.0102386474609375, 0.020538330078125, -0.0161285400390625, -0.0182647705078125, 0.00695037841796875, 0.0189361572265625, 0.0133209228515625, -0.00618743896484375, 0.0109405517578125, 0.0011491775512695312, 0.0273895263671875, 0.00379180908203125, -0.01384735107421875, -0.007778167724609375, 0.004764556884765625, 0.0003838539123535156, 0.0165252685546875, -0.00653839111328125, 0.01013946533203125, 0.00537109375, -0.004909515380859375, -0.0279083251953125, -0.005092620849609375, 0.0020904541015625, -0.0229339599609375, -0.000732421875, -0.005115509033203125, -0.0017642974853515625, -0.0106048583984375, -0.03167724609375, 0.0018672943115234375, -0.021942138671875, -0.0016498565673828125, -0.029388427734375, -0.0216827392578125, 0.005466461181640625, 0.005069732666015625, 0.00928497314453125, 0.0010747909545898438, 0.005069732666015625, 0.0129547119140625, -0.01165771484375, -0.0160064697265625, 0.0178985595703125, 0.012176513671875, 0.005901336669921875, 0.0222625732421875, -0.0025157928466796875, -0.01485443115234375, -0.0073394775390625, -0.042327880859375, -0.018768310546875, -0.0146026611328125, 0.00811767578125, -0.002025604248046875, -0.0238494873046875, 0.011749267578125, 0.01319122314453125, 0.013458251953125, -0.0010852813720703125, 0.0015773773193359375, 0.01336669921875, -0.005489349365234375, -0.00909423828125, 0.002086639404296875, -0.01186370849609375, 0.002044677734375, -0.022003173828125, 0.00470733642578125, 0.0008726119995117188, 0.004062652587890625, -0.004787445068359375, 0.0006775856018066406, 0.008056640625, -0.00676727294921875, -0.01555633544921875, 0.013580322265625, 0.0037384033203125, 0.0250244140625, -0.0110015869140625, 0.01326751708984375, 0.0023345947265625, -0.022796630859375, 0.00975799560546875, -0.01055908203125, 0.0251922607421875, -0.0014867782592773438, 0.006420135498046875, 0.0028934478759765625, -0.01511383056640625, 0.0196990966796875, 0.03704833984375, 0.01409912109375, 0.01029205322265625, -0.018829345703125, -0.0005297660827636719, -0.0096893310546875, 0.0017910003662109375, 0.03155517578125, 0.005107879638671875, 0.0007719993591308594, 0.006534576416015625, 0.005184173583984375, -0.0195159912109375, 0.003002166748046875, 0.01031494140625, 0.007785797119140625, 0.006221771240234375, -0.0276641845703125, -0.007678985595703125, 0.0024261474609375, 0.0014772415161132812, -0.0092315673828125, -0.0180206298828125, 0.0113983154296875, -0.0011606216430664062, -0.0016880035400390625, -0.02166748046875, 0.003971099853515625, 0.010833740234375, -0.0164947509765625, 0.024658203125, -0.01294708251953125, 0.0147247314453125, 0.014434814453125, -0.0159759521484375, 0.0031795501708984375, 0.0323486328125, 0.01641845703125, -0.0166168212890625, -0.01708984375, -0.004482269287109375, 0.0025787353515625, 0.0318603515625, -0.0044708251953125, 0.01049041748046875, -0.04241943359375, -0.01593017578125, 0.0174102783203125, -0.02740478515625, -0.01004791259765625, 0.012115478515625, 0.0004837512969970703, 0.01275634765625, -0.007495880126953125, -0.0006394386291503906, -0.004482269287109375, 0.0038356781005859375, 0.0160980224609375, -0.010986328125, -0.005035400390625, 0.005649566650390625, 0.01898193359375, 0.019927978515625, -0.0019931793212890625, 0.0263824462890625, 0.0052337646484375, -0.0004563331604003906, 0.022857666015625, -0.018829345703125, 0.00409698486328125, 0.00524139404296875, 0.0037975311279296875, 0.0157623291015625, -0.007843017578125, -0.01983642578125, 0.037445068359375, -0.001003265380859375, 0.0020084381103515625, -0.016448974609375, 0.01824951171875, -0.0005764961242675781, -0.019439697265625, -0.0025806427001953125, -0.01092529296875, 0.0199127197265625, 0.0124969482421875, 0.0230255126953125, 0.0241546630859375, -0.01363372802734375, -0.0185699462890625, 0.0095977783203125, 0.0017910003662109375, -0.005664825439453125, -0.0211944580078125, -0.0005497932434082031, -0.0198516845703125, -0.0050201416015625, 0.011749267578125, 0.0069427490234375, 0.01513671875, 0.0077972412109375, -0.006099700927734375, 0.0201263427734375, 0.0038661956787109375, -0.005687713623046875, -0.0166473388671875, 0.0031948089599609375, -0.006229400634765625, 0.008209228515625, 0.0030841827392578125, 0.0045318603515625, 0.0205841064453125, -0.004016876220703125, 0.0027103424072265625, 0.00881195068359375, -0.019073486328125, -0.0034847259521484375, -0.01873779296875, 0.00978851318359375, -0.01129913330078125, 0.0004906654357910156, 0.007568359375, 0.01678466796875, -0.025238037109375, 0.00824737548828125, 0.00016355514526367188, -0.0015954971313476562, 0.003948211669921875, 0.0132904052734375, 0.022979736328125, -0.0004546642303466797, 0.00411224365234375, 0.00789642333984375, 0.032073974609375, 0.006244659423828125, -0.03314208984375, -0.021026611328125, 0.014007568359375, -0.0254058837890625, 0.004596710205078125, 0.01032257080078125, 0.02716064453125, -0.00034546852111816406, -0.036376953125, 0.037811279296875, -0.04052734375, -0.019989013671875, 0.0008482933044433594, -0.0008983612060546875, 0.0163116455078125, -0.0286865234375, -0.0215911865234375, 0.008453369140625, -0.00399017333984375, 0.01213836669921875, 0.0123443603515625, -0.0018768310546875, -0.01776123046875, -0.0080108642578125, 0.002002716064453125, 0.0013589859008789062, 0.01485443115234375, -0.009124755859375, -0.0030059814453125, -0.0011777877807617188, -0.0294647216796875, 0.022552490234375, -0.0260467529296875, -0.00547027587890625, 0.00333404541015625, -0.007137298583984375, -0.0308380126953125, -0.00848388671875, 0.0132904052734375, -0.0210113525390625, -0.01009368896484375, -0.026123046875, -0.01116943359375, 0.0198211669921875, 0.0018768310546875, 0.005279541015625, 0.01531219482421875, -0.01346588134765625, -0.0071258544921875, 0.0132598876953125, -0.0193023681640625, -0.010986328125, 0.006191253662109375, -0.01049041748046875, 0.026397705078125, 0.0012960433959960938, -0.00498199462890625, 0.00830841064453125, 0.01520538330078125, -0.003124237060546875, -0.01039886474609375, -0.0223846435546875, 0.0019855499267578125, -0.0080108642578125, 0.00872039794921875, -0.0255889892578125, -0.0010528564453125, -0.015411376953125, -0.0109405517578125, 0.0097503662109375, -0.01094818115234375, 0.0160675048828125, -0.00556182861328125, 0.005584716796875, 0.0128631591796875, 0.01239013671875, 0.035125732421875, -0.00830078125, -0.010986328125, 0.0137939453125, -0.00936126708984375, 0.005992889404296875, 0.027923583984375, -0.0202178955078125, -0.0171051025390625, 0.00018358230590820312, -0.023681640625, 0.0034809112548828125, -0.0024871826171875, -0.033447265625, 0.024688720703125, 0.0028896331787109375, -0.002201080322265625, 0.00848388671875, -0.007068634033203125, -0.0191650390625, 0.03326416015625, 0.0035552978515625, -0.0111846923828125, 0.00315093994140625, -0.0005354881286621094, -0.015411376953125, 0.0016164779663085938, -0.00887298583984375, -0.0038318634033203125, 0.004978179931640625, 0.01117706298828125, 0.004913330078125, -0.0004558563232421875, 0.006450653076171875, 0.005260467529296875, -0.01511383056640625, -0.0052337646484375, 0.01346588134765625, -0.0186767578125, 0.0104522705078125, 0.00601959228515625, 0.02386474609375, -0.0114593505859375, -0.0081787109375, -0.003551483154296875, 0.00334930419921875, 0.0130157470703125, -0.007965087890625, 0.020111083984375, 0.00537109375, 0.004852294921875, -0.01253509521484375, -0.004364013671875, 0.0247039794921875, 0.0019006729125976562, 0.003757476806640625, -0.0062408447265625, -0.01381683349609375, 0.0203399658203125, -0.0023708343505859375, 0.036895751953125, 0.0027408599853515625, 0.00909423828125, -0.0108642578125, 0.01139068603515625, -0.0023250579833984375, -0.0256195068359375, -0.00539398193359375, -0.021484375, 0.005542755126953125, -0.0018548965454101562, -0.005340576171875, 0.0253753662109375, -0.018798828125, -0.004039764404296875, 0.01009368896484375, 0.00543212890625, 0.005786895751953125, 0.0021038055419921875, 0.016937255859375, 0.023193359375, -0.0013971328735351562, -0.0024776458740234375, -0.0074462890625, 0.001293182373046875, -0.0084991455078125, -0.01064300537109375, -0.00780487060546875, -0.00027632713317871094, -0.0040435791015625, -0.0119781494140625, -0.032135009765625, 0.001796722412109375, -0.0011081695556640625, 0.005344390869140625, 0.0033626556396484375, 0.00024366378784179688, 0.0027523040771484375, 0.0052642822265625, -0.01541900634765625, -0.01178741455078125, 0.012969970703125, -0.009979248046875, -0.005153656005859375, -0.0687255859375, 0.0072174072265625, -0.009002685546875, -0.0111846923828125, 0.0276336669921875]\"\n        ],\n        \"semantic_type\": \"\",\n        \"description\": \"\"\n      }\n    }\n  ]\n}",
              "type": "dataframe",
              "variable_name": "df"
            },
            "text/html": [
              "\n",
              "  <div id=\"df-2578f1f2-968d-4534-b6ee-e8b1189a5c68\" class=\"colab-df-container\">\n",
              "    <div>\n",
              "<style scoped>\n",
              "    .dataframe tbody tr th:only-of-type {\n",
              "        vertical-align: middle;\n",
              "    }\n",
              "\n",
              "    .dataframe tbody tr th {\n",
              "        vertical-align: top;\n",
              "    }\n",
              "\n",
              "    .dataframe thead th {\n",
              "        text-align: right;\n",
              "    }\n",
              "</style>\n",
              "<table border=\"1\" class=\"dataframe\">\n",
              "  <thead>\n",
              "    <tr style=\"text-align: right;\">\n",
              "      <th></th>\n",
              "      <th>Unnamed: 0</th>\n",
              "      <th>Title</th>\n",
              "      <th>Year</th>\n",
              "      <th>Genre</th>\n",
              "      <th>Description</th>\n",
              "      <th>Director</th>\n",
              "      <th>Cast</th>\n",
              "      <th>Review</th>\n",
              "      <th>Embeddings</th>\n",
              "    </tr>\n",
              "  </thead>\n",
              "  <tbody>\n",
              "    <tr>\n",
              "      <th>0</th>\n",
              "      <td>0</td>\n",
              "      <td>The Idea of You</td>\n",
              "      <td>2023.0</td>\n",
              "      <td>Comedy, Drama, Romance</td>\n",
              "      <td>Solène, a 40-year-old single mom, begins an un...</td>\n",
              "      <td>Michael Showalter</td>\n",
              "      <td>Anne Hathaway, Nicholas Galitzine, Ella Rubin,...</td>\n",
              "      <td>This film, as well as the reaction to it, is a...</td>\n",
              "      <td>[0.01253509521484375, 0.006870269775390625, 0....</td>\n",
              "    </tr>\n",
              "    <tr>\n",
              "      <th>1</th>\n",
              "      <td>1</td>\n",
              "      <td>Kingdom of the Planet of the Apes</td>\n",
              "      <td>2023.0</td>\n",
              "      <td>Action, Adventure, Sci-Fi</td>\n",
              "      <td>Many years after the reign of Caesar, a young ...</td>\n",
              "      <td>Wes Ball</td>\n",
              "      <td>Owen Teague, Freya Allan, Kevin Durand, Peter ...</td>\n",
              "      <td>I'm a big fan of all the planet of the apes, a...</td>\n",
              "      <td>[-0.011474609375, -0.0159454345703125, -0.0129...</td>\n",
              "    </tr>\n",
              "    <tr>\n",
              "      <th>2</th>\n",
              "      <td>2</td>\n",
              "      <td>Unfrosted</td>\n",
              "      <td>2023.0</td>\n",
              "      <td>Biography, Comedy, History</td>\n",
              "      <td>In 1963 Michigan, business rivals Kellogg's an...</td>\n",
              "      <td>Jerry Seinfeld</td>\n",
              "      <td>Isaac Bae, Jerry Seinfeld, Chris Rickett, Rach...</td>\n",
              "      <td>Pretty much the worst criticism you can lay on...</td>\n",
              "      <td>[-0.0018987655639648438, 0.005340576171875, 0....</td>\n",
              "    </tr>\n",
              "    <tr>\n",
              "      <th>3</th>\n",
              "      <td>3</td>\n",
              "      <td>The Fall Guy</td>\n",
              "      <td>2023.0</td>\n",
              "      <td>Action, Comedy, Drama</td>\n",
              "      <td>A down-and-out stuntman must find the missing ...</td>\n",
              "      <td>David Leitch</td>\n",
              "      <td>Ryan Gosling, Emily Blunt, Aaron Taylor-Johnso...</td>\n",
              "      <td>Just got out of the Austin premier at SXSW and...</td>\n",
              "      <td>[-0.0156707763671875, -0.02117919921875, -0.00...</td>\n",
              "    </tr>\n",
              "    <tr>\n",
              "      <th>4</th>\n",
              "      <td>4</td>\n",
              "      <td>Challengers</td>\n",
              "      <td>2023.0</td>\n",
              "      <td>Drama, Romance, Sport</td>\n",
              "      <td>Tashi, a former tennis prodigy turned coach, t...</td>\n",
              "      <td>Luca Guadagnino</td>\n",
              "      <td>Zendaya, Mike Faist, Josh O'Connor, Darnell Ap...</td>\n",
              "      <td>This is a tough one. I liked the concept and t...</td>\n",
              "      <td>[-0.022705078125, -0.0107574462890625, -0.0059...</td>\n",
              "    </tr>\n",
              "  </tbody>\n",
              "</table>\n",
              "</div>\n",
              "    <div class=\"colab-df-buttons\">\n",
              "\n",
              "  <div class=\"colab-df-container\">\n",
              "    <button class=\"colab-df-convert\" onclick=\"convertToInteractive('df-2578f1f2-968d-4534-b6ee-e8b1189a5c68')\"\n",
              "            title=\"Convert this dataframe to an interactive table.\"\n",
              "            style=\"display:none;\">\n",
              "\n",
              "  <svg xmlns=\"http://www.w3.org/2000/svg\" height=\"24px\" viewBox=\"0 -960 960 960\">\n",
              "    <path d=\"M120-120v-720h720v720H120Zm60-500h600v-160H180v160Zm220 220h160v-160H400v160Zm0 220h160v-160H400v160ZM180-400h160v-160H180v160Zm440 0h160v-160H620v160ZM180-180h160v-160H180v160Zm440 0h160v-160H620v160Z\"/>\n",
              "  </svg>\n",
              "    </button>\n",
              "\n",
              "  <style>\n",
              "    .colab-df-container {\n",
              "      display:flex;\n",
              "      gap: 12px;\n",
              "    }\n",
              "\n",
              "    .colab-df-convert {\n",
              "      background-color: #E8F0FE;\n",
              "      border: none;\n",
              "      border-radius: 50%;\n",
              "      cursor: pointer;\n",
              "      display: none;\n",
              "      fill: #1967D2;\n",
              "      height: 32px;\n",
              "      padding: 0 0 0 0;\n",
              "      width: 32px;\n",
              "    }\n",
              "\n",
              "    .colab-df-convert:hover {\n",
              "      background-color: #E2EBFA;\n",
              "      box-shadow: 0px 1px 2px rgba(60, 64, 67, 0.3), 0px 1px 3px 1px rgba(60, 64, 67, 0.15);\n",
              "      fill: #174EA6;\n",
              "    }\n",
              "\n",
              "    .colab-df-buttons div {\n",
              "      margin-bottom: 4px;\n",
              "    }\n",
              "\n",
              "    [theme=dark] .colab-df-convert {\n",
              "      background-color: #3B4455;\n",
              "      fill: #D2E3FC;\n",
              "    }\n",
              "\n",
              "    [theme=dark] .colab-df-convert:hover {\n",
              "      background-color: #434B5C;\n",
              "      box-shadow: 0px 1px 3px 1px rgba(0, 0, 0, 0.15);\n",
              "      filter: drop-shadow(0px 1px 2px rgba(0, 0, 0, 0.3));\n",
              "      fill: #FFFFFF;\n",
              "    }\n",
              "  </style>\n",
              "\n",
              "    <script>\n",
              "      const buttonEl =\n",
              "        document.querySelector('#df-2578f1f2-968d-4534-b6ee-e8b1189a5c68 button.colab-df-convert');\n",
              "      buttonEl.style.display =\n",
              "        google.colab.kernel.accessAllowed ? 'block' : 'none';\n",
              "\n",
              "      async function convertToInteractive(key) {\n",
              "        const element = document.querySelector('#df-2578f1f2-968d-4534-b6ee-e8b1189a5c68');\n",
              "        const dataTable =\n",
              "          await google.colab.kernel.invokeFunction('convertToInteractive',\n",
              "                                                    [key], {});\n",
              "        if (!dataTable) return;\n",
              "\n",
              "        const docLinkHtml = 'Like what you see? Visit the ' +\n",
              "          '<a target=\"_blank\" href=https://colab.research.google.com/notebooks/data_table.ipynb>data table notebook</a>'\n",
              "          + ' to learn more about interactive tables.';\n",
              "        element.innerHTML = '';\n",
              "        dataTable['output_type'] = 'display_data';\n",
              "        await google.colab.output.renderOutput(dataTable, element);\n",
              "        const docLink = document.createElement('div');\n",
              "        docLink.innerHTML = docLinkHtml;\n",
              "        element.appendChild(docLink);\n",
              "      }\n",
              "    </script>\n",
              "  </div>\n",
              "\n",
              "\n",
              "<div id=\"df-10326c34-e0f3-45bf-9829-a484a7e59c28\">\n",
              "  <button class=\"colab-df-quickchart\" onclick=\"quickchart('df-10326c34-e0f3-45bf-9829-a484a7e59c28')\"\n",
              "            title=\"Suggest charts\"\n",
              "            style=\"display:none;\">\n",
              "\n",
              "<svg xmlns=\"http://www.w3.org/2000/svg\" height=\"24px\"viewBox=\"0 0 24 24\"\n",
              "     width=\"24px\">\n",
              "    <g>\n",
              "        <path d=\"M19 3H5c-1.1 0-2 .9-2 2v14c0 1.1.9 2 2 2h14c1.1 0 2-.9 2-2V5c0-1.1-.9-2-2-2zM9 17H7v-7h2v7zm4 0h-2V7h2v10zm4 0h-2v-4h2v4z\"/>\n",
              "    </g>\n",
              "</svg>\n",
              "  </button>\n",
              "\n",
              "<style>\n",
              "  .colab-df-quickchart {\n",
              "      --bg-color: #E8F0FE;\n",
              "      --fill-color: #1967D2;\n",
              "      --hover-bg-color: #E2EBFA;\n",
              "      --hover-fill-color: #174EA6;\n",
              "      --disabled-fill-color: #AAA;\n",
              "      --disabled-bg-color: #DDD;\n",
              "  }\n",
              "\n",
              "  [theme=dark] .colab-df-quickchart {\n",
              "      --bg-color: #3B4455;\n",
              "      --fill-color: #D2E3FC;\n",
              "      --hover-bg-color: #434B5C;\n",
              "      --hover-fill-color: #FFFFFF;\n",
              "      --disabled-bg-color: #3B4455;\n",
              "      --disabled-fill-color: #666;\n",
              "  }\n",
              "\n",
              "  .colab-df-quickchart {\n",
              "    background-color: var(--bg-color);\n",
              "    border: none;\n",
              "    border-radius: 50%;\n",
              "    cursor: pointer;\n",
              "    display: none;\n",
              "    fill: var(--fill-color);\n",
              "    height: 32px;\n",
              "    padding: 0;\n",
              "    width: 32px;\n",
              "  }\n",
              "\n",
              "  .colab-df-quickchart:hover {\n",
              "    background-color: var(--hover-bg-color);\n",
              "    box-shadow: 0 1px 2px rgba(60, 64, 67, 0.3), 0 1px 3px 1px rgba(60, 64, 67, 0.15);\n",
              "    fill: var(--button-hover-fill-color);\n",
              "  }\n",
              "\n",
              "  .colab-df-quickchart-complete:disabled,\n",
              "  .colab-df-quickchart-complete:disabled:hover {\n",
              "    background-color: var(--disabled-bg-color);\n",
              "    fill: var(--disabled-fill-color);\n",
              "    box-shadow: none;\n",
              "  }\n",
              "\n",
              "  .colab-df-spinner {\n",
              "    border: 2px solid var(--fill-color);\n",
              "    border-color: transparent;\n",
              "    border-bottom-color: var(--fill-color);\n",
              "    animation:\n",
              "      spin 1s steps(1) infinite;\n",
              "  }\n",
              "\n",
              "  @keyframes spin {\n",
              "    0% {\n",
              "      border-color: transparent;\n",
              "      border-bottom-color: var(--fill-color);\n",
              "      border-left-color: var(--fill-color);\n",
              "    }\n",
              "    20% {\n",
              "      border-color: transparent;\n",
              "      border-left-color: var(--fill-color);\n",
              "      border-top-color: var(--fill-color);\n",
              "    }\n",
              "    30% {\n",
              "      border-color: transparent;\n",
              "      border-left-color: var(--fill-color);\n",
              "      border-top-color: var(--fill-color);\n",
              "      border-right-color: var(--fill-color);\n",
              "    }\n",
              "    40% {\n",
              "      border-color: transparent;\n",
              "      border-right-color: var(--fill-color);\n",
              "      border-top-color: var(--fill-color);\n",
              "    }\n",
              "    60% {\n",
              "      border-color: transparent;\n",
              "      border-right-color: var(--fill-color);\n",
              "    }\n",
              "    80% {\n",
              "      border-color: transparent;\n",
              "      border-right-color: var(--fill-color);\n",
              "      border-bottom-color: var(--fill-color);\n",
              "    }\n",
              "    90% {\n",
              "      border-color: transparent;\n",
              "      border-bottom-color: var(--fill-color);\n",
              "    }\n",
              "  }\n",
              "</style>\n",
              "\n",
              "  <script>\n",
              "    async function quickchart(key) {\n",
              "      const quickchartButtonEl =\n",
              "        document.querySelector('#' + key + ' button');\n",
              "      quickchartButtonEl.disabled = true;  // To prevent multiple clicks.\n",
              "      quickchartButtonEl.classList.add('colab-df-spinner');\n",
              "      try {\n",
              "        const charts = await google.colab.kernel.invokeFunction(\n",
              "            'suggestCharts', [key], {});\n",
              "      } catch (error) {\n",
              "        console.error('Error during call to suggestCharts:', error);\n",
              "      }\n",
              "      quickchartButtonEl.classList.remove('colab-df-spinner');\n",
              "      quickchartButtonEl.classList.add('colab-df-quickchart-complete');\n",
              "    }\n",
              "    (() => {\n",
              "      let quickchartButtonEl =\n",
              "        document.querySelector('#df-10326c34-e0f3-45bf-9829-a484a7e59c28 button');\n",
              "      quickchartButtonEl.style.display =\n",
              "        google.colab.kernel.accessAllowed ? 'block' : 'none';\n",
              "    })();\n",
              "  </script>\n",
              "</div>\n",
              "\n",
              "    </div>\n",
              "  </div>\n"
            ],
            "text/plain": [
              "   Unnamed: 0                              Title    Year  \\\n",
              "0           0                    The Idea of You  2023.0   \n",
              "1           1  Kingdom of the Planet of the Apes  2023.0   \n",
              "2           2                          Unfrosted  2023.0   \n",
              "3           3                       The Fall Guy  2023.0   \n",
              "4           4                        Challengers  2023.0   \n",
              "\n",
              "                        Genre  \\\n",
              "0      Comedy, Drama, Romance   \n",
              "1   Action, Adventure, Sci-Fi   \n",
              "2  Biography, Comedy, History   \n",
              "3       Action, Comedy, Drama   \n",
              "4       Drama, Romance, Sport   \n",
              "\n",
              "                                         Description           Director  \\\n",
              "0  Solène, a 40-year-old single mom, begins an un...  Michael Showalter   \n",
              "1  Many years after the reign of Caesar, a young ...           Wes Ball   \n",
              "2  In 1963 Michigan, business rivals Kellogg's an...     Jerry Seinfeld   \n",
              "3  A down-and-out stuntman must find the missing ...       David Leitch   \n",
              "4  Tashi, a former tennis prodigy turned coach, t...    Luca Guadagnino   \n",
              "\n",
              "                                                Cast  \\\n",
              "0  Anne Hathaway, Nicholas Galitzine, Ella Rubin,...   \n",
              "1  Owen Teague, Freya Allan, Kevin Durand, Peter ...   \n",
              "2  Isaac Bae, Jerry Seinfeld, Chris Rickett, Rach...   \n",
              "3  Ryan Gosling, Emily Blunt, Aaron Taylor-Johnso...   \n",
              "4  Zendaya, Mike Faist, Josh O'Connor, Darnell Ap...   \n",
              "\n",
              "                                              Review  \\\n",
              "0  This film, as well as the reaction to it, is a...   \n",
              "1  I'm a big fan of all the planet of the apes, a...   \n",
              "2  Pretty much the worst criticism you can lay on...   \n",
              "3  Just got out of the Austin premier at SXSW and...   \n",
              "4  This is a tough one. I liked the concept and t...   \n",
              "\n",
              "                                          Embeddings  \n",
              "0  [0.01253509521484375, 0.006870269775390625, 0....  \n",
              "1  [-0.011474609375, -0.0159454345703125, -0.0129...  \n",
              "2  [-0.0018987655639648438, 0.005340576171875, 0....  \n",
              "3  [-0.0156707763671875, -0.02117919921875, -0.00...  \n",
              "4  [-0.022705078125, -0.0107574462890625, -0.0059...  "
            ]
          },
          "execution_count": 10,
          "metadata": {},
          "output_type": "execute_result"
        }
      ],
      "source": [
        "df = pd.read_csv('/content/imdb-movies-dataset2.csv', sep=',')\n",
        "\n",
        "# 데이터 확인\n",
        "df.head()"
      ]
    },
    {
      "cell_type": "code",
      "execution_count": null,
      "metadata": {
        "colab": {
          "base_uri": "https://localhost:8080/"
        },
        "id": "Zs2Gtvz8iQ1D",
        "outputId": "0ccd8011-da84-4daf-a1ad-dac07cbd83b6"
      },
      "outputs": [
        {
          "data": {
            "text/plain": [
              "(9342, 9)"
            ]
          },
          "execution_count": 11,
          "metadata": {},
          "output_type": "execute_result"
        }
      ],
      "source": [
        "df.shape"
      ]
    },
    {
      "cell_type": "code",
      "execution_count": null,
      "metadata": {
        "colab": {
          "base_uri": "https://localhost:8080/"
        },
        "id": "ncJ_1vHLkpsG",
        "outputId": "2fada8c1-9656-4a25-e393-34921dbc3184"
      },
      "outputs": [
        {
          "name": "stdout",
          "output_type": "stream",
          "text": [
            "Embedding Dimension: 84820\n"
          ]
        }
      ],
      "source": [
        "embeddings = df['Embeddings']\n",
        "\n",
        "# 첫 번째 임베딩 벡터의 길이를 통해 차원 수 확인\n",
        "embedding_dimension = len(embeddings[0])\n",
        "print(f\"Embedding Dimension: {embedding_dimension}\")"
      ]
    },
    {
      "cell_type": "code",
      "execution_count": null,
      "metadata": {
        "colab": {
          "base_uri": "https://localhost:8080/"
        },
        "id": "3OiTHLJsnaUn",
        "outputId": "46302db6-6736-45fd-827d-5ecb32bf0bd2"
      },
      "outputs": [
        {
          "name": "stdout",
          "output_type": "stream",
          "text": [
            "<class 'pandas.core.frame.DataFrame'>\n",
            "RangeIndex: 9342 entries, 0 to 9341\n",
            "Data columns (total 9 columns):\n",
            " #   Column       Non-Null Count  Dtype  \n",
            "---  ------       --------------  -----  \n",
            " 0   Unnamed: 0   9342 non-null   int64  \n",
            " 1   Title        9342 non-null   object \n",
            " 2   Year         9342 non-null   float64\n",
            " 3   Genre        9342 non-null   object \n",
            " 4   Description  9342 non-null   object \n",
            " 5   Director     9342 non-null   object \n",
            " 6   Cast         9342 non-null   object \n",
            " 7   Review       9342 non-null   object \n",
            " 8   Embeddings   9342 non-null   object \n",
            "dtypes: float64(1), int64(1), object(7)\n",
            "memory usage: 657.0+ KB\n"
          ]
        }
      ],
      "source": [
        "df.info() # Embeddings를 다시 불러온 결과 object 값으로 인식하여 차원이 84820으로 인식 됨"
      ]
    },
    {
      "cell_type": "markdown",
      "metadata": {
        "id": "fKd1oLldpcwP"
      },
      "source": [
        "- 7분 걸림"
      ]
    },
    {
      "cell_type": "code",
      "execution_count": null,
      "metadata": {
        "colab": {
          "base_uri": "https://localhost:8080/"
        },
        "id": "Xroh6kMsnhi_",
        "outputId": "16ac8b8a-b31b-4485-b8f7-739b25761a81"
      },
      "outputs": [
        {
          "name": "stdout",
          "output_type": "stream",
          "text": [
            "Embedding Dimension: 4096\n"
          ]
        }
      ],
      "source": [
        "# 임베딩 벡터 문자열을 리스트로 변환\n",
        "df['Embeddings'] = df['Embeddings'].apply(ast.literal_eval)\n",
        "\n",
        "# 임베딩 벡터 리스트를 가져옵니다.\n",
        "embeddings = df['Embeddings'].tolist()\n",
        "\n",
        "# 첫 번째 임베딩 벡터의 차원 확인\n",
        "embedding_dimension = len(embeddings[0])\n",
        "print(f\"Embedding Dimension: {embedding_dimension}\")"
      ]
    },
    {
      "cell_type": "code",
      "execution_count": null,
      "metadata": {
        "colab": {
          "base_uri": "https://localhost:8080/"
        },
        "id": "I8bCNF3GpgDy",
        "outputId": "adc1357a-b2d3-469d-e23c-9c45c114ce5f"
      },
      "outputs": [
        {
          "data": {
            "application/vnd.google.colaboratory.intrinsic+json": {
              "summary": "{\n  \"name\": \"df\",\n  \"rows\": 9342,\n  \"fields\": [\n    {\n      \"column\": \"Unnamed: 0\",\n      \"properties\": {\n        \"dtype\": \"number\",\n        \"std\": 2859,\n        \"min\": 0,\n        \"max\": 9999,\n        \"num_unique_values\": 9342,\n        \"samples\": [\n          390,\n          6270,\n          9041\n        ],\n        \"semantic_type\": \"\",\n        \"description\": \"\"\n      }\n    },\n    {\n      \"column\": \"Title\",\n      \"properties\": {\n        \"dtype\": \"string\",\n        \"num_unique_values\": 9022,\n        \"samples\": [\n          \"With Honors\",\n          \"Last Seen Alive\",\n          \"Plus One\"\n        ],\n        \"semantic_type\": \"\",\n        \"description\": \"\"\n      }\n    },\n    {\n      \"column\": \"Year\",\n      \"properties\": {\n        \"dtype\": \"number\",\n        \"std\": 18.903835917345855,\n        \"min\": 1929.0,\n        \"max\": 2025.0,\n        \"num_unique_values\": 60,\n        \"samples\": [\n          2023.0,\n          1997.0,\n          1988.0\n        ],\n        \"semantic_type\": \"\",\n        \"description\": \"\"\n      }\n    },\n    {\n      \"column\": \"Genre\",\n      \"properties\": {\n        \"dtype\": \"category\",\n        \"num_unique_values\": 460,\n        \"samples\": [\n          \"Adventure, Biography, Drama\",\n          \"Animation, Action, Adventure\",\n          \"Comedy, Family\"\n        ],\n        \"semantic_type\": \"\",\n        \"description\": \"\"\n      }\n    },\n    {\n      \"column\": \"Description\",\n      \"properties\": {\n        \"dtype\": \"string\",\n        \"num_unique_values\": 9339,\n        \"samples\": [\n          \"During her family's move to the suburbs, a sullen 10-year-old girl wanders into a world ruled by gods, witches and spirits, and where humans are changed into beasts.\",\n          \"A wealthy woman from Manhattan's Upper East Side struggles to deal with her new identity and her sexuality after her husband of 16 years leaves her for a younger woman.\",\n          \"A young woman comes to Hollywood with dreams of stardom, and achieves them only with the help of an alcoholic leading man whose best days are behind him.\"\n        ],\n        \"semantic_type\": \"\",\n        \"description\": \"\"\n      }\n    },\n    {\n      \"column\": \"Director\",\n      \"properties\": {\n        \"dtype\": \"category\",\n        \"num_unique_values\": 4276,\n        \"samples\": [\n          \"Sean Penn\",\n          \"Lee Cronin\",\n          \"Hong Sung-ho\"\n        ],\n        \"semantic_type\": \"\",\n        \"description\": \"\"\n      }\n    },\n    {\n      \"column\": \"Cast\",\n      \"properties\": {\n        \"dtype\": \"string\",\n        \"num_unique_values\": 9292,\n        \"samples\": [\n          \"Roy Scheider, Warren Oates, Candy Clark, Daniel Stern\",\n          \"Michael J. Fox, Christopher Lloyd, Lea Thompson, Tom Wilson\",\n          \"Jack Nicholson, Kathleen Turner, Robert Loggia, John Randolph\"\n        ],\n        \"semantic_type\": \"\",\n        \"description\": \"\"\n      }\n    },\n    {\n      \"column\": \"Review\",\n      \"properties\": {\n        \"dtype\": \"string\",\n        \"num_unique_values\": 9342,\n        \"samples\": [\n          \"'Spirited Away' is the first Miyazaki I have seen, but from this stupendous film I can tell he is a master storyteller. A hallmark of a good storyteller is making the audience empathise or pull them into the shoes of the central character. Miyazaki does this brilliantly in 'Spirited Away'. During the first fifteen minutes we have no idea what is going on. Neither does the main character Chihiro. We discover the world as Chihiro does and it's truly amazing to watch. But Miyazaki doesn't seem to treat this world as something amazing. The world is filmed just like our workaday world would. The inhabitants of the world go about their daily business as usual as full with apathy as us normal folks. Places and buildings are not greeted by towering establishing shots and majestic music. The fact that this place is amazing doesn't seem to concern Miyazaki. What do however, are the characters. Miyazaki lingers upon the characters as if they were actors. He infixes his animated actors with such subtleties that I have never seen, even from animation giants Pixar. Twenty minutes into this film and I completely forgot these were animated characters; I started to care for them like they were living and breathing. Miyazaki treats the modest achievements of Chihiro with unashamed bombast. The uplifting scene where she cleanses the River God is accompanied by stirring music and is as exciting as watching gladiatorial combatants fight. Of course, by giving the audience developed characters to care about, the action and conflicts will always be more exciting, terrifying and uplifting than normal, generic action scenes. Through Chihiro, Miyazaki is clearly (but non-patronisingly) talking to youth of Japan. There's a certain sense of revile about the youth of Japan at the moment. Many people consider them to be ill-mannered and baring no respect for their elders or their forefathers. They are simply bi-products of their material world and consumerism. 'Spirited Away' taps into this. At the start Chihiro is a selfish, spoiled, whiny brat. But as she plunges deeper into the spirit world, she becomes more independent, more assured, more respectful and learns some manners. No Face, a black figure with a white mask, is the catalyst behind Chihiro's transformation. Once he is let into the bathhouse, we are no longer tourists \\u0096 the story propels forth. Watching No Face prey on the greed of the workers is a terrifying delight. The three main characters in Miyazaki's youth allegory are Chihiro, No Face and B\\u00f4. All of these characters are disconnected with their world. They are lonely, misunderstood and largely ignored. But when they go on their journey together, they united and become stronger individuals.Miyazaki also talks about the ecology of Japan. What was once a beautiful; grassland has now turned into the Asian New York. That The Last Samurai had to be filmed in New Zealand to get a turn of the century Japanese look speaks volumes. The River God sequence is an unsubtle but unpretentious commentary on pollution. While these two themes are very much current in Japan, they are also universal themes \\u0096 which makes 'Spirited Away' a universal story that most of us can connect with. I'm willing to bet everyone reading this has at some time seen bicycles lying on a lake bed or have had a child talk to them disrespectfully. Sure these themes aren't advanced philosophy. They are everyday issues told in an inventive, fun way.The animation is wonderful, if not as smooth as Disney's works \\u0096 but there's something superior to that. 'Spirited Away's imperfect, but detailed world is far more fascinating than the perfected blandest of Disney's latest offerings. The animators successfully balanced the tight-rope between not-enough animation on characters and too much animation on characters. No Ralph Balski ADD antics here! The film is full of vivid images \\u0096 both beautiful and horrifying. The line between those two extremes is crossed over seamlessly. From Chihiro and Haku running through an opening flower field to Haku's dragon snarling with a bloody mouth, both extremes seem to belong in the film. It's also excellently done with the characters. Kamaji can be seen as a scary, daunting figure at the beginning, but soon he seamlessly changes into a humble, wise figure. Yubaba also seems to be able to turn from kind to witch with the snap of a finger. The sound on the film was expertly done. The sounds perfectly match the on screen actions and objects. My sub woofer got a wonderful workout when Haku swoops Chihiro past the bridge at the beginning. And while I don't speak Japanese, I think the voice actors did a wonderful job of conveying their personality and emotions true their voice. Joe Hisaishi's music is sublime, definitely one of my favourite scores. His main piano theme is simple and evocative. His thunderous action music hits the viewers on the chest like a hammer. Like all great scores it heightens the greatness of a scene about three times. The score, unlike many American composers', is unobtrusive. It plays excellently with the scenes, but never overbears them. A lot of the time the it is barely noticeable, a sole piano plays softly in the background evoking a dreamlike/lullaby quality. 'Spirited Away' is a simply a modern masterpiece, easily one of the Top 10 films of the new millennium. It works on a multitude of levels; a social commentary on Japan, a homage to ancient Japanese/Russian mythology, a moral film for both children and adults. But most importantly, it is a simple story brilliantly told by a great filmmaker who appears to be at the top of his game. 'Spirited Away' works much like a relaxing journey. Pop in the DVD; leave this world for two hours and when you will be almost certainly enriched and ready to take the trip again.\",\n          \"This movie doesn't get the credit that it deserves. Travolta's speech at the end of the movie to the doctor is incredible. Rarely do I ever see a movie that acknowledges the value of a single human life like this movie does. Most movies glorify sacrifice. This movie glorifies life. I highly recommend it.\",\n          \"Saw this film at the Melbourne International Film Festival and was deeply deeply diappointed.The film runs for three hours and it absolutely does not require the massive run time, as so little of consequence actually happens in the film. The bank robbery angle is an intriguing place to start the story and the banality of the workplace provides some moments of amusement and intrigue.However the director soon gets bored with the central premise of the story and gets distracted by meandering through a variety of inconsequential subplots. These subplots end up contributing little to the film's plot overall. By the end it was really making me angry at how slow the plot was and how little the director cared about my time.I have rarely been so bored during a film, honestly would have walked out if I hadn't been with a bunch of people who wanted to stay.I'd ignore the inexplicably positive reviews by the high and mighty artsy film critics, save three hours and skip this one.\"\n        ],\n        \"semantic_type\": \"\",\n        \"description\": \"\"\n      }\n    },\n    {\n      \"column\": \"Embeddings\",\n      \"properties\": {\n        \"dtype\": \"object\",\n        \"semantic_type\": \"\",\n        \"description\": \"\"\n      }\n    }\n  ]\n}",
              "type": "dataframe",
              "variable_name": "df"
            },
            "text/html": [
              "\n",
              "  <div id=\"df-7216d365-83de-409f-b663-ec8849e0ee15\" class=\"colab-df-container\">\n",
              "    <div>\n",
              "<style scoped>\n",
              "    .dataframe tbody tr th:only-of-type {\n",
              "        vertical-align: middle;\n",
              "    }\n",
              "\n",
              "    .dataframe tbody tr th {\n",
              "        vertical-align: top;\n",
              "    }\n",
              "\n",
              "    .dataframe thead th {\n",
              "        text-align: right;\n",
              "    }\n",
              "</style>\n",
              "<table border=\"1\" class=\"dataframe\">\n",
              "  <thead>\n",
              "    <tr style=\"text-align: right;\">\n",
              "      <th></th>\n",
              "      <th>Unnamed: 0</th>\n",
              "      <th>Title</th>\n",
              "      <th>Year</th>\n",
              "      <th>Genre</th>\n",
              "      <th>Description</th>\n",
              "      <th>Director</th>\n",
              "      <th>Cast</th>\n",
              "      <th>Review</th>\n",
              "      <th>Embeddings</th>\n",
              "    </tr>\n",
              "  </thead>\n",
              "  <tbody>\n",
              "    <tr>\n",
              "      <th>0</th>\n",
              "      <td>0</td>\n",
              "      <td>The Idea of You</td>\n",
              "      <td>2023.0</td>\n",
              "      <td>Comedy, Drama, Romance</td>\n",
              "      <td>Solène, a 40-year-old single mom, begins an un...</td>\n",
              "      <td>Michael Showalter</td>\n",
              "      <td>Anne Hathaway, Nicholas Galitzine, Ella Rubin,...</td>\n",
              "      <td>This film, as well as the reaction to it, is a...</td>\n",
              "      <td>[0.01253509521484375, 0.006870269775390625, 0....</td>\n",
              "    </tr>\n",
              "    <tr>\n",
              "      <th>1</th>\n",
              "      <td>1</td>\n",
              "      <td>Kingdom of the Planet of the Apes</td>\n",
              "      <td>2023.0</td>\n",
              "      <td>Action, Adventure, Sci-Fi</td>\n",
              "      <td>Many years after the reign of Caesar, a young ...</td>\n",
              "      <td>Wes Ball</td>\n",
              "      <td>Owen Teague, Freya Allan, Kevin Durand, Peter ...</td>\n",
              "      <td>I'm a big fan of all the planet of the apes, a...</td>\n",
              "      <td>[-0.011474609375, -0.0159454345703125, -0.0129...</td>\n",
              "    </tr>\n",
              "    <tr>\n",
              "      <th>2</th>\n",
              "      <td>2</td>\n",
              "      <td>Unfrosted</td>\n",
              "      <td>2023.0</td>\n",
              "      <td>Biography, Comedy, History</td>\n",
              "      <td>In 1963 Michigan, business rivals Kellogg's an...</td>\n",
              "      <td>Jerry Seinfeld</td>\n",
              "      <td>Isaac Bae, Jerry Seinfeld, Chris Rickett, Rach...</td>\n",
              "      <td>Pretty much the worst criticism you can lay on...</td>\n",
              "      <td>[-0.0018987655639648438, 0.005340576171875, 0....</td>\n",
              "    </tr>\n",
              "    <tr>\n",
              "      <th>3</th>\n",
              "      <td>3</td>\n",
              "      <td>The Fall Guy</td>\n",
              "      <td>2023.0</td>\n",
              "      <td>Action, Comedy, Drama</td>\n",
              "      <td>A down-and-out stuntman must find the missing ...</td>\n",
              "      <td>David Leitch</td>\n",
              "      <td>Ryan Gosling, Emily Blunt, Aaron Taylor-Johnso...</td>\n",
              "      <td>Just got out of the Austin premier at SXSW and...</td>\n",
              "      <td>[-0.0156707763671875, -0.02117919921875, -0.00...</td>\n",
              "    </tr>\n",
              "    <tr>\n",
              "      <th>4</th>\n",
              "      <td>4</td>\n",
              "      <td>Challengers</td>\n",
              "      <td>2023.0</td>\n",
              "      <td>Drama, Romance, Sport</td>\n",
              "      <td>Tashi, a former tennis prodigy turned coach, t...</td>\n",
              "      <td>Luca Guadagnino</td>\n",
              "      <td>Zendaya, Mike Faist, Josh O'Connor, Darnell Ap...</td>\n",
              "      <td>This is a tough one. I liked the concept and t...</td>\n",
              "      <td>[-0.022705078125, -0.0107574462890625, -0.0059...</td>\n",
              "    </tr>\n",
              "  </tbody>\n",
              "</table>\n",
              "</div>\n",
              "    <div class=\"colab-df-buttons\">\n",
              "\n",
              "  <div class=\"colab-df-container\">\n",
              "    <button class=\"colab-df-convert\" onclick=\"convertToInteractive('df-7216d365-83de-409f-b663-ec8849e0ee15')\"\n",
              "            title=\"Convert this dataframe to an interactive table.\"\n",
              "            style=\"display:none;\">\n",
              "\n",
              "  <svg xmlns=\"http://www.w3.org/2000/svg\" height=\"24px\" viewBox=\"0 -960 960 960\">\n",
              "    <path d=\"M120-120v-720h720v720H120Zm60-500h600v-160H180v160Zm220 220h160v-160H400v160Zm0 220h160v-160H400v160ZM180-400h160v-160H180v160Zm440 0h160v-160H620v160ZM180-180h160v-160H180v160Zm440 0h160v-160H620v160Z\"/>\n",
              "  </svg>\n",
              "    </button>\n",
              "\n",
              "  <style>\n",
              "    .colab-df-container {\n",
              "      display:flex;\n",
              "      gap: 12px;\n",
              "    }\n",
              "\n",
              "    .colab-df-convert {\n",
              "      background-color: #E8F0FE;\n",
              "      border: none;\n",
              "      border-radius: 50%;\n",
              "      cursor: pointer;\n",
              "      display: none;\n",
              "      fill: #1967D2;\n",
              "      height: 32px;\n",
              "      padding: 0 0 0 0;\n",
              "      width: 32px;\n",
              "    }\n",
              "\n",
              "    .colab-df-convert:hover {\n",
              "      background-color: #E2EBFA;\n",
              "      box-shadow: 0px 1px 2px rgba(60, 64, 67, 0.3), 0px 1px 3px 1px rgba(60, 64, 67, 0.15);\n",
              "      fill: #174EA6;\n",
              "    }\n",
              "\n",
              "    .colab-df-buttons div {\n",
              "      margin-bottom: 4px;\n",
              "    }\n",
              "\n",
              "    [theme=dark] .colab-df-convert {\n",
              "      background-color: #3B4455;\n",
              "      fill: #D2E3FC;\n",
              "    }\n",
              "\n",
              "    [theme=dark] .colab-df-convert:hover {\n",
              "      background-color: #434B5C;\n",
              "      box-shadow: 0px 1px 3px 1px rgba(0, 0, 0, 0.15);\n",
              "      filter: drop-shadow(0px 1px 2px rgba(0, 0, 0, 0.3));\n",
              "      fill: #FFFFFF;\n",
              "    }\n",
              "  </style>\n",
              "\n",
              "    <script>\n",
              "      const buttonEl =\n",
              "        document.querySelector('#df-7216d365-83de-409f-b663-ec8849e0ee15 button.colab-df-convert');\n",
              "      buttonEl.style.display =\n",
              "        google.colab.kernel.accessAllowed ? 'block' : 'none';\n",
              "\n",
              "      async function convertToInteractive(key) {\n",
              "        const element = document.querySelector('#df-7216d365-83de-409f-b663-ec8849e0ee15');\n",
              "        const dataTable =\n",
              "          await google.colab.kernel.invokeFunction('convertToInteractive',\n",
              "                                                    [key], {});\n",
              "        if (!dataTable) return;\n",
              "\n",
              "        const docLinkHtml = 'Like what you see? Visit the ' +\n",
              "          '<a target=\"_blank\" href=https://colab.research.google.com/notebooks/data_table.ipynb>data table notebook</a>'\n",
              "          + ' to learn more about interactive tables.';\n",
              "        element.innerHTML = '';\n",
              "        dataTable['output_type'] = 'display_data';\n",
              "        await google.colab.output.renderOutput(dataTable, element);\n",
              "        const docLink = document.createElement('div');\n",
              "        docLink.innerHTML = docLinkHtml;\n",
              "        element.appendChild(docLink);\n",
              "      }\n",
              "    </script>\n",
              "  </div>\n",
              "\n",
              "\n",
              "<div id=\"df-0c742eb9-39aa-4e3b-bfa5-220a56173027\">\n",
              "  <button class=\"colab-df-quickchart\" onclick=\"quickchart('df-0c742eb9-39aa-4e3b-bfa5-220a56173027')\"\n",
              "            title=\"Suggest charts\"\n",
              "            style=\"display:none;\">\n",
              "\n",
              "<svg xmlns=\"http://www.w3.org/2000/svg\" height=\"24px\"viewBox=\"0 0 24 24\"\n",
              "     width=\"24px\">\n",
              "    <g>\n",
              "        <path d=\"M19 3H5c-1.1 0-2 .9-2 2v14c0 1.1.9 2 2 2h14c1.1 0 2-.9 2-2V5c0-1.1-.9-2-2-2zM9 17H7v-7h2v7zm4 0h-2V7h2v10zm4 0h-2v-4h2v4z\"/>\n",
              "    </g>\n",
              "</svg>\n",
              "  </button>\n",
              "\n",
              "<style>\n",
              "  .colab-df-quickchart {\n",
              "      --bg-color: #E8F0FE;\n",
              "      --fill-color: #1967D2;\n",
              "      --hover-bg-color: #E2EBFA;\n",
              "      --hover-fill-color: #174EA6;\n",
              "      --disabled-fill-color: #AAA;\n",
              "      --disabled-bg-color: #DDD;\n",
              "  }\n",
              "\n",
              "  [theme=dark] .colab-df-quickchart {\n",
              "      --bg-color: #3B4455;\n",
              "      --fill-color: #D2E3FC;\n",
              "      --hover-bg-color: #434B5C;\n",
              "      --hover-fill-color: #FFFFFF;\n",
              "      --disabled-bg-color: #3B4455;\n",
              "      --disabled-fill-color: #666;\n",
              "  }\n",
              "\n",
              "  .colab-df-quickchart {\n",
              "    background-color: var(--bg-color);\n",
              "    border: none;\n",
              "    border-radius: 50%;\n",
              "    cursor: pointer;\n",
              "    display: none;\n",
              "    fill: var(--fill-color);\n",
              "    height: 32px;\n",
              "    padding: 0;\n",
              "    width: 32px;\n",
              "  }\n",
              "\n",
              "  .colab-df-quickchart:hover {\n",
              "    background-color: var(--hover-bg-color);\n",
              "    box-shadow: 0 1px 2px rgba(60, 64, 67, 0.3), 0 1px 3px 1px rgba(60, 64, 67, 0.15);\n",
              "    fill: var(--button-hover-fill-color);\n",
              "  }\n",
              "\n",
              "  .colab-df-quickchart-complete:disabled,\n",
              "  .colab-df-quickchart-complete:disabled:hover {\n",
              "    background-color: var(--disabled-bg-color);\n",
              "    fill: var(--disabled-fill-color);\n",
              "    box-shadow: none;\n",
              "  }\n",
              "\n",
              "  .colab-df-spinner {\n",
              "    border: 2px solid var(--fill-color);\n",
              "    border-color: transparent;\n",
              "    border-bottom-color: var(--fill-color);\n",
              "    animation:\n",
              "      spin 1s steps(1) infinite;\n",
              "  }\n",
              "\n",
              "  @keyframes spin {\n",
              "    0% {\n",
              "      border-color: transparent;\n",
              "      border-bottom-color: var(--fill-color);\n",
              "      border-left-color: var(--fill-color);\n",
              "    }\n",
              "    20% {\n",
              "      border-color: transparent;\n",
              "      border-left-color: var(--fill-color);\n",
              "      border-top-color: var(--fill-color);\n",
              "    }\n",
              "    30% {\n",
              "      border-color: transparent;\n",
              "      border-left-color: var(--fill-color);\n",
              "      border-top-color: var(--fill-color);\n",
              "      border-right-color: var(--fill-color);\n",
              "    }\n",
              "    40% {\n",
              "      border-color: transparent;\n",
              "      border-right-color: var(--fill-color);\n",
              "      border-top-color: var(--fill-color);\n",
              "    }\n",
              "    60% {\n",
              "      border-color: transparent;\n",
              "      border-right-color: var(--fill-color);\n",
              "    }\n",
              "    80% {\n",
              "      border-color: transparent;\n",
              "      border-right-color: var(--fill-color);\n",
              "      border-bottom-color: var(--fill-color);\n",
              "    }\n",
              "    90% {\n",
              "      border-color: transparent;\n",
              "      border-bottom-color: var(--fill-color);\n",
              "    }\n",
              "  }\n",
              "</style>\n",
              "\n",
              "  <script>\n",
              "    async function quickchart(key) {\n",
              "      const quickchartButtonEl =\n",
              "        document.querySelector('#' + key + ' button');\n",
              "      quickchartButtonEl.disabled = true;  // To prevent multiple clicks.\n",
              "      quickchartButtonEl.classList.add('colab-df-spinner');\n",
              "      try {\n",
              "        const charts = await google.colab.kernel.invokeFunction(\n",
              "            'suggestCharts', [key], {});\n",
              "      } catch (error) {\n",
              "        console.error('Error during call to suggestCharts:', error);\n",
              "      }\n",
              "      quickchartButtonEl.classList.remove('colab-df-spinner');\n",
              "      quickchartButtonEl.classList.add('colab-df-quickchart-complete');\n",
              "    }\n",
              "    (() => {\n",
              "      let quickchartButtonEl =\n",
              "        document.querySelector('#df-0c742eb9-39aa-4e3b-bfa5-220a56173027 button');\n",
              "      quickchartButtonEl.style.display =\n",
              "        google.colab.kernel.accessAllowed ? 'block' : 'none';\n",
              "    })();\n",
              "  </script>\n",
              "</div>\n",
              "\n",
              "    </div>\n",
              "  </div>\n"
            ],
            "text/plain": [
              "   Unnamed: 0                              Title    Year  \\\n",
              "0           0                    The Idea of You  2023.0   \n",
              "1           1  Kingdom of the Planet of the Apes  2023.0   \n",
              "2           2                          Unfrosted  2023.0   \n",
              "3           3                       The Fall Guy  2023.0   \n",
              "4           4                        Challengers  2023.0   \n",
              "\n",
              "                        Genre  \\\n",
              "0      Comedy, Drama, Romance   \n",
              "1   Action, Adventure, Sci-Fi   \n",
              "2  Biography, Comedy, History   \n",
              "3       Action, Comedy, Drama   \n",
              "4       Drama, Romance, Sport   \n",
              "\n",
              "                                         Description           Director  \\\n",
              "0  Solène, a 40-year-old single mom, begins an un...  Michael Showalter   \n",
              "1  Many years after the reign of Caesar, a young ...           Wes Ball   \n",
              "2  In 1963 Michigan, business rivals Kellogg's an...     Jerry Seinfeld   \n",
              "3  A down-and-out stuntman must find the missing ...       David Leitch   \n",
              "4  Tashi, a former tennis prodigy turned coach, t...    Luca Guadagnino   \n",
              "\n",
              "                                                Cast  \\\n",
              "0  Anne Hathaway, Nicholas Galitzine, Ella Rubin,...   \n",
              "1  Owen Teague, Freya Allan, Kevin Durand, Peter ...   \n",
              "2  Isaac Bae, Jerry Seinfeld, Chris Rickett, Rach...   \n",
              "3  Ryan Gosling, Emily Blunt, Aaron Taylor-Johnso...   \n",
              "4  Zendaya, Mike Faist, Josh O'Connor, Darnell Ap...   \n",
              "\n",
              "                                              Review  \\\n",
              "0  This film, as well as the reaction to it, is a...   \n",
              "1  I'm a big fan of all the planet of the apes, a...   \n",
              "2  Pretty much the worst criticism you can lay on...   \n",
              "3  Just got out of the Austin premier at SXSW and...   \n",
              "4  This is a tough one. I liked the concept and t...   \n",
              "\n",
              "                                          Embeddings  \n",
              "0  [0.01253509521484375, 0.006870269775390625, 0....  \n",
              "1  [-0.011474609375, -0.0159454345703125, -0.0129...  \n",
              "2  [-0.0018987655639648438, 0.005340576171875, 0....  \n",
              "3  [-0.0156707763671875, -0.02117919921875, -0.00...  \n",
              "4  [-0.022705078125, -0.0107574462890625, -0.0059...  "
            ]
          },
          "execution_count": 15,
          "metadata": {},
          "output_type": "execute_result"
        }
      ],
      "source": [
        "df.head()"
      ]
    },
    {
      "cell_type": "markdown",
      "metadata": {
        "id": "REDa36JaO483"
      },
      "source": [
        "### 4. Pinecone 초기화 및 인덱스 설정"
      ]
    },
    {
      "cell_type": "code",
      "execution_count": null,
      "metadata": {
        "colab": {
          "base_uri": "https://localhost:8080/"
        },
        "id": "PbBi2uytbp3N",
        "outputId": "a16d287f-8432-4612-ca30-664fd13a0385"
      },
      "outputs": [
        {
          "name": "stdout",
          "output_type": "stream",
          "text": [
            "Embedding Dimension: 4096\n"
          ]
        }
      ],
      "source": [
        "# 임베딩 벡터의 차원 확인\n",
        "embedding_dimension = len(embeddings[0])\n",
        "print(f\"Embedding Dimension: {embedding_dimension}\")\n",
        "\n",
        "# Pinecone API 키 설정\n",
        "\n",
        "# MY_PINECONE_API_KEY = os.environ.get(MY_PINECONE_API_KEY)  # 환경 변수에서 가져오기\n",
        "\n",
        "# Pinecone 클라이언트 인스턴스 생성\n",
        "pc = Pinecone(\n",
        "    api_key=MY_PINECONE_API_KEY\n",
        ")\n",
        "\n",
        "# 인덱스 이름 설정\n",
        "index_name = 'movie-recommendation'\n",
        "\n",
        "# 인덱스가 없으면 생성\n",
        "if index_name not in pc.list_indexes().names():\n",
        "    pc.create_index(\n",
        "        name=index_name,\n",
        "        dimension=embedding_dimension,\n",
        "        metric='cosine',\n",
        "        spec=ServerlessSpec(\n",
        "            cloud='aws',          # 사용 중인 클라우드 제공자 (예: 'aws' 또는 'gcp')\n",
        "            region='us-east-1'    # 실제 환경 정보로 변경\n",
        "        )\n",
        "    )\n",
        "\n",
        "# 인덱스에 연결\n",
        "index = pc.Index(index_name)"
      ]
    },
    {
      "cell_type": "markdown",
      "metadata": {
        "id": "UxY_DeRuO7Et"
      },
      "source": [
        "### 5. 메타데이터 준비"
      ]
    },
    {
      "cell_type": "code",
      "execution_count": null,
      "metadata": {
        "id": "0YmzqhczbqXX"
      },
      "outputs": [],
      "source": [
        "# 임베딩 벡터의 ID 생성\n",
        "ids = [str(i) for i in range(len(df))]\n",
        "\n",
        "# 메타데이터 생성 시\n",
        "metadata_list = []\n",
        "for idx, row in df.iterrows():\n",
        "    # 리뷰 필드의 길이를 700자로 제한\n",
        "    review = row['Review']\n",
        "    if review and isinstance(review, str):\n",
        "        review = review[:400]  # 첫 400자만 사용\n",
        "    else:\n",
        "        review = ''\n",
        "\n",
        "    # 모든 정보를 결합한 Content 필드 생성\n",
        "    full_content = f\"Title: {row['Title']}\\n\" \\\n",
        "                   f\"Year: {row['Year']}\\n\" \\\n",
        "                   f\"Genre: {row['Genre']}\\n\" \\\n",
        "                   f\"Description: {row['Description']}\\n\" \\\n",
        "                   f\"Director: {row['Director']}\\n\" \\\n",
        "                   f\"Cast: {row['Cast']}\\n\" \\\n",
        "                   f\"Review: {review}\"\n",
        "\n",
        "    metadata = {\n",
        "        'Content': full_content,  # 모든 정보를 포함한 필드\n",
        "        'Title': row['Title'],\n",
        "        'Year': str(row['Year']),\n",
        "        'Genre': row['Genre'],\n",
        "        'Director': row['Director'],\n",
        "        'Cast': row['Cast'],\n",
        "        'Review': review  # 제한된 길이의 리뷰\n",
        "    }\n",
        "    metadata_list.append(metadata)"
      ]
    },
    {
      "cell_type": "code",
      "execution_count": null,
      "metadata": {
        "colab": {
          "base_uri": "https://localhost:8080/"
        },
        "id": "GRPW96snb3tI",
        "outputId": "262d64bd-28b3-43d6-af55-dd005e2a341b"
      },
      "outputs": [
        {
          "data": {
            "text/plain": [
              "{'Content': 'Title: The Idea of You\\nYear: 2023.0\\nGenre: Comedy, Drama, Romance\\nDescription: Solène, a 40-year-old single mom, begins an unexpected romance with 24-year-old Hayes Campbell, the lead singer of August Moon, the hottest boy band on the planet.\\nDirector: Michael Showalter\\nCast: Anne Hathaway, Nicholas Galitzine, Ella Rubin, Annie Mumolo\\nReview: This film, as well as the reaction to it, is a wonderful example of modern hypocrisy:The story is about an adult woman who is attracted to a young guy, 16 years younger than her, young enough to be her son, whom she sees at his boys band concert, and from people reactions starts from the movie trailer and beyond, we get praise and stories that this is the destruction of the stigma about the happin',\n",
              " 'Title': 'The Idea of You',\n",
              " 'Year': '2023.0',\n",
              " 'Genre': 'Comedy, Drama, Romance',\n",
              " 'Director': 'Michael Showalter',\n",
              " 'Cast': 'Anne Hathaway, Nicholas Galitzine, Ella Rubin, Annie Mumolo',\n",
              " 'Review': 'This film, as well as the reaction to it, is a wonderful example of modern hypocrisy:The story is about an adult woman who is attracted to a young guy, 16 years younger than her, young enough to be her son, whom she sees at his boys band concert, and from people reactions starts from the movie trailer and beyond, we get praise and stories that this is the destruction of the stigma about the happin'}"
            ]
          },
          "execution_count": 18,
          "metadata": {},
          "output_type": "execute_result"
        }
      ],
      "source": [
        "metadata_list[0]"
      ]
    },
    {
      "cell_type": "markdown",
      "metadata": {
        "id": "S_QkuSuuO9e2"
      },
      "source": [
        "### 6. 임베딩 및 메타데이터 업로드"
      ]
    },
    {
      "cell_type": "code",
      "execution_count": null,
      "metadata": {
        "colab": {
          "base_uri": "https://localhost:8080/"
        },
        "id": "XxZh4GnHbqsQ",
        "outputId": "bdeb028e-7be9-4a8f-d1ba-8a73fbe32915"
      },
      "outputs": [
        {
          "name": "stderr",
          "output_type": "stream",
          "text": [
            "100%|██████████| 94/94 [05:41<00:00,  3.64s/it]\n"
          ]
        }
      ],
      "source": [
        "# 업로드 배치 크기 설정\n",
        "batch_size = 100\n",
        "\n",
        "# 업로드할 데이터 준비\n",
        "vectors = []\n",
        "for i in range(len(ids)):\n",
        "    vectors.append((ids[i], embeddings[i], metadata_list[i]))\n",
        "\n",
        "# 배치로 업로드\n",
        "for i in tqdm(range(0, len(vectors), batch_size)):\n",
        "    batch = vectors[i:i+batch_size]\n",
        "    index.upsert(vectors=batch)"
      ]
    },
    {
      "cell_type": "markdown",
      "metadata": {
        "id": "RaiPcOCKO_WU"
      },
      "source": [
        "### 7. 인덱스 상태 확인"
      ]
    },
    {
      "cell_type": "code",
      "execution_count": null,
      "metadata": {
        "colab": {
          "base_uri": "https://localhost:8080/"
        },
        "id": "5eR-602ibrEv",
        "outputId": "e5c38e41-e03a-40c2-9c4e-d0c3f43ac1b6"
      },
      "outputs": [
        {
          "name": "stdout",
          "output_type": "stream",
          "text": [
            "{'dimension': 4096,\n",
            " 'index_fullness': 0.0,\n",
            " 'namespaces': {'': {'vector_count': 9342}},\n",
            " 'total_vector_count': 9342}\n"
          ]
        }
      ],
      "source": [
        "# 인덱스의 통계 정보 확인\n",
        "index_stats = index.describe_index_stats()\n",
        "print(index_stats)"
      ]
    },
    {
      "cell_type": "markdown",
      "metadata": {
        "id": "8vgiYEWwPBqL"
      },
      "source": [
        "### 8. LangChain과 Upstage 모델들 설정"
      ]
    },
    {
      "cell_type": "code",
      "execution_count": null,
      "metadata": {
        "colab": {
          "base_uri": "https://localhost:8080/"
        },
        "id": "0Held5x3HRTb",
        "outputId": "057a2f4e-a9ff-4c15-f506-30c7d9005e94"
      },
      "outputs": [
        {
          "name": "stdout",
          "output_type": "stream",
          "text": [
            "content='Absolutely! I\\'d recommend \"Interstellar.\" It\\'s a fantastic science fiction movie with a gripping story about space exploration.' additional_kwargs={'refusal': None} response_metadata={'token_usage': {'completion_tokens': 34, 'prompt_tokens': 20, 'total_tokens': 54, 'completion_tokens_details': None, 'prompt_tokens_details': None}, 'model_name': 'solar-pro-preview-240910', 'system_fingerprint': None, 'finish_reason': 'stop', 'logprobs': None} id='run-c949e131-391f-4936-bdfc-9ea08f34074b-0' usage_metadata={'input_tokens': 20, 'output_tokens': 34, 'total_tokens': 54}\n"
          ]
        }
      ],
      "source": [
        "from langchain_upstage import ChatUpstage\n",
        "from langchain_core.messages import HumanMessage, SystemMessage\n",
        "\n",
        "llm = ChatUpstage(api_key=MY_UPSTAGE_API_KEY, model=\"solar-pro\")\n",
        "\n",
        "messages = [\n",
        "    HumanMessage(\n",
        "        content=\"Can you recommend me a good science fiction movie?\"\n",
        "    )\n",
        "]\n",
        "\n",
        "response = llm.invoke(messages)\n",
        "print(response)"
      ]
    },
    {
      "cell_type": "code",
      "execution_count": null,
      "metadata": {
        "colab": {
          "base_uri": "https://localhost:8080/"
        },
        "id": "Ve_rm6jkQLEe",
        "outputId": "ae5f4e56-011f-4e0e-8e53-f0b4cf88f919"
      },
      "outputs": [
        {
          "data": {
            "text/plain": [
              "ChatUpstage(client=<openai.resources.chat.completions.Completions object at 0x7fac94f01360>, async_client=<openai.resources.chat.completions.AsyncCompletions object at 0x7fac94f02ad0>, model_name='solar-pro', model_kwargs={}, upstage_api_key=SecretStr('**********'), upstage_api_base='https://api.upstage.ai/v1/solar')"
            ]
          },
          "execution_count": 22,
          "metadata": {},
          "output_type": "execute_result"
        }
      ],
      "source": [
        "llm"
      ]
    },
    {
      "cell_type": "code",
      "execution_count": null,
      "metadata": {
        "id": "QpRgk8-ZI2zn"
      },
      "outputs": [],
      "source": [
        "from langchain_upstage import UpstageEmbeddings\n",
        "\n",
        "# UpstageEmbeddings 인스턴스 생성\n",
        "embed_model = UpstageEmbeddings(\n",
        "    api_key=MY_UPSTAGE_API_KEY,\n",
        "    model=\"solar-embedding-1-large-query\"\n",
        ")"
      ]
    },
    {
      "cell_type": "code",
      "execution_count": null,
      "metadata": {
        "colab": {
          "base_uri": "https://localhost:8080/"
        },
        "id": "00UUw-IOiRrg",
        "outputId": "472dc59d-f842-4275-839c-df9a5dcdfa1e"
      },
      "outputs": [
        {
          "data": {
            "text/plain": [
              "UpstageEmbeddings(client=<openai.resources.embeddings.Embeddings object at 0x7facdb661ba0>, async_client=<openai.resources.embeddings.AsyncEmbeddings object at 0x7fac8f7f86d0>, model='solar-embedding-1-large-query', dimensions=None, upstage_api_key=SecretStr('**********'), upstage_api_base='https://api.upstage.ai/v1/solar', embedding_ctx_length=4096, embed_batch_size=10, allowed_special=set(), disallowed_special='all', chunk_size=1000, max_retries=2, request_timeout=None, show_progress_bar=False, model_kwargs={}, skip_empty=False, default_headers=None, default_query=None, http_client=None, http_async_client=None)"
            ]
          },
          "execution_count": 24,
          "metadata": {},
          "output_type": "execute_result"
        }
      ],
      "source": [
        "embed_model"
      ]
    },
    {
      "cell_type": "markdown",
      "metadata": {
        "id": "VXi-Bh7RPJ_e"
      },
      "source": [
        "### 9. Pinecone 벡터 스토어 설정"
      ]
    },
    {
      "cell_type": "code",
      "execution_count": null,
      "metadata": {
        "colab": {
          "base_uri": "https://localhost:8080/"
        },
        "id": "JC0wC7l5Q-7Q",
        "outputId": "cc5e9635-5e62-4bcd-dddd-12fc5f5a4a5b"
      },
      "outputs": [
        {
          "name": "stderr",
          "output_type": "stream",
          "text": [
            "<ipython-input-25-ec473bcf0122>:5: LangChainDeprecationWarning: The class `Pinecone` was deprecated in LangChain 0.0.18 and will be removed in 1.0. An updated version of the class exists in the :class:`~langchain-pinecone package and should be used instead. To use it run `pip install -U :class:`~langchain-pinecone` and import as `from :class:`~langchain_pinecone import Pinecone``.\n",
            "  vectorstore = PineconeVectorStore(\n"
          ]
        }
      ],
      "source": [
        "# 필요한 라이브러리 임포트\n",
        "from langchain.vectorstores import Pinecone as PineconeVectorStore\n",
        "\n",
        "# 벡터 스토어 객체 생성\n",
        "vectorstore = PineconeVectorStore(\n",
        "    index=index,\n",
        "    embedding=embed_model,\n",
        "    text_key='Content'  # 검색할 메타데이터 필드: 모든 정보를 담은 'Content' 필드 사용\n",
        ")"
      ]
    },
    {
      "cell_type": "code",
      "execution_count": null,
      "metadata": {
        "colab": {
          "base_uri": "https://localhost:8080/"
        },
        "id": "_N_zTYOJTyIV",
        "outputId": "6a154193-cfbc-4a5f-f375-c8a56fb80fab"
      },
      "outputs": [
        {
          "data": {
            "text/plain": [
              "<langchain_community.vectorstores.pinecone.Pinecone at 0x7facdb661f00>"
            ]
          },
          "execution_count": 26,
          "metadata": {},
          "output_type": "execute_result"
        }
      ],
      "source": [
        "vectorstore"
      ]
    },
    {
      "cell_type": "markdown",
      "metadata": {
        "id": "eK-aQlt4NvJW"
      },
      "source": [
        "### 10. 사용자 정보 데이터 생성"
      ]
    },
    {
      "cell_type": "code",
      "execution_count": null,
      "metadata": {
        "id": "h7tpYUNZdkCY"
      },
      "outputs": [],
      "source": [
        "# 사용자 정보 딕셔너리 생성\n",
        "user_info = {\n",
        "    'born': 1999,\n",
        "    'preferred_genres': ['Sci-Fi', 'Action'],\n",
        "    'watched_movies': ['Inception', 'The Matrix'],\n",
        "    'preferred_actors': ['Leonardo DiCaprio', 'Keanu Reeves']\n",
        "}\n",
        "\n",
        "# 사용자 정보를 문자열로 변환\n",
        "user_info_str = f\"Born: {user_info['born']}\\n\" \\\n",
        "                f\"Preferred Genres: {', '.join(user_info['preferred_genres'])}\\n\" \\\n",
        "                f\"Watched Movies: {', '.join(user_info['watched_movies'])}\\n\" \\\n",
        "                f\"Preferred Actors: {', '.join(user_info['preferred_actors'])}\""
      ]
    },
    {
      "cell_type": "code",
      "execution_count": null,
      "metadata": {
        "colab": {
          "base_uri": "https://localhost:8080/",
          "height": 35
        },
        "id": "Q8iJluIJifUM",
        "outputId": "9c27802b-8d27-4d59-dd22-a91604998f92"
      },
      "outputs": [
        {
          "data": {
            "application/vnd.google.colaboratory.intrinsic+json": {
              "type": "string"
            },
            "text/plain": [
              "'Born: 1999\\nPreferred Genres: Sci-Fi, Action\\nWatched Movies: Inception, The Matrix\\nPreferred Actors: Leonardo DiCaprio, Keanu Reeves'"
            ]
          },
          "execution_count": 28,
          "metadata": {},
          "output_type": "execute_result"
        }
      ],
      "source": [
        "user_info_str"
      ]
    },
    {
      "cell_type": "markdown",
      "metadata": {
        "id": "-QXDzYQePL7X"
      },
      "source": [
        "### 11. 유사도 검색 및 결과 확인"
      ]
    },
    {
      "cell_type": "markdown",
      "metadata": {
        "id": "rQ6u2xJcBg8t"
      },
      "source": [
        "- metadata_list 하나가 대략 약 190개의 단어 × 1.5 = 285 토큰 정도"
      ]
    },
    {
      "cell_type": "code",
      "execution_count": 82,
      "metadata": {
        "id": "m_jAPwiflFre"
      },
      "outputs": [],
      "source": [
        "# 사용자 쿼리 설정\n",
        "query = \"강력한 마법사가 등장하고 스펙타클한 모험이 펼쳐지는 판타지 영화 추천해줘\""
      ]
    },
    {
      "cell_type": "code",
      "execution_count": 83,
      "metadata": {
        "colab": {
          "base_uri": "https://localhost:8080/"
        },
        "id": "FCQ4NNrUbsVg",
        "outputId": "13411d37-b60c-43cd-a3f2-1a321df9fc76"
      },
      "outputs": [
        {
          "name": "stdout",
          "output_type": "stream",
          "text": [
            "Title: Sorceress\n",
            "Year: 2019.0\n",
            "\n",
            "Genre: Action, Adventure, Fantasy\n",
            "\n",
            "Director: Jack Hill\n",
            "\n",
            "Cast: Leigh Harris, Lynette Harris, Roberto Nelson, David Millbern\n",
            "\n",
            "Description: Title: Sorceress\n",
            "Year: 2019.0\n",
            "Genre: Action, Adventure, Fantasy\n",
            "Description: Sword and sorcery story of the cosmic struggle between white magic and black magic.\n",
            "Director: Jack Hill\n",
            "Cast: Leigh Harris, Lynette Harris, Roberto Nelson, David Millbern\n",
            "Review: I initially purchased this movie, along with two others, in a used bookstore's `Our Owner Is Dead Sale,' for the hefty price of one dollar. One must beg the question, of whether perhaps I got ripped off.Sorceress is bad. Astronomically bad. Not the kind of bad that we're used to. No, not mediocre Hollywood bad. It's so bad, it's almost a religious experience.The plot boils down to this: King/wizar\n",
            "\n",
            "Title: Harry Potter and the Sorcerer's Stone\n",
            "Year: 2002.0\n",
            "\n",
            "Genre: Adventure, Family, Fantasy\n",
            "\n",
            "Director: Chris Columbus\n",
            "\n",
            "Cast: Daniel Radcliffe, Rupert Grint, Emma Watson, Richard Harris\n",
            "\n",
            "Description: Title: Harry Potter and the Sorcerer's Stone\n",
            "Year: 2002.0\n",
            "Genre: Adventure, Family, Fantasy\n",
            "Description: An orphaned boy enrolls in a school of wizardry, where he learns the truth about himself, his family and the terrible evil that haunts the magical world.\n",
            "Director: Chris Columbus\n",
            "Cast: Daniel Radcliffe, Rupert Grint, Emma Watson, Richard Harris\n",
            "Review: I enjoyed this movie immensely. But, like \"The Phantom Menace,\" I've had a very hard time viewing it objectively. There was so much anticipation leading up to its release, I simply enjoyed the experience of being there. Having read all four books in the series a few times each, I am overly familiar with the events in the story. As I watched the movie, my continuing thought was \"How well will the n\n",
            "\n",
            "Title: Burakku Kurôbâ: Mahôtei no Ken\n",
            "Year: 2019.0\n",
            "\n",
            "Genre: Animation, Action, Adventure\n",
            "\n",
            "Director: Ayataka Tanemura\n",
            "\n",
            "Cast: Bryn Apprill, Tia Lynn Ballard, Steve Blum, Johnny Yong Bosch\n",
            "\n",
            "Description: Title: Burakku Kurôbâ: Mahôtei no Ken\n",
            "Year: 2019.0\n",
            "Genre: Animation, Action, Adventure\n",
            "Description: In a world where magic is everything, Asta, a boy who was born with no magic, aims to become the \"Wizard King\" to overcome adversity, prove his power, and keep his oath with his friends.\n",
            "Director: Ayataka Tanemura\n",
            "Cast: Bryn Apprill, Tia Lynn Ballard, Steve Blum, Johnny Yong Bosch\n",
            "Review: It's a black clover non-canon movie, so you get pretty much exactly what you'd expect.The movie's story is pretty mediocre. It doesnt really create any major plot holes and is self contained, but it doesn't do anything good either. It is just very basic, with quite a bit of bland and stupid dialogue, but it at least doesn't hurt to watch.The action is what you should really come for. The movie sta\n",
            "\n",
            "Title: Willow\n",
            "Year: 1964.0\n",
            "\n",
            "Genre: Action, Adventure, Drama\n",
            "\n",
            "Director: Ron Howard\n",
            "\n",
            "Cast: Val Kilmer, Joanne Whalley, Warwick Davis, Jean Marsh\n",
            "\n",
            "Description: Title: Willow\n",
            "Year: 1964.0\n",
            "Genre: Action, Adventure, Drama\n",
            "Description: A young farmer is chosen to undertake a perilous journey in order to protect a special baby from an evil queen.\n",
            "Director: Ron Howard\n",
            "Cast: Val Kilmer, Joanne Whalley, Warwick Davis, Jean Marsh\n",
            "Review: I attended a screen writing class once, and the teacher said that the worst movie ever made was \"Willow\" ... he also defended \"White Chicks\" (in the same class) as being some sort of underrated theatrical gem.What an idiot. Obviously, this man has no soul.Anyway, it must have been this sort of \"I'm too good for that\" attitude that killed \"Willow\" in the theaters. I remember seeing previews for it \n",
            "\n",
            "Title: Oz the Great and Powerful\n",
            "Year: 2016.0\n",
            "\n",
            "Genre: Adventure, Family, Fantasy\n",
            "\n",
            "Director: Sam Raimi\n",
            "\n",
            "Cast: James Franco, Michelle Williams, Rachel Weisz, Mila Kunis\n",
            "\n",
            "Description: Title: Oz the Great and Powerful\n",
            "Year: 2016.0\n",
            "Genre: Adventure, Family, Fantasy\n",
            "Description: A small-time magician is swept away to an enchanted land and is forced into a power struggle between three witches.\n",
            "Director: Sam Raimi\n",
            "Cast: James Franco, Michelle Williams, Rachel Weisz, Mila Kunis\n",
            "Review: I went into this film prepared to be disappointed. Tim Burton's Alice in Wonderland felt a bit lifeless to me (except for Johnny Depp's Hatter) and I couldn't help but compare this movie to that one in my head. So, I went and saw this one with reservations.I'm a huge Oz fan. I love the original books. I love the movie. I love Wicked (book and musical), Tin Man, Return to Oz, The Wiz (the musical m\n",
            "\n",
            "Title: Krull\n",
            "Year: 2008.0\n",
            "\n",
            "Genre: Action, Adventure, Fantasy\n",
            "\n",
            "Director: Peter Yates\n",
            "\n",
            "Cast: Ken Marshall, Lysette Anthony, Freddie Jones, Francesca Annis\n",
            "\n",
            "Description: Title: Krull\n",
            "Year: 2008.0\n",
            "Genre: Action, Adventure, Fantasy\n",
            "Description: A prince and a fellowship of companions set out to rescue his bride from a fortress of alien invaders who have arrived on their home planet, Krull.\n",
            "Director: Peter Yates\n",
            "Cast: Ken Marshall, Lysette Anthony, Freddie Jones, Francesca Annis\n",
            "Review: I saw Krull recently on the HBO family channel (Comcast 304), of all channels.  What's really funny is that Krull is rated PG for adult content! I believe the content of Krull wouldn't interest most adults, and diehard fantasy fans like myself aren't adults in the proper sense of the word anyway.Krull offers the sheer pleasure of watching medieval men (Englishmen?), armed mostly with swords and sp\n",
            "\n",
            "Title: The Lord of the Rings: The Fellowship of the Ring\n",
            "Year: 2023.0\n",
            "\n",
            "Genre: Action, Adventure, Drama\n",
            "\n",
            "Director: Peter Jackson\n",
            "\n",
            "Cast: Elijah Wood, Ian McKellen, Orlando Bloom, Sean Bean\n",
            "\n",
            "Description: Title: The Lord of the Rings: The Fellowship of the Ring\n",
            "Year: 2023.0\n",
            "Genre: Action, Adventure, Drama\n",
            "Description: A meek Hobbit from the Shire and eight companions set out on a journey to destroy the powerful One Ring and save Middle-earth from the Dark Lord Sauron.\n",
            "Director: Peter Jackson\n",
            "Cast: Elijah Wood, Ian McKellen, Orlando Bloom, Sean Bean\n",
            "Review: ...but oh was I thankful for it!!! All through the movie I kept on having this big large smile sculpted into my face. For the record, I'm 25 years old, and I've read \"The Lord of the Rings\" in three times for the first time when I was six or seven years old. Ever since then, I read it at least once or twice a year - therefore you can count me as a fan, for I follow the same cult fan procedure with\n",
            "\n",
            "Title: Warcraft\n",
            "Year: 1965.0\n",
            "\n",
            "Genre: Action, Adventure, Fantasy\n",
            "\n",
            "Director: Duncan Jones\n",
            "\n",
            "Cast: Travis Fimmel, Paula Patton, Ben Foster, Dominic Cooper\n",
            "\n",
            "Description: Title: Warcraft\n",
            "Year: 1965.0\n",
            "Genre: Action, Adventure, Fantasy\n",
            "Description: As an Orc horde invades the planet Azeroth using a magic portal, a few human heroes and dissenting Orcs must attempt to stop the true evil behind this war.\n",
            "Director: Duncan Jones\n",
            "Cast: Travis Fimmel, Paula Patton, Ben Foster, Dominic Cooper\n",
            "Review: I didn't have any expectations for this film,and it completely blew me away!Visuals were stunning,acting really surprised me,action was incredible.I really can't wait for the sequel cause the ending set it up really well.Magic was also pretty damn cool.Orgrim was a ferocious bad ass.It was a damn fine film,best of the 2016 dare i say.Bring on more,and it finally broke the video game movie curse!Go\n",
            "\n",
            "Title: Seventh Son\n",
            "Year: 2023.0\n",
            "\n",
            "Genre: Action, Adventure, Fantasy\n",
            "\n",
            "Director: Sergei Bodrov\n",
            "\n",
            "Cast: Ben Barnes, Julianne Moore, Jeff Bridges, Alicia Vikander\n",
            "\n",
            "Description: Title: Seventh Son\n",
            "Year: 2023.0\n",
            "Genre: Action, Adventure, Fantasy\n",
            "Description: When Mother Malkin, the queen of evil witches, escapes the pit she was imprisoned in by professional monster hunter Spook decades ago and kills his apprentice, he recruits young Tom, the seventh son of the seventh son, to help him.\n",
            "Director: Sergei Bodrov\n",
            "Cast: Ben Barnes, Julianne Moore, Jeff Bridges, Alicia Vikander\n",
            "Review: It isn't easy to make a good fantasy film – as borne out by Seventh Son, which has suffered a particularly arduous journey to the silver screen. Originally slated for release in February 2013, its visual effects house went bankrupt and its studio, Legendary Pictures, parted ways with distributor Warner Bros. The film that's finally stumbling into cinemas almost two full years later (courtesy of Un\n",
            "\n",
            "Title: Wizards\n",
            "Year: 2010.0\n",
            "\n",
            "Genre: Animation, Adventure, Fantasy\n",
            "\n",
            "Director: Ralph Bakshi\n",
            "\n",
            "Cast: Bob Holt, Jesse Welles, Richard Romanus, David Proval\n",
            "\n",
            "Description: Title: Wizards\n",
            "Year: 2010.0\n",
            "Genre: Animation, Adventure, Fantasy\n",
            "Description: On a post-apocalyptic Earth, a wizard and his faire folk comrades fight an evil wizard who's using technology in his bid for conquest.\n",
            "Director: Ralph Bakshi\n",
            "Cast: Bob Holt, Jesse Welles, Richard Romanus, David Proval\n",
            "Review: Ah, Wizards.  Now this is a movie that newsgroups love to pick apart.  But look past it's cheapness and it's technical flaws, and you'll find an underrated gem of animation.  Although oddly structured (our protagonists don't set off on their quest until about half an hour into the movie) and weighed down with exposition, Wizards tells a good story, the art is excellent, and it has one of the coole\n",
            "\n"
          ]
        }
      ],
      "source": [
        "# 유사도 검색 수행\n",
        "results = vectorstore.similarity_search(query, k=10) # llm input으로 들어갈 수 있는 최대 토큰 수를 고려하여 k개 설정, solar-pro preview Context length: 4096\n",
        "\n",
        "# 결과 출력\n",
        "for result in results:\n",
        "    print(f\"Title: {result.metadata['Title']}\")\n",
        "    print(f\"Year: {result.metadata['Year']}\\n\")\n",
        "    print(f\"Genre: {result.metadata['Genre']}\\n\")\n",
        "    print(f\"Director: {result.metadata['Director']}\\n\")\n",
        "    print(f\"Cast: {result.metadata['Cast']}\\n\")\n",
        "    print(f\"Description: {result.page_content}\\n\")"
      ]
    },
    {
      "cell_type": "code",
      "execution_count": null,
      "metadata": {
        "colab": {
          "base_uri": "https://localhost:8080/"
        },
        "id": "TX2w16267KvQ",
        "outputId": "c98cc2c3-e159-49b6-880d-bcfa24ad9324"
      },
      "outputs": [
        {
          "data": {
            "text/plain": [
              "[Document(metadata={'Cast': 'Daniel Radcliffe, Rupert Grint, Emma Watson, Richard Harris', 'Director': 'Chris Columbus', 'Genre': 'Adventure, Family, Fantasy', 'Review': 'I enjoyed this movie immensely. But, like \"The Phantom Menace,\" I\\'ve had a very hard time viewing it objectively. There was so much anticipation leading up to its release, I simply enjoyed the experience of being there. Having read all four books in the series a few times each, I am overly familiar with the events in the story. As I watched the movie, my continuing thought was \"How well will the n', 'Title': \"Harry Potter and the Sorcerer's Stone\", 'Year': '2002.0'}, page_content='Title: Harry Potter and the Sorcerer\\'s Stone\\nYear: 2002.0\\nGenre: Adventure, Family, Fantasy\\nDescription: An orphaned boy enrolls in a school of wizardry, where he learns the truth about himself, his family and the terrible evil that haunts the magical world.\\nDirector: Chris Columbus\\nCast: Daniel Radcliffe, Rupert Grint, Emma Watson, Richard Harris\\nReview: I enjoyed this movie immensely. But, like \"The Phantom Menace,\" I\\'ve had a very hard time viewing it objectively. There was so much anticipation leading up to its release, I simply enjoyed the experience of being there. Having read all four books in the series a few times each, I am overly familiar with the events in the story. As I watched the movie, my continuing thought was \"How well will the n'),\n",
              " Document(metadata={'Cast': 'Leigh Harris, Lynette Harris, Roberto Nelson, David Millbern', 'Director': 'Jack Hill', 'Genre': 'Action, Adventure, Fantasy', 'Review': \"I initially purchased this movie, along with two others, in a used bookstore's `Our Owner Is Dead Sale,' for the hefty price of one dollar. One must beg the question, of whether perhaps I got ripped off.Sorceress is bad. Astronomically bad. Not the kind of bad that we're used to. No, not mediocre Hollywood bad. It's so bad, it's almost a religious experience.The plot boils down to this: King/wizar\", 'Title': 'Sorceress', 'Year': '2019.0'}, page_content=\"Title: Sorceress\\nYear: 2019.0\\nGenre: Action, Adventure, Fantasy\\nDescription: Sword and sorcery story of the cosmic struggle between white magic and black magic.\\nDirector: Jack Hill\\nCast: Leigh Harris, Lynette Harris, Roberto Nelson, David Millbern\\nReview: I initially purchased this movie, along with two others, in a used bookstore's `Our Owner Is Dead Sale,' for the hefty price of one dollar. One must beg the question, of whether perhaps I got ripped off.Sorceress is bad. Astronomically bad. Not the kind of bad that we're used to. No, not mediocre Hollywood bad. It's so bad, it's almost a religious experience.The plot boils down to this: King/wizar\"),\n",
              " Document(metadata={'Cast': 'Nicolas Cage, Jay Baruchel, Alfred Molina, Teresa Palmer', 'Director': 'Jon Turteltaub', 'Genre': 'Action, Adventure, Family', 'Review': \"The same people who to me are surprisingly rudely negative about this film would probably say I'm too easily pleased, but I enjoy movies as escapism for the most part and see no need to pick this very enjoyable vehicle to death. Actually, some early negatives I'd read had me worried that I would be irritated I spent the money, instead I've already decided to buy this when it comes out.Overall, I'd\", 'Title': \"The Sorcerer's Apprentice\", 'Year': '2024.0'}, page_content=\"Title: The Sorcerer's Apprentice\\nYear: 2024.0\\nGenre: Action, Adventure, Family\\nDescription: A protege of the magician Merlin must train his teacher's successor - an introverted but resourceful physics prodigy - in the art of sorcery to prevent the return of Morgana le Fay.\\nDirector: Jon Turteltaub\\nCast: Nicolas Cage, Jay Baruchel, Alfred Molina, Teresa Palmer\\nReview: The same people who to me are surprisingly rudely negative about this film would probably say I'm too easily pleased, but I enjoy movies as escapism for the most part and see no need to pick this very enjoyable vehicle to death. Actually, some early negatives I'd read had me worried that I would be irritated I spent the money, instead I've already decided to buy this when it comes out.Overall, I'd\"),\n",
              " Document(metadata={'Cast': 'Justice Smith, Zachary Barton, Anthony Coons, Robbie Troy', 'Director': 'Kobi Libii', 'Genre': 'Comedy, Fantasy', 'Review': \"I love David Alan Grier and pretty much anything that has to do with magic/fantasy so I thought I'd give this a try. Big mistake. Aside from the fact that the film is obviously celebrating blatant racism masked as anti-racist satire, the story wasn't good, the acting was (overall) subpar and even the special effects left to be desired.If you're looking for something good that will scratch this itc\", 'Title': 'The American Society of Magical Negroes', 'Year': '1997.0'}, page_content=\"Title: The American Society of Magical Negroes\\nYear: 1997.0\\nGenre: Comedy, Fantasy\\nDescription: A young man, Aren, is recruited into a secret society of magical Black people who dedicate their lives to a cause of utmost importance: making white people's lives easier.\\nDirector: Kobi Libii\\nCast: Justice Smith, Zachary Barton, Anthony Coons, Robbie Troy\\nReview: I love David Alan Grier and pretty much anything that has to do with magic/fantasy so I thought I'd give this a try. Big mistake. Aside from the fact that the film is obviously celebrating blatant racism masked as anti-racist satire, the story wasn't good, the acting was (overall) subpar and even the special effects left to be desired.If you're looking for something good that will scratch this itc\"),\n",
              " Document(metadata={'Cast': 'Lee Horsley, Kathleen Beller, Simon MacCorkindale, George Maharis', 'Director': 'Albert Pyun', 'Genre': 'Action, Adventure, Fantasy', 'Review': 'The main reason this movie was even made was that they wanted it to be in theaters at around the same time as the film \"Conan the Barbarian\" in 1982. Believe it or not, both films were even released by the same studio! If the films had been made thirty years earlier, they would have been released as a double feature. They were part of a wave of sword fight pictures that included \"Excalibur\" and \"D', 'Title': 'The Sword and the Sorcerer', 'Year': '1997.0'}, page_content='Title: The Sword and the Sorcerer\\nYear: 1997.0\\nGenre: Action, Adventure, Fantasy\\nDescription: A mercenary with a three-bladed sword rediscovers his royal heritage\\'s dangerous future when he is recruited to help a princess foil the designs of a brutal tyrant and a powerful sorcerer in conquering a land.\\nDirector: Albert Pyun\\nCast: Lee Horsley, Kathleen Beller, Simon MacCorkindale, George Maharis\\nReview: The main reason this movie was even made was that they wanted it to be in theaters at around the same time as the film \"Conan the Barbarian\" in 1982. Believe it or not, both films were even released by the same studio! If the films had been made thirty years earlier, they would have been released as a double feature. They were part of a wave of sword fight pictures that included \"Excalibur\" and \"D'),\n",
              " Document(metadata={'Cast': 'Bryn Apprill, Tia Lynn Ballard, Steve Blum, Johnny Yong Bosch', 'Director': 'Ayataka Tanemura', 'Genre': 'Animation, Action, Adventure', 'Review': \"It's a black clover non-canon movie, so you get pretty much exactly what you'd expect.The movie's story is pretty mediocre. It doesnt really create any major plot holes and is self contained, but it doesn't do anything good either. It is just very basic, with quite a bit of bland and stupid dialogue, but it at least doesn't hurt to watch.The action is what you should really come for. The movie sta\", 'Title': 'Burakku Kurôbâ: Mahôtei no Ken', 'Year': '2019.0'}, page_content='Title: Burakku Kurôbâ: Mahôtei no Ken\\nYear: 2019.0\\nGenre: Animation, Action, Adventure\\nDescription: In a world where magic is everything, Asta, a boy who was born with no magic, aims to become the \"Wizard King\" to overcome adversity, prove his power, and keep his oath with his friends.\\nDirector: Ayataka Tanemura\\nCast: Bryn Apprill, Tia Lynn Ballard, Steve Blum, Johnny Yong Bosch\\nReview: It\\'s a black clover non-canon movie, so you get pretty much exactly what you\\'d expect.The movie\\'s story is pretty mediocre. It doesnt really create any major plot holes and is self contained, but it doesn\\'t do anything good either. It is just very basic, with quite a bit of bland and stupid dialogue, but it at least doesn\\'t hurt to watch.The action is what you should really come for. The movie sta'),\n",
              " Document(metadata={'Cast': 'Bob Holt, Jesse Welles, Richard Romanus, David Proval', 'Director': 'Ralph Bakshi', 'Genre': 'Animation, Adventure, Fantasy', 'Review': \"Ah, Wizards.  Now this is a movie that newsgroups love to pick apart.  But look past it's cheapness and it's technical flaws, and you'll find an underrated gem of animation.  Although oddly structured (our protagonists don't set off on their quest until about half an hour into the movie) and weighed down with exposition, Wizards tells a good story, the art is excellent, and it has one of the coole\", 'Title': 'Wizards', 'Year': '2010.0'}, page_content=\"Title: Wizards\\nYear: 2010.0\\nGenre: Animation, Adventure, Fantasy\\nDescription: On a post-apocalyptic Earth, a wizard and his faire folk comrades fight an evil wizard who's using technology in his bid for conquest.\\nDirector: Ralph Bakshi\\nCast: Bob Holt, Jesse Welles, Richard Romanus, David Proval\\nReview: Ah, Wizards.  Now this is a movie that newsgroups love to pick apart.  But look past it's cheapness and it's technical flaws, and you'll find an underrated gem of animation.  Although oddly structured (our protagonists don't set off on their quest until about half an hour into the movie) and weighed down with exposition, Wizards tells a good story, the art is excellent, and it has one of the coole\"),\n",
              " Document(metadata={'Cast': 'Hana Sugisaki, Ryunosuke Kamiki, Yûki Amami, Fumiyo Kohinata', 'Director': 'Hiromasa Yonebayashi', 'Genre': 'Animation, Adventure, Family', 'Review': \"Just came back from the one time only screening of this movie in Austin TX. I'm a bit confused by the super-negative reviews of this film. I guess people were expecting a film on par with past Studio Ghibli movies? Lets be real here, as sad as it is, the age of Studio Ghibli is over, unless Hayao Miyazaki decides to return to the directors seat and make another full-length feature film. Which at t\", 'Title': 'Meari to majo no hana', 'Year': '2002.0'}, page_content='Title: Meari to majo no hana\\nYear: 2002.0\\nGenre: Animation, Adventure, Family\\nDescription: Based on \"The Little Broomstick\" by Mary Stewart, a strange flower grants a girl magic powers.\\nDirector: Hiromasa Yonebayashi\\nCast: Hana Sugisaki, Ryunosuke Kamiki, Yûki Amami, Fumiyo Kohinata\\nReview: Just came back from the one time only screening of this movie in Austin TX. I\\'m a bit confused by the super-negative reviews of this film. I guess people were expecting a film on par with past Studio Ghibli movies? Lets be real here, as sad as it is, the age of Studio Ghibli is over, unless Hayao Miyazaki decides to return to the directors seat and make another full-length feature film. Which at t'),\n",
              " Document(metadata={'Cast': 'Val Kilmer, Joanne Whalley, Warwick Davis, Jean Marsh', 'Director': 'Ron Howard', 'Genre': 'Action, Adventure, Drama', 'Review': 'I attended a screen writing class once, and the teacher said that the worst movie ever made was \"Willow\" ... he also defended \"White Chicks\" (in the same class) as being some sort of underrated theatrical gem.What an idiot. Obviously, this man has no soul.Anyway, it must have been this sort of \"I\\'m too good for that\" attitude that killed \"Willow\" in the theaters. I remember seeing previews for it ', 'Title': 'Willow', 'Year': '1964.0'}, page_content='Title: Willow\\nYear: 1964.0\\nGenre: Action, Adventure, Drama\\nDescription: A young farmer is chosen to undertake a perilous journey in order to protect a special baby from an evil queen.\\nDirector: Ron Howard\\nCast: Val Kilmer, Joanne Whalley, Warwick Davis, Jean Marsh\\nReview: I attended a screen writing class once, and the teacher said that the worst movie ever made was \"Willow\" ... he also defended \"White Chicks\" (in the same class) as being some sort of underrated theatrical gem.What an idiot. Obviously, this man has no soul.Anyway, it must have been this sort of \"I\\'m too good for that\" attitude that killed \"Willow\" in the theaters. I remember seeing previews for it '),\n",
              " Document(metadata={'Cast': 'Edward Norton, Jessica Biel, Paul Giamatti, Rufus Sewell', 'Director': 'Neil Burger', 'Genre': 'Drama, Fantasy, Mystery', 'Review': 'This movie was stunning in many aspects. Visually in terms of locations, inside and out, there was great consistency and a nothing seemed strained. The story weaved fluidly through these locations and seemed to make the locales a vital part of the story. Ed Norton was mesmerizing, a superb performance that allowed the story to unfold seemingly at his discretion. Jess Biel was very believable and s', 'Title': 'The Illusionist', 'Year': '1997.0'}, page_content='Title: The Illusionist\\nYear: 1997.0\\nGenre: Drama, Fantasy, Mystery\\nDescription: In turn-of-the-century Vienna, a magician uses his abilities to secure the love of a woman far above his social standing.\\nDirector: Neil Burger\\nCast: Edward Norton, Jessica Biel, Paul Giamatti, Rufus Sewell\\nReview: This movie was stunning in many aspects. Visually in terms of locations, inside and out, there was great consistency and a nothing seemed strained. The story weaved fluidly through these locations and seemed to make the locales a vital part of the story. Ed Norton was mesmerizing, a superb performance that allowed the story to unfold seemingly at his discretion. Jess Biel was very believable and s')]"
            ]
          },
          "execution_count": 33,
          "metadata": {},
          "output_type": "execute_result"
        }
      ],
      "source": [
        "results"
      ]
    },
    {
      "cell_type": "markdown",
      "metadata": {
        "id": "1FN5ULkWPOSM"
      },
      "source": [
        "### 12. 답변 생성을 위한 프롬프트 보강\n"
      ]
    },
    {
      "cell_type": "markdown",
      "metadata": {
        "id": "-5wkawIdGw91"
      },
      "source": [
        "(구)이전엔 모든 정보 다 쿼리로 넣었음 -> (현)제목, 장르, 리뷰, 설명만 넣음\n",
        "- 리뷰 데이터 제한 없음, k=12: 11000 토큰\n",
        "- 리뷰 데이터 700 제한, k=10: 5257 토큰\n",
        "- 리뷰 데이터 600 제한, k=10: 4859 토큰\n",
        "- 리뷰 데이터 500 제한, k=10: 4441 토큰"
      ]
    },
    {
      "cell_type": "code",
      "execution_count": 69,
      "metadata": {
        "id": "UvTjAGjHP8Tl"
      },
      "outputs": [],
      "source": [
        "def augment_prompt(query: str, results, user_info_str):\n",
        "    source_knowledge = \"\\n\\n\".join([\n",
        "        f\"Movie {idx+1}:\\n\"\n",
        "        f\"Title: {res.metadata['Title']}\\n\"\n",
        "        f\"Genre: {res.metadata['Genre']}\\n\"\n",
        "        f\"Review: {res.metadata['Review']}\\n\"\n",
        "        f\"Description: {res.page_content}\"\n",
        "        for idx, res in enumerate(results)\n",
        "    ])\n",
        "\n",
        "    augmented_prompt = f\"\"\"You are a movie recommendation system. Based on the user's query and the provided movie options, please recommend the top 5 movies that best match the user's preferences.\n",
        "\n",
        "User Query:\n",
        "{query}\n",
        "\n",
        "User Info:\n",
        "{user_info_str}\n",
        "\n",
        "Here are some movie options:\n",
        "{source_knowledge}\n",
        "\n",
        "Please select the top 5 movies that best match the user's request, and provide their titles and a brief description in the following format:\n",
        "\n",
        "Based on your request, I recommend the following movies:\n",
        "1. Title - Brief Description\n",
        "2. Title - Brief Description\n",
        "3. Title - Brief Description\n",
        "...\n",
        "\n",
        "Please make sure the descriptions are concise and do not include any additional commentary.\"\"\"\n",
        "    return augmented_prompt"
      ]
    },
    {
      "cell_type": "markdown",
      "metadata": {
        "id": "9A1j9a0BIpvu"
      },
      "source": [
        "### 13. LLM을 활용하여 추천 결과 생성"
      ]
    },
    {
      "cell_type": "code",
      "execution_count": 80,
      "metadata": {
        "colab": {
          "base_uri": "https://localhost:8080/"
        },
        "collapsed": true,
        "id": "Lso7mzXuoZqY",
        "outputId": "b3b5c16a-1e60-418b-ac02-923089e0d75e"
      },
      "outputs": [
        {
          "name": "stdout",
          "output_type": "stream",
          "text": [
            "Based on your request, I recommend the following movies:\n",
            "\n",
            "1. Harry Potter and the Sorcerer's Stone - A magical adventure about a young wizard named Harry Potter who discovers his true heritage and attends a school of witchcraft and wizardry.\n",
            "\n",
            "2. The Sorcerer's Apprentice - An introverted physics prodigy must train in the art of sorcery to prevent the return of an evil sorceress.\n",
            "\n",
            "3. Warcraft - A few human heroes and dissenting Orcs must attempt to stop the true evil behind a war between Orcs and humans on the planet Azeroth.\n",
            "\n",
            "4. Willow - A young farmer is chosen to undertake a perilous journey to protect a special baby from an evil queen.\n",
            "\n",
            "5. The Lord of the Rings: The Fellowship of the Ring - A meek Hobbit from the Shire and eight companions set out on a journey to destroy the powerful One Ring and save Middle-earth from the Dark Lord Sauron.\n"
          ]
        }
      ],
      "source": [
        "# 보강된 프롬프트 생성\n",
        "prompt = augment_prompt(query, results, user_info_str)\n",
        "\n",
        "# LLM을 사용하여 응답 생성\n",
        "response = llm(prompt)\n",
        "\n",
        "# 응답 출력\n",
        "print(response.content)"
      ]
    }
  ],
  "metadata": {
    "accelerator": "GPU",
    "colab": {
      "collapsed_sections": [
        "acECjdNcJxTS",
        "PgZ-KlSjJ3tR",
        "IwxpThnCO1GV",
        "oF4HVMAXhRqm"
      ],
      "gpuType": "T4",
      "provenance": [],
      "toc_visible": true
    },
    "kernelspec": {
      "display_name": "Python 3",
      "name": "python3"
    },
    "language_info": {
      "name": "python"
    }
  },
  "nbformat": 4,
  "nbformat_minor": 0
}
